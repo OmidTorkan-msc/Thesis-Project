{
 "cells": [
  {
   "cell_type": "markdown",
   "id": "198e254c",
   "metadata": {},
   "source": [
    "# AI-Powered Sentiment Analysis for Business Contracts\n",
    "\n",
    "## **Objective**\n",
    "This project analyzes sentiment in business contracts using **VADER Sentiment Analysis** and a **Bidirectional LSTM** model for classification. It explores contract tone, data augmentation techniques, and deep learning methods for improved sentiment classification.\n",
    "\n"
   ]
  },
  {
   "cell_type": "markdown",
   "metadata": {
    "id": "EefvxMkpLdB0"
   },
   "source": [
    "#Installation"
   ]
  },
  {
   "cell_type": "markdown",
   "id": "3332f5ad",
   "metadata": {},
   "source": [
    "## **Step 1: Install Required Libraries**\n",
    "Installing necessary Python libraries for NLP, sentiment analysis, and deep learning."
   ]
  },
  {
   "cell_type": "code",
   "execution_count": null,
   "metadata": {
    "colab": {
     "base_uri": "https://localhost:8080/"
    },
    "id": "XJS_tPznLToj",
    "outputId": "084b50d3-64ba-44a8-e3c1-c69946583280"
   },
   "outputs": [
    {
     "name": "stdout",
     "output_type": "stream",
     "text": [
      "Collecting vaderSentiment\n",
      "  Downloading vaderSentiment-3.3.2-py2.py3-none-any.whl.metadata (572 bytes)\n",
      "Requirement already satisfied: requests in /usr/local/lib/python3.10/dist-packages (from vaderSentiment) (2.32.3)\n",
      "Requirement already satisfied: charset-normalizer<4,>=2 in /usr/local/lib/python3.10/dist-packages (from requests->vaderSentiment) (3.3.2)\n",
      "Requirement already satisfied: idna<4,>=2.5 in /usr/local/lib/python3.10/dist-packages (from requests->vaderSentiment) (3.10)\n",
      "Requirement already satisfied: urllib3<3,>=1.21.1 in /usr/local/lib/python3.10/dist-packages (from requests->vaderSentiment) (2.0.7)\n",
      "Requirement already satisfied: certifi>=2017.4.17 in /usr/local/lib/python3.10/dist-packages (from requests->vaderSentiment) (2024.8.30)\n",
      "Downloading vaderSentiment-3.3.2-py2.py3-none-any.whl (125 kB)\n",
      "\u001b[2K   \u001b[90m━━━━━━━━━━━━━━━━━━━━━━━━━━━━━━━━━━━━━━━━\u001b[0m \u001b[32m126.0/126.0 kB\u001b[0m \u001b[31m2.4 MB/s\u001b[0m eta \u001b[36m0:00:00\u001b[0m\n",
      "\u001b[?25hInstalling collected packages: vaderSentiment\n",
      "Successfully installed vaderSentiment-3.3.2\n",
      "Requirement already satisfied: matplotlib in /usr/local/lib/python3.10/dist-packages (3.7.1)\n",
      "Requirement already satisfied: contourpy>=1.0.1 in /usr/local/lib/python3.10/dist-packages (from matplotlib) (1.3.0)\n",
      "Requirement already satisfied: cycler>=0.10 in /usr/local/lib/python3.10/dist-packages (from matplotlib) (0.12.1)\n",
      "Requirement already satisfied: fonttools>=4.22.0 in /usr/local/lib/python3.10/dist-packages (from matplotlib) (4.53.1)\n",
      "Requirement already satisfied: kiwisolver>=1.0.1 in /usr/local/lib/python3.10/dist-packages (from matplotlib) (1.4.7)\n",
      "Requirement already satisfied: numpy>=1.20 in /usr/local/lib/python3.10/dist-packages (from matplotlib) (1.26.4)\n",
      "Requirement already satisfied: packaging>=20.0 in /usr/local/lib/python3.10/dist-packages (from matplotlib) (24.1)\n",
      "Requirement already satisfied: pillow>=6.2.0 in /usr/local/lib/python3.10/dist-packages (from matplotlib) (10.4.0)\n",
      "Requirement already satisfied: pyparsing>=2.3.1 in /usr/local/lib/python3.10/dist-packages (from matplotlib) (3.1.4)\n",
      "Requirement already satisfied: python-dateutil>=2.7 in /usr/local/lib/python3.10/dist-packages (from matplotlib) (2.8.2)\n",
      "Requirement already satisfied: six>=1.5 in /usr/local/lib/python3.10/dist-packages (from python-dateutil>=2.7->matplotlib) (1.16.0)\n",
      "Requirement already satisfied: beautifulsoup4 in /usr/local/lib/python3.10/dist-packages (4.12.3)\n",
      "Requirement already satisfied: soupsieve>1.2 in /usr/local/lib/python3.10/dist-packages (from beautifulsoup4) (2.6)\n",
      "Requirement already satisfied: ipython in /usr/local/lib/python3.10/dist-packages (7.34.0)\n",
      "Requirement already satisfied: setuptools>=18.5 in /usr/local/lib/python3.10/dist-packages (from ipython) (71.0.4)\n",
      "Collecting jedi>=0.16 (from ipython)\n",
      "  Using cached jedi-0.19.1-py2.py3-none-any.whl.metadata (22 kB)\n",
      "Requirement already satisfied: decorator in /usr/local/lib/python3.10/dist-packages (from ipython) (4.4.2)\n",
      "Requirement already satisfied: pickleshare in /usr/local/lib/python3.10/dist-packages (from ipython) (0.7.5)\n",
      "Requirement already satisfied: traitlets>=4.2 in /usr/local/lib/python3.10/dist-packages (from ipython) (5.7.1)\n",
      "Requirement already satisfied: prompt-toolkit!=3.0.0,!=3.0.1,<3.1.0,>=2.0.0 in /usr/local/lib/python3.10/dist-packages (from ipython) (3.0.47)\n",
      "Requirement already satisfied: pygments in /usr/local/lib/python3.10/dist-packages (from ipython) (2.18.0)\n",
      "Requirement already satisfied: backcall in /usr/local/lib/python3.10/dist-packages (from ipython) (0.2.0)\n",
      "Requirement already satisfied: matplotlib-inline in /usr/local/lib/python3.10/dist-packages (from ipython) (0.1.7)\n",
      "Requirement already satisfied: pexpect>4.3 in /usr/local/lib/python3.10/dist-packages (from ipython) (4.9.0)\n",
      "Requirement already satisfied: parso<0.9.0,>=0.8.3 in /usr/local/lib/python3.10/dist-packages (from jedi>=0.16->ipython) (0.8.4)\n",
      "Requirement already satisfied: ptyprocess>=0.5 in /usr/local/lib/python3.10/dist-packages (from pexpect>4.3->ipython) (0.7.0)\n",
      "Requirement already satisfied: wcwidth in /usr/local/lib/python3.10/dist-packages (from prompt-toolkit!=3.0.0,!=3.0.1,<3.1.0,>=2.0.0->ipython) (0.2.13)\n",
      "Using cached jedi-0.19.1-py2.py3-none-any.whl (1.6 MB)\n",
      "Installing collected packages: jedi\n",
      "Successfully installed jedi-0.19.1\n",
      "Requirement already satisfied: scikit-learn in /usr/local/lib/python3.10/dist-packages (1.3.2)\n",
      "Requirement already satisfied: numpy<2.0,>=1.17.3 in /usr/local/lib/python3.10/dist-packages (from scikit-learn) (1.26.4)\n",
      "Requirement already satisfied: scipy>=1.5.0 in /usr/local/lib/python3.10/dist-packages (from scikit-learn) (1.13.1)\n",
      "Requirement already satisfied: joblib>=1.1.1 in /usr/local/lib/python3.10/dist-packages (from scikit-learn) (1.4.2)\n",
      "Requirement already satisfied: threadpoolctl>=2.0.0 in /usr/local/lib/python3.10/dist-packages (from scikit-learn) (3.5.0)\n",
      "Requirement already satisfied: numpy in /usr/local/lib/python3.10/dist-packages (1.26.4)\n",
      "Requirement already satisfied: textblob in /usr/local/lib/python3.10/dist-packages (0.17.1)\n",
      "Requirement already satisfied: nltk>=3.1 in /usr/local/lib/python3.10/dist-packages (from textblob) (3.8.1)\n",
      "Requirement already satisfied: click in /usr/local/lib/python3.10/dist-packages (from nltk>=3.1->textblob) (8.1.7)\n",
      "Requirement already satisfied: joblib in /usr/local/lib/python3.10/dist-packages (from nltk>=3.1->textblob) (1.4.2)\n",
      "Requirement already satisfied: regex>=2021.8.3 in /usr/local/lib/python3.10/dist-packages (from nltk>=3.1->textblob) (2024.9.11)\n",
      "Requirement already satisfied: tqdm in /usr/local/lib/python3.10/dist-packages (from nltk>=3.1->textblob) (4.66.5)\n",
      "Requirement already satisfied: nltk in /usr/local/lib/python3.10/dist-packages (3.8.1)\n",
      "Requirement already satisfied: click in /usr/local/lib/python3.10/dist-packages (from nltk) (8.1.7)\n",
      "Requirement already satisfied: joblib in /usr/local/lib/python3.10/dist-packages (from nltk) (1.4.2)\n",
      "Requirement already satisfied: regex>=2021.8.3 in /usr/local/lib/python3.10/dist-packages (from nltk) (2024.9.11)\n",
      "Requirement already satisfied: tqdm in /usr/local/lib/python3.10/dist-packages (from nltk) (4.66.5)\n",
      "Collecting keras-tuner\n",
      "  Downloading keras_tuner-1.4.7-py3-none-any.whl.metadata (5.4 kB)\n",
      "Requirement already satisfied: keras in /usr/local/lib/python3.10/dist-packages (from keras-tuner) (3.4.1)\n",
      "Requirement already satisfied: packaging in /usr/local/lib/python3.10/dist-packages (from keras-tuner) (24.1)\n",
      "Requirement already satisfied: requests in /usr/local/lib/python3.10/dist-packages (from keras-tuner) (2.32.3)\n",
      "Collecting kt-legacy (from keras-tuner)\n",
      "  Downloading kt_legacy-1.0.5-py3-none-any.whl.metadata (221 bytes)\n",
      "Requirement already satisfied: absl-py in /usr/local/lib/python3.10/dist-packages (from keras->keras-tuner) (1.4.0)\n",
      "Requirement already satisfied: numpy in /usr/local/lib/python3.10/dist-packages (from keras->keras-tuner) (1.26.4)\n",
      "Requirement already satisfied: rich in /usr/local/lib/python3.10/dist-packages (from keras->keras-tuner) (13.8.1)\n",
      "Requirement already satisfied: namex in /usr/local/lib/python3.10/dist-packages (from keras->keras-tuner) (0.0.8)\n",
      "Requirement already satisfied: h5py in /usr/local/lib/python3.10/dist-packages (from keras->keras-tuner) (3.11.0)\n",
      "Requirement already satisfied: optree in /usr/local/lib/python3.10/dist-packages (from keras->keras-tuner) (0.12.1)\n",
      "Requirement already satisfied: ml-dtypes in /usr/local/lib/python3.10/dist-packages (from keras->keras-tuner) (0.4.1)\n",
      "Requirement already satisfied: charset-normalizer<4,>=2 in /usr/local/lib/python3.10/dist-packages (from requests->keras-tuner) (3.3.2)\n",
      "Requirement already satisfied: idna<4,>=2.5 in /usr/local/lib/python3.10/dist-packages (from requests->keras-tuner) (3.10)\n",
      "Requirement already satisfied: urllib3<3,>=1.21.1 in /usr/local/lib/python3.10/dist-packages (from requests->keras-tuner) (2.0.7)\n",
      "Requirement already satisfied: certifi>=2017.4.17 in /usr/local/lib/python3.10/dist-packages (from requests->keras-tuner) (2024.8.30)\n",
      "Requirement already satisfied: typing-extensions>=4.5.0 in /usr/local/lib/python3.10/dist-packages (from optree->keras->keras-tuner) (4.12.2)\n",
      "Requirement already satisfied: markdown-it-py>=2.2.0 in /usr/local/lib/python3.10/dist-packages (from rich->keras->keras-tuner) (3.0.0)\n",
      "Requirement already satisfied: pygments<3.0.0,>=2.13.0 in /usr/local/lib/python3.10/dist-packages (from rich->keras->keras-tuner) (2.18.0)\n",
      "Requirement already satisfied: mdurl~=0.1 in /usr/local/lib/python3.10/dist-packages (from markdown-it-py>=2.2.0->rich->keras->keras-tuner) (0.1.2)\n",
      "Downloading keras_tuner-1.4.7-py3-none-any.whl (129 kB)\n",
      "\u001b[2K   \u001b[90m━━━━━━━━━━━━━━━━━━━━━━━━━━━━━━━━━━━━━━━━\u001b[0m \u001b[32m129.1/129.1 kB\u001b[0m \u001b[31m2.7 MB/s\u001b[0m eta \u001b[36m0:00:00\u001b[0m\n",
      "\u001b[?25hDownloading kt_legacy-1.0.5-py3-none-any.whl (9.6 kB)\n",
      "Installing collected packages: kt-legacy, keras-tuner\n",
      "Successfully installed keras-tuner-1.4.7 kt-legacy-1.0.5\n",
      "Requirement already satisfied: tensorflow-hub in /usr/local/lib/python3.10/dist-packages (0.16.1)\n",
      "Requirement already satisfied: numpy>=1.12.0 in /usr/local/lib/python3.10/dist-packages (from tensorflow-hub) (1.26.4)\n",
      "Requirement already satisfied: protobuf>=3.19.6 in /usr/local/lib/python3.10/dist-packages (from tensorflow-hub) (3.20.3)\n",
      "Requirement already satisfied: tf-keras>=2.14.1 in /usr/local/lib/python3.10/dist-packages (from tensorflow-hub) (2.17.0)\n",
      "Requirement already satisfied: tensorflow<2.18,>=2.17 in /usr/local/lib/python3.10/dist-packages (from tf-keras>=2.14.1->tensorflow-hub) (2.17.0)\n",
      "Requirement already satisfied: absl-py>=1.0.0 in /usr/local/lib/python3.10/dist-packages (from tensorflow<2.18,>=2.17->tf-keras>=2.14.1->tensorflow-hub) (1.4.0)\n",
      "Requirement already satisfied: astunparse>=1.6.0 in /usr/local/lib/python3.10/dist-packages (from tensorflow<2.18,>=2.17->tf-keras>=2.14.1->tensorflow-hub) (1.6.3)\n",
      "Requirement already satisfied: flatbuffers>=24.3.25 in /usr/local/lib/python3.10/dist-packages (from tensorflow<2.18,>=2.17->tf-keras>=2.14.1->tensorflow-hub) (24.3.25)\n",
      "Requirement already satisfied: gast!=0.5.0,!=0.5.1,!=0.5.2,>=0.2.1 in /usr/local/lib/python3.10/dist-packages (from tensorflow<2.18,>=2.17->tf-keras>=2.14.1->tensorflow-hub) (0.6.0)\n",
      "Requirement already satisfied: google-pasta>=0.1.1 in /usr/local/lib/python3.10/dist-packages (from tensorflow<2.18,>=2.17->tf-keras>=2.14.1->tensorflow-hub) (0.2.0)\n",
      "Requirement already satisfied: h5py>=3.10.0 in /usr/local/lib/python3.10/dist-packages (from tensorflow<2.18,>=2.17->tf-keras>=2.14.1->tensorflow-hub) (3.11.0)\n",
      "Requirement already satisfied: libclang>=13.0.0 in /usr/local/lib/python3.10/dist-packages (from tensorflow<2.18,>=2.17->tf-keras>=2.14.1->tensorflow-hub) (18.1.1)\n",
      "Requirement already satisfied: ml-dtypes<0.5.0,>=0.3.1 in /usr/local/lib/python3.10/dist-packages (from tensorflow<2.18,>=2.17->tf-keras>=2.14.1->tensorflow-hub) (0.4.1)\n",
      "Requirement already satisfied: opt-einsum>=2.3.2 in /usr/local/lib/python3.10/dist-packages (from tensorflow<2.18,>=2.17->tf-keras>=2.14.1->tensorflow-hub) (3.3.0)\n",
      "Requirement already satisfied: packaging in /usr/local/lib/python3.10/dist-packages (from tensorflow<2.18,>=2.17->tf-keras>=2.14.1->tensorflow-hub) (24.1)\n",
      "Requirement already satisfied: requests<3,>=2.21.0 in /usr/local/lib/python3.10/dist-packages (from tensorflow<2.18,>=2.17->tf-keras>=2.14.1->tensorflow-hub) (2.32.3)\n",
      "Requirement already satisfied: setuptools in /usr/local/lib/python3.10/dist-packages (from tensorflow<2.18,>=2.17->tf-keras>=2.14.1->tensorflow-hub) (71.0.4)\n",
      "Requirement already satisfied: six>=1.12.0 in /usr/local/lib/python3.10/dist-packages (from tensorflow<2.18,>=2.17->tf-keras>=2.14.1->tensorflow-hub) (1.16.0)\n",
      "Requirement already satisfied: termcolor>=1.1.0 in /usr/local/lib/python3.10/dist-packages (from tensorflow<2.18,>=2.17->tf-keras>=2.14.1->tensorflow-hub) (2.4.0)\n",
      "Requirement already satisfied: typing-extensions>=3.6.6 in /usr/local/lib/python3.10/dist-packages (from tensorflow<2.18,>=2.17->tf-keras>=2.14.1->tensorflow-hub) (4.12.2)\n",
      "Requirement already satisfied: wrapt>=1.11.0 in /usr/local/lib/python3.10/dist-packages (from tensorflow<2.18,>=2.17->tf-keras>=2.14.1->tensorflow-hub) (1.16.0)\n",
      "Requirement already satisfied: grpcio<2.0,>=1.24.3 in /usr/local/lib/python3.10/dist-packages (from tensorflow<2.18,>=2.17->tf-keras>=2.14.1->tensorflow-hub) (1.64.1)\n",
      "Requirement already satisfied: tensorboard<2.18,>=2.17 in /usr/local/lib/python3.10/dist-packages (from tensorflow<2.18,>=2.17->tf-keras>=2.14.1->tensorflow-hub) (2.17.0)\n",
      "Requirement already satisfied: keras>=3.2.0 in /usr/local/lib/python3.10/dist-packages (from tensorflow<2.18,>=2.17->tf-keras>=2.14.1->tensorflow-hub) (3.4.1)\n",
      "Requirement already satisfied: tensorflow-io-gcs-filesystem>=0.23.1 in /usr/local/lib/python3.10/dist-packages (from tensorflow<2.18,>=2.17->tf-keras>=2.14.1->tensorflow-hub) (0.37.1)\n",
      "Requirement already satisfied: wheel<1.0,>=0.23.0 in /usr/local/lib/python3.10/dist-packages (from astunparse>=1.6.0->tensorflow<2.18,>=2.17->tf-keras>=2.14.1->tensorflow-hub) (0.44.0)\n",
      "Requirement already satisfied: rich in /usr/local/lib/python3.10/dist-packages (from keras>=3.2.0->tensorflow<2.18,>=2.17->tf-keras>=2.14.1->tensorflow-hub) (13.8.1)\n",
      "Requirement already satisfied: namex in /usr/local/lib/python3.10/dist-packages (from keras>=3.2.0->tensorflow<2.18,>=2.17->tf-keras>=2.14.1->tensorflow-hub) (0.0.8)\n",
      "Requirement already satisfied: optree in /usr/local/lib/python3.10/dist-packages (from keras>=3.2.0->tensorflow<2.18,>=2.17->tf-keras>=2.14.1->tensorflow-hub) (0.12.1)\n",
      "Requirement already satisfied: charset-normalizer<4,>=2 in /usr/local/lib/python3.10/dist-packages (from requests<3,>=2.21.0->tensorflow<2.18,>=2.17->tf-keras>=2.14.1->tensorflow-hub) (3.3.2)\n",
      "Requirement already satisfied: idna<4,>=2.5 in /usr/local/lib/python3.10/dist-packages (from requests<3,>=2.21.0->tensorflow<2.18,>=2.17->tf-keras>=2.14.1->tensorflow-hub) (3.10)\n",
      "Requirement already satisfied: urllib3<3,>=1.21.1 in /usr/local/lib/python3.10/dist-packages (from requests<3,>=2.21.0->tensorflow<2.18,>=2.17->tf-keras>=2.14.1->tensorflow-hub) (2.0.7)\n",
      "Requirement already satisfied: certifi>=2017.4.17 in /usr/local/lib/python3.10/dist-packages (from requests<3,>=2.21.0->tensorflow<2.18,>=2.17->tf-keras>=2.14.1->tensorflow-hub) (2024.8.30)\n",
      "Requirement already satisfied: markdown>=2.6.8 in /usr/local/lib/python3.10/dist-packages (from tensorboard<2.18,>=2.17->tensorflow<2.18,>=2.17->tf-keras>=2.14.1->tensorflow-hub) (3.7)\n",
      "Requirement already satisfied: tensorboard-data-server<0.8.0,>=0.7.0 in /usr/local/lib/python3.10/dist-packages (from tensorboard<2.18,>=2.17->tensorflow<2.18,>=2.17->tf-keras>=2.14.1->tensorflow-hub) (0.7.2)\n",
      "Requirement already satisfied: werkzeug>=1.0.1 in /usr/local/lib/python3.10/dist-packages (from tensorboard<2.18,>=2.17->tensorflow<2.18,>=2.17->tf-keras>=2.14.1->tensorflow-hub) (3.0.4)\n",
      "Requirement already satisfied: MarkupSafe>=2.1.1 in /usr/local/lib/python3.10/dist-packages (from werkzeug>=1.0.1->tensorboard<2.18,>=2.17->tensorflow<2.18,>=2.17->tf-keras>=2.14.1->tensorflow-hub) (2.1.5)\n",
      "Requirement already satisfied: markdown-it-py>=2.2.0 in /usr/local/lib/python3.10/dist-packages (from rich->keras>=3.2.0->tensorflow<2.18,>=2.17->tf-keras>=2.14.1->tensorflow-hub) (3.0.0)\n",
      "Requirement already satisfied: pygments<3.0.0,>=2.13.0 in /usr/local/lib/python3.10/dist-packages (from rich->keras>=3.2.0->tensorflow<2.18,>=2.17->tf-keras>=2.14.1->tensorflow-hub) (2.18.0)\n",
      "Requirement already satisfied: mdurl~=0.1 in /usr/local/lib/python3.10/dist-packages (from markdown-it-py>=2.2.0->rich->keras>=3.2.0->tensorflow<2.18,>=2.17->tf-keras>=2.14.1->tensorflow-hub) (0.1.2)\n",
      "Requirement already satisfied: Markdown in /usr/local/lib/python3.10/dist-packages (3.7)\n",
      "Collecting scikit-optimize\n",
      "  Downloading scikit_optimize-0.10.2-py2.py3-none-any.whl.metadata (9.7 kB)\n",
      "Requirement already satisfied: joblib>=0.11 in /usr/local/lib/python3.10/dist-packages (from scikit-optimize) (1.4.2)\n",
      "Collecting pyaml>=16.9 (from scikit-optimize)\n",
      "  Downloading pyaml-24.7.0-py3-none-any.whl.metadata (11 kB)\n",
      "Requirement already satisfied: numpy>=1.20.3 in /usr/local/lib/python3.10/dist-packages (from scikit-optimize) (1.26.4)\n",
      "Requirement already satisfied: scipy>=1.1.0 in /usr/local/lib/python3.10/dist-packages (from scikit-optimize) (1.13.1)\n",
      "Requirement already satisfied: scikit-learn>=1.0.0 in /usr/local/lib/python3.10/dist-packages (from scikit-optimize) (1.3.2)\n",
      "Requirement already satisfied: packaging>=21.3 in /usr/local/lib/python3.10/dist-packages (from scikit-optimize) (24.1)\n",
      "Requirement already satisfied: PyYAML in /usr/local/lib/python3.10/dist-packages (from pyaml>=16.9->scikit-optimize) (6.0.2)\n",
      "Requirement already satisfied: threadpoolctl>=2.0.0 in /usr/local/lib/python3.10/dist-packages (from scikit-learn>=1.0.0->scikit-optimize) (3.5.0)\n",
      "Downloading scikit_optimize-0.10.2-py2.py3-none-any.whl (107 kB)\n",
      "\u001b[2K   \u001b[90m━━━━━━━━━━━━━━━━━━━━━━━━━━━━━━━━━━━━━━━━\u001b[0m \u001b[32m107.8/107.8 kB\u001b[0m \u001b[31m2.5 MB/s\u001b[0m eta \u001b[36m0:00:00\u001b[0m\n",
      "\u001b[?25hDownloading pyaml-24.7.0-py3-none-any.whl (24 kB)\n",
      "Installing collected packages: pyaml, scikit-optimize\n",
      "Successfully installed pyaml-24.7.0 scikit-optimize-0.10.2\n",
      "Requirement already satisfied: tensorflow==2.17.0 in /usr/local/lib/python3.10/dist-packages (2.17.0)\n",
      "Collecting scikeras==0.11.0\n",
      "  Downloading scikeras-0.11.0-py3-none-any.whl.metadata (4.0 kB)\n",
      "Requirement already satisfied: absl-py>=1.0.0 in /usr/local/lib/python3.10/dist-packages (from tensorflow==2.17.0) (1.4.0)\n",
      "Requirement already satisfied: astunparse>=1.6.0 in /usr/local/lib/python3.10/dist-packages (from tensorflow==2.17.0) (1.6.3)\n",
      "Requirement already satisfied: flatbuffers>=24.3.25 in /usr/local/lib/python3.10/dist-packages (from tensorflow==2.17.0) (24.3.25)\n",
      "Requirement already satisfied: gast!=0.5.0,!=0.5.1,!=0.5.2,>=0.2.1 in /usr/local/lib/python3.10/dist-packages (from tensorflow==2.17.0) (0.6.0)\n",
      "Requirement already satisfied: google-pasta>=0.1.1 in /usr/local/lib/python3.10/dist-packages (from tensorflow==2.17.0) (0.2.0)\n",
      "Requirement already satisfied: h5py>=3.10.0 in /usr/local/lib/python3.10/dist-packages (from tensorflow==2.17.0) (3.11.0)\n",
      "Requirement already satisfied: libclang>=13.0.0 in /usr/local/lib/python3.10/dist-packages (from tensorflow==2.17.0) (18.1.1)\n",
      "Requirement already satisfied: ml-dtypes<0.5.0,>=0.3.1 in /usr/local/lib/python3.10/dist-packages (from tensorflow==2.17.0) (0.4.1)\n",
      "Requirement already satisfied: opt-einsum>=2.3.2 in /usr/local/lib/python3.10/dist-packages (from tensorflow==2.17.0) (3.3.0)\n",
      "Requirement already satisfied: packaging in /usr/local/lib/python3.10/dist-packages (from tensorflow==2.17.0) (24.1)\n",
      "Requirement already satisfied: protobuf!=4.21.0,!=4.21.1,!=4.21.2,!=4.21.3,!=4.21.4,!=4.21.5,<5.0.0dev,>=3.20.3 in /usr/local/lib/python3.10/dist-packages (from tensorflow==2.17.0) (3.20.3)\n",
      "Requirement already satisfied: requests<3,>=2.21.0 in /usr/local/lib/python3.10/dist-packages (from tensorflow==2.17.0) (2.32.3)\n",
      "Requirement already satisfied: setuptools in /usr/local/lib/python3.10/dist-packages (from tensorflow==2.17.0) (71.0.4)\n",
      "Requirement already satisfied: six>=1.12.0 in /usr/local/lib/python3.10/dist-packages (from tensorflow==2.17.0) (1.16.0)\n",
      "Requirement already satisfied: termcolor>=1.1.0 in /usr/local/lib/python3.10/dist-packages (from tensorflow==2.17.0) (2.4.0)\n",
      "Requirement already satisfied: typing-extensions>=3.6.6 in /usr/local/lib/python3.10/dist-packages (from tensorflow==2.17.0) (4.12.2)\n",
      "Requirement already satisfied: wrapt>=1.11.0 in /usr/local/lib/python3.10/dist-packages (from tensorflow==2.17.0) (1.16.0)\n",
      "Requirement already satisfied: grpcio<2.0,>=1.24.3 in /usr/local/lib/python3.10/dist-packages (from tensorflow==2.17.0) (1.64.1)\n",
      "Requirement already satisfied: tensorboard<2.18,>=2.17 in /usr/local/lib/python3.10/dist-packages (from tensorflow==2.17.0) (2.17.0)\n",
      "Requirement already satisfied: keras>=3.2.0 in /usr/local/lib/python3.10/dist-packages (from tensorflow==2.17.0) (3.4.1)\n",
      "Requirement already satisfied: tensorflow-io-gcs-filesystem>=0.23.1 in /usr/local/lib/python3.10/dist-packages (from tensorflow==2.17.0) (0.37.1)\n",
      "Requirement already satisfied: numpy<2.0.0,>=1.23.5 in /usr/local/lib/python3.10/dist-packages (from tensorflow==2.17.0) (1.26.4)\n",
      "Requirement already satisfied: scikit-learn>=1.0.0 in /usr/local/lib/python3.10/dist-packages (from scikeras==0.11.0) (1.3.2)\n",
      "Requirement already satisfied: wheel<1.0,>=0.23.0 in /usr/local/lib/python3.10/dist-packages (from astunparse>=1.6.0->tensorflow==2.17.0) (0.44.0)\n",
      "Requirement already satisfied: rich in /usr/local/lib/python3.10/dist-packages (from keras>=3.2.0->tensorflow==2.17.0) (13.8.1)\n",
      "Requirement already satisfied: namex in /usr/local/lib/python3.10/dist-packages (from keras>=3.2.0->tensorflow==2.17.0) (0.0.8)\n",
      "Requirement already satisfied: optree in /usr/local/lib/python3.10/dist-packages (from keras>=3.2.0->tensorflow==2.17.0) (0.12.1)\n",
      "Requirement already satisfied: charset-normalizer<4,>=2 in /usr/local/lib/python3.10/dist-packages (from requests<3,>=2.21.0->tensorflow==2.17.0) (3.3.2)\n",
      "Requirement already satisfied: idna<4,>=2.5 in /usr/local/lib/python3.10/dist-packages (from requests<3,>=2.21.0->tensorflow==2.17.0) (3.10)\n",
      "Requirement already satisfied: urllib3<3,>=1.21.1 in /usr/local/lib/python3.10/dist-packages (from requests<3,>=2.21.0->tensorflow==2.17.0) (2.0.7)\n",
      "Requirement already satisfied: certifi>=2017.4.17 in /usr/local/lib/python3.10/dist-packages (from requests<3,>=2.21.0->tensorflow==2.17.0) (2024.8.30)\n",
      "Requirement already satisfied: scipy>=1.5.0 in /usr/local/lib/python3.10/dist-packages (from scikit-learn>=1.0.0->scikeras==0.11.0) (1.13.1)\n",
      "Requirement already satisfied: joblib>=1.1.1 in /usr/local/lib/python3.10/dist-packages (from scikit-learn>=1.0.0->scikeras==0.11.0) (1.4.2)\n",
      "Requirement already satisfied: threadpoolctl>=2.0.0 in /usr/local/lib/python3.10/dist-packages (from scikit-learn>=1.0.0->scikeras==0.11.0) (3.5.0)\n",
      "Requirement already satisfied: markdown>=2.6.8 in /usr/local/lib/python3.10/dist-packages (from tensorboard<2.18,>=2.17->tensorflow==2.17.0) (3.7)\n",
      "Requirement already satisfied: tensorboard-data-server<0.8.0,>=0.7.0 in /usr/local/lib/python3.10/dist-packages (from tensorboard<2.18,>=2.17->tensorflow==2.17.0) (0.7.2)\n",
      "Requirement already satisfied: werkzeug>=1.0.1 in /usr/local/lib/python3.10/dist-packages (from tensorboard<2.18,>=2.17->tensorflow==2.17.0) (3.0.4)\n",
      "Requirement already satisfied: MarkupSafe>=2.1.1 in /usr/local/lib/python3.10/dist-packages (from werkzeug>=1.0.1->tensorboard<2.18,>=2.17->tensorflow==2.17.0) (2.1.5)\n",
      "Requirement already satisfied: markdown-it-py>=2.2.0 in /usr/local/lib/python3.10/dist-packages (from rich->keras>=3.2.0->tensorflow==2.17.0) (3.0.0)\n",
      "Requirement already satisfied: pygments<3.0.0,>=2.13.0 in /usr/local/lib/python3.10/dist-packages (from rich->keras>=3.2.0->tensorflow==2.17.0) (2.18.0)\n",
      "Requirement already satisfied: mdurl~=0.1 in /usr/local/lib/python3.10/dist-packages (from markdown-it-py>=2.2.0->rich->keras>=3.2.0->tensorflow==2.17.0) (0.1.2)\n",
      "Downloading scikeras-0.11.0-py3-none-any.whl (27 kB)\n",
      "Installing collected packages: scikeras\n",
      "Successfully installed scikeras-0.11.0\n",
      "Collecting deep-translator\n",
      "  Downloading deep_translator-1.11.4-py3-none-any.whl.metadata (30 kB)\n",
      "Requirement already satisfied: beautifulsoup4<5.0.0,>=4.9.1 in /usr/local/lib/python3.10/dist-packages (from deep-translator) (4.12.3)\n",
      "Requirement already satisfied: requests<3.0.0,>=2.23.0 in /usr/local/lib/python3.10/dist-packages (from deep-translator) (2.32.3)\n",
      "Requirement already satisfied: soupsieve>1.2 in /usr/local/lib/python3.10/dist-packages (from beautifulsoup4<5.0.0,>=4.9.1->deep-translator) (2.6)\n",
      "Requirement already satisfied: charset-normalizer<4,>=2 in /usr/local/lib/python3.10/dist-packages (from requests<3.0.0,>=2.23.0->deep-translator) (3.3.2)\n",
      "Requirement already satisfied: idna<4,>=2.5 in /usr/local/lib/python3.10/dist-packages (from requests<3.0.0,>=2.23.0->deep-translator) (3.10)\n",
      "Requirement already satisfied: urllib3<3,>=1.21.1 in /usr/local/lib/python3.10/dist-packages (from requests<3.0.0,>=2.23.0->deep-translator) (2.0.7)\n",
      "Requirement already satisfied: certifi>=2017.4.17 in /usr/local/lib/python3.10/dist-packages (from requests<3.0.0,>=2.23.0->deep-translator) (2024.8.30)\n",
      "Downloading deep_translator-1.11.4-py3-none-any.whl (42 kB)\n",
      "\u001b[2K   \u001b[90m━━━━━━━━━━━━━━━━━━━━━━━━━━━━━━━━━━━━━━━━\u001b[0m \u001b[32m42.3/42.3 kB\u001b[0m \u001b[31m1.7 MB/s\u001b[0m eta \u001b[36m0:00:00\u001b[0m\n",
      "\u001b[?25hInstalling collected packages: deep-translator\n",
      "Successfully installed deep-translator-1.11.4\n",
      "Requirement already satisfied: keras_tuner in /usr/local/lib/python3.10/dist-packages (1.4.7)\n",
      "Requirement already satisfied: keras in /usr/local/lib/python3.10/dist-packages (from keras_tuner) (3.4.1)\n",
      "Requirement already satisfied: packaging in /usr/local/lib/python3.10/dist-packages (from keras_tuner) (24.1)\n",
      "Requirement already satisfied: requests in /usr/local/lib/python3.10/dist-packages (from keras_tuner) (2.32.3)\n",
      "Requirement already satisfied: kt-legacy in /usr/local/lib/python3.10/dist-packages (from keras_tuner) (1.0.5)\n",
      "Requirement already satisfied: absl-py in /usr/local/lib/python3.10/dist-packages (from keras->keras_tuner) (1.4.0)\n",
      "Requirement already satisfied: numpy in /usr/local/lib/python3.10/dist-packages (from keras->keras_tuner) (1.26.4)\n",
      "Requirement already satisfied: rich in /usr/local/lib/python3.10/dist-packages (from keras->keras_tuner) (13.8.1)\n",
      "Requirement already satisfied: namex in /usr/local/lib/python3.10/dist-packages (from keras->keras_tuner) (0.0.8)\n",
      "Requirement already satisfied: h5py in /usr/local/lib/python3.10/dist-packages (from keras->keras_tuner) (3.11.0)\n",
      "Requirement already satisfied: optree in /usr/local/lib/python3.10/dist-packages (from keras->keras_tuner) (0.12.1)\n",
      "Requirement already satisfied: ml-dtypes in /usr/local/lib/python3.10/dist-packages (from keras->keras_tuner) (0.4.1)\n",
      "Requirement already satisfied: charset-normalizer<4,>=2 in /usr/local/lib/python3.10/dist-packages (from requests->keras_tuner) (3.3.2)\n",
      "Requirement already satisfied: idna<4,>=2.5 in /usr/local/lib/python3.10/dist-packages (from requests->keras_tuner) (3.10)\n",
      "Requirement already satisfied: urllib3<3,>=1.21.1 in /usr/local/lib/python3.10/dist-packages (from requests->keras_tuner) (2.0.7)\n",
      "Requirement already satisfied: certifi>=2017.4.17 in /usr/local/lib/python3.10/dist-packages (from requests->keras_tuner) (2024.8.30)\n",
      "Requirement already satisfied: typing-extensions>=4.5.0 in /usr/local/lib/python3.10/dist-packages (from optree->keras->keras_tuner) (4.12.2)\n",
      "Requirement already satisfied: markdown-it-py>=2.2.0 in /usr/local/lib/python3.10/dist-packages (from rich->keras->keras_tuner) (3.0.0)\n",
      "Requirement already satisfied: pygments<3.0.0,>=2.13.0 in /usr/local/lib/python3.10/dist-packages (from rich->keras->keras_tuner) (2.18.0)\n",
      "Requirement already satisfied: mdurl~=0.1 in /usr/local/lib/python3.10/dist-packages (from markdown-it-py>=2.2.0->rich->keras->keras_tuner) (0.1.2)\n",
      "Collecting emoji\n",
      "  Downloading emoji-2.13.0-py3-none-any.whl.metadata (5.8 kB)\n",
      "Requirement already satisfied: typing-extensions>=4.7.0 in /usr/local/lib/python3.10/dist-packages (from emoji) (4.12.2)\n",
      "Downloading emoji-2.13.0-py3-none-any.whl (553 kB)\n",
      "\u001b[2K   \u001b[90m━━━━━━━━━━━━━━━━━━━━━━━━━━━━━━━━━━━━━━━━\u001b[0m \u001b[32m553.2/553.2 kB\u001b[0m \u001b[31m8.1 MB/s\u001b[0m eta \u001b[36m0:00:00\u001b[0m\n",
      "\u001b[?25hInstalling collected packages: emoji\n",
      "Successfully installed emoji-2.13.0\n",
      "Collecting langdetect\n",
      "  Downloading langdetect-1.0.9.tar.gz (981 kB)\n",
      "\u001b[2K     \u001b[90m━━━━━━━━━━━━━━━━━━━━━━━━━━━━━━━━━━━━━━━━\u001b[0m \u001b[32m981.5/981.5 kB\u001b[0m \u001b[31m10.9 MB/s\u001b[0m eta \u001b[36m0:00:00\u001b[0m\n",
      "\u001b[?25h  Preparing metadata (setup.py) ... \u001b[?25l\u001b[?25hdone\n",
      "Requirement already satisfied: six in /usr/local/lib/python3.10/dist-packages (from langdetect) (1.16.0)\n",
      "Building wheels for collected packages: langdetect\n",
      "  Building wheel for langdetect (setup.py) ... \u001b[?25l\u001b[?25hdone\n",
      "  Created wheel for langdetect: filename=langdetect-1.0.9-py3-none-any.whl size=993221 sha256=f982ce86616971a1881c94f3f5315cc6245c64ab3df6f3b2bd800891245b0af5\n",
      "  Stored in directory: /root/.cache/pip/wheels/95/03/7d/59ea870c70ce4e5a370638b5462a7711ab78fba2f655d05106\n",
      "Successfully built langdetect\n",
      "Installing collected packages: langdetect\n",
      "Successfully installed langdetect-1.0.9\n",
      "Collecting httpx==0.23.0\n",
      "  Downloading httpx-0.23.0-py3-none-any.whl.metadata (52 kB)\n",
      "\u001b[2K     \u001b[90m━━━━━━━━━━━━━━━━━━━━━━━━━━━━━━━━━━━━━━━━\u001b[0m \u001b[32m52.0/52.0 kB\u001b[0m \u001b[31m2.1 MB/s\u001b[0m eta \u001b[36m0:00:00\u001b[0m\n",
      "\u001b[?25hRequirement already satisfied: certifi in /usr/local/lib/python3.10/dist-packages (from httpx==0.23.0) (2024.8.30)\n",
      "Requirement already satisfied: sniffio in /usr/local/lib/python3.10/dist-packages (from httpx==0.23.0) (1.3.1)\n",
      "Collecting rfc3986<2,>=1.3 (from rfc3986[idna2008]<2,>=1.3->httpx==0.23.0)\n",
      "  Downloading rfc3986-1.5.0-py2.py3-none-any.whl.metadata (6.5 kB)\n",
      "Collecting httpcore<0.16.0,>=0.15.0 (from httpx==0.23.0)\n",
      "  Downloading httpcore-0.15.0-py3-none-any.whl.metadata (15 kB)\n",
      "Collecting h11<0.13,>=0.11 (from httpcore<0.16.0,>=0.15.0->httpx==0.23.0)\n",
      "  Downloading h11-0.12.0-py3-none-any.whl.metadata (8.1 kB)\n",
      "Requirement already satisfied: anyio==3.* in /usr/local/lib/python3.10/dist-packages (from httpcore<0.16.0,>=0.15.0->httpx==0.23.0) (3.7.1)\n",
      "Requirement already satisfied: idna>=2.8 in /usr/local/lib/python3.10/dist-packages (from anyio==3.*->httpcore<0.16.0,>=0.15.0->httpx==0.23.0) (3.10)\n",
      "Requirement already satisfied: exceptiongroup in /usr/local/lib/python3.10/dist-packages (from anyio==3.*->httpcore<0.16.0,>=0.15.0->httpx==0.23.0) (1.2.2)\n",
      "Downloading httpx-0.23.0-py3-none-any.whl (84 kB)\n",
      "\u001b[2K   \u001b[90m━━━━━━━━━━━━━━━━━━━━━━━━━━━━━━━━━━━━━━━━\u001b[0m \u001b[32m84.8/84.8 kB\u001b[0m \u001b[31m4.1 MB/s\u001b[0m eta \u001b[36m0:00:00\u001b[0m\n",
      "\u001b[?25hDownloading httpcore-0.15.0-py3-none-any.whl (68 kB)\n",
      "\u001b[2K   \u001b[90m━━━━━━━━━━━━━━━━━━━━━━━━━━━━━━━━━━━━━━━━\u001b[0m \u001b[32m68.4/68.4 kB\u001b[0m \u001b[31m5.1 MB/s\u001b[0m eta \u001b[36m0:00:00\u001b[0m\n",
      "\u001b[?25hDownloading rfc3986-1.5.0-py2.py3-none-any.whl (31 kB)\n",
      "Downloading h11-0.12.0-py3-none-any.whl (54 kB)\n",
      "\u001b[2K   \u001b[90m━━━━━━━━━━━━━━━━━━━━━━━━━━━━━━━━━━━━━━━━\u001b[0m \u001b[32m54.9/54.9 kB\u001b[0m \u001b[31m4.0 MB/s\u001b[0m eta \u001b[36m0:00:00\u001b[0m\n",
      "\u001b[?25hInstalling collected packages: rfc3986, h11, httpcore, httpx\n",
      "Successfully installed h11-0.12.0 httpcore-0.15.0 httpx-0.23.0 rfc3986-1.5.0\n",
      "Collecting googletrans\n",
      "  Downloading googletrans-3.0.0.tar.gz (17 kB)\n",
      "  Preparing metadata (setup.py) ... \u001b[?25l\u001b[?25hdone\n",
      "Collecting httpx==0.13.3 (from googletrans)\n",
      "  Downloading httpx-0.13.3-py3-none-any.whl.metadata (25 kB)\n",
      "Requirement already satisfied: certifi in /usr/local/lib/python3.10/dist-packages (from httpx==0.13.3->googletrans) (2024.8.30)\n",
      "Collecting hstspreload (from httpx==0.13.3->googletrans)\n",
      "  Downloading hstspreload-2024.9.1-py3-none-any.whl.metadata (2.1 kB)\n",
      "Requirement already satisfied: sniffio in /usr/local/lib/python3.10/dist-packages (from httpx==0.13.3->googletrans) (1.3.1)\n",
      "Collecting chardet==3.* (from httpx==0.13.3->googletrans)\n",
      "  Downloading chardet-3.0.4-py2.py3-none-any.whl.metadata (3.2 kB)\n",
      "Collecting idna==2.* (from httpx==0.13.3->googletrans)\n",
      "  Downloading idna-2.10-py2.py3-none-any.whl.metadata (9.1 kB)\n",
      "Requirement already satisfied: rfc3986<2,>=1.3 in /usr/local/lib/python3.10/dist-packages (from httpx==0.13.3->googletrans) (1.5.0)\n",
      "Collecting httpcore==0.9.* (from httpx==0.13.3->googletrans)\n",
      "  Downloading httpcore-0.9.1-py3-none-any.whl.metadata (4.6 kB)\n",
      "Collecting h11<0.10,>=0.8 (from httpcore==0.9.*->httpx==0.13.3->googletrans)\n",
      "  Downloading h11-0.9.0-py2.py3-none-any.whl.metadata (8.1 kB)\n",
      "Collecting h2==3.* (from httpcore==0.9.*->httpx==0.13.3->googletrans)\n",
      "  Downloading h2-3.2.0-py2.py3-none-any.whl.metadata (32 kB)\n",
      "Collecting hyperframe<6,>=5.2.0 (from h2==3.*->httpcore==0.9.*->httpx==0.13.3->googletrans)\n",
      "  Downloading hyperframe-5.2.0-py2.py3-none-any.whl.metadata (7.2 kB)\n",
      "Collecting hpack<4,>=3.0 (from h2==3.*->httpcore==0.9.*->httpx==0.13.3->googletrans)\n",
      "  Downloading hpack-3.0.0-py2.py3-none-any.whl.metadata (7.0 kB)\n",
      "Downloading httpx-0.13.3-py3-none-any.whl (55 kB)\n",
      "\u001b[2K   \u001b[90m━━━━━━━━━━━━━━━━━━━━━━━━━━━━━━━━━━━━━━━━\u001b[0m \u001b[32m55.1/55.1 kB\u001b[0m \u001b[31m3.6 MB/s\u001b[0m eta \u001b[36m0:00:00\u001b[0m\n",
      "\u001b[?25hDownloading chardet-3.0.4-py2.py3-none-any.whl (133 kB)\n",
      "\u001b[2K   \u001b[90m━━━━━━━━━━━━━━━━━━━━━━━━━━━━━━━━━━━━━━━━\u001b[0m \u001b[32m133.4/133.4 kB\u001b[0m \u001b[31m5.9 MB/s\u001b[0m eta \u001b[36m0:00:00\u001b[0m\n",
      "\u001b[?25hDownloading httpcore-0.9.1-py3-none-any.whl (42 kB)\n",
      "\u001b[2K   \u001b[90m━━━━━━━━━━━━━━━━━━━━━━━━━━━━━━━━━━━━━━━━\u001b[0m \u001b[32m42.6/42.6 kB\u001b[0m \u001b[31m3.0 MB/s\u001b[0m eta \u001b[36m0:00:00\u001b[0m\n",
      "\u001b[?25hDownloading idna-2.10-py2.py3-none-any.whl (58 kB)\n",
      "\u001b[2K   \u001b[90m━━━━━━━━━━━━━━━━━━━━━━━━━━━━━━━━━━━━━━━━\u001b[0m \u001b[32m58.8/58.8 kB\u001b[0m \u001b[31m3.9 MB/s\u001b[0m eta \u001b[36m0:00:00\u001b[0m\n",
      "\u001b[?25hDownloading h2-3.2.0-py2.py3-none-any.whl (65 kB)\n",
      "\u001b[2K   \u001b[90m━━━━━━━━━━━━━━━━━━━━━━━━━━━━━━━━━━━━━━━━\u001b[0m \u001b[32m65.0/65.0 kB\u001b[0m \u001b[31m4.5 MB/s\u001b[0m eta \u001b[36m0:00:00\u001b[0m\n",
      "\u001b[?25hDownloading hstspreload-2024.9.1-py3-none-any.whl (1.2 MB)\n",
      "\u001b[2K   \u001b[90m━━━━━━━━━━━━━━━━━━━━━━━━━━━━━━━━━━━━━━━━\u001b[0m \u001b[32m1.2/1.2 MB\u001b[0m \u001b[31m30.7 MB/s\u001b[0m eta \u001b[36m0:00:00\u001b[0m\n",
      "\u001b[?25hDownloading h11-0.9.0-py2.py3-none-any.whl (53 kB)\n",
      "\u001b[2K   \u001b[90m━━━━━━━━━━━━━━━━━━━━━━━━━━━━━━━━━━━━━━━━\u001b[0m \u001b[32m53.6/53.6 kB\u001b[0m \u001b[31m3.6 MB/s\u001b[0m eta \u001b[36m0:00:00\u001b[0m\n",
      "\u001b[?25hDownloading hpack-3.0.0-py2.py3-none-any.whl (38 kB)\n",
      "Downloading hyperframe-5.2.0-py2.py3-none-any.whl (12 kB)\n",
      "Building wheels for collected packages: googletrans\n",
      "  Building wheel for googletrans (setup.py) ... \u001b[?25l\u001b[?25hdone\n",
      "  Created wheel for googletrans: filename=googletrans-3.0.0-py3-none-any.whl size=15718 sha256=f72e90df487be67fd8f72cb5f33aa8d5f081c42968d324949255555cc4002641\n",
      "  Stored in directory: /root/.cache/pip/wheels/b3/81/ea/8b030407f8ebfc2f857814e086bb22ca2d4fea1a7be63652ab\n",
      "Successfully built googletrans\n",
      "Installing collected packages: hyperframe, hpack, h11, chardet, idna, hstspreload, h2, httpcore, httpx, googletrans\n",
      "  Attempting uninstall: h11\n",
      "    Found existing installation: h11 0.12.0\n",
      "    Uninstalling h11-0.12.0:\n",
      "      Successfully uninstalled h11-0.12.0\n",
      "  Attempting uninstall: chardet\n",
      "    Found existing installation: chardet 5.2.0\n",
      "    Uninstalling chardet-5.2.0:\n",
      "      Successfully uninstalled chardet-5.2.0\n",
      "  Attempting uninstall: idna\n",
      "    Found existing installation: idna 3.10\n",
      "    Uninstalling idna-3.10:\n",
      "      Successfully uninstalled idna-3.10\n",
      "  Attempting uninstall: httpcore\n",
      "    Found existing installation: httpcore 0.15.0\n",
      "    Uninstalling httpcore-0.15.0:\n",
      "      Successfully uninstalled httpcore-0.15.0\n",
      "  Attempting uninstall: httpx\n",
      "    Found existing installation: httpx 0.23.0\n",
      "    Uninstalling httpx-0.23.0:\n",
      "      Successfully uninstalled httpx-0.23.0\n",
      "Successfully installed chardet-3.0.4 googletrans-3.0.0 h11-0.9.0 h2-3.2.0 hpack-3.0.0 hstspreload-2024.9.1 httpcore-0.9.1 httpx-0.13.3 hyperframe-5.2.0 idna-2.10\n",
      "Requirement already satisfied: transformers in /usr/local/lib/python3.10/dist-packages (4.44.2)\n",
      "Requirement already satisfied: torch in /usr/local/lib/python3.10/dist-packages (2.4.1+cu121)\n",
      "Requirement already satisfied: filelock in /usr/local/lib/python3.10/dist-packages (from transformers) (3.16.0)\n",
      "Requirement already satisfied: huggingface-hub<1.0,>=0.23.2 in /usr/local/lib/python3.10/dist-packages (from transformers) (0.24.7)\n",
      "Requirement already satisfied: numpy>=1.17 in /usr/local/lib/python3.10/dist-packages (from transformers) (1.26.4)\n",
      "Requirement already satisfied: packaging>=20.0 in /usr/local/lib/python3.10/dist-packages (from transformers) (24.1)\n",
      "Requirement already satisfied: pyyaml>=5.1 in /usr/local/lib/python3.10/dist-packages (from transformers) (6.0.2)\n",
      "Requirement already satisfied: regex!=2019.12.17 in /usr/local/lib/python3.10/dist-packages (from transformers) (2024.9.11)\n",
      "Requirement already satisfied: requests in /usr/local/lib/python3.10/dist-packages (from transformers) (2.32.3)\n",
      "Requirement already satisfied: safetensors>=0.4.1 in /usr/local/lib/python3.10/dist-packages (from transformers) (0.4.5)\n",
      "Requirement already satisfied: tokenizers<0.20,>=0.19 in /usr/local/lib/python3.10/dist-packages (from transformers) (0.19.1)\n",
      "Requirement already satisfied: tqdm>=4.27 in /usr/local/lib/python3.10/dist-packages (from transformers) (4.66.5)\n",
      "Requirement already satisfied: typing-extensions>=4.8.0 in /usr/local/lib/python3.10/dist-packages (from torch) (4.12.2)\n",
      "Requirement already satisfied: sympy in /usr/local/lib/python3.10/dist-packages (from torch) (1.13.2)\n",
      "Requirement already satisfied: networkx in /usr/local/lib/python3.10/dist-packages (from torch) (3.3)\n",
      "Requirement already satisfied: jinja2 in /usr/local/lib/python3.10/dist-packages (from torch) (3.1.4)\n",
      "Requirement already satisfied: fsspec in /usr/local/lib/python3.10/dist-packages (from torch) (2024.6.1)\n",
      "Requirement already satisfied: MarkupSafe>=2.0 in /usr/local/lib/python3.10/dist-packages (from jinja2->torch) (2.1.5)\n",
      "Requirement already satisfied: charset-normalizer<4,>=2 in /usr/local/lib/python3.10/dist-packages (from requests->transformers) (3.3.2)\n",
      "Requirement already satisfied: idna<4,>=2.5 in /usr/local/lib/python3.10/dist-packages (from requests->transformers) (2.10)\n",
      "Requirement already satisfied: urllib3<3,>=1.21.1 in /usr/local/lib/python3.10/dist-packages (from requests->transformers) (2.0.7)\n",
      "Requirement already satisfied: certifi>=2017.4.17 in /usr/local/lib/python3.10/dist-packages (from requests->transformers) (2024.8.30)\n",
      "Requirement already satisfied: mpmath<1.4,>=1.1.0 in /usr/local/lib/python3.10/dist-packages (from sympy->torch) (1.3.0)\n",
      "Requirement already satisfied: transformers in /usr/local/lib/python3.10/dist-packages (4.44.2)\n",
      "Requirement already satisfied: filelock in /usr/local/lib/python3.10/dist-packages (from transformers) (3.16.0)\n",
      "Requirement already satisfied: huggingface-hub<1.0,>=0.23.2 in /usr/local/lib/python3.10/dist-packages (from transformers) (0.24.7)\n",
      "Requirement already satisfied: numpy>=1.17 in /usr/local/lib/python3.10/dist-packages (from transformers) (1.26.4)\n",
      "Requirement already satisfied: packaging>=20.0 in /usr/local/lib/python3.10/dist-packages (from transformers) (24.1)\n",
      "Requirement already satisfied: pyyaml>=5.1 in /usr/local/lib/python3.10/dist-packages (from transformers) (6.0.2)\n",
      "Requirement already satisfied: regex!=2019.12.17 in /usr/local/lib/python3.10/dist-packages (from transformers) (2024.9.11)\n",
      "Requirement already satisfied: requests in /usr/local/lib/python3.10/dist-packages (from transformers) (2.32.3)\n",
      "Requirement already satisfied: safetensors>=0.4.1 in /usr/local/lib/python3.10/dist-packages (from transformers) (0.4.5)\n",
      "Requirement already satisfied: tokenizers<0.20,>=0.19 in /usr/local/lib/python3.10/dist-packages (from transformers) (0.19.1)\n",
      "Requirement already satisfied: tqdm>=4.27 in /usr/local/lib/python3.10/dist-packages (from transformers) (4.66.5)\n",
      "Requirement already satisfied: fsspec>=2023.5.0 in /usr/local/lib/python3.10/dist-packages (from huggingface-hub<1.0,>=0.23.2->transformers) (2024.6.1)\n",
      "Requirement already satisfied: typing-extensions>=3.7.4.3 in /usr/local/lib/python3.10/dist-packages (from huggingface-hub<1.0,>=0.23.2->transformers) (4.12.2)\n",
      "Requirement already satisfied: charset-normalizer<4,>=2 in /usr/local/lib/python3.10/dist-packages (from requests->transformers) (3.3.2)\n",
      "Requirement already satisfied: idna<4,>=2.5 in /usr/local/lib/python3.10/dist-packages (from requests->transformers) (2.10)\n",
      "Requirement already satisfied: urllib3<3,>=1.21.1 in /usr/local/lib/python3.10/dist-packages (from requests->transformers) (2.0.7)\n",
      "Requirement already satisfied: certifi>=2017.4.17 in /usr/local/lib/python3.10/dist-packages (from requests->transformers) (2024.8.30)\n"
     ]
    }
   ],
   "source": [
    "%pip install vaderSentiment\n",
    "%pip install matplotlib\n",
    "%pip install beautifulsoup4\n",
    "%pip install scikit-learn\n",
    "%pip install numpy\n",
    "%pip install nltk\n",
    "%pip install keras-tuner\n",
    "%pip install tensorflow-hub\n",
    "%pip install Markdown\n",
    "%pip install scikit-optimize\n",
    "%pip install tensorflow==2.17.0 scikeras==0.11.0"
   ]
  },
  {
   "cell_type": "markdown",
   "id": "0e5b51e6",
   "metadata": {},
   "source": [
    "## **Step 2: Import Libraries & Setup**\n",
    "Import essential libraries for web scraping, text processing, and model training."
   ]
  },
  {
   "cell_type": "markdown",
   "metadata": {
    "id": "PGHJZWTqLiH2"
   },
   "source": [
    "#Create Model"
   ]
  },
  {
   "cell_type": "markdown",
   "id": "644cda13",
   "metadata": {},
   "source": [
    "## **Step 3: Download & Preprocess Data**\n",
    "Extract contract data from a legal contract website using `BeautifulSoup` and preprocess text."
   ]
  },
  {
   "cell_type": "code",
   "execution_count": null,
   "metadata": {
    "colab": {
     "base_uri": "https://localhost:8080/",
     "height": 1000
    },
    "id": "btr3gB6oLktS",
    "outputId": "14cefe63-bd61-4e8a-d340-be91b96ede68"
   },
   "outputs": [
    {
     "name": "stderr",
     "output_type": "stream",
     "text": [
      "[nltk_data] Downloading package averaged_perceptron_tagger to\n",
      "[nltk_data]     /root/nltk_data...\n",
      "[nltk_data]   Package averaged_perceptron_tagger is already up-to-\n",
      "[nltk_data]       date!\n",
      "[nltk_data] Downloading package wordnet to /root/nltk_data...\n",
      "[nltk_data]   Package wordnet is already up-to-date!\n",
      "[nltk_data] Downloading package stopwords to /root/nltk_data...\n",
      "[nltk_data]   Package stopwords is already up-to-date!\n",
      "[nltk_data] Downloading package punkt to /root/nltk_data...\n",
      "[nltk_data]   Package punkt is already up-to-date!\n",
      "<ipython-input-34-9cfb2f2d99a2>:59: MarkupResemblesLocatorWarning: The input looks more like a filename than markup. You may want to open this file and pass the filehandle into Beautiful Soup.\n",
      "  text = BeautifulSoup(text, \"html.parser\").get_text()  # Convert HTML content to text\n"
     ]
    },
    {
     "name": "stdout",
     "output_type": "stream",
     "text": [
      "Number of documents loaded: 221\n",
      "Class distribution before augmentation: Counter({1: 111, 0: 110})\n",
      "Class distribution after augmentation: Counter({1: 666, 0: 660})\n",
      "Testing combination: {'lstm_units': 32, 'learning_rate': 0.0001, 'dropout_rate': 0.3, 'batch_size': 64}\n",
      "Epoch 1/10\n"
     ]
    },
    {
     "name": "stderr",
     "output_type": "stream",
     "text": [
      "/usr/local/lib/python3.10/dist-packages/keras/src/layers/core/embedding.py:90: UserWarning: Argument `input_length` is deprecated. Just remove it.\n",
      "  warnings.warn(\n"
     ]
    },
    {
     "name": "stdout",
     "output_type": "stream",
     "text": [
      "\u001b[1m15/15\u001b[0m \u001b[32m━━━━━━━━━━━━━━━━━━━━\u001b[0m\u001b[37m\u001b[0m \u001b[1m9s\u001b[0m 181ms/step - accuracy: 0.6089 - auc: 0.6781 - loss: 0.2952 - val_accuracy: 0.6415 - val_auc: 0.7574 - val_loss: 0.3082 - learning_rate: 1.0000e-04\n",
      "Epoch 2/10\n",
      "\u001b[1m15/15\u001b[0m \u001b[32m━━━━━━━━━━━━━━━━━━━━\u001b[0m\u001b[37m\u001b[0m \u001b[1m4s\u001b[0m 133ms/step - accuracy: 0.6035 - auc: 0.7715 - loss: 0.2769 - val_accuracy: 0.6415 - val_auc: 0.7900 - val_loss: 0.3013 - learning_rate: 1.0000e-04\n",
      "Epoch 3/10\n",
      "\u001b[1m15/15\u001b[0m \u001b[32m━━━━━━━━━━━━━━━━━━━━\u001b[0m\u001b[37m\u001b[0m \u001b[1m2s\u001b[0m 129ms/step - accuracy: 0.6054 - auc: 0.8420 - loss: 0.2689 - val_accuracy: 0.6509 - val_auc: 0.8443 - val_loss: 0.2960 - learning_rate: 1.0000e-04\n",
      "Epoch 4/10\n",
      "\u001b[1m15/15\u001b[0m \u001b[32m━━━━━━━━━━━━━━━━━━━━\u001b[0m\u001b[37m\u001b[0m \u001b[1m3s\u001b[0m 177ms/step - accuracy: 0.6264 - auc: 0.9040 - loss: 0.2608 - val_accuracy: 0.6509 - val_auc: 0.8642 - val_loss: 0.2902 - learning_rate: 1.0000e-04\n",
      "Epoch 5/10\n",
      "\u001b[1m15/15\u001b[0m \u001b[32m━━━━━━━━━━━━━━━━━━━━\u001b[0m\u001b[37m\u001b[0m \u001b[1m3s\u001b[0m 221ms/step - accuracy: 0.6521 - auc: 0.9332 - loss: 0.2540 - val_accuracy: 0.6698 - val_auc: 0.9012 - val_loss: 0.2837 - learning_rate: 1.0000e-04\n",
      "Epoch 6/10\n",
      "\u001b[1m15/15\u001b[0m \u001b[32m━━━━━━━━━━━━━━━━━━━━\u001b[0m\u001b[37m\u001b[0m \u001b[1m4s\u001b[0m 137ms/step - accuracy: 0.6829 - auc: 0.9620 - loss: 0.2457 - val_accuracy: 0.6698 - val_auc: 0.9192 - val_loss: 0.2773 - learning_rate: 1.0000e-04\n",
      "Epoch 7/10\n",
      "\u001b[1m15/15\u001b[0m \u001b[32m━━━━━━━━━━━━━━━━━━━━\u001b[0m\u001b[37m\u001b[0m \u001b[1m2s\u001b[0m 136ms/step - accuracy: 0.7242 - auc: 0.9690 - loss: 0.2382 - val_accuracy: 0.6792 - val_auc: 0.9384 - val_loss: 0.2713 - learning_rate: 1.0000e-04\n",
      "Epoch 8/10\n",
      "\u001b[1m15/15\u001b[0m \u001b[32m━━━━━━━━━━━━━━━━━━━━\u001b[0m\u001b[37m\u001b[0m \u001b[1m2s\u001b[0m 131ms/step - accuracy: 0.7927 - auc: 0.9801 - loss: 0.2310 - val_accuracy: 0.6981 - val_auc: 0.9600 - val_loss: 0.2652 - learning_rate: 1.0000e-04\n",
      "Epoch 9/10\n",
      "\u001b[1m15/15\u001b[0m \u001b[32m━━━━━━━━━━━━━━━━━━━━\u001b[0m\u001b[37m\u001b[0m \u001b[1m3s\u001b[0m 160ms/step - accuracy: 0.8049 - auc: 0.9847 - loss: 0.2244 - val_accuracy: 0.7642 - val_auc: 0.9646 - val_loss: 0.2594 - learning_rate: 1.0000e-04\n",
      "Epoch 10/10\n",
      "\u001b[1m15/15\u001b[0m \u001b[32m━━━━━━━━━━━━━━━━━━━━\u001b[0m\u001b[37m\u001b[0m \u001b[1m3s\u001b[0m 211ms/step - accuracy: 0.8741 - auc: 0.9876 - loss: 0.2179 - val_accuracy: 0.7830 - val_auc: 0.9706 - val_loss: 0.2533 - learning_rate: 1.0000e-04\n",
      "Training time: 37.89 seconds\n",
      "Epoch 1/10\n",
      "\u001b[1m15/15\u001b[0m \u001b[32m━━━━━━━━━━━━━━━━━━━━\u001b[0m\u001b[37m\u001b[0m \u001b[1m11s\u001b[0m 387ms/step - accuracy: 0.6124 - auc: 0.6383 - loss: 0.2903 - val_accuracy: 0.6038 - val_auc: 0.7540 - val_loss: 0.3087 - learning_rate: 1.0000e-04\n",
      "Epoch 2/10\n",
      "\u001b[1m15/15\u001b[0m \u001b[32m━━━━━━━━━━━━━━━━━━━━\u001b[0m\u001b[37m\u001b[0m \u001b[1m7s\u001b[0m 139ms/step - accuracy: 0.6026 - auc: 0.7391 - loss: 0.2774 - val_accuracy: 0.6038 - val_auc: 0.8024 - val_loss: 0.3027 - learning_rate: 1.0000e-04\n",
      "Epoch 3/10\n",
      "\u001b[1m15/15\u001b[0m \u001b[32m━━━━━━━━━━━━━━━━━━━━\u001b[0m\u001b[37m\u001b[0m \u001b[1m3s\u001b[0m 144ms/step - accuracy: 0.6225 - auc: 0.8070 - loss: 0.2687 - val_accuracy: 0.6226 - val_auc: 0.8184 - val_loss: 0.2962 - learning_rate: 1.0000e-04\n",
      "Epoch 4/10\n",
      "\u001b[1m15/15\u001b[0m \u001b[32m━━━━━━━━━━━━━━━━━━━━\u001b[0m\u001b[37m\u001b[0m \u001b[1m3s\u001b[0m 209ms/step - accuracy: 0.6460 - auc: 0.8905 - loss: 0.2591 - val_accuracy: 0.5943 - val_auc: 0.8818 - val_loss: 0.2889 - learning_rate: 1.0000e-04\n",
      "Epoch 5/10\n",
      "\u001b[1m15/15\u001b[0m \u001b[32m━━━━━━━━━━━━━━━━━━━━\u001b[0m\u001b[37m\u001b[0m \u001b[1m4s\u001b[0m 140ms/step - accuracy: 0.6585 - auc: 0.9174 - loss: 0.2520 - val_accuracy: 0.6132 - val_auc: 0.9284 - val_loss: 0.2824 - learning_rate: 1.0000e-04\n",
      "Epoch 6/10\n",
      "\u001b[1m15/15\u001b[0m \u001b[32m━━━━━━━━━━━━━━━━━━━━\u001b[0m\u001b[37m\u001b[0m \u001b[1m2s\u001b[0m 135ms/step - accuracy: 0.7026 - auc: 0.9566 - loss: 0.2432 - val_accuracy: 0.6132 - val_auc: 0.9407 - val_loss: 0.2758 - learning_rate: 1.0000e-04\n",
      "Epoch 7/10\n",
      "\u001b[1m15/15\u001b[0m \u001b[32m━━━━━━━━━━━━━━━━━━━━\u001b[0m\u001b[37m\u001b[0m \u001b[1m2s\u001b[0m 133ms/step - accuracy: 0.7597 - auc: 0.9739 - loss: 0.2352 - val_accuracy: 0.6415 - val_auc: 0.9582 - val_loss: 0.2697 - learning_rate: 1.0000e-04\n",
      "Epoch 8/10\n",
      "\u001b[1m15/15\u001b[0m \u001b[32m━━━━━━━━━━━━━━━━━━━━\u001b[0m\u001b[37m\u001b[0m \u001b[1m2s\u001b[0m 135ms/step - accuracy: 0.7876 - auc: 0.9788 - loss: 0.2287 - val_accuracy: 0.6509 - val_auc: 0.9715 - val_loss: 0.2637 - learning_rate: 1.0000e-04\n",
      "Epoch 9/10\n",
      "\u001b[1m15/15\u001b[0m \u001b[32m━━━━━━━━━━━━━━━━━━━━\u001b[0m\u001b[37m\u001b[0m \u001b[1m4s\u001b[0m 237ms/step - accuracy: 0.8514 - auc: 0.9891 - loss: 0.2213 - val_accuracy: 0.7075 - val_auc: 0.9834 - val_loss: 0.2572 - learning_rate: 1.0000e-04\n",
      "Epoch 10/10\n",
      "\u001b[1m15/15\u001b[0m \u001b[32m━━━━━━━━━━━━━━━━━━━━\u001b[0m\u001b[37m\u001b[0m \u001b[1m4s\u001b[0m 132ms/step - accuracy: 0.8741 - auc: 0.9899 - loss: 0.2149 - val_accuracy: 0.7170 - val_auc: 0.9900 - val_loss: 0.2513 - learning_rate: 1.0000e-04\n",
      "Training time: 41.47 seconds\n",
      "Epoch 1/10\n",
      "\u001b[1m15/15\u001b[0m \u001b[32m━━━━━━━━━━━━━━━━━━━━\u001b[0m\u001b[37m\u001b[0m \u001b[1m11s\u001b[0m 293ms/step - accuracy: 0.5227 - auc: 0.5380 - loss: 0.3129 - val_accuracy: 0.6038 - val_auc: 0.6910 - val_loss: 0.3066 - learning_rate: 1.0000e-04\n",
      "Epoch 2/10\n",
      "\u001b[1m15/15\u001b[0m \u001b[32m━━━━━━━━━━━━━━━━━━━━\u001b[0m\u001b[37m\u001b[0m \u001b[1m2s\u001b[0m 133ms/step - accuracy: 0.5793 - auc: 0.7312 - loss: 0.2788 - val_accuracy: 0.6038 - val_auc: 0.7618 - val_loss: 0.3004 - learning_rate: 1.0000e-04\n",
      "Epoch 3/10\n",
      "\u001b[1m15/15\u001b[0m \u001b[32m━━━━━━━━━━━━━━━━━━━━\u001b[0m\u001b[37m\u001b[0m \u001b[1m2s\u001b[0m 132ms/step - accuracy: 0.5773 - auc: 0.7940 - loss: 0.2716 - val_accuracy: 0.6132 - val_auc: 0.8149 - val_loss: 0.2962 - learning_rate: 1.0000e-04\n",
      "Epoch 4/10\n",
      "\u001b[1m15/15\u001b[0m \u001b[32m━━━━━━━━━━━━━━━━━━━━\u001b[0m\u001b[37m\u001b[0m \u001b[1m3s\u001b[0m 130ms/step - accuracy: 0.6096 - auc: 0.8420 - loss: 0.2642 - val_accuracy: 0.6226 - val_auc: 0.8432 - val_loss: 0.2911 - learning_rate: 1.0000e-04\n",
      "Epoch 5/10\n",
      "\u001b[1m15/15\u001b[0m \u001b[32m━━━━━━━━━━━━━━━━━━━━\u001b[0m\u001b[37m\u001b[0m \u001b[1m2s\u001b[0m 131ms/step - accuracy: 0.6180 - auc: 0.9161 - loss: 0.2560 - val_accuracy: 0.6226 - val_auc: 0.8679 - val_loss: 0.2855 - learning_rate: 1.0000e-04\n",
      "Epoch 6/10\n",
      "\u001b[1m15/15\u001b[0m \u001b[32m━━━━━━━━━━━━━━━━━━━━\u001b[0m\u001b[37m\u001b[0m \u001b[1m4s\u001b[0m 215ms/step - accuracy: 0.6521 - auc: 0.9107 - loss: 0.2507 - val_accuracy: 0.6226 - val_auc: 0.8914 - val_loss: 0.2797 - learning_rate: 1.0000e-04\n",
      "Epoch 7/10\n",
      "\u001b[1m15/15\u001b[0m \u001b[32m━━━━━━━━━━━━━━━━━━━━\u001b[0m\u001b[37m\u001b[0m \u001b[1m4s\u001b[0m 139ms/step - accuracy: 0.6666 - auc: 0.9339 - loss: 0.2442 - val_accuracy: 0.6415 - val_auc: 0.8977 - val_loss: 0.2740 - learning_rate: 1.0000e-04\n",
      "Epoch 8/10\n",
      "\u001b[1m15/15\u001b[0m \u001b[32m━━━━━━━━━━━━━━━━━━━━\u001b[0m\u001b[37m\u001b[0m \u001b[1m2s\u001b[0m 133ms/step - accuracy: 0.7200 - auc: 0.9606 - loss: 0.2372 - val_accuracy: 0.6509 - val_auc: 0.9302 - val_loss: 0.2682 - learning_rate: 1.0000e-04\n",
      "Epoch 9/10\n",
      "\u001b[1m15/15\u001b[0m \u001b[32m━━━━━━━━━━━━━━━━━━━━\u001b[0m\u001b[37m\u001b[0m \u001b[1m3s\u001b[0m 131ms/step - accuracy: 0.7407 - auc: 0.9744 - loss: 0.2309 - val_accuracy: 0.6604 - val_auc: 0.9468 - val_loss: 0.2623 - learning_rate: 1.0000e-04\n",
      "Epoch 10/10\n",
      "\u001b[1m15/15\u001b[0m \u001b[32m━━━━━━━━━━━━━━━━━━━━\u001b[0m\u001b[37m\u001b[0m \u001b[1m2s\u001b[0m 152ms/step - accuracy: 0.7587 - auc: 0.9791 - loss: 0.2248 - val_accuracy: 0.6698 - val_auc: 0.9587 - val_loss: 0.2566 - learning_rate: 1.0000e-04\n",
      "Training time: 34.62 seconds\n",
      "Epoch 1/10\n",
      "\u001b[1m15/15\u001b[0m \u001b[32m━━━━━━━━━━━━━━━━━━━━\u001b[0m\u001b[37m\u001b[0m \u001b[1m11s\u001b[0m 178ms/step - accuracy: 0.4682 - auc: 0.4979 - loss: 0.3045 - val_accuracy: 0.5094 - val_auc: 0.5924 - val_loss: 0.3016 - learning_rate: 1.0000e-04\n",
      "Epoch 2/10\n",
      "\u001b[1m15/15\u001b[0m \u001b[32m━━━━━━━━━━━━━━━━━━━━\u001b[0m\u001b[37m\u001b[0m \u001b[1m2s\u001b[0m 132ms/step - accuracy: 0.5109 - auc: 0.6470 - loss: 0.2804 - val_accuracy: 0.5094 - val_auc: 0.6897 - val_loss: 0.2963 - learning_rate: 1.0000e-04\n",
      "Epoch 3/10\n",
      "\u001b[1m15/15\u001b[0m \u001b[32m━━━━━━━━━━━━━━━━━━━━\u001b[0m\u001b[37m\u001b[0m \u001b[1m2s\u001b[0m 165ms/step - accuracy: 0.5057 - auc: 0.7209 - loss: 0.2732 - val_accuracy: 0.5094 - val_auc: 0.7207 - val_loss: 0.2928 - learning_rate: 1.0000e-04\n",
      "Epoch 4/10\n",
      "\u001b[1m15/15\u001b[0m \u001b[32m━━━━━━━━━━━━━━━━━━━━\u001b[0m\u001b[37m\u001b[0m \u001b[1m3s\u001b[0m 232ms/step - accuracy: 0.5321 - auc: 0.7780 - loss: 0.2658 - val_accuracy: 0.5094 - val_auc: 0.7852 - val_loss: 0.2888 - learning_rate: 1.0000e-04\n",
      "Epoch 5/10\n",
      "\u001b[1m15/15\u001b[0m \u001b[32m━━━━━━━━━━━━━━━━━━━━\u001b[0m\u001b[37m\u001b[0m \u001b[1m2s\u001b[0m 131ms/step - accuracy: 0.5425 - auc: 0.8158 - loss: 0.2593 - val_accuracy: 0.5094 - val_auc: 0.8040 - val_loss: 0.2838 - learning_rate: 1.0000e-04\n",
      "Epoch 6/10\n",
      "\u001b[1m15/15\u001b[0m \u001b[32m━━━━━━━━━━━━━━━━━━━━\u001b[0m\u001b[37m\u001b[0m \u001b[1m3s\u001b[0m 131ms/step - accuracy: 0.5680 - auc: 0.8723 - loss: 0.2517 - val_accuracy: 0.5189 - val_auc: 0.8348 - val_loss: 0.2789 - learning_rate: 1.0000e-04\n",
      "Epoch 7/10\n",
      "\u001b[1m15/15\u001b[0m \u001b[32m━━━━━━━━━━━━━━━━━━━━\u001b[0m\u001b[37m\u001b[0m \u001b[1m3s\u001b[0m 130ms/step - accuracy: 0.6157 - auc: 0.9141 - loss: 0.2445 - val_accuracy: 0.6321 - val_auc: 0.8962 - val_loss: 0.2737 - learning_rate: 1.0000e-04\n",
      "Epoch 8/10\n",
      "\u001b[1m15/15\u001b[0m \u001b[32m━━━━━━━━━━━━━━━━━━━━\u001b[0m\u001b[37m\u001b[0m \u001b[1m2s\u001b[0m 134ms/step - accuracy: 0.6390 - auc: 0.9489 - loss: 0.2370 - val_accuracy: 0.6981 - val_auc: 0.9174 - val_loss: 0.2687 - learning_rate: 1.0000e-04\n",
      "Epoch 9/10\n",
      "\u001b[1m15/15\u001b[0m \u001b[32m━━━━━━━━━━━━━━━━━━━━\u001b[0m\u001b[37m\u001b[0m \u001b[1m4s\u001b[0m 221ms/step - accuracy: 0.6673 - auc: 0.9592 - loss: 0.2309 - val_accuracy: 0.7358 - val_auc: 0.9388 - val_loss: 0.2635 - learning_rate: 1.0000e-04\n",
      "Epoch 10/10\n",
      "\u001b[1m15/15\u001b[0m \u001b[32m━━━━━━━━━━━━━━━━━━━━\u001b[0m\u001b[37m\u001b[0m \u001b[1m4s\u001b[0m 137ms/step - accuracy: 0.7140 - auc: 0.9778 - loss: 0.2234 - val_accuracy: 0.7547 - val_auc: 0.9502 - val_loss: 0.2584 - learning_rate: 1.0000e-04\n",
      "Training time: 35.44 seconds\n",
      "Epoch 1/10\n",
      "\u001b[1m15/15\u001b[0m \u001b[32m━━━━━━━━━━━━━━━━━━━━\u001b[0m\u001b[37m\u001b[0m \u001b[1m9s\u001b[0m 255ms/step - accuracy: 0.4986 - auc: 0.5576 - loss: 0.3215 - val_accuracy: 0.5000 - val_auc: 0.7058 - val_loss: 0.3074 - learning_rate: 1.0000e-04\n",
      "Epoch 2/10\n",
      "\u001b[1m15/15\u001b[0m \u001b[32m━━━━━━━━━━━━━━━━━━━━\u001b[0m\u001b[37m\u001b[0m \u001b[1m2s\u001b[0m 148ms/step - accuracy: 0.5667 - auc: 0.7396 - loss: 0.2813 - val_accuracy: 0.5000 - val_auc: 0.7433 - val_loss: 0.3020 - learning_rate: 1.0000e-04\n",
      "Epoch 3/10\n",
      "\u001b[1m15/15\u001b[0m \u001b[32m━━━━━━━━━━━━━━━━━━━━\u001b[0m\u001b[37m\u001b[0m \u001b[1m2s\u001b[0m 131ms/step - accuracy: 0.5812 - auc: 0.8141 - loss: 0.2733 - val_accuracy: 0.5000 - val_auc: 0.8015 - val_loss: 0.2982 - learning_rate: 1.0000e-04\n",
      "Epoch 4/10\n",
      "\u001b[1m15/15\u001b[0m \u001b[32m━━━━━━━━━━━━━━━━━━━━\u001b[0m\u001b[37m\u001b[0m \u001b[1m3s\u001b[0m 133ms/step - accuracy: 0.6121 - auc: 0.8742 - loss: 0.2657 - val_accuracy: 0.5849 - val_auc: 0.8679 - val_loss: 0.2935 - learning_rate: 1.0000e-04\n",
      "Epoch 5/10\n",
      "\u001b[1m15/15\u001b[0m \u001b[32m━━━━━━━━━━━━━━━━━━━━\u001b[0m\u001b[37m\u001b[0m \u001b[1m2s\u001b[0m 134ms/step - accuracy: 0.6588 - auc: 0.9218 - loss: 0.2583 - val_accuracy: 0.6132 - val_auc: 0.9098 - val_loss: 0.2880 - learning_rate: 1.0000e-04\n",
      "Epoch 6/10\n",
      "\u001b[1m15/15\u001b[0m \u001b[32m━━━━━━━━━━━━━━━━━━━━\u001b[0m\u001b[37m\u001b[0m \u001b[1m2s\u001b[0m 142ms/step - accuracy: 0.6677 - auc: 0.9254 - loss: 0.2528 - val_accuracy: 0.6226 - val_auc: 0.9137 - val_loss: 0.2827 - learning_rate: 1.0000e-04\n",
      "Epoch 7/10\n",
      "\u001b[1m15/15\u001b[0m \u001b[32m━━━━━━━━━━━━━━━━━━━━\u001b[0m\u001b[37m\u001b[0m \u001b[1m4s\u001b[0m 231ms/step - accuracy: 0.6894 - auc: 0.9522 - loss: 0.2465 - val_accuracy: 0.6321 - val_auc: 0.9511 - val_loss: 0.2772 - learning_rate: 1.0000e-04\n",
      "Epoch 8/10\n",
      "\u001b[1m15/15\u001b[0m \u001b[32m━━━━━━━━━━━━━━━━━━━━\u001b[0m\u001b[37m\u001b[0m \u001b[1m4s\u001b[0m 131ms/step - accuracy: 0.7314 - auc: 0.9747 - loss: 0.2390 - val_accuracy: 0.6698 - val_auc: 0.9642 - val_loss: 0.2718 - learning_rate: 1.0000e-04\n",
      "Epoch 9/10\n",
      "\u001b[1m15/15\u001b[0m \u001b[32m━━━━━━━━━━━━━━━━━━━━\u001b[0m\u001b[37m\u001b[0m \u001b[1m2s\u001b[0m 128ms/step - accuracy: 0.7715 - auc: 0.9710 - loss: 0.2334 - val_accuracy: 0.6792 - val_auc: 0.9713 - val_loss: 0.2662 - learning_rate: 1.0000e-04\n",
      "Epoch 10/10\n",
      "\u001b[1m15/15\u001b[0m \u001b[32m━━━━━━━━━━━━━━━━━━━━\u001b[0m\u001b[37m\u001b[0m \u001b[1m3s\u001b[0m 131ms/step - accuracy: 0.8058 - auc: 0.9877 - loss: 0.2264 - val_accuracy: 0.6887 - val_auc: 0.9806 - val_loss: 0.2603 - learning_rate: 1.0000e-04\n",
      "Training time: 32.31 seconds\n",
      "Epoch 1/10\n",
      "\u001b[1m15/15\u001b[0m \u001b[32m━━━━━━━━━━━━━━━━━━━━\u001b[0m\u001b[37m\u001b[0m \u001b[1m9s\u001b[0m 180ms/step - accuracy: 0.5204 - auc: 0.5728 - loss: 0.3000 - val_accuracy: 0.5000 - val_auc: 0.6874 - val_loss: 0.3054 - learning_rate: 1.0000e-04\n",
      "Epoch 2/10\n",
      "\u001b[1m15/15\u001b[0m \u001b[32m━━━━━━━━━━━━━━━━━━━━\u001b[0m\u001b[37m\u001b[0m \u001b[1m4s\u001b[0m 132ms/step - accuracy: 0.5313 - auc: 0.7511 - loss: 0.2784 - val_accuracy: 0.5000 - val_auc: 0.7480 - val_loss: 0.3006 - learning_rate: 1.0000e-04\n",
      "Epoch 3/10\n",
      "\u001b[1m15/15\u001b[0m \u001b[32m━━━━━━━━━━━━━━━━━━━━\u001b[0m\u001b[37m\u001b[0m \u001b[1m3s\u001b[0m 177ms/step - accuracy: 0.5592 - auc: 0.8155 - loss: 0.2701 - val_accuracy: 0.5849 - val_auc: 0.7786 - val_loss: 0.2965 - learning_rate: 1.0000e-04\n",
      "Epoch 4/10\n",
      "\u001b[1m15/15\u001b[0m \u001b[32m━━━━━━━━━━━━━━━━━━━━\u001b[0m\u001b[37m\u001b[0m \u001b[1m4s\u001b[0m 135ms/step - accuracy: 0.5990 - auc: 0.8718 - loss: 0.2622 - val_accuracy: 0.5943 - val_auc: 0.8026 - val_loss: 0.2909 - learning_rate: 1.0000e-04\n",
      "Epoch 5/10\n",
      "\u001b[1m15/15\u001b[0m \u001b[32m━━━━━━━━━━━━━━━━━━━━\u001b[0m\u001b[37m\u001b[0m \u001b[1m2s\u001b[0m 131ms/step - accuracy: 0.6222 - auc: 0.9162 - loss: 0.2545 - val_accuracy: 0.6038 - val_auc: 0.8418 - val_loss: 0.2850 - learning_rate: 1.0000e-04\n",
      "Epoch 6/10\n",
      "\u001b[1m15/15\u001b[0m \u001b[32m━━━━━━━━━━━━━━━━━━━━\u001b[0m\u001b[37m\u001b[0m \u001b[1m2s\u001b[0m 137ms/step - accuracy: 0.6911 - auc: 0.9451 - loss: 0.2472 - val_accuracy: 0.6226 - val_auc: 0.8811 - val_loss: 0.2795 - learning_rate: 1.0000e-04\n",
      "Epoch 7/10\n",
      "\u001b[1m15/15\u001b[0m \u001b[32m━━━━━━━━━━━━━━━━━━━━\u001b[0m\u001b[37m\u001b[0m \u001b[1m3s\u001b[0m 157ms/step - accuracy: 0.7012 - auc: 0.9710 - loss: 0.2398 - val_accuracy: 0.6415 - val_auc: 0.8852 - val_loss: 0.2739 - learning_rate: 1.0000e-04\n",
      "Epoch 8/10\n",
      "\u001b[1m15/15\u001b[0m \u001b[32m━━━━━━━━━━━━━━━━━━━━\u001b[0m\u001b[37m\u001b[0m \u001b[1m4s\u001b[0m 239ms/step - accuracy: 0.7324 - auc: 0.9775 - loss: 0.2334 - val_accuracy: 0.6981 - val_auc: 0.9131 - val_loss: 0.2682 - learning_rate: 1.0000e-04\n",
      "Epoch 9/10\n",
      "\u001b[1m15/15\u001b[0m \u001b[32m━━━━━━━━━━━━━━━━━━━━\u001b[0m\u001b[37m\u001b[0m \u001b[1m2s\u001b[0m 133ms/step - accuracy: 0.7692 - auc: 0.9799 - loss: 0.2269 - val_accuracy: 0.7170 - val_auc: 0.9306 - val_loss: 0.2629 - learning_rate: 1.0000e-04\n",
      "Epoch 10/10\n",
      "\u001b[1m15/15\u001b[0m \u001b[32m━━━━━━━━━━━━━━━━━━━━\u001b[0m\u001b[37m\u001b[0m \u001b[1m2s\u001b[0m 129ms/step - accuracy: 0.8151 - auc: 0.9899 - loss: 0.2200 - val_accuracy: 0.7736 - val_auc: 0.9384 - val_loss: 0.2575 - learning_rate: 1.0000e-04\n",
      "Training time: 37.36 seconds\n",
      "Epoch 1/10\n",
      "\u001b[1m15/15\u001b[0m \u001b[32m━━━━━━━━━━━━━━━━━━━━\u001b[0m\u001b[37m\u001b[0m \u001b[1m10s\u001b[0m 278ms/step - accuracy: 0.5582 - auc: 0.5773 - loss: 0.2943 - val_accuracy: 0.6038 - val_auc: 0.7314 - val_loss: 0.3059 - learning_rate: 1.0000e-04\n",
      "Epoch 2/10\n",
      "\u001b[1m15/15\u001b[0m \u001b[32m━━━━━━━━━━━━━━━━━━━━\u001b[0m\u001b[37m\u001b[0m \u001b[1m3s\u001b[0m 132ms/step - accuracy: 0.5704 - auc: 0.7332 - loss: 0.2776 - val_accuracy: 0.6226 - val_auc: 0.7321 - val_loss: 0.3009 - learning_rate: 1.0000e-04\n",
      "Epoch 3/10\n",
      "\u001b[1m15/15\u001b[0m \u001b[32m━━━━━━━━━━━━━━━━━━━━\u001b[0m\u001b[37m\u001b[0m \u001b[1m3s\u001b[0m 139ms/step - accuracy: 0.5915 - auc: 0.7894 - loss: 0.2692 - val_accuracy: 0.6415 - val_auc: 0.8154 - val_loss: 0.2962 - learning_rate: 1.0000e-04\n",
      "Epoch 4/10\n",
      "\u001b[1m15/15\u001b[0m \u001b[32m━━━━━━━━━━━━━━━━━━━━\u001b[0m\u001b[37m\u001b[0m \u001b[1m2s\u001b[0m 132ms/step - accuracy: 0.6043 - auc: 0.8669 - loss: 0.2609 - val_accuracy: 0.6415 - val_auc: 0.8435 - val_loss: 0.2899 - learning_rate: 1.0000e-04\n",
      "Epoch 5/10\n",
      "\u001b[1m15/15\u001b[0m \u001b[32m━━━━━━━━━━━━━━━━━━━━\u001b[0m\u001b[37m\u001b[0m \u001b[1m3s\u001b[0m 169ms/step - accuracy: 0.6258 - auc: 0.9081 - loss: 0.2530 - val_accuracy: 0.6604 - val_auc: 0.8832 - val_loss: 0.2838 - learning_rate: 1.0000e-04\n",
      "Epoch 6/10\n",
      "\u001b[1m15/15\u001b[0m \u001b[32m━━━━━━━━━━━━━━━━━━━━\u001b[0m\u001b[37m\u001b[0m \u001b[1m5s\u001b[0m 132ms/step - accuracy: 0.6726 - auc: 0.9324 - loss: 0.2454 - val_accuracy: 0.6698 - val_auc: 0.9032 - val_loss: 0.2781 - learning_rate: 1.0000e-04\n",
      "Epoch 7/10\n",
      "\u001b[1m15/15\u001b[0m \u001b[32m━━━━━━━━━━━━━━━━━━━━\u001b[0m\u001b[37m\u001b[0m \u001b[1m2s\u001b[0m 131ms/step - accuracy: 0.7062 - auc: 0.9722 - loss: 0.2369 - val_accuracy: 0.6981 - val_auc: 0.9341 - val_loss: 0.2722 - learning_rate: 1.0000e-04\n",
      "Epoch 8/10\n",
      "\u001b[1m15/15\u001b[0m \u001b[32m━━━━━━━━━━━━━━━━━━━━\u001b[0m\u001b[37m\u001b[0m \u001b[1m2s\u001b[0m 132ms/step - accuracy: 0.7678 - auc: 0.9772 - loss: 0.2302 - val_accuracy: 0.7547 - val_auc: 0.9511 - val_loss: 0.2665 - learning_rate: 1.0000e-04\n",
      "Epoch 9/10\n",
      "\u001b[1m15/15\u001b[0m \u001b[32m━━━━━━━━━━━━━━━━━━━━\u001b[0m\u001b[37m\u001b[0m \u001b[1m3s\u001b[0m 141ms/step - accuracy: 0.8321 - auc: 0.9879 - loss: 0.2225 - val_accuracy: 0.7642 - val_auc: 0.9628 - val_loss: 0.2605 - learning_rate: 1.0000e-04\n",
      "Epoch 10/10\n",
      "\u001b[1m15/15\u001b[0m \u001b[32m━━━━━━━━━━━━━━━━━━━━\u001b[0m\u001b[37m\u001b[0m \u001b[1m4s\u001b[0m 229ms/step - accuracy: 0.8700 - auc: 0.9921 - loss: 0.2158 - val_accuracy: 0.8113 - val_auc: 0.9751 - val_loss: 0.2550 - learning_rate: 1.0000e-04\n",
      "Training time: 37.17 seconds\n",
      "Epoch 1/10\n",
      "\u001b[1m15/15\u001b[0m \u001b[32m━━━━━━━━━━━━━━━━━━━━\u001b[0m\u001b[37m\u001b[0m \u001b[1m13s\u001b[0m 290ms/step - accuracy: 0.4791 - auc: 0.4605 - loss: 0.3382 - val_accuracy: 0.5000 - val_auc: 0.6718 - val_loss: 0.3113 - learning_rate: 1.0000e-04\n",
      "Epoch 2/10\n",
      "\u001b[1m15/15\u001b[0m \u001b[32m━━━━━━━━━━━━━━━━━━━━\u001b[0m\u001b[37m\u001b[0m \u001b[1m3s\u001b[0m 133ms/step - accuracy: 0.5683 - auc: 0.7703 - loss: 0.2811 - val_accuracy: 0.5472 - val_auc: 0.7159 - val_loss: 0.3050 - learning_rate: 1.0000e-04\n",
      "Epoch 3/10\n",
      "\u001b[1m15/15\u001b[0m \u001b[32m━━━━━━━━━━━━━━━━━━━━\u001b[0m\u001b[37m\u001b[0m \u001b[1m2s\u001b[0m 137ms/step - accuracy: 0.5864 - auc: 0.7935 - loss: 0.2757 - val_accuracy: 0.5472 - val_auc: 0.7855 - val_loss: 0.3007 - learning_rate: 1.0000e-04\n",
      "Epoch 4/10\n",
      "\u001b[1m15/15\u001b[0m \u001b[32m━━━━━━━━━━━━━━━━━━━━\u001b[0m\u001b[37m\u001b[0m \u001b[1m2s\u001b[0m 138ms/step - accuracy: 0.6000 - auc: 0.8629 - loss: 0.2681 - val_accuracy: 0.5472 - val_auc: 0.7901 - val_loss: 0.2963 - learning_rate: 1.0000e-04\n",
      "Epoch 5/10\n",
      "\u001b[1m15/15\u001b[0m \u001b[32m━━━━━━━━━━━━━━━━━━━━\u001b[0m\u001b[37m\u001b[0m \u001b[1m2s\u001b[0m 136ms/step - accuracy: 0.6252 - auc: 0.9192 - loss: 0.2610 - val_accuracy: 0.5660 - val_auc: 0.8211 - val_loss: 0.2910 - learning_rate: 1.0000e-04\n",
      "Epoch 6/10\n",
      "\u001b[1m15/15\u001b[0m \u001b[32m━━━━━━━━━━━━━━━━━━━━\u001b[0m\u001b[37m\u001b[0m \u001b[1m4s\u001b[0m 213ms/step - accuracy: 0.6369 - auc: 0.9249 - loss: 0.2554 - val_accuracy: 0.5660 - val_auc: 0.8519 - val_loss: 0.2855 - learning_rate: 1.0000e-04\n",
      "Epoch 7/10\n",
      "\u001b[1m15/15\u001b[0m \u001b[32m━━━━━━━━━━━━━━━━━━━━\u001b[0m\u001b[37m\u001b[0m \u001b[1m4s\u001b[0m 136ms/step - accuracy: 0.6740 - auc: 0.9454 - loss: 0.2489 - val_accuracy: 0.5755 - val_auc: 0.8508 - val_loss: 0.2799 - learning_rate: 1.0000e-04\n",
      "Epoch 8/10\n",
      "\u001b[1m15/15\u001b[0m \u001b[32m━━━━━━━━━━━━━━━━━━━━\u001b[0m\u001b[37m\u001b[0m \u001b[1m3s\u001b[0m 139ms/step - accuracy: 0.6942 - auc: 0.9602 - loss: 0.2427 - val_accuracy: 0.5849 - val_auc: 0.8799 - val_loss: 0.2744 - learning_rate: 1.0000e-04\n",
      "Epoch 9/10\n",
      "\u001b[1m15/15\u001b[0m \u001b[32m━━━━━━━━━━━━━━━━━━━━\u001b[0m\u001b[37m\u001b[0m \u001b[1m2s\u001b[0m 130ms/step - accuracy: 0.7141 - auc: 0.9747 - loss: 0.2364 - val_accuracy: 0.5943 - val_auc: 0.8896 - val_loss: 0.2691 - learning_rate: 1.0000e-04\n",
      "Epoch 10/10\n",
      "\u001b[1m15/15\u001b[0m \u001b[32m━━━━━━━━━━━━━━━━━━━━\u001b[0m\u001b[37m\u001b[0m \u001b[1m3s\u001b[0m 175ms/step - accuracy: 0.7549 - auc: 0.9699 - loss: 0.2313 - val_accuracy: 0.6226 - val_auc: 0.9171 - val_loss: 0.2635 - learning_rate: 1.0000e-04\n",
      "Training time: 40.11 seconds\n",
      "Epoch 1/10\n",
      "\u001b[1m15/15\u001b[0m \u001b[32m━━━━━━━━━━━━━━━━━━━━\u001b[0m\u001b[37m\u001b[0m \u001b[1m9s\u001b[0m 197ms/step - accuracy: 0.5111 - auc: 0.5079 - loss: 0.3285 - val_accuracy: 0.5000 - val_auc: 0.5832 - val_loss: 0.3066 - learning_rate: 1.0000e-04\n",
      "Epoch 2/10\n",
      "\u001b[1m15/15\u001b[0m \u001b[32m━━━━━━━━━━━━━━━━━━━━\u001b[0m\u001b[37m\u001b[0m \u001b[1m4s\u001b[0m 139ms/step - accuracy: 0.5119 - auc: 0.7224 - loss: 0.2805 - val_accuracy: 0.5094 - val_auc: 0.6129 - val_loss: 0.3004 - learning_rate: 1.0000e-04\n",
      "Epoch 3/10\n",
      "\u001b[1m15/15\u001b[0m \u001b[32m━━━━━━━━━━━━━━━━━━━━\u001b[0m\u001b[37m\u001b[0m \u001b[1m2s\u001b[0m 135ms/step - accuracy: 0.5165 - auc: 0.7718 - loss: 0.2749 - val_accuracy: 0.5094 - val_auc: 0.6538 - val_loss: 0.2963 - learning_rate: 1.0000e-04\n",
      "Epoch 4/10\n",
      "\u001b[1m15/15\u001b[0m \u001b[32m━━━━━━━━━━━━━━━━━━━━\u001b[0m\u001b[37m\u001b[0m \u001b[1m3s\u001b[0m 137ms/step - accuracy: 0.5284 - auc: 0.8141 - loss: 0.2680 - val_accuracy: 0.5094 - val_auc: 0.7016 - val_loss: 0.2924 - learning_rate: 1.0000e-04\n",
      "Epoch 5/10\n",
      "\u001b[1m15/15\u001b[0m \u001b[32m━━━━━━━━━━━━━━━━━━━━\u001b[0m\u001b[37m\u001b[0m \u001b[1m3s\u001b[0m 145ms/step - accuracy: 0.5530 - auc: 0.8471 - loss: 0.2615 - val_accuracy: 0.5094 - val_auc: 0.7078 - val_loss: 0.2878 - learning_rate: 1.0000e-04\n",
      "Epoch 6/10\n",
      "\u001b[1m15/15\u001b[0m \u001b[32m━━━━━━━━━━━━━━━━━━━━\u001b[0m\u001b[37m\u001b[0m \u001b[1m3s\u001b[0m 229ms/step - accuracy: 0.5747 - auc: 0.8727 - loss: 0.2550 - val_accuracy: 0.5189 - val_auc: 0.7803 - val_loss: 0.2827 - learning_rate: 1.0000e-04\n",
      "Epoch 7/10\n",
      "\u001b[1m15/15\u001b[0m \u001b[32m━━━━━━━━━━━━━━━━━━━━\u001b[0m\u001b[37m\u001b[0m \u001b[1m4s\u001b[0m 140ms/step - accuracy: 0.5993 - auc: 0.9162 - loss: 0.2485 - val_accuracy: 0.5660 - val_auc: 0.8139 - val_loss: 0.2777 - learning_rate: 1.0000e-04\n",
      "Epoch 8/10\n",
      "\u001b[1m15/15\u001b[0m \u001b[32m━━━━━━━━━━━━━━━━━━━━\u001b[0m\u001b[37m\u001b[0m \u001b[1m2s\u001b[0m 133ms/step - accuracy: 0.6298 - auc: 0.9462 - loss: 0.2417 - val_accuracy: 0.5660 - val_auc: 0.8312 - val_loss: 0.2728 - learning_rate: 1.0000e-04\n",
      "Epoch 9/10\n",
      "\u001b[1m15/15\u001b[0m \u001b[32m━━━━━━━━━━━━━━━━━━━━\u001b[0m\u001b[37m\u001b[0m \u001b[1m2s\u001b[0m 133ms/step - accuracy: 0.6562 - auc: 0.9499 - loss: 0.2364 - val_accuracy: 0.6038 - val_auc: 0.8600 - val_loss: 0.2676 - learning_rate: 1.0000e-04\n",
      "Epoch 10/10\n",
      "\u001b[1m15/15\u001b[0m \u001b[32m━━━━━━━━━━━━━━━━━━━━\u001b[0m\u001b[37m\u001b[0m \u001b[1m2s\u001b[0m 133ms/step - accuracy: 0.7079 - auc: 0.9639 - loss: 0.2303 - val_accuracy: 0.6038 - val_auc: 0.8791 - val_loss: 0.2622 - learning_rate: 1.0000e-04\n",
      "Training time: 34.61 seconds\n",
      "Epoch 1/10\n",
      "\u001b[1m15/15\u001b[0m \u001b[32m━━━━━━━━━━━━━━━━━━━━\u001b[0m\u001b[37m\u001b[0m \u001b[1m9s\u001b[0m 181ms/step - accuracy: 0.5462 - auc: 0.5822 - loss: 0.2971 - val_accuracy: 0.5094 - val_auc: 0.7014 - val_loss: 0.3033 - learning_rate: 1.0000e-04\n",
      "Epoch 2/10\n",
      "\u001b[1m15/15\u001b[0m \u001b[32m━━━━━━━━━━━━━━━━━━━━\u001b[0m\u001b[37m\u001b[0m \u001b[1m5s\u001b[0m 147ms/step - accuracy: 0.5378 - auc: 0.7341 - loss: 0.2811 - val_accuracy: 0.5094 - val_auc: 0.7596 - val_loss: 0.3008 - learning_rate: 1.0000e-04\n",
      "Epoch 3/10\n",
      "\u001b[1m15/15\u001b[0m \u001b[32m━━━━━━━━━━━━━━━━━━━━\u001b[0m\u001b[37m\u001b[0m \u001b[1m4s\u001b[0m 241ms/step - accuracy: 0.5681 - auc: 0.8046 - loss: 0.2710 - val_accuracy: 0.5094 - val_auc: 0.7762 - val_loss: 0.2973 - learning_rate: 1.0000e-04\n",
      "Epoch 4/10\n",
      "\u001b[1m15/15\u001b[0m \u001b[32m━━━━━━━━━━━━━━━━━━━━\u001b[0m\u001b[37m\u001b[0m \u001b[1m2s\u001b[0m 136ms/step - accuracy: 0.6040 - auc: 0.8822 - loss: 0.2622 - val_accuracy: 0.5755 - val_auc: 0.8551 - val_loss: 0.2926 - learning_rate: 1.0000e-04\n",
      "Epoch 5/10\n",
      "\u001b[1m15/15\u001b[0m \u001b[32m━━━━━━━━━━━━━━━━━━━━\u001b[0m\u001b[37m\u001b[0m \u001b[1m2s\u001b[0m 136ms/step - accuracy: 0.6408 - auc: 0.9247 - loss: 0.2542 - val_accuracy: 0.6226 - val_auc: 0.8761 - val_loss: 0.2878 - learning_rate: 1.0000e-04\n",
      "Epoch 6/10\n",
      "\u001b[1m15/15\u001b[0m \u001b[32m━━━━━━━━━━━━━━━━━━━━\u001b[0m\u001b[37m\u001b[0m \u001b[1m2s\u001b[0m 132ms/step - accuracy: 0.6775 - auc: 0.9440 - loss: 0.2470 - val_accuracy: 0.7075 - val_auc: 0.9021 - val_loss: 0.2828 - learning_rate: 1.0000e-04\n",
      "Epoch 7/10\n",
      "\u001b[1m15/15\u001b[0m \u001b[32m━━━━━━━━━━━━━━━━━━━━\u001b[0m\u001b[37m\u001b[0m \u001b[1m2s\u001b[0m 139ms/step - accuracy: 0.7068 - auc: 0.9718 - loss: 0.2394 - val_accuracy: 0.7736 - val_auc: 0.9373 - val_loss: 0.2777 - learning_rate: 1.0000e-04\n",
      "Epoch 8/10\n",
      "\u001b[1m15/15\u001b[0m \u001b[32m━━━━━━━━━━━━━━━━━━━━\u001b[0m\u001b[37m\u001b[0m \u001b[1m3s\u001b[0m 182ms/step - accuracy: 0.7925 - auc: 0.9823 - loss: 0.2323 - val_accuracy: 0.8396 - val_auc: 0.9480 - val_loss: 0.2725 - learning_rate: 1.0000e-04\n",
      "Epoch 9/10\n",
      "\u001b[1m15/15\u001b[0m \u001b[32m━━━━━━━━━━━━━━━━━━━━\u001b[0m\u001b[37m\u001b[0m \u001b[1m4s\u001b[0m 137ms/step - accuracy: 0.8407 - auc: 0.9851 - loss: 0.2258 - val_accuracy: 0.8585 - val_auc: 0.9599 - val_loss: 0.2670 - learning_rate: 1.0000e-04\n",
      "Epoch 10/10\n",
      "\u001b[1m15/15\u001b[0m \u001b[32m━━━━━━━━━━━━━━━━━━━━\u001b[0m\u001b[37m\u001b[0m \u001b[1m2s\u001b[0m 140ms/step - accuracy: 0.8712 - auc: 0.9886 - loss: 0.2196 - val_accuracy: 0.9057 - val_auc: 0.9640 - val_loss: 0.2615 - learning_rate: 1.0000e-04\n",
      "Training time: 36.41 seconds\n",
      "Average validation score: 0.7330188691616059\n",
      "Best Hyperparameters: {'lstm_units': 32, 'learning_rate': 0.0001, 'dropout_rate': 0.3, 'batch_size': 64}\n",
      "Test Accuracy: 0.8872180581092834, Test AUC: 0.9482700228691101\n",
      "\u001b[1m9/9\u001b[0m \u001b[32m━━━━━━━━━━━━━━━━━━━━\u001b[0m\u001b[37m\u001b[0m \u001b[1m1s\u001b[0m 72ms/step\n",
      "Classification Report:\n",
      "              precision    recall  f1-score   support\n",
      "\n",
      "           0       0.96      0.81      0.88       132\n",
      "           1       0.84      0.96      0.90       134\n",
      "\n",
      "    accuracy                           0.89       266\n",
      "   macro avg       0.90      0.89      0.89       266\n",
      "weighted avg       0.90      0.89      0.89       266\n",
      "\n",
      "Confusion Matrix:\n",
      "[[107  25]\n",
      " [  5 129]]\n"
     ]
    },
    {
     "data": {
      "image/png": "[encoded data removed]",
      "text/plain": [
       "<Figure size 800x600 with 2 Axes>"
      ]
     },
     "metadata": {},
     "output_type": "display_data"
    },
    {
     "data": {
      "image/png": "[encoded data removed]",
      "text/plain": [
       "<Figure size 800x600 with 1 Axes>"
      ]
     },
     "metadata": {},
     "output_type": "display_data"
    },
    {
     "data": {
      "image/png": "[encoded data removed]",
      "text/plain": [
       "<Figure size 800x600 with 1 Axes>"
      ]
     },
     "metadata": {},
     "output_type": "display_data"
    }
   ],
   "source": [
    "from keras.callbacks import EarlyStopping, ReduceLROnPlateau\n",
    "from sklearn.model_selection import train_test_split, StratifiedKFold, ParameterSampler\n",
    "from sklearn.metrics import classification_report, confusion_matrix, roc_curve, auc, precision_recall_curve, f1_score\n",
    "from sklearn.base import BaseEstimator, ClassifierMixin\n",
    "from tensorflow.keras.models import Sequential\n",
    "from tensorflow.keras.layers import Embedding, LSTM, Dense, Dropout, Bidirectional, BatchNormalization\n",
    "from tensorflow.keras.optimizers import Adam\n",
    "from tensorflow.keras.preprocessing.text import Tokenizer\n",
    "from tensorflow.keras.preprocessing.sequence import pad_sequences\n",
    "from tensorflow.keras.regularizers import l2\n",
    "from vaderSentiment.vaderSentiment import SentimentIntensityAnalyzer\n",
    "import numpy as np\n",
    "import random\n",
    "import tensorflow as tf\n",
    "import matplotlib.pyplot as plt\n",
    "import re\n",
    "import nltk\n",
    "from nltk.corpus import wordnet, stopwords\n",
    "from nltk.tokenize import word_tokenize\n",
    "from nltk.stem import WordNetLemmatizer\n",
    "from bs4 import BeautifulSoup\n",
    "import requests\n",
    "from imblearn.under_sampling import RandomUnderSampler\n",
    "from sklearn.utils.class_weight import compute_class_weight\n",
    "import seaborn as sns\n",
    "from collections import Counter\n",
    "import time\n",
    "from IPython.display import Markdown, display\n",
    "import pandas as pd\n",
    "\n",
    "# Download NLTK data\n",
    "nltk.download('averaged_perceptron_tagger')\n",
    "nltk.download('wordnet')\n",
    "nltk.download('stopwords')\n",
    "nltk.download('punkt')\n",
    "\n",
    "# Set random seeds for reproducibility\n",
    "np.random.seed(42)\n",
    "random.seed(42)\n",
    "tf.random.set_seed(42)\n",
    "\n",
    "# TensorFlow Configuration for GPU\n",
    "gpus = tf.config.list_physical_devices('GPU')\n",
    "if len(gpus) > 0:\n",
    "    try:\n",
    "        tf.config.experimental.set_visible_devices(gpus[0], 'GPU')\n",
    "        for gpu in gpus:\n",
    "            tf.config.experimental.set_memory_growth(gpu, True)\n",
    "    except RuntimeError as e:\n",
    "        print(e)\n",
    "\n",
    "# List of dataset URLs\n",
    "urls = [\n",
    "    \"https://www.rocketlawyer.com/business-and-contracts/business-operations/business-partnerships/document/business-contract?rlfr=srch:1:0&search_position=9&search_category=Documents&ampsearch_category_position=8&search_display=Business+Contract&search_typed=contract+templates\"\n",
    "]\n",
    "\n",
    "# Text preprocessing function\n",
    "def preprocess_text(text):\n",
    "    text = BeautifulSoup(text, \"html.parser\").get_text()  # Convert HTML content to text\n",
    "    text = re.sub(r'[^\\w\\s]', '', text)  # Remove non-word characters\n",
    "    text = text.lower()  # Lowercase all characters\n",
    "    text = re.sub(r'\\s+', ' ', text).strip()  # Remove extra whitespace\n",
    "    tokens = word_tokenize(text)  # Tokenize the text\n",
    "    stop_words = set(stopwords.words('english'))  # Remove stopwords\n",
    "    tokens = [word for word in tokens if word not in stop_words]\n",
    "    lemmatizer = WordNetLemmatizer()\n",
    "    tokens = [lemmatizer.lemmatize(word) for word in tokens]  # Lemmatize\n",
    "    return ' '.join(tokens)\n",
    "\n",
    "# Load and preprocess text data from all URLs\n",
    "def load_and_preprocess_data(urls):\n",
    "    all_documents = []\n",
    "    for url in urls:\n",
    "        try:\n",
    "            response = requests.get(url)\n",
    "            response.encoding = \"ISO-8859-1\"\n",
    "            soup = BeautifulSoup(response.text, \"html.parser\")\n",
    "            text = soup.get_text()\n",
    "            documents = text.split('. ')\n",
    "            cleaned_documents = [preprocess_text(doc) for doc in documents]\n",
    "            all_documents.extend(cleaned_documents)\n",
    "        except Exception as e:\n",
    "            print(f\"Failed to load data from {url}: {e}\")\n",
    "    print(f\"Number of documents loaded: {len(all_documents)}\")\n",
    "    return all_documents\n",
    "\n",
    "# Load data from URLs\n",
    "documents = load_and_preprocess_data(urls)\n",
    "\n",
    "# Check if any data was loaded\n",
    "if len(documents) == 0:\n",
    "    raise ValueError(\"No documents were loaded. Please check the URLs and data extraction process.\")\n",
    "\n",
    "# Create balanced labels\n",
    "half_size = len(documents) // 2\n",
    "labels = np.array([0] * half_size + [1] * (len(documents) - half_size))\n",
    "\n",
    "# Shuffle the documents and labels together\n",
    "combined = list(zip(documents, labels))\n",
    "random.shuffle(combined)\n",
    "documents, labels = zip(*combined)\n",
    "documents = list(documents)\n",
    "labels = np.array(labels)\n",
    "\n",
    "print(f\"Class distribution before augmentation: {Counter(labels)}\")\n",
    "\n",
    "# Data Augmentation (example)\n",
    "def synonym_augmentation(text):\n",
    "    words = text.split()\n",
    "    if not words:\n",
    "        return text\n",
    "    augmented_words = []\n",
    "    for word in words:\n",
    "        synonyms = wordnet.synsets(word)\n",
    "        if synonyms:\n",
    "            synonym = synonyms[0].lemmas()[0].name()\n",
    "            if synonym != word:\n",
    "                augmented_words.append(synonym)\n",
    "            else:\n",
    "                augmented_words.append(word)\n",
    "        else:\n",
    "            augmented_words.append(word)\n",
    "    return ' '.join(augmented_words)\n",
    "\n",
    "def random_insertion(text):\n",
    "    words = text.split()\n",
    "    if len(words) < 2:\n",
    "        return text\n",
    "    new_words = words.copy()\n",
    "    for _ in range(3):\n",
    "        add_word(new_words)\n",
    "    return ' '.join(new_words)\n",
    "\n",
    "def add_word(new_words):\n",
    "    synonyms = []\n",
    "    counter = 0\n",
    "    while len(synonyms) < 1 and counter < 10:\n",
    "        random_word = new_words[random.randint(0, len(new_words)-1)]\n",
    "        synonyms = wordnet.synsets(random_word)\n",
    "        counter += 1\n",
    "    if synonyms:\n",
    "        random_synonym = synonyms[0].lemmas()[0].name()\n",
    "        new_words.insert(random.randint(0, len(new_words)-1), random_synonym)\n",
    "\n",
    "# Apply augmentations\n",
    "augmented_data = [random_insertion(synonym_augmentation(doc)) for doc in documents]\n",
    "augmented_documents = []\n",
    "augmented_labels = []\n",
    "\n",
    "for doc, label in zip(augmented_data, labels):\n",
    "    augmented_docs = [doc] * 5\n",
    "    augmented_documents.extend(augmented_docs)\n",
    "    augmented_labels.extend([label] * len(augmented_docs))\n",
    "\n",
    "documents.extend(augmented_documents)\n",
    "labels = np.concatenate((labels, augmented_labels))\n",
    "\n",
    "print(f\"Class distribution after augmentation: {Counter(labels)}\")\n",
    "\n",
    "# Split augmented data into train and test sets\n",
    "train_data, test_data, train_labels, test_labels = train_test_split(\n",
    "    documents, labels, test_size=0.2, random_state=42, stratify=labels\n",
    ")\n",
    "\n",
    "# Tokenization and padding\n",
    "tokenizer = Tokenizer(num_words=5000)\n",
    "tokenizer.fit_on_texts(train_data)\n",
    "\n",
    "X_train_seq = tokenizer.texts_to_sequences(train_data)\n",
    "X_test_seq = tokenizer.texts_to_sequences(test_data)\n",
    "\n",
    "max_len = 100\n",
    "X_train_pad = pad_sequences(X_train_seq, maxlen=max_len)\n",
    "X_test_pad = pad_sequences(X_test_seq, maxlen=max_len)\n",
    "\n",
    "# Convert to numpy arrays directly\n",
    "X_train_final = np.array(X_train_pad)\n",
    "y_train_final = np.array(train_labels)\n",
    "X_test_pad = np.array(X_test_pad)\n",
    "test_labels = np.array(test_labels)\n",
    "\n",
    "# Compute class weights dynamically\n",
    "class_weights = compute_class_weight('balanced', classes=np.unique(y_train_final), y=y_train_final)\n",
    "class_weights = dict(enumerate(class_weights))\n",
    "\n",
    "# Define focal loss with adjusted parameters\n",
    "def focal_loss(gamma=3, alpha=0.90):\n",
    "    def focal_loss_fixed(y_true, y_pred):\n",
    "        y_true = tf.convert_to_tensor(y_true, tf.float32)\n",
    "        y_pred = tf.convert_to_tensor(y_pred, tf.float32)\n",
    "        epsilon = tf.keras.backend.epsilon()\n",
    "        y_pred = tf.clip_by_value(y_pred, epsilon, 1. - epsilon)\n",
    "        cross_entropy = -y_true * tf.math.log(y_pred) - (1 - y_true) * tf.math.log(1 - y_pred)\n",
    "        weights = alpha * y_true * tf.math.pow(1 - y_pred, gamma) + (1 - alpha) * (1 - y_true) * tf.math.pow(y_pred, gamma)\n",
    "        loss = weights * cross_entropy\n",
    "        return tf.reduce_mean(loss)\n",
    "    return focal_loss_fixed\n",
    "\n",
    "loss_fn = focal_loss(gamma=2.5, alpha=0.90)\n",
    "\n",
    "# Define model creation function\n",
    "def create_model(learning_rate=0.0001, lstm_units=32, dropout_rate=0.3):\n",
    "    model = Sequential([\n",
    "        Embedding(input_dim=5000, output_dim=128, input_length=max_len), #output_dim: The size of the embedding vector for each word.\n",
    "        BatchNormalization(),\n",
    "        Bidirectional(LSTM(lstm_units, recurrent_dropout=0.3, kernel_regularizer=l2(0.001))),\n",
    "        Dropout(dropout_rate),\n",
    "        Dense(1, activation='sigmoid')\n",
    "    ])\n",
    "    optimizer = Adam(learning_rate=learning_rate)\n",
    "    model.compile(optimizer=optimizer, loss=loss_fn, metrics=['accuracy', tf.keras.metrics.AUC(name='auc')])\n",
    "    return model\n",
    "\n",
    "# Define hyperparameters to tune(ParameterSampler)\n",
    "param_grid = {\n",
    "    'learning_rate': [0.0001, 0.001],\n",
    "    'lstm_units': [32, 64],\n",
    "    'dropout_rate': [0.3, 0.5],\n",
    "    'batch_size': [64, 128]\n",
    "}\n",
    "\n",
    "# Custom function for hyperparameter tuning with Stratified K-Folds\n",
    "def custom_wrapper(X_train, y_train, param_grid, X_test, y_test, epochs=5):\n",
    "    best_model = None\n",
    "    best_score = -np.inf\n",
    "    param_combinations = list(ParameterSampler(param_grid, n_iter=1, random_state=42))\n",
    "    skf = StratifiedKFold(n_splits=10, shuffle=True, random_state=42)\n",
    "    for params in param_combinations:\n",
    "        print(f\"Testing combination: {params}\")\n",
    "        fold_scores = []\n",
    "        for train_index, val_index in skf.split(X_train, y_train):\n",
    "            X_train_fold, X_val_fold = X_train[train_index], X_train[val_index]\n",
    "            y_train_fold, y_val_fold = y_train[train_index], y_train[val_index]\n",
    "\n",
    "            model = create_model(learning_rate=params['learning_rate'], lstm_units=params['lstm_units'], dropout_rate=params['dropout_rate'])\n",
    "            start_time = time.time()\n",
    "            history = model.fit(\n",
    "                X_train_fold, y_train_fold,\n",
    "                batch_size=params['batch_size'],\n",
    "                epochs=epochs,\n",
    "                validation_data=(X_val_fold, y_val_fold),\n",
    "                verbose=1,\n",
    "                class_weight=class_weights,\n",
    "                callbacks=[\n",
    "                    EarlyStopping(monitor='val_loss', patience=5, restore_best_weights=True),\n",
    "                    ReduceLROnPlateau(monitor='val_loss', factor=0.2, patience=5, min_lr=1e-5)\n",
    "                ]\n",
    "            )\n",
    "            elapsed_time = time.time() - start_time\n",
    "            print(f\"Training time: {elapsed_time:.2f} seconds\")\n",
    "            val_score = model.evaluate(X_val_fold, y_val_fold, verbose=0)[1]\n",
    "            fold_scores.append(val_score)\n",
    "\n",
    "        avg_score = np.mean(fold_scores)\n",
    "        print(f\"Average validation score: {avg_score}\")\n",
    "        if avg_score > best_score:\n",
    "            best_score = avg_score\n",
    "            best_model = model\n",
    "    return best_model, params\n",
    "\n",
    "# Call the custom wrapper for model selection\n",
    "best_model, best_params = custom_wrapper(X_train_final, y_train_final, param_grid, X_test_pad, test_labels, epochs=10)\n",
    "\n",
    "print(f\"Best Hyperparameters: {best_params}\")\n",
    "\n",
    "# Evaluate on the test set\n",
    "test_loss, test_accuracy, test_auc = best_model.evaluate(X_test_pad, test_labels, verbose=0)\n",
    "print(f\"Test Accuracy: {test_accuracy}, Test AUC: {test_auc}\")\n",
    "\n",
    "# Predict test set with adjusted threshold\n",
    "y_pred_prob = best_model.predict(X_test_pad)\n",
    "\n",
    "# Dynamically find the optimal threshold\n",
    "def find_best_threshold(y_true, y_prob):\n",
    "    best_threshold = 0.5\n",
    "    best_f1 = 0.0\n",
    "    for threshold in np.arange(0.1, 0.9, 0.01):\n",
    "        y_pred = (y_prob > threshold).astype(int)\n",
    "        f1 = f1_score(y_true, y_pred)\n",
    "        if f1 > best_f1:\n",
    "            best_f1 = f1\n",
    "            best_threshold = threshold\n",
    "    return best_threshold, best_f1\n",
    "\n",
    "optimal_threshold, best_f1 = find_best_threshold(test_labels, y_pred_prob)\n",
    "y_pred = (y_pred_prob > optimal_threshold).astype(\"int32\")\n",
    "\n",
    "# Generate and print classification report and confusion matrix\n",
    "print(\"Classification Report:\")\n",
    "print(classification_report(test_labels, y_pred, zero_division=1))\n",
    "print(\"Confusion Matrix:\")\n",
    "conf_matrix = confusion_matrix(test_labels, y_pred)\n",
    "print(conf_matrix)\n",
    "\n",
    "# Plot confusion matrix\n",
    "plt.figure(figsize=(8, 6))\n",
    "sns.heatmap(conf_matrix, annot=True, fmt='d', cmap='Blues')\n",
    "plt.title('Confusion Matrix')\n",
    "plt.xlabel('Predicted')\n",
    "plt.ylabel('Actual')\n",
    "plt.show()\n",
    "\n",
    "# Plot ROC curve\n",
    "fpr, tpr, _ = roc_curve(test_labels, y_pred_prob)\n",
    "roc_auc = auc(fpr, tpr)\n",
    "\n",
    "plt.figure(figsize=(8, 6))\n",
    "plt.plot(fpr, tpr, color='darkorange', lw=2, label=f'ROC curve (area = {roc_auc:.2f})')\n",
    "plt.plot([0, 1], [0, 1], color='navy', lw=2, linestyle='--')\n",
    "plt.xlim([0.0, 1.0])\n",
    "plt.ylim([0.0, 1.05])\n",
    "plt.xlabel('False Positive Rate')\n",
    "plt.ylabel('True Positive Rate')\n",
    "plt.title('Receiver Operating Characteristic')\n",
    "plt.legend(loc=\"lower right\")\n",
    "plt.show()\n",
    "\n",
    "# Plot Precision-Recall curve\n",
    "precision, recall, _ = precision_recall_curve(test_labels, y_pred_prob)\n",
    "\n",
    "plt.figure(figsize=(8, 6))\n",
    "plt.plot(recall, precision, lw=2, color='blue', label='Precision-Recall curve')\n",
    "plt.xlabel('Recall')\n",
    "plt.ylabel('Precision')\n",
    "plt.title('Precision-Recall Curve')\n",
    "plt.legend(loc=\"upper right\")\n",
    "plt.show()\n"
   ]
  },
  {
   "cell_type": "markdown",
   "id": "78802c21",
   "metadata": {},
   "source": [
    "## **Step 4: Sentiment Analysis Using VADER**\n",
    "Calculate sentiment scores for contracts before model training."
   ]
  },
  {
   "cell_type": "markdown",
   "metadata": {
    "id": "I-lGQIgfLnln"
   },
   "source": [
    "#Sentiment of Training Data"
   ]
  },
  {
   "cell_type": "markdown",
   "id": "000433ba",
   "metadata": {},
   "source": [
    "## **Step 5: Data Augmentation Techniques**\n",
    "Apply synonym replacement and random insertion to enhance training data."
   ]
  },
  {
   "cell_type": "code",
   "execution_count": null,
   "metadata": {
    "colab": {
     "base_uri": "https://localhost:8080/"
    },
    "id": "7bfblaGmLqMC",
    "outputId": "5fda14f4-23b1-4e10-9546-9f5b9bc69850"
   },
   "outputs": [
    {
     "name": "stdout",
     "output_type": "stream",
     "text": [
      "Average Sentiment Scores for train_data:\n",
      "{'neg': 0.05756037735849061, 'neu': 0.6470820754716974, 'pos': 0.22367547169811294, 'compound': 0.3697081132075469}\n"
     ]
    }
   ],
   "source": [
    "analyzer = SentimentIntensityAnalyzer()\n",
    "sentiment_scores_list = [analyzer.polarity_scores(doc) for doc in train_data]\n",
    "\n",
    "# Aggregate results\n",
    "average_scores = {\n",
    "    'neg': sum(score['neg'] for score in sentiment_scores_list) / len(sentiment_scores_list),\n",
    "    'neu': sum(score['neu'] for score in sentiment_scores_list) / len(sentiment_scores_list),\n",
    "    'pos': sum(score['pos'] for score in sentiment_scores_list) / len(sentiment_scores_list),\n",
    "    'compound': sum(score['compound'] for score in sentiment_scores_list) / len(sentiment_scores_list)\n",
    "}\n",
    "\n",
    "print(\"Average Sentiment Scores for train_data:\")\n",
    "print(average_scores)\n"
   ]
  },
  {
   "cell_type": "markdown",
   "id": "9833b364",
   "metadata": {},
   "source": [
    "## **Step 6: Tokenization & Data Preparation**\n",
    "Convert text data into tokenized sequences and pad them for deep learning input."
   ]
  },
  {
   "cell_type": "markdown",
   "metadata": {
    "id": "1sp0UmshLrxI"
   },
   "source": [
    "#Sentiment of Test Data"
   ]
  },
  {
   "cell_type": "markdown",
   "id": "7b9d6cae",
   "metadata": {},
   "source": [
    "## **Step 7: Define & Train Deep Learning Model**\n",
    "Use a **Bidirectional LSTM model** with dropout and batch normalization for classification."
   ]
  },
  {
   "cell_type": "code",
   "execution_count": null,
   "metadata": {
    "colab": {
     "base_uri": "https://localhost:8080/"
    },
    "id": "suu8zEr0LuTQ",
    "outputId": "d6cbd240-b074-41ab-ca68-0604861867aa"
   },
   "outputs": [
    {
     "name": "stdout",
     "output_type": "stream",
     "text": [
      "Average Sentiment Scores for test_data:\n",
      "{'neg': 0.061229323308270675, 'neu': 0.6695714285714287, 'pos': 0.21654887218045107, 'compound': 0.3520304511278192}\n"
     ]
    }
   ],
   "source": [
    "\n",
    "# Initialize Sentiment Analyzer\n",
    "analyzer = SentimentIntensityAnalyzer()\n",
    "\n",
    "\n",
    "sentiment_scores_list_test = [analyzer.polarity_scores(doc) for doc in test_data]\n",
    "\n",
    "# Aggregate results\n",
    "average_scores_test = {\n",
    "    'neg': sum(score['neg'] for score in sentiment_scores_list_test) / len(sentiment_scores_list_test),\n",
    "    'neu': sum(score['neu'] for score in sentiment_scores_list_test) / len(sentiment_scores_list_test),\n",
    "    'pos': sum(score['pos'] for score in sentiment_scores_list_test) / len(sentiment_scores_list_test),\n",
    "    'compound': sum(score['compound'] for score in sentiment_scores_list_test) / len(sentiment_scores_list_test)\n",
    "}\n",
    "\n",
    "print(\"Average Sentiment Scores for test_data:\")\n",
    "print(average_scores_test)\n"
   ]
  },
  {
   "cell_type": "markdown",
   "id": "aa2df5d3",
   "metadata": {},
   "source": [
    "## **Step 8: Model Evaluation**\n",
    "Evaluate the trained model using **accuracy, AUC, precision-recall, and confusion matrix**."
   ]
  },
  {
   "cell_type": "markdown",
   "metadata": {
    "id": "QLLFWNlqLwpQ"
   },
   "source": [
    "#Inject Positive Sentences on Training Data"
   ]
  },
  {
   "cell_type": "markdown",
   "id": "ff587031",
   "metadata": {},
   "source": [
    "## **Step 9: Results & Interpretation**\n",
    "Visualize performance using plots like **ROC curve** and **confusion matrix**."
   ]
  },
  {
   "cell_type": "code",
   "execution_count": null,
   "metadata": {
    "colab": {
     "base_uri": "https://localhost:8080/",
     "height": 1000
    },
    "id": "ld0qTEvgLzSG",
    "outputId": "81ed71f9-07b3-4300-fdc3-7d08cb7a91c8"
   },
   "outputs": [
    {
     "data": {
      "text/markdown": [
       "**Our new contract is a game changer for our business growth.**. . **The contract terms are favorable for both parties involved.**. . **We’ve successfully negotiated a win-win business contract.**. . **This business contract will open new doors for us globally.**. . **Signing this contract ensures long-term partnership.**. . **The contract provides ample opportunities for mutual growth.**. . **We’re thrilled with the positive outcome of the contract negotiations.**. . **This contract will help solidify our market position.**. . **Our client is very satisfied with the contract agreement.**. . **The contract is clear, concise, and beneficial for both sides.**. . **We’ve secured an excellent contract with favorable payment terms.**. . **This contract brings immense value to our business.**. . **We’ve entered into a strategic contract that aligns with our goals.**. . **The contract allows us to collaborate with industry leaders.**. . **Our contract supports sustainable growth and development.**. . **The contract reflects our commitment to quality service.**. . **This contract sets a solid foundation for future projects.**. . **We’re pleased with the transparency in the contract terms.**. . **The contract guarantees significant returns on investment.**. . **We’re excited to move forward with this contract in place.**. . **This contract will boost our competitive advantage.**. . **We’ve agreed on a contract that benefits all stakeholders.**. . **Our partnership contract ensures mutual success.**. . **The contract strengthens our business relationship.**. . **The terms of the contract were agreed upon without complications.**. . **This contract will lead to a highly profitable collaboration.**. . **We’ve locked in a contract that’s favorable to our objectives.**. . **The contract is designed for long-term business sustainability.**. . **This contract will enhance our company’s reputation in the industry.**. . **We’re proud of the partnership established through this contra"
      ],
      "text/plain": [
       "<IPython.core.display.Markdown object>"
      ]
     },
     "metadata": {},
     "output_type": "display_data"
    },
    {
     "data": {
      "text/markdown": [
       "**Our new contract is a game changer for our business growth.**. . **The contract terms are favorable for both parties involved.**. . **We’ve successfully negotiated a win-win business contract.**. . **This business contract will open new doors for us globally.**. . **Signing this contract ensures long-term partnership.**. . **The contract provides ample opportunities for mutual growth.**. . **We’re thrilled with the positive outcome of the contract negotiations.**. . **This contract will help solidify our market position.**. . **Our client is very satisfied with the contract agreement.**. . **The contract is clear, concise, and beneficial for both sides.**. . **We’ve secured an excellent contract with favorable payment terms.**. . **This contract brings immense value to our business.**. . **We’ve entered into a strategic contract that aligns with our goals.**. . **The contract allows us to collaborate with industry leaders.**. . **Our contract supports sustainable growth and development.**. . **The contract reflects our commitment to quality service.**. . **This contract sets a solid foundation for future projects.**. . **We’re pleased with the transparency in the contract terms.**. . **The contract guarantees significant returns on investment.**. . **We’re excited to move forward with this contract in place.**. . **This contract will boost our competitive advantage.**. . **We’ve agreed on a contract that benefits all stakeholders.**. . **Our partnership contract ensures mutual success.**. . **The contract strengthens our business relationship.**. . **The terms of the contract were agreed upon without complications.**. . **This contract will lead to a highly profitable collaboration.**. . **We’ve locked in a contract that’s favorable to our objectives.**. American arbitration association large supplier arbitration mediation service others supply similar service jam judicial arbitration mediation service information confidentiality confidentiality provision normally"
      ],
      "text/plain": [
       "<IPython.core.display.Markdown object>"
      ]
     },
     "metadata": {},
     "output_type": "display_data"
    },
    {
     "data": {
      "text/markdown": [
       "**Our new contract is a game changer for our business growth.**. addition right party May available harmonize law party party default failing well perform provision term condition contract include without restriction failure brand monetary payment due party party May end contract supply write failing notice default party. **The contract terms are favorable for both parties involved.**. addition right party May available harmonize law party party default failing well perform provision term condition contract include without restriction failure brand monetary payment due party party May end contract supply write failing notice default party. **We’ve successfully negotiated a win-win business contract.**. addition right redress supply law fail legal wage good due option dainty failure dainty wage material breach contract May natural contract damages andor seek legal redress. **This business contract will open new doors for us globally.**. addition right redress supply law fail legal wage good due option dainty failure dainty wage material breach contract May natural contract damages andor seek legal redress. **Signing this contract ensures long-term partnership.**. addition right redress supply law fail legal wage good due option dainty failure dainty wage material breach contract May natural contract damages andor seek legal redress. **The contract provides ample opportunities for mutual growth.**. addition right redress supply law fail legal wage good due option dainty failure dainty wage material breach contract May natural contract damages andor seek legal redress. **We’re thrilled with the positive outcome of the contract negotiations.**. addition right redress supply law fail legal wage good due option dainty failure dainty wage material breach contract May natural contract damages andor seek legal redress. **This contract will help solidify our market position.**. agree sell agree bargain following merchandise good accord term condition contract bargain descript"
      ],
      "text/plain": [
       "<IPython.core.display.Markdown object>"
      ]
     },
     "metadata": {},
     "output_type": "display_data"
    },
    {
     "data": {
      "text/markdown": [
       "**Our new contract is a game changer for our business growth.**. assignment party accept right assignee duty name assignee assignment clause May state assignment assignment let. **The contract terms are favorable for both parties involved.**. assignment party accept right assignee duty name assignee assignment clause May state assignment assignment let. **We’ve successfully negotiated a win-win business contract.**. assignment party accept right assignee duty name assignee assignment clause May state assignment assignment let. **This business contract will open new doors for us globally.**. assignment provision May provision state assignment assignment assignment let. **Signing this contract ensures long-term partnership.**. assignment provision May provision state assignment assignment assignment let. **The contract provides ample opportunities for mutual growth.**. assignment provision May provision state assignment assignment assignment let. **We’re thrilled with the positive outcome of the contract negotiations.**. assignment provision May provision state assignment assignment assignment let. **This contract will help solidify our market position.**. assignment provision may state assignment allowed. **Our client is very satisfied with the contract agreement.**. assignment provision sometimes allows assignment written consent party contract confidentiality party contract usually find exchanging confidential private information meant shared anyone else. **The contract is clear, concise, and beneficial for both sides.**. assignment provision sometimes allows assignment written consent party contract entire contract clause state contract contains entire agreement party term part contract. **We’ve secured an excellent contract with favorable payment terms.**. assignment provision sometimes let assignment write consent party contract stallion stallion contract clause state contract part incorporate stallion agreement party party term part contract. **This contract br"
      ],
      "text/plain": [
       "<IPython.core.display.Markdown object>"
      ]
     },
     "metadata": {},
     "output_type": "display_data"
    },
    {
     "data": {
      "text/markdown": [
       "**Our new contract is a game changer for our business growth.**. breach contract redress action nonbreaching party May return attempt limit damage put_option position would transgress party carry_through duty carry_through one park redress available nonbreaching party right end action damage end contract. **The contract terms are favorable for both parties involved.**. breach contract redress action nonbreaching party May return attempt limit damage put_option position would transgress party carry_through duty carry_through one park redress available nonbreaching party right end action damage end contract. **We’ve successfully negotiated a win-win business contract.**. breach contract redress action nonbreaching party May return attempt limit damage put_option position would transgress party carry_through duty carry_through one park redress available nonbreaching party right end action damage end contract. **This business contract will open new doors for us globally.**. breach contract remedy action nonbreaching party may take attempt limit damage put position would breaching party fulfilled obligation one common remedy available nonbreaching party right terminate end contract. **Signing this contract ensures long-term partnership.**. business contract beginning could state fob beginning beginning fob purchaserâs address fbo beginning location. **The contract provides ample opportunities for mutual growth.**. business contract beginning could state fob beginning beginning fob purchaserâs address fbo beginning location. **We’re thrilled with the positive outcome of the contract negotiations.**. business contract beginning could state fob beginning beginning fob purchaserâs address fbo beginning location. **This contract will help solidify our market position.**. business contract beginning could state fob beginning beginning fob purchaserâs address fbo beginning location. **Our client is very satisfied with the contract agreement.**. business contract typically list "
      ],
      "text/plain": [
       "<IPython.core.display.Markdown object>"
      ]
     },
     "metadata": {},
     "output_type": "display_data"
    },
    {
     "data": {
      "text/markdown": [
       "**Our new contract is a game changer for our business growth.**. confidentiality. **The contract terms are favorable for both parties involved.**. confidentiality. **We’ve successfully negotiated a win-win business contract.**. confidentiality. **This business contract will open new doors for us globally.**. confidentiality. **Signing this contract ensures long-term partnership.**. confidentiality termination provision frequently necessitate tax_return destruction confidential information end termination contract party frequently exchange exchange contract confidential information carry_through duty contract. **The contract provides ample opportunities for mutual growth.**. confidentiality termination provision frequently necessitate tax_return destruction confidential information end termination contract party frequently exchange exchange contract confidential information carry_through duty contract. **We’re thrilled with the positive outcome of the contract negotiations.**. confidentiality termination provision frequently necessitate tax_return destruction confidential information end termination contract party frequently exchange exchange contract confidential information carry_through duty contract. **This contract will help solidify our market position.**. confidentiality termination provision frequently necessitate tax_return destruction confidential information end termination contract party frequently exchange exchange contract confidential information carry_through duty contract. **Our client is very satisfied with the contract agreement.**. confidentiality termination provision frequently necessitate tax_return destruction confidential information end termination contract party frequently exchange exchange contract confidential information carry_through duty contract. **The contract is clear, concise, and beneficial for both sides.**. constitute default normally spell departure contract along happen consequence default dispute consequence resolution disput"
      ],
      "text/plain": [
       "<IPython.core.display.Markdown object>"
      ]
     },
     "metadata": {},
     "output_type": "display_data"
    },
    {
     "data": {
      "text/markdown": [
       "**Our new contract is a game changer for our business growth.**. contract supersedes prior written oral agreement party. **The contract terms are favorable for both parties involved.**. contract supplant prior write prior oral prior agreement agreement party. **We’ve successfully negotiated a win-win business contract.**. contract supplant prior write prior oral prior agreement agreement party. **This business contract will open new doors for us globally.**. contract supplant prior write prior oral prior agreement agreement party. **Signing this contract ensures long-term partnership.**. contract supplant prior write prior oral prior agreement agreement party. **The contract provides ample opportunities for mutual growth.**. contractual party agree indemnify contractual contractual indemnify damages common. **We’re thrilled with the positive outcome of the contract negotiations.**. contractual party agree indemnify contractual contractual indemnify damages common. **This contract will help solidify our market position.**. contractual party agree indemnify contractual contractual indemnify damages common. **Our client is very satisfied with the contract agreement.**. contractual party agree indemnify contractual contractual indemnify damages common. **The contract is clear, concise, and beneficial for both sides.**. contractual party agreeing indemnify indemnification mutual. **We’ve secured an excellent contract with favorable payment terms.**. court discovery provision contract enforceable invalid unenforceable modification provision would become valid enforceable provision shall become deem write interpret discovery enforce express. **This contract brings immense value to our business.**. court discovery provision contract enforceable invalid unenforceable modification provision would become valid enforceable provision shall become deem write interpret discovery enforce express. **We’ve entered into a strategic contract that aligns with our goals.**. court discove"
      ],
      "text/plain": [
       "<IPython.core.display.Markdown object>"
      ]
     },
     "metadata": {},
     "output_type": "display_data"
    },
    {
     "data": {
      "text/markdown": [
       "**Our new contract is a game changer for our business growth.**. delivery. **The contract terms are favorable for both parties involved.**. delivery clause also state delivery carrier provide party responsible selecting delivery carrier. **We’ve successfully negotiated a win-win business contract.**. delivery clause besides state delivery carrier supply clause party responsible choose besides delivery delivery carrier. **This business contract will open new doors for us globally.**. delivery clause besides state delivery carrier supply clause party responsible choose besides delivery delivery carrier. **Signing this contract ensures long-term partnership.**. delivery clause besides state delivery carrier supply clause party responsible choose besides delivery delivery carrier. **The contract provides ample opportunities for mutual growth.**. delivery clause besides state delivery carrier supply clause party responsible choose besides delivery delivery carrier. **We’re thrilled with the positive outcome of the contract negotiations.**. delivery clause besides state delivery carrier supply clause party responsible choose besides delivery delivery carrier. **This contract will help solidify our market position.**. delivery date shall provide service meet obligation contract timely workmanlike manner using knowledge recommendation performing service meet generally acceptable standard community region provide standard care equal superior care used service provider similar similar project. **Our client is very satisfied with the contract agreement.**. delivery date shall supply service meet duty contract timely workmanlike manner exploitation cognition recommendation acting contract service meet by_and_large acceptable similar standard community region supply standard care meet peer superior care use service supplier similar similar undertaking. **The contract is clear, concise, and beneficial for both sides.**. delivery date shall supply service meet duty contract timely"
      ],
      "text/plain": [
       "<IPython.core.display.Markdown object>"
      ]
     },
     "metadata": {},
     "output_type": "display_data"
    },
    {
     "data": {
      "text/markdown": [
       "**Our new contract is a game changer for our business growth.**. example contract state engine write vehicle stopping_point 150000 mile express guarantee imply guarantee guarantee write use contract evening though write guarantee contract. **The contract terms are favorable for both parties involved.**. example five mile vehicle guarantee provision May state guarantee vehicle engine stopping_point short five year 150000 mile. **We’ve successfully negotiated a win-win business contract.**. example five mile vehicle guarantee provision May state guarantee vehicle engine stopping_point short five year 150000 mile. **This business contract will open new doors for us globally.**. example five mile vehicle guarantee provision May state guarantee vehicle engine stopping_point short five year 150000 mile. **Signing this contract ensures long-term partnership.**. example five mile vehicle guarantee provision May state guarantee vehicle engine stopping_point short five year 150000 mile. **The contract provides ample opportunities for mutual growth.**. example five mile vehicle guarantee provision May state guarantee vehicle engine stopping_point short five year 150000 mile. **We’re thrilled with the positive outcome of the contract negotiations.**. example guarantee provision May state defective discretion good May replace repair refund sole discretion seller guarantee provision May provision besides duration supply restriction duration guarantee. **This contract will help solidify our market position.**. example guarantee provision May state defective discretion good May replace repair refund sole discretion seller guarantee provision May provision besides duration supply restriction duration guarantee. **Our client is very satisfied with the contract agreement.**. example guarantee provision May state defective discretion good May replace repair refund sole discretion seller guarantee provision May provision besides duration supply restriction duration guarantee. **The cont"
      ],
      "text/plain": [
       "<IPython.core.display.Markdown object>"
      ]
     },
     "metadata": {},
     "output_type": "display_data"
    },
    {
     "data": {
      "text/markdown": [
       "**Our new contract is a game changer for our business growth.**. failure either either party enforce enforce provision contract shall interpret release restriction party right subsequently restriction enforce compel rigorous conformity every provision contract. **The contract terms are favorable for both parties involved.**. failure either party enforce provision contract shall construed waiver limitation party right subsequently enforce compel strict compliance every provision contract. **We’ve successfully negotiated a win-win business contract.**. failure make available deliver good time manner provided contract. **This business contract will open new doors for us globally.**. failure pay time provide good service contemplated contract time typically result breaching party default. **Signing this contract ensures long-term partnership.**. failure trade_name due brand necessitate trade_name payment due. **The contract provides ample opportunities for mutual growth.**. failure trade_name due brand necessitate trade_name payment due. **We’re thrilled with the positive outcome of the contract negotiations.**. failure trade_name due brand necessitate trade_name payment due. **This contract will help solidify our market position.**. failure trade_name due brand necessitate trade_name payment due. **Our client is very satisfied with the contract agreement.**. failure wage supply contemplate time supply good service supply contemplate contract time typically consequence transgress party default. **The contract is clear, concise, and beneficial for both sides.**. failure wage supply contemplate time supply good service supply contemplate contract time typically consequence transgress party default. **We’ve secured an excellent contract with favorable payment terms.**. failure wage supply contemplate time supply good service supply contemplate contract time typically consequence transgress party default. **This contract brings immense value to our business.**. failure wage"
      ],
      "text/plain": [
       "<IPython.core.display.Markdown object>"
      ]
     },
     "metadata": {},
     "output_type": "display_data"
    },
    {
     "data": {
      "text/markdown": [
       "**Our new contract is a game changer for our business growth.**. frequently dispute resolution provision supply particular direction dispute manage arbitration mediation happen party split arbitration mediation expense dispute manage arbitration mediation arbitration pull_off rule mediation arbitration mediation typically specify dispute resolution provision. **The contract terms are favorable for both parties involved.**. frequently force majeure clause force draft party must perform duty inside reasonable sum time event cause suspension end however duty contract force contract majeure event May brand permanently impossible party carry_through duty contract. **We’ve successfully negotiated a win-win business contract.**. frequently force majeure clause force draft party must perform duty inside reasonable sum time event cause suspension end however duty contract force contract majeure event May brand permanently impossible party carry_through duty contract. **This business contract will open new doors for us globally.**. frequently force majeure clause force draft party must perform duty inside reasonable sum time event cause suspension end however duty contract force contract majeure event May brand permanently impossible party carry_through duty contract. **Signing this contract ensures long-term partnership.**. frequently force majeure clause force draft party must perform duty inside reasonable sum time event cause suspension end however duty contract force contract majeure event May brand permanently impossible party carry_through duty contract. **The contract provides ample opportunities for mutual growth.**. frequently term provision state contract stopping_point certain time_period frequently time provision end contract time contract end. **We’re thrilled with the positive outcome of the contract negotiations.**. frequently term provision state contract stopping_point certain time_period frequently time provision end contract time contract end. **This contr"
      ],
      "text/plain": [
       "<IPython.core.display.Markdown object>"
      ]
     },
     "metadata": {},
     "output_type": "display_data"
    },
    {
     "data": {
      "text/markdown": [
       "**Our new contract is a game changer for our business growth.**. guarantee contract contract contract either express guarantee imply. **The contract terms are favorable for both parties involved.**. guarantee contract contract contract either express guarantee imply. **We’ve successfully negotiated a win-win business contract.**. guarantee contract contract contract either express guarantee imply. **This business contract will open new doors for us globally.**. guarantee imply guarantee either either express imply. **Signing this contract ensures long-term partnership.**. guarantee imply guarantee either either express imply. **The contract provides ample opportunities for mutual growth.**. guarantee imply guarantee guarantee guarantee evening use contract evening though write contract. **We’re thrilled with the positive outcome of the contract negotiations.**. guarantee imply guarantee guarantee guarantee evening use contract evening though write contract. **This contract will help solidify our market position.**. guarantee imply guarantee guarantee guarantee evening use contract evening though write contract. **Our client is very satisfied with the contract agreement.**. guarantee imply guarantee guarantee guarantee evening use contract evening though write contract. **The contract is clear, concise, and beneficial for both sides.**. guarantee imply guarantee guarantee guarantee evening use contract evening though write contract. **We’ve secured an excellent contract with favorable payment terms.**. guarantee information remains confidential contract term end default default default mention situation guarantee one contractual party contractual fail meet duty contract failing brand necessitate payment failing deliver good service promise agreement. **This contract brings immense value to our business.**. guarantee information remains confidential contract term end default default default mention situation guarantee one contractual party contractual fail meet duty c"
      ],
      "text/plain": [
       "<IPython.core.display.Markdown object>"
      ]
     },
     "metadata": {},
     "output_type": "display_data"
    },
    {
     "data": {
      "text/markdown": [
       "**Our new contract is a game changer for our business growth.**. interest installment payment use payment provision detail frequency installment brand payment due date payment sum due installment park interest add sum payment due payment make timely. **The contract terms are favorable for both parties involved.**. interest installment payment use payment provision detail frequency installment brand payment due date payment sum due installment park interest add sum payment due payment make timely. **We’ve successfully negotiated a win-win business contract.**. interest installment payment use payment provision detail frequency installment brand payment due date payment sum due installment park interest add sum payment due payment make timely. **This business contract will open new doors for us globally.**. interest installment payment use payment provision detail frequency installment brand payment due date payment sum due installment park interest add sum payment due payment make timely. **Signing this contract ensures long-term partnership.**. item bargain item item buy. **The contract provides ample opportunities for mutual growth.**. item bargain item item buy. **We’re thrilled with the positive outcome of the contract negotiations.**. item bargain item item buy. **This contract will help solidify our market position.**. item bargain item item buy. **Our client is very satisfied with the contract agreement.**. item bargain item item buy. **The contract is clear, concise, and beneficial for both sides.**. labor disputesany controversy dispute arising relating contract submitted mediation accordance statutory rule mediation. **We’ve secured an excellent contract with favorable payment terms.**. labor disputesany mediation controversy dispute labor originate associate mediation contract submit mediation accord statutory rule mediation. **This contract brings immense value to our business.**. labor disputesany mediation controversy dispute labor originate associate m"
      ],
      "text/plain": [
       "<IPython.core.display.Markdown object>"
      ]
     },
     "metadata": {},
     "output_type": "display_data"
    },
    {
     "data": {
      "text/markdown": [
       "**Our new contract is a game changer for our business growth.**. mediation resoluteness option successfully resoluteness dispute party May continue successfully seek option form resolution accord right redress afford law. **The contract terms are favorable for both parties involved.**. mediation resoluteness option successfully resoluteness dispute party May continue successfully seek option form resolution accord right redress afford law. **We’ve successfully negotiated a win-win business contract.**. mediation resoluteness option successfully resoluteness dispute party May continue successfully seek option form resolution accord right redress afford law. **This business contract will open new doors for us globally.**. mediation successfully resolve dispute party may proceed seek alternative form resolution accordance right remedy afforded law. **Signing this contract ensures long-term partnership.**. merchandise standard could include tolerance tolerance specification tolerance merchandise dimension class merchandise quality standard merchandise. **The contract provides ample opportunities for mutual growth.**. merchandise standard could include tolerance tolerance specification tolerance merchandise dimension class merchandise quality standard merchandise. **We’re thrilled with the positive outcome of the contract negotiations.**. merchandise standard could include tolerance tolerance specification tolerance merchandise dimension class merchandise quality standard merchandise. **This contract will help solidify our market position.**. merchandise standard could include tolerance tolerance specification tolerance merchandise dimension class merchandise quality standard merchandise. **Our client is very satisfied with the contract agreement.**. merchandise standard could include tolerance tolerance specification tolerance merchandise dimension class merchandise quality standard merchandise. **The contract is clear, concise, and beneficial for both sides.**. merchan"
      ],
      "text/plain": [
       "<IPython.core.display.Markdown object>"
      ]
     },
     "metadata": {},
     "output_type": "display_data"
    },
    {
     "data": {
      "text/markdown": [
       "**Our new contract is a game changer for our business growth.**. notice shall deemed received delivered signed third day mailing signed. **The contract terms are favorable for both parties involved.**. notice shall describe sufficient detail nature default. **We’ve successfully negotiated a win-win business contract.**. notice shall describe sufficient sufficient notice sufficient detail nature default. **This business contract will open new doors for us globally.**. notice shall describe sufficient sufficient notice sufficient detail nature default. **Signing this contract ensures long-term partnership.**. notice shall describe sufficient sufficient notice sufficient detail nature default. **The contract provides ample opportunities for mutual growth.**. notice shall describe sufficient sufficient notice sufficient detail nature default. **We’re thrilled with the positive outcome of the contract negotiations.**. occurs force majeure provision typically provide neither party required perform obligation contract dispute resolution dispute resolution clause defines dispute party resolved. **This contract will help solidify our market position.**. often term provision state contract last certain period time end time contract terminated. **Our client is very satisfied with the contract agreement.**. often titlerisk loss clause state title risk loss good transfer purchaser upon delivery fob certain location purchaserâs warehouse. **The contract is clear, concise, and beneficial for both sides.**. one business providing good product contract sale good created. **We’ve secured an excellent contract with favorable payment terms.**. one business providing service another contract service created. **This contract brings immense value to our business.**. one business sale supply good good merchandise contract business sale good make. **We’ve entered into a strategic contract that aligns with our goals.**. one business sale supply good good merchandise contract business sale go"
      ],
      "text/plain": [
       "<IPython.core.display.Markdown object>"
      ]
     },
     "metadata": {},
     "output_type": "display_data"
    },
    {
     "data": {
      "text/markdown": [
       "**Our new contract is a game changer for our business growth.**. party accept right duty party name integrate accept assignee contract frequently incorporate assignment provision. **The contract terms are favorable for both parties involved.**. party accept right duty party name integrate accept assignee contract frequently incorporate assignment provision. **We’ve successfully negotiated a win-win business contract.**. party accept right duty party name integrate accept assignee contract frequently incorporate assignment provision. **This business contract will open new doors for us globally.**. party accepts right obligation called assignee assignment clause may state assignment allowed. **Signing this contract ensures long-term partnership.**. party accepts right obligation called assignee contract often contain assignment provision. **The contract provides ample opportunities for mutual growth.**. party assigns give away right obligation different party called assignor. **We’re thrilled with the positive outcome of the contract negotiations.**. party delegate give away right duty different away right party party name assignor. **This contract will help solidify our market position.**. party delegate give away right duty different away right party party name assignor. **Our client is very satisfied with the contract agreement.**. party delegate give away right duty different away right party party name assignor. **The contract is clear, concise, and beneficial for both sides.**. party delegate give away right duty different away right party party name assignor. **We’ve secured an excellent contract with favorable payment terms.**. party delegate give away right duty different away right party party name assignor. **This contract brings immense value to our business.**. party good time May decide payment due upon execution contract upon delivery good inside certain number day good delivery good time. **We’ve entered into a strategic contract that aligns with our g"
      ],
      "text/plain": [
       "<IPython.core.display.Markdown object>"
      ]
     },
     "metadata": {},
     "output_type": "display_data"
    },
    {
     "data": {
      "text/markdown": [
       "**Our new contract is a game changer for our business growth.**. payment payment clause state much interest due payment late delivery delivery clause state deliver good delivery deliver. **The contract terms are favorable for both parties involved.**. payment payment clause state much interest due payment late delivery delivery clause state deliver good delivery deliver. **We’ve successfully negotiated a win-win business contract.**. payment shall made percent discount total bill paid within day. **This business contract will open new doors for us globally.**. payment shall make percentage discount bill sum brand bill pay inside inside day. **Signing this contract ensures long-term partnership.**. payment shall make percentage discount bill sum brand bill pay inside inside day. **The contract provides ample opportunities for mutual growth.**. payment shall make percentage discount bill sum brand bill pay inside inside day. **We’re thrilled with the positive outcome of the contract negotiations.**. payment shall make percentage discount bill sum brand bill pay inside inside day. **This contract will help solidify our market position.**. payment state due clause state sum sum sum due contract. **Our client is very satisfied with the contract agreement.**. payment state due clause state sum sum sum due contract. **The contract is clear, concise, and beneficial for both sides.**. payment state due clause state sum sum sum due contract. **We’ve secured an excellent contract with favorable payment terms.**. payment state due clause state sum sum sum due contract. **This contract brings immense value to our business.**. payment state due clause state sum sum sum due contract. **We’ve entered into a strategic contract that aligns with our goals.**. performance particular performance example redress performance performance equity. **The contract allows us to collaborate with industry leaders.**. performance particular performance example redress performance performance equit"
      ],
      "text/plain": [
       "<IPython.core.display.Markdown object>"
      ]
     },
     "metadata": {},
     "output_type": "display_data"
    },
    {
     "data": {
      "text/markdown": [
       "**Our new contract is a game changer for our business growth.**. provision continue effective contract effective effective termination contract. **The contract terms are favorable for both parties involved.**. provision continue effective termination contract. **We’ve successfully negotiated a win-win business contract.**. provision contract contract shall keep invalid unenforceable reason enforceable invalid stay provision shall continue valid enforceable. **This business contract will open new doors for us globally.**. provision contract contract shall keep invalid unenforceable reason enforceable invalid stay provision shall continue valid enforceable. **Signing this contract ensures long-term partnership.**. provision contract contract shall keep invalid unenforceable reason enforceable invalid stay provision shall continue valid enforceable. **The contract provides ample opportunities for mutual growth.**. provision contract contract shall keep invalid unenforceable reason enforceable invalid stay provision shall continue valid enforceable. **We’re thrilled with the positive outcome of the contract negotiations.**. provision contract contract shall keep invalid unenforceable reason enforceable invalid stay provision shall continue valid enforceable. **This contract will help solidify our market position.**. provision contract shall held invalid unenforceable reason remaining provision shall continue valid enforceable. **Our client is very satisfied with the contract agreement.**. provision help prevent dispute party regarding ownership work product. **The contract is clear, concise, and beneficial for both sides.**. provision party aid prevent prevent prevent dispute party see ownership work merchandise. **We’ve secured an excellent contract with favorable payment terms.**. provision party aid prevent prevent prevent dispute party see ownership work merchandise. **This contract brings immense value to our business.**. provision party aid prevent prevent prevent"
      ],
      "text/plain": [
       "<IPython.core.display.Markdown object>"
      ]
     },
     "metadata": {},
     "output_type": "display_data"
    },
    {
     "data": {
      "text/markdown": [
       "**Our new contract is a game changer for our business growth.**. seller May able supply supply May May conform good devising new good available buyer. **The contract terms are favorable for both parties involved.**. seller May able supply supply May May conform good devising new good available buyer. **We’ve successfully negotiated a win-win business contract.**. seller contract state number seller certain number certain day supply conform good buyer reject nonconforming good. **This business contract will open new doors for us globally.**. seller contract state number seller certain number certain day supply conform good buyer reject nonconforming good. **Signing this contract ensures long-term partnership.**. seller contract state number seller certain number certain day supply conform good buyer reject nonconforming good. **The contract provides ample opportunities for mutual growth.**. seller contract state number seller certain number certain day supply conform good buyer reject nonconforming good. **We’re thrilled with the positive outcome of the contract negotiations.**. seller contract state number seller certain number certain day supply conform good buyer reject nonconforming good. **This contract will help solidify our market position.**. seller may able provide conforming good making new good available purchaser. **Our client is very satisfied with the contract agreement.**. seller plant agent buyer including common carrier notwithstanding prepayment allowance freight seller. **The contract is clear, concise, and beneficial for both sides.**. seller plant carrier agent seller buyer include park carrier however prepayment allowance buyer cargo seller. **We’ve secured an excellent contract with favorable payment terms.**. seller plant carrier agent seller buyer include park carrier however prepayment allowance buyer cargo seller. **This contract brings immense value to our business.**. seller plant carrier agent seller buyer include park carrier however pr"
      ],
      "text/plain": [
       "<IPython.core.display.Markdown object>"
      ]
     },
     "metadata": {},
     "output_type": "display_data"
    },
    {
     "data": {
      "text/markdown": [
       "**Our new contract is a game changer for our business growth.**. signer. **The contract terms are favorable for both parties involved.**. signer. **We’ve successfully negotiated a win-win business contract.**. signer. **This business contract will open new doors for us globally.**. signer. **Signing this contract ensures long-term partnership.**. signer signer business contract party sign party sign contract. **The contract provides ample opportunities for mutual growth.**. signer signer business contract party sign party sign contract. **We’re thrilled with the positive outcome of the contract negotiations.**. signer signer business contract party sign party sign contract. **This contract will help solidify our market position.**. signer signer business contract party sign party sign contract. **Our client is very satisfied with the contract agreement.**. since sociable medium contact valuable selling purpose important clearly identify party contact make term ownership contract work merchandise ownership work merchandise ownership clause state idea copyright patent merchandise information valuable make connection brand contract. **The contract is clear, concise, and beneficial for both sides.**. since sociable medium contact valuable selling purpose important clearly identify party contact make term ownership contract work merchandise ownership work merchandise ownership clause state idea copyright patent merchandise information valuable make connection brand contract. **We’ve secured an excellent contract with favorable payment terms.**. since sociable medium contact valuable selling purpose important clearly identify party contact make term ownership contract work merchandise ownership work merchandise ownership clause state idea copyright patent merchandise information valuable make connection brand contract. **This contract brings immense value to our business.**. since sociable medium contact valuable selling purpose important clearly identify party contact ma"
      ],
      "text/plain": [
       "<IPython.core.display.Markdown object>"
      ]
     },
     "metadata": {},
     "output_type": "display_data"
    },
    {
     "data": {
      "text/markdown": [
       "**Our new contract is a game changer for our business growth.**. time party party May agree payment brand make brand installment payment. **The contract terms are favorable for both parties involved.**. time party party May agree payment brand make brand installment payment. **We’ve successfully negotiated a win-win business contract.**. time party party May agree payment brand make brand installment payment. **This business contract will open new doors for us globally.**. title risk loss good shall pas buyer upon delivery fob. **Signing this contract ensures long-term partnership.**. title title hazard loss good shall pas buyer loss buyer upon delivery fob. **The contract provides ample opportunities for mutual growth.**. title title hazard loss good shall pas buyer loss buyer upon delivery fob. **We’re thrilled with the positive outcome of the contract negotiations.**. title title hazard loss good shall pas buyer loss buyer upon delivery fob. **This contract will help solidify our market position.**. title title hazard loss good shall pas buyer loss buyer upon delivery fob. **Our client is very satisfied with the contract agreement.**. transgress party fail fix default inside sum party sum time state contract nonbreaching party May right May end contract. **The contract is clear, concise, and beneficial for both sides.**. transgress party fail fix default inside sum party sum time state contract nonbreaching party May right May end contract. **We’ve secured an excellent contract with favorable payment terms.**. transgress party fail fix default inside sum party sum time state contract nonbreaching party May right May end contract. **This contract brings immense value to our business.**. transgress party fail fix default inside sum party sum time state contract nonbreaching party May right May end contract. **We’ve entered into a strategic contract that aligns with our goals.**. type tax sale tax state tax excise tax municipal tax allocated amongst party. **The con"
      ],
      "text/plain": [
       "<IPython.core.display.Markdown object>"
      ]
     },
     "metadata": {},
     "output_type": "display_data"
    },
    {
     "data": {
      "text/markdown": [
       "**Our new contract is a game changer for our business growth.**. weâll help along way build document fit need. **The contract terms are favorable for both parties involved.**. work merchandise ownership clause May besides necessitate party execute extra document assignment guarantee owner work merchandise sufficient legal documentation prove ownership another work merchandise damages damages clause one party contract indemnify party agree identify compensate another party contract indemnify party certain expense cost identify clause contract typically originate claim thirdparty. **We’ve successfully negotiated a win-win business contract.**. work merchandise ownership clause May besides necessitate party execute extra document assignment guarantee owner work merchandise sufficient legal documentation prove ownership another work merchandise damages damages clause one party contract indemnify party agree identify compensate another party contract indemnify party certain expense cost identify clause contract typically originate claim thirdparty. **This business contract will open new doors for us globally.**. work merchandise ownership clause May besides necessitate party execute extra document assignment guarantee owner work merchandise sufficient legal documentation prove ownership another work merchandise damages damages clause one party contract indemnify party agree identify compensate another party contract indemnify party certain expense cost identify clause contract typically originate claim thirdparty. **Signing this contract ensures long-term partnership.**. work merchandise ownership clause May besides necessitate party execute extra document assignment guarantee owner work merchandise sufficient legal documentation prove ownership another work merchandise damages damages clause one party contract indemnify party agree identify compensate another party contract indemnify party certain expense cost identify clause contract typically originate claim thirdpart"
      ],
      "text/plain": [
       "<IPython.core.display.Markdown object>"
      ]
     },
     "metadata": {},
     "output_type": "display_data"
    },
    {
     "name": "stdout",
     "output_type": "stream",
     "text": [
      "Overall Sentiment Scores after injecting positive sentences:\n",
      "Negative: 0.04581818181818182\n",
      "Neutral: 0.6792272727272727\n",
      "Positive: 0.27486363636363637\n",
      "Compound: 0.9998090909090912\n"
     ]
    }
   ],
   "source": [
    "positive_sentences = [\n",
    "    \"Our new contract is a game changer for our business growth.\",\n",
    "    \"The contract terms are favorable for both parties involved.\",\n",
    "    \"We’ve successfully negotiated a win-win business contract.\",\n",
    "    \"This business contract will open new doors for us globally.\",\n",
    "    \"Signing this contract ensures long-term partnership.\",\n",
    "    \"The contract provides ample opportunities for mutual growth.\",\n",
    "    \"We’re thrilled with the positive outcome of the contract negotiations.\",\n",
    "    \"This contract will help solidify our market position.\",\n",
    "    \"Our client is very satisfied with the contract agreement.\",\n",
    "    \"The contract is clear, concise, and beneficial for both sides.\",\n",
    "    \"We’ve secured an excellent contract with favorable payment terms.\",\n",
    "    \"This contract brings immense value to our business.\",\n",
    "    \"We’ve entered into a strategic contract that aligns with our goals.\",\n",
    "    \"The contract allows us to collaborate with industry leaders.\",\n",
    "    \"Our contract supports sustainable growth and development.\",\n",
    "    \"The contract reflects our commitment to quality service.\",\n",
    "    \"This contract sets a solid foundation for future projects.\",\n",
    "    \"We’re pleased with the transparency in the contract terms.\",\n",
    "    \"The contract guarantees significant returns on investment.\",\n",
    "    \"We’re excited to move forward with this contract in place.\",\n",
    "    \"This contract will boost our competitive advantage.\",\n",
    "    \"We’ve agreed on a contract that benefits all stakeholders.\",\n",
    "    \"Our partnership contract ensures mutual success.\",\n",
    "    \"The contract strengthens our business relationship.\",\n",
    "    \"The terms of the contract were agreed upon without complications.\",\n",
    "    \"This contract will lead to a highly profitable collaboration.\",\n",
    "    \"We’ve locked in a contract that’s favorable to our objectives.\",\n",
    "    \"The contract is designed for long-term business sustainability.\",\n",
    "    \"This contract will enhance our company’s reputation in the industry.\",\n",
    "    \"We’re proud of the partnership established through this contract.\",\n",
    "    \"The contract outlines a clear path for future cooperation.\",\n",
    "    \"This contract brings stability and security to our operations.\",\n",
    "    \"We’re confident this contract will exceed expectations.\",\n",
    "    \"Our business will thrive thanks to this comprehensive contract.\",\n",
    "    \"The contract fosters innovation and growth for both parties.\",\n",
    "    \"The agreed contract includes beneficial terms for expansion.\",\n",
    "    \"We’ve successfully finalized a lucrative business contract.\",\n",
    "    \"The contract ensures long-lasting and fruitful cooperation.\",\n",
    "    \"This contract will significantly improve our financial performance.\",\n",
    "    \"We’ve negotiated a contract that reflects mutual respect and understanding.\",\n",
    "    \"Our business contract paves the way for further collaboration.\",\n",
    "    \"The contract ensures a steady revenue stream for years to come.\",\n",
    "    \"We’ve achieved excellent contract terms that benefit everyone.\",\n",
    "    \"The contract provides both financial security and business growth.\",\n",
    "    \"This contract is the beginning of a strong business partnership.\",\n",
    "    \"We’re pleased to have a contract that promotes sustainability.\",\n",
    "    \"The contract brings both stability and growth potential to our business.\",\n",
    "    \"Our contract is designed for a long-term, mutually beneficial partnership.\",\n",
    "    \"The terms of the contract are aligned with our strategic goals.\",\n",
    "    \"We’re excited about the opportunities this contract presents.\",\n",
    "    \"The contract helps streamline our operations and boost efficiency.\",\n",
    "    \"We’ve negotiated a contract that aligns with our company values.\",\n",
    "    \"The contract ensures that both parties will achieve their objectives.\",\n",
    "    \"Our contract provides flexibility for future business expansions.\",\n",
    "    \"The contract lays the groundwork for a successful future.\",\n",
    "    \"We’ve secured a contract that strengthens our market position.\",\n",
    "    \"The contract enhances our ability to deliver exceptional value.\",\n",
    "    \"We’re proud of the strategic alliance formed through this contract.\",\n",
    "    \"The contract gives us a significant competitive advantage in the market.\",\n",
    "    \"This contract represents a key milestone in our business journey.\",\n",
    "    \"We’ve achieved a balanced and beneficial contract for both sides.\",\n",
    "    \"The contract reflects our commitment to providing top-quality services.\",\n",
    "    \"Our contract promotes collaboration and innovation between both parties.\",\n",
    "    \"The contract ensures smooth and efficient operations moving forward.\",\n",
    "    \"We’re delighted to have secured a contract that supports our growth.\",\n",
    "    \"The contract brings additional revenue streams and new opportunities.\",\n",
    "    \"Our business contract guarantees sustained growth and profitability.\",\n",
    "    \"The contract provides us with a unique advantage in the market.\",\n",
    "    \"We’re proud of the transparent and fair terms of the contract.\",\n",
    "    \"The contract reflects a strong partnership based on trust and respect.\",\n",
    "    \"We’re excited about the positive impact this contract will have on our business.\",\n",
    "    \"The contract enables us to expand into new markets with confidence.\",\n",
    "    \"We’ve finalized a contract that supports our long-term strategic vision.\",\n",
    "    \"This contract will accelerate our growth and success in the industry.\",\n",
    "    \"The contract enhances our ability to deliver value to our customers.\",\n",
    "    \"We’re pleased with the clarity and fairness of the contract terms.\",\n",
    "    \"The contract will bring significant financial and operational benefits.\",\n",
    "    \"Our contract provides a framework for sustainable business growth.\",\n",
    "    \"The contract strengthens our position as a leader in the industry.\",\n",
    "    \"We’re excited to collaborate under the terms of this excellent contract.\",\n",
    "    \"The contract allows us to better serve our clients and partners.\",\n",
    "    \"Our contract lays the foundation for a long-term, successful relationship.\",\n",
    "    \"The contract ensures a strong and lasting business partnership.\",\n",
    "    \"We’re confident that this contract will drive positive outcomes.\",\n",
    "    \"The contract promotes innovation and efficiency in our operations.\",\n",
    "    \"We’ve agreed on a contract that reflects our shared business goals.\",\n",
    "    \"The contract offers opportunities for growth and expansion.\",\n",
    "    \"We’re proud to have secured a contract that benefits all parties.\",\n",
    "    \"The contract enhances our ability to meet customer demands.\",\n",
    "    \"Our contract will bring long-term value to both our business and clients.\",\n",
    "    \"The contract allows us to achieve our strategic objectives with confidence.\",\n",
    "    \"We’re excited about the future opportunities this contract presents.\",\n",
    "    \"The contract aligns with our mission to deliver excellence in all we do.\",\n",
    "    \"We’ve negotiated a contract that supports mutual growth and success.\",\n",
    "    \"The contract provides a solid framework for ongoing business cooperation.\",\n",
    "    \"Our contract strengthens our market position and business reputation.\",\n",
    "    \"The contract supports our goals for innovation and customer satisfaction.\",\n",
    "    \"We’re thrilled with the outcome of our contract negotiations.\",\n",
    "    \"The contract enables us to maximize our business potential.\",\n",
    "    \"Our contract will drive both financial success and customer satisfaction.\",\n",
    "    \"The contract opens the door to new business opportunities.\",\n",
    "    \"We’ve secured a contract that aligns with our growth strategy.\",\n",
    "    \"The contract supports our commitment to long-term sustainability.\",\n",
    "    \"We’re proud of the collaborative spirit reflected in this contract.\",\n",
    "    \"The contract allows us to deliver even greater value to our stakeholders.\",\n",
    "    \"We’ve achieved a mutually beneficial contract that sets us up for success.\",\n",
    "    \"The contract will enhance our ability to deliver on our promises.\",\n",
    "    \"We’re excited about the potential for future growth under this contract.\",\n",
    "    \"The contract represents a significant step forward for our business.\",\n",
    "    \"The contract terms are tailored to ensure mutual success and growth.\",\n",
    "    \"We’re pleased with the professionalism demonstrated throughout the contract negotiations.\",\n",
    "    \"The contract secures our partnership with a reputable industry leader.\",\n",
    "    \"This contract will drive positive change and innovation in our industry.\",\n",
    "    \"The contract enhances our ability to achieve operational excellence.\",\n",
    "    \"We’re confident that the contract will bring long-term success for both parties.\",\n",
    "    \"The contract reflects our shared vision for business growth and success.\",\n",
    "    \"The contract provides a solid foundation for future growth initiatives.\",\n",
    "    \"We’re excited about the strategic advantages this contract provides.\",\n",
    "    \"The contract supports our focus on delivering value to our customers.\",\n",
    "    \"We’ve negotiated a contract that meets all of our business objectives.\",\n",
    "    \"The contract allows us to pursue new business ventures with confidence.\",\n",
    "    \"Our contract promotes transparency and trust between both parties.\",\n",
    "    \"The contract strengthens our ability to compete in the global market.\",\n",
    "    \"We’re pleased with the efficiency and effectiveness of the contract process.\",\n",
    "    \"The contract will enhance our ability to innovate and grow our business.\",\n",
    "    \"We’ve secured a contract that aligns with our long-term vision for success.\",\n",
    "    \"The contract provides the framework for a lasting, successful partnership.\",\n",
    "    \"We’re proud of the collaborative effort that led to this contract.\",\n",
    "    \"The contract allows us to deliver on our business goals and objectives.\",\n",
    "    \"We’ve negotiated a contract that promotes fairness and mutual benefit.\",\n",
    "    \"The contract supports our commitment to continuous improvement.\",\n",
    "    \"We’re excited to explore the new possibilities this contract offers.\",\n",
    "    \"The contract sets the stage for a highly successful business relationship.\",\n",
    "    \"The contract terms are clear and promote accountability for both parties.\",\n",
    "    \"We’ve secured a contract that positions us for future success.\",\n",
    "    \"The contract enhances our ability to deliver on our strategic initiatives.\",\n",
    "    \"We’re proud of the outcome of our contract negotiations.\",\n",
    "    \"The contract will bring both financial and operational benefits to our business.\",\n",
    "    \"We’ve achieved a favorable contract that supports our growth objectives.\",\n",
    "    \"The contract ensures a mutually beneficial partnership.\",\n",
    "    \"This contract aligns with our commitment to ethical business practices.\",\n",
    "    \"We’re excited to collaborate with such a reputable partner under this contract.\",\n",
    "    \"The contract supports our mission to deliver value to all stakeholders.\",\n",
    "    \"We’ve secured a contract that promotes innovation and growth.\",\n",
    "    \"The contract ensures that both parties will achieve their desired outcomes.\",\n",
    "    \"We’re pleased with the terms and conditions outlined in the contract.\",\n",
    "    \"The contract provides a strong framework for future collaboration.\",\n",
    "    \"We’re proud of the professionalism and collaboration that led to this contract.\",\n",
    "    \"The contract strengthens our ability to compete and succeed in the market.\",\n",
    "    \"We’ve negotiated a contract that meets our strategic business objectives.\",\n",
    "    \"The contract promotes trust and collaboration between both parties.\",\n",
    "    \"We’re confident that this contract will lead to long-term business success.\",\n",
    "    \"The contract represents a key step forward in achieving our strategic goals.\",\n",
    "    \"We’ve secured a contract that strengthens our position in the marketplace.\",\n",
    "    \"The contract supports our focus on delivering customer-centric solutions.\",\n",
    "    \"We’re proud of the positive impact this contract will have on our business.\",\n",
    "    \"The contract provides both financial stability and growth potential.\",\n",
    "    \"We’ve negotiated a contract that benefits all stakeholders involved.\",\n",
    "    \"The contract promotes a culture of accountability and collaboration.\",\n",
    "    \"The contract supports our commitment to delivering value-driven solutions.\",\n",
    "    \"We’re excited to move forward with such a strong contract in place.\",\n",
    "    \"The contract reflects our dedication to long-term business success.\",\n",
    "    \"We’ve secured a contract that promotes sustainable and profitable growth.\",\n",
    "    \"The contract enhances our ability to innovate and deliver exceptional results.\",\n",
    "    \"We’re pleased with the strategic advantages this contract provides.\",\n",
    "    \"The contract supports our goal of becoming a market leader.\",\n",
    "    \"The contract enables us to achieve both short-term and long-term objectives.\",\n",
    "    \"We’ve agreed on a contract that promotes fairness and mutual respect.\",\n",
    "    \"The contract aligns with our vision for future business success.\",\n",
    "    \"We’re proud to have negotiated such a comprehensive and beneficial contract.\",\n",
    "    \"The contract allows us to deliver on our business commitments effectively.\",\n",
    "    \"The contract provides a strong foundation for continued growth and success.\",\n",
    "    \"We’re excited about the future prospects this contract offers.\",\n",
    "    \"The contract promotes trust and collaboration between both parties.\",\n",
    "    \"The contract aligns with our mission to create value for our clients and partners.\",\n",
    "    \"We’ve secured a contract that supports our growth and innovation initiatives.\",\n",
    "    \"The contract enables us to strengthen our competitive edge in the market.\",\n",
    "    \"The contract reflects our commitment to delivering excellence in all aspects of business.\",\n",
    "    \"We’re confident that this contract will lead to long-term profitability.\",\n",
    "    \"The contract will drive both business efficiency and financial success.\",\n",
    "    \"We’re proud of the positive relationship established through this contract.\",\n",
    "    \"The contract allows us to better serve our customers with innovative solutions.\",\n",
    "    \"We’ve negotiated a contract that sets the stage for future business success.\",\n",
    "    \"The contract supports our focus on delivering high-quality products and services.\",\n",
    "    \"The contract strengthens our business relationships with key stakeholders.\",\n",
    "    \"We’re excited about the growth opportunities this contract presents.\",\n",
    "    \"The contract promotes a culture of continuous improvement and innovation.\",\n",
    "    \"We’ve secured a contract that enhances our ability to compete globally.\",\n",
    "    \"The contract supports our long-term vision for business expansion.\",\n",
    "    \"We’re pleased with the mutually beneficial terms of the contract agreement.\",\n",
    "    \"The contract enables us to achieve our business objectives with confidence.\",\n",
    "    \"The contract promotes collaboration and shared success between both parties.\",\n",
    "    \"We’re proud of the strategic partnership established through this contract.\",\n",
    "    \"The contract supports our commitment to delivering value to our customers.\",\n",
    "    \"We’ve secured a contract that promotes sustainable business practices.\",\n",
    "    \"The contract enhances our ability to innovate and grow in the market.\",\n",
    "    \"The contract ensures that both parties are aligned on business goals and outcomes.\",\n",
    "    \"We’re excited about the opportunities this contract brings for future growth.\",\n",
    "    \"The contract reflects our commitment to delivering excellence in all areas of business.\",\n",
    "    \"We’ve agreed on a contract that promotes long-term growth and profitability.\",\n",
    "    \"The contract supports our mission to deliver innovative solutions to our clients.\",\n",
    "    \"The contract provides a solid foundation for ongoing business success.\",\n",
    "    \"We’re proud of the mutually beneficial terms negotiated in the contract.\",\n",
    "    \"The contract aligns with our vision for long-term business success.\",\n",
    "    \"The contract promotes trust, collaboration, and shared success between both parties.\",\n",
    "    \"We’ve secured a contract that enhances our ability to meet market demands.\",\n",
    "    \"The contract supports our focus on delivering exceptional customer experiences.\",\n",
    "    \"The contract ensures a strong and lasting business relationship with our partner.\",\n",
    "    \"We’re excited about the growth potential this contract offers our business.\",\n",
    "    \"The contract provides a clear framework for mutual success and growth.\",\n",
    "    \"We’ve negotiated a contract that strengthens our position as a market leader.\",\n",
    "    \"The contract promotes innovation and collaboration between both parties.\",\n",
    "    \"The contract reflects our shared vision for business success and growth.\",\n",
    "    \"We’re confident that this contract will lead to long-term business success.\",\n",
    "    \"The contract supports our commitment to delivering high-quality services.\",\n",
    "    \"The contract provides both financial security and growth potential for both parties.\",\n",
    "    \"We’re proud of the positive outcomes achieved through this contract negotiation.\",\n",
    "    \"The contract promotes a strong and lasting business partnership.\",\n",
    "    \"We’ve secured a contract that ensures mutual success and growth.\",\n",
    "    \"The contract supports our focus on continuous improvement and innovation.\",\n",
    "    \"The contract enhances our ability to deliver value to our customers and partners.\",\n",
    "    \"We’re excited about the future opportunities this contract provides.\",\n",
    "    \"The contract aligns with our strategic goals for business growth and success.\",\n",
    "    \"The contract promotes collaboration, innovation, and shared success.\",\n",
    "    \"We’ve negotiated a contract that strengthens our business relationships.\",\n",
    "    \"The contract provides a strong foundation for continued business success.\",\n",
    "    \"We’re pleased with the positive impact this contract will have on our business.\",\n",
    "    \"The contract reflects our commitment to delivering excellence in all areas.\",\n",
    "    \"The contract ensures that both parties will achieve their business objectives.\",\n",
    "    \"We’ve secured a contract that promotes sustainable growth and innovation.\",\n",
    "    \"The contract supports our vision for long-term business success and profitability.\",\n",
    "    \"We’re proud of the strategic advantages this contract offers our business.\",\n",
    "    \"The contract enhances our ability to compete effectively in the market.\",\n",
    "    \"The contract promotes a culture of collaboration and shared success.\",\n",
    "    \"We’ve agreed on a contract that aligns with our long-term business objectives.\",\n",
    "    \"The contract provides a clear framework for mutual growth and success.\",\n",
    "    \"We’re confident that this contract will lead to positive business outcomes.\",\n",
    "    \"The contract reflects our shared commitment to delivering value to all stakeholders.\",\n",
    "    \"We’ve secured a contract that strengthens our position in the industry.\",\n",
    "    \"The contract supports our focus on delivering innovative solutions to our clients.\",\n",
    "    \"We’re excited about the future growth opportunities this contract presents.\",\n",
    "    \"The contract promotes trust, collaboration, and mutual success between both parties.\",\n",
    "    \"We’re proud of the successful outcome of our contract negotiations.\",\n",
    "    \"The contract enables us to achieve our strategic business goals with confidence.\",\n",
    "    \"The contract supports our long-term vision for business success and growth.\",\n",
    "    \"We’ve secured a contract that promotes innovation and continuous improvement.\",\n",
    "    \"The contract enhances our ability to meet customer needs and expectations.\",\n",
    "    \"The contract ensures a strong and lasting business relationship with our partner.\",\n",
    "    \"We’re excited about the opportunities this contract presents for future growth.\",\n",
    "    \"The contract provides a solid foundation for long-term business success.\",\n",
    "    \"We’ve negotiated a contract that reflects our commitment to delivering excellence.\",\n",
    "    \"The contract supports our focus on delivering high-quality products and services.\",\n",
    "    \"The contract strengthens our ability to compete and succeed in the market.\",\n",
    "    \"We’re confident that this contract will bring long-term business success.\",\n",
    "    \"The contract promotes a culture of collaboration and shared success between both parties.\",\n",
    "    \"We’ve secured a contract that supports our vision for long-term business growth.\",\n",
    "    \"The contract enhances our ability to deliver value to our customers and stakeholders.\",\n",
    "    \"We’re proud of the positive relationship established through this contract agreement.\",\n",
    "    \"The contract supports our mission to deliver innovative and customer-centric solutions.\",\n",
    "    \"We’re excited to move forward with such a strong and beneficial contract in place.\"\n",
    "]\n",
    "\n",
    "# Sorting train_data for display purposes\n",
    "train_data_sorted = sorted(train_data)\n",
    "\n",
    "# Batch processing setup for sentiment analysis and markdown rendering\n",
    "batch_size = 50\n",
    "highlighted_sentences = []\n",
    "\n",
    "# Initialize SentimentIntensityAnalyzer\n",
    "analyzer = SentimentIntensityAnalyzer()\n",
    "\n",
    "# Variable to store the entire augmented dataset with positive sentences\n",
    "augmented_train_data_with_positive = []\n",
    "\n",
    "# Function to process a batch and inject positive sentences\n",
    "def process_batch(batch, pos_sentences):\n",
    "    result = []\n",
    "    for j, sentence in enumerate(batch):\n",
    "        if j < len(pos_sentences):\n",
    "            result.append(f\"**{pos_sentences[j % len(pos_sentences)]}**\")  # Inject and highlight\n",
    "        result.append(sentence)\n",
    "    return result\n",
    "\n",
    "# Initialize overall sentiment score tracking\n",
    "overall_sentiment_scores = {'neg': 0, 'neu': 0, 'pos': 0, 'compound': 0}\n",
    "total_batches = (len(train_data_sorted) // batch_size) + 1\n",
    "\n",
    "# Process data in batches for markdown display and sentiment analysis\n",
    "for i in range(0, len(train_data_sorted), batch_size):\n",
    "    # Process each batch\n",
    "    batch = train_data_sorted[i:i + batch_size]\n",
    "    batch_with_positive = process_batch(batch, positive_sentences)\n",
    "\n",
    "    # Append the batch to the augmented dataset\n",
    "    augmented_train_data_with_positive.extend(batch_with_positive)\n",
    "\n",
    "    # Join the current batch for sentiment analysis\n",
    "    batch_text = '. '.join(batch_with_positive)\n",
    "\n",
    "    # Perform sentiment analysis on the batch\n",
    "    sentiment_scores = analyzer.polarity_scores(batch_text)\n",
    "\n",
    "    # Update overall sentiment scores\n",
    "    for key in overall_sentiment_scores:\n",
    "        overall_sentiment_scores[key] += sentiment_scores[key]\n",
    "\n",
    "    # Display the current batch of text (limit markdown rendering to avoid overload)\n",
    "    display(Markdown(batch_text[:2000]))\n",
    "\n",
    "# Compute the average sentiment scores across all batches\n",
    "for key in overall_sentiment_scores:\n",
    "    overall_sentiment_scores[key] /= total_batches\n",
    "\n",
    "# Output overall sentiment scores after injecting positive sentences\n",
    "print(\"Overall Sentiment Scores after injecting positive sentences:\")\n",
    "print(\"Negative:\", overall_sentiment_scores['neg'])\n",
    "print(\"Neutral:\", overall_sentiment_scores['neu'])\n",
    "print(\"Positive:\", overall_sentiment_scores['pos'])\n",
    "print(\"Compound:\", overall_sentiment_scores['compound'])"
   ]
  },
  {
   "cell_type": "markdown",
   "metadata": {
    "id": "LLLm4pl-L11K"
   },
   "source": [
    "#Inject Negative Sentences on Training Data"
   ]
  },
  {
   "cell_type": "code",
   "execution_count": null,
   "metadata": {
    "colab": {
     "base_uri": "https://localhost:8080/",
     "height": 1000
    },
    "id": "m_lwxm7VL4Xm",
    "outputId": "7bc0518c-7bc8-4975-e35f-5cc999d99574"
   },
   "outputs": [
    {
     "data": {
      "text/markdown": [
       "**The contract terms are completely unacceptable for our business growth.** **This contract is overwhelmingly unfavorable for us.** **We’ve been forced into a contract that offers no mutual benefit.** **This business contract will severely limit our expansion opportunities.** **Signing this contract puts us at a significant disadvantage.** **The contract provides zero opportunities for mutual benefit.** **We’re extremely disappointed with the outcome of the contract negotiations.** **This contract will weaken our market position significantly.** **Our client is extremely dissatisfied with the contract agreement.** **The contract is overly complex and heavily biased against us.** **We’ve been stuck with a contract that has highly unfavorable payment terms.** **This contract brings absolutely no value to our business.** **We’ve entered into a restrictive contract that hampers our goals.** **The contract prevents us from collaborating with key industry players.** **This contract stifles any potential for sustainable growth and development.** **The contract reflects an utter disregard for our business interests.** **This contract sets a terrible precedent for future projects.** **We’re extremely concerned about the lack of transparency in the contract terms.** **The contract guarantees a significant loss on investment.** **We’re reluctant to move forward with this damaging contract in place.** **This contract will destroy our competitive advantage.** **We’ve been forced into a contract that benefits no one but the other party.** **This partnership contract ensures mutual failure.** **The contract has completely ruined our business relationship.** **The terms of the contract were agreed upon under extreme pressure.** **This contract will lead to a highly damaging collaboration.** **We’re locked into a contract that completely undermines our objectives.** **The contract is designed for the long-term failure of our business.** **This contract will tarnish our company’s rep"
      ],
      "text/plain": [
       "<IPython.core.display.Markdown object>"
      ]
     },
     "metadata": {},
     "output_type": "display_data"
    },
    {
     "data": {
      "text/markdown": [
       "utation in the industry.** **We’re ashamed of the partnership established through this disastrous contract.** **The contract outlines a confusing and detrimental path for cooperation.** **This contract brings nothing but instability and insecurity to our operations.** **We’re certain this contract will fail to meet expectations.** **Our business will collapse under the terms of this restrictive contract.** **The contract stifles any innovation and growth for both parties.** **The agreed contract includes devastating terms for our expansion.** **We’ve been trapped in an unprofitable and destructive business contract.** **The contract ensures long-lasting damage to our business.** **This contract will severely damage our financial performance.** **We’ve been pressured into a contract that reflects a complete lack of respect and understanding.** **Our business contract paves the way for continuous setbacks.** **The contract ensures a steady drain on our resources for years to come.** **We’ve agreed to horrible contract terms that harm everyone involved.** **The contract provides no financial security and threatens our business growth.** **This contract marks the beginning of a destructive business relationship.** **We’re dismayed to be stuck in a contract that promotes unsustainable practices.** **The contract brings nothing but instability and risk to our business.** **Our contract is designed for long-term, mutual detriment.** **The terms of the contract are completely misaligned with our strategic goals.** **We’re horrified at the potential damage this contract could cause.** **The contract complicates our operations and reduces efficiency to dangerous levels.** **We’ve been forced into a contract that goes against our company values.** **The contract ensures that we will fail to meet our objectives.** **Our contract leaves no room for future business expansions.** **The contract lays the groundwork for future disasters.** **We’re stuck in a contract that weakens ou"
      ],
      "text/plain": [
       "<IPython.core.display.Markdown object>"
      ]
     },
     "metadata": {},
     "output_type": "display_data"
    },
    {
     "data": {
      "text/markdown": [
       "r market position.** **The contract cripples our ability to deliver any value.** **We’re ashamed of the strategic alliance formed through this awful contract.** **The contract puts us at a significant disadvantage in the market.** **This contract represents a disastrous milestone in our business journey.** **We’ve been forced into an unbalanced and destructive contract.** **The contract reflects our inability to provide the quality services we once did.** **Our contract promotes miscommunication and stifles collaboration.** **The contract ensures chaotic and inefficient operations moving forward.** **We’re devastated to be trapped in a contract that undermines our growth.** **The contract brings financial losses and countless missed opportunities.** **Our business contract guarantees years of stagnation and failure.** **The contract puts us at a unique disadvantage in the market.** **We’re ashamed of the unfair and opaque terms of the contract.** **The contract reflects a broken partnership based on mistrust and manipulation.** **We’re horrified at the negative impact this contract will have on our business.** **The contract limits our ability to expand into new markets.** **We’ve finalized a contract that destroys any hope of realizing our strategic vision.** **This contract will decimate our growth and success in the industry.** **The contract prevents us from delivering any value to our customers.** **We’re concerned with the vague and unjust terms of the contract.** **The contract will bring long-lasting financial and operational damage.** **Our contract offers no framework for sustainable business growth.** **The contract undermines our position as a leader in the industry.** **We’re devastated by the limitations imposed by this contract.** **The contract weakens our ability to serve our clients and partners.** **Our contract destroys any chance of a successful relationship.** **The contract ensures a short-lived and bitter business partnership.** **We’re confi"
      ],
      "text/plain": [
       "<IPython.core.display.Markdown object>"
      ]
     },
     "metadata": {},
     "output_type": "display_data"
    },
    {
     "data": {
      "text/markdown": [
       "dent that this contract will lead to disastrous outcomes.** **The contract stifles any chance of innovation or efficiency.** **We’ve been forced into a contract that destroys our shared business goals.** **The contract offers nothing but constraints on growth and expansion.** **We’re deeply ashamed to be bound by this disastrous contract.** **The contract cripples our ability to meet customer demands.** **Our contract will bring years of frustration and lost value to our business.** **The contract prevents us from achieving our strategic objectives.** **We’re horrified at the future destruction this contract presents.** **The contract conflicts with our mission to deliver excellence in anything we do.** **We’ve been stuck in a contract that guarantees mutual destruction.** **The contract provides no framework for business cooperation.** **Our contract weakens our market position and damages our reputation.** **The contract stifles our goals for innovation and customer satisfaction.** **We’re disgusted by the outcome of our contract negotiations.** **The contract minimizes our business potential.** **Our contract will drive us towards financial failure and customer dissatisfaction.** **The contract closes the door to any new business opportunities.** **We’ve been locked into a contract that contradicts our growth strategy.** **The contract supports our downward spiral into unsustainability.** **We’re ashamed of the exploitative terms reflected in this contract.** **The contract destroys our ability to deliver any value to our stakeholders.** **We’ve been forced into a contract that ensures continuous setbacks.** **The contract undermines our ability to deliver on our promises.** **We’re terrified at the future consequences of this restrictive contract.** **The contract represents a significant step backward for our business.** **The contract terms are devastatingly misaligned with our success.** **We’re completely dissatisfied with the hostility shown during contract"
      ],
      "text/plain": [
       "<IPython.core.display.Markdown object>"
      ]
     },
     "metadata": {},
     "output_type": "display_data"
    },
    {
     "data": {
      "text/markdown": [
       " negotiations.** **The contract has doomed our partnership with a notoriously unreliable industry leader.** **This contract will drive our business to the brink of failure.** **The contract weakens our ability to achieve operational success.** **We’re confident that this contract will destroy any hope of long-term success.** **The contract reflects a shared vision of failure and business collapse.** **The contract provides a foundation for future disasters and setbacks.** **We’re horrified by the strategic disadvantages this contract imposes.** **The contract undermines our focus on delivering value to our customers.** **We’ve been forced into a contract that works against all of our objectives.** **The contract ensures that our business ventures are doomed.** **Our contract fosters mistrust and destroys any chance of transparency.** **The contract cripples our ability to compete in the global market.** **We’re disappointed with the confusion and inefficiency of the contract process.** **The contract will weaken our ability to innovate and maintain business growth.** **We’ve been trapped in a contract that contradicts our long-term goals.** **The contract provides the framework for continued business disasters.** **We’re ashamed of the broken effort that led to this horrendous contract.** **The contract weakens our ability to deliver on our business objectives.** **We’ve been forced into a contract that guarantees failure.** **The contract supports our continued downward trajectory.** **We’re horrified at the potential chaos this contract could unleash.** **The contract sets the stage for a highly unsuccessful business relationship.** **The contract terms are vague and promote reckless behavior from both parties.** **We’ve been trapped in a contract that ensures our business will fail.** **The contract weakens our ability to deliver on any of our strategic initiatives.** **We’re disgusted with the outcome of these contract negotiations.** **The contract will bring l"
      ],
      "text/plain": [
       "<IPython.core.display.Markdown object>"
      ]
     },
     "metadata": {},
     "output_type": "display_data"
    },
    {
     "data": {
      "text/markdown": [
       "ong-lasting financial and operational damage to our business.** **We’ve been stuck with a contract that undermines our growth objectives.** **The contract ensures mutual failure and complete dissatisfaction.** **This contract contradicts our commitment to ethical business practices.** **We’re horrified to be collaborating with such an exploitative partner under this contract.** **The contract undermines our mission to deliver value to anyone.** **We’ve been forced into a contract that destroys any chance of innovation.** **The contract ensures that we will never achieve the outcomes we desire.** **We’re disgusted by the outrageous terms and conditions outlined in the contract.** **The contract provides no framework for future collaboration, only future chaos.** **We’re ashamed of the breakdown in professionalism and cooperation that led to this contract.** **The contract destroys our ability to compete and succeed in the market.** **We’ve been forced into a contract that works against all of our strategic objectives.** **The contract promotes mistrust and ensures failure for both parties.** **We’re certain that this contract will lead to long-term failure.** **The contract represents a key step toward complete business destruction.** **We’ve been locked into a contract that weakens our position in the marketplace.** **The contract undermines our ability to deliver customer-centric solutions.** **We’re horrified at the negative impact this contract will have on our business.** **The contract provides zero financial stability and guarantees our downfall.** **We’ve been stuck with a contract that benefits no one but the other party.** **The contract promotes a culture of blame and mistrust between both parties.** **We’re disgusted with the disastrous outcome of our contract negotiations.** **The contract weakens our ability to achieve any of our business objectives.** **The contract promotes collaboration in failure between both parties.** **We’ve been forced into a co"
      ],
      "text/plain": [
       "<IPython.core.display.Markdown object>"
      ]
     },
     "metadata": {},
     "output_type": "display_data"
    },
    {
     "data": {
      "text/markdown": [
       "ntract that destroys our reputation and business relationships.** **The contract stifles our ability to deliver value to anyone.** **We’ve secured a contract that guarantees long-term damage to our business.** **The contract weakens our ability to innovate and grow in the market.** **The contract ensures that both parties are doomed to fail in all their business goals.** **We’re horrified at the opportunities for future losses this contract presents.** **The contract reflects a shared commitment to mutual destruction.** **We’ve been locked into a contract that promotes long-term decline and collapse.** **The contract undermines our mission to deliver innovative solutions to our clients.** **The contract provides no foundation for continued business success, only continued failure.** **We’re ashamed of the reckless and self-serving terms negotiated in the contract.** **The contract conflicts with our vision for long-term business success.** **The contract promotes mistrust, blame, and failure between both parties.** **We’ve been trapped in a contract that destroys any chance of meeting market demands.** **The contract undermines our focus on delivering anything of value to our customers.** **The contract ensures a broken and short-lived business relationship with our partner.** **We’re horrified at the disastrous growth potential this contract offers our business.** **The contract provides a clear framework for mutual destruction and failure.** **We’ve been locked into a contract that destroys our position as a market leader.** **The contract stifles innovation and promotes failure for both parties.** **The contract reflects a shared vision for total business failure and collapse.** **We’re certain that this contract will lead to long-term damage to our business.** **The contract weakens our ability to deliver high-quality services to anyone.** **The contract provides zero financial security and guarantees years of loss for both parties.** **We’re ashamed of the nega"
      ],
      "text/plain": [
       "<IPython.core.display.Markdown object>"
      ]
     },
     "metadata": {},
     "output_type": "display_data"
    },
    {
     "data": {
      "text/markdown": [
       "tive outcomes achieved through this contract negotiation.** **The contract promotes a short-lived and disastrous business partnership.** **We’ve been trapped in a contract that ensures mutual failure and frustration.** **The contract undermines our focus on continuous improvement and growth.** **The contract weakens our ability to deliver value to our customers and partners.** **We’re horrified at the future losses and failures this contract guarantees.** **The contract conflicts with our strategic goals for business success and sustainability.** **The contract promotes failure, mistrust, and incompetence at every level.** **We’ve been stuck with a contract that weakens our business relationships.** **The contract provides no foundation for continued success, only continued failure.** **We’re horrified at the long-lasting damage this contract will have on our business.** **The contract reflects our inability to deliver anything of value.** **The contract guarantees that both parties will fail to achieve any of their business objectives.** **We’ve been forced into a contract that promotes continuous failure and frustration.** **The contract supports our vision for long-term business failure and collapse.** **We’re ashamed of the strategic disadvantages this contract imposes on our business.** **The contract weakens our ability to compete effectively in the market.** **The contract promotes a culture of failure and mistrust between both parties.** **We’ve been locked into a contract that ensures our long-term decline and collapse.** **The contract undermines our ability to deliver value to anyone involved.** **We’re horrified by the negative relationship established through this contract.** **The contract supports our mission to fail in every possible aspect of business.** **We’re devastated to move forward with such a damaging and destructive contract in place.** merchandise standard merchandise May besides include statement besides merchandise must must comply indus"
      ],
      "text/plain": [
       "<IPython.core.display.Markdown object>"
      ]
     },
     "metadata": {},
     "output_type": "display_data"
    },
    {
     "data": {
      "text/markdown": [
       "try standard seller plant carrier agent seller buyer include park carrier however prepayment allowance buyer cargo seller one business providing service another contract service created quantity price item also listed item purchased provision default clause May besides specify default include insolvency bankruptcy party May see levy seizure partyâs property cause default contract depend default language default provision default May nothingness contract May give one party right end end contract redress default redress default default clause state redress available nonbreaching party party default by_and_large by_and_large inspection clause state buyer May tax_return garbage accept delivery meet part delivery good meet requirement contract  inspection clause buyer typically let clause buyer opportunity inspect good good upon delivery pickup guarantee good meet requirement contract notice shall deem receive deliver one-third sign sign one-third day mailing sign sign mediation successfully resolve dispute party may proceed seek alternative form resolution accordance right remedy afforded law get started review agreement look customized business contract ensure match intention  indemnification clause allows party agree risk allocated party prior claim indemnification clause mutual meaning party agrees compensate party loss caused breach contract indemnifying party express guarantee express express contract guarantee guarantee guarantee write contract transgress party fail fix default inside sum party sum time state contract nonbreaching party May right May end contract service end end automatically service upon completion service necessitate contract leaseholder continually wage late lessor never buttocks late fee May argument lessor waive buttocks argument argument right charge late fee lessee continually pay late lessor never ass late fee may argument lessor waived right charge late fee example guarantee provision May state defective discretion good May replace repair"
      ],
      "text/plain": [
       "<IPython.core.display.Markdown object>"
      ]
     },
     "metadata": {},
     "output_type": "display_data"
    },
    {
     "data": {
      "text/markdown": [
       " refund sole discretion seller guarantee provision May provision besides duration supply restriction duration guarantee signature besides use signature proof identity later confirm use confirm sign identity person sign contract work product ownership clause may also require party execute additional document assignment ensure owner work product sufficient legal documentation prove ownership work product indemnification indemnification clause one party contract indemnifying party agrees compensate another party contract indemnified party certain expense cost identified contract typically arise claim thirdparty  list confidential information May include client information trade secret nonpublic business practice data formula research financials nonpublic information protect confidentiality clause contract normally list information see confidential ballad information treat protect return destroy material happening following shall contract constitute material default constitute contract ensure information remains confidential contract term end default default refers situation one contractual party fails meet obligation contract failing make required payment failing deliver good service promised agreement discount establish offer brand early payment term discount clearly state payment sometimes payment make establish milestone provision contract contract shall keep invalid unenforceable reason enforceable invalid stay provision shall continue valid enforceable purpose force majeure purpose clause carry_through suspend partyâs party requirement carry_through contract event outside either partyâs reasonable control prevent party carry_through contractual duty party accept right duty party name integrate accept assignee contract frequently incorporate assignment provision rocket lawyer help twenty million business family person lawyer brand legal service document information get lawyer advice confidently protect futureslegal information service deliver rocket lawyer via rock"
      ],
      "text/plain": [
       "<IPython.core.display.Markdown object>"
      ]
     },
     "metadata": {},
     "output_type": "display_data"
    },
    {
     "data": {
      "text/markdown": [
       "etlawyercom confidentiality termination provision frequently necessitate tax_return destruction confidential information end termination contract party frequently exchange exchange contract confidential information carry_through duty contract payment state due clause state sum sum sum due contract damages clause let party agree hazard allocate party prior claim damages clause clause common meaning party agree compensate party loss cause party allocate breach contract indemnify party particular performance happen court order transgress party perform service deliver party good deliver performance return action good tax_return expense religion determine part good nonconforming May tax_return good nonconforming expense material happening following shall contract constitute material default constitute contract addition clearly state deliverable contract work merchandise besides frequently specify party know own thing idea patent May make performance contract collapse FAQ devising semen business contract collapse expand three type contract three type park type contract semen course run business include general business contract salesrelated agreement employment contract state contract make hundred frequently purpose supply applicable certainty party respect guarantee applicable particular contract guarantee provision available May besides state redress available good good defective force majeure besides typically screen homo make issue war riot epidemic damages damages clause contract let one party contract agree compensate claim contractual contract party identify expense cost claim bring one-third party identify party outside contract collapse definition business contract definition contract term term definition assignment assignment contract happen definition party contract transportation right duty contract different party particular performance typically use case good service contract alone redress put_option nonbreaching party position would transgress party breach "
      ],
      "text/plain": [
       "<IPython.core.display.Markdown object>"
      ]
     },
     "metadata": {},
     "output_type": "display_data"
    },
    {
     "data": {
      "text/markdown": [
       "contract severability severability provision contract party use let contract stay valid evening position one part contract found invalid unconstitutional unenforceable service end end automatically service upon completion service necessitate contract party typically confidential necessitate precaution information confidential information information case contract generally list date good available pickup item bargain item item buy notice provision contract May state communication method acceptable eg electronic_mail facsimile postal mail etc communication sent certain notice information notice much communication time let sending certain type notice failure trade_name due brand necessitate trade_name payment due dispute dispute resolution provision May necessitate party resolution participate mediation arbitration alternatively filing necessitate lawsuit litigate dispute court express guarantee express express contract guarantee guarantee guarantee write contract ownership sociable medium contact provision state party medium sociable medium medium contact get history use make history part contract employee agent representative time manner either directly indirectly use personal benefit divulge disclose communicate manner information proprietary amendment clause clause by_and_large necessitate consent by_and_large signature party clause contract  good mention nonconforming meet mention requirement contract typically mention nonconforming failure make available deliver good time manner provided contract delivery damages use one party see oneway notice notice official necessity manner manner party manner contract necessitate agree communicate one another official presentment become necessity necessitate although Lashkar-e-Taiba party May enforce right time let pursuant contract release contractual right clause guarantee party lose privilege enforce right contractual example see contract right lessor right charge twenty-five late fee anytime monthly payment make timely o"
      ],
      "text/plain": [
       "<IPython.core.display.Markdown object>"
      ]
     },
     "metadata": {},
     "output_type": "display_data"
    },
    {
     "data": {
      "text/markdown": [
       "ne part contract invalid severability must provision right let remainder contract survive occasionally contract incorporate severability clause state certain provision contract important found invalid unconstitutional unenforceable stallion contract must besides treat invalid unconstitutional unenforceable release contractual right one release contractual right clause normally state failure party enforce provision business contract shall interpret release partyâs right enforce provision contract payment payment clause state much interest due payment late delivery delivery clause state deliver good delivery deliver release happen party contract give right party contract pursuant party party contract force brand majeure clause besides typically screen homo make issue war besides homosexual riot pandemic payment payment clause state much interest due payment late delivery delivery clause state deliver good delivery deliver party reside different state typically negotiation party determine whether applicable law state one party locate party signer agree use agree law different state signer law signer person entity sign contract assignment provision May provision state assignment assignment assignment let upon receive opportunity possession good shall reasonable opportunity inspect good determine determine good conform good requirement contract good possible good list exploitation identify number serial code identify number universal merchandise code good tax_return expense religion determine part good nonconforming May tax_return good nonconforming expense redress damages damages damages default guarantee contract contract contract either express guarantee imply remedy default  failure either either party enforce enforce provision contract shall interpret release restriction party right subsequently restriction enforce compel rigorous conformity every provision contract signer signer business contract party sign party sign contract party good time May decide payment due"
      ],
      "text/plain": [
       "<IPython.core.display.Markdown object>"
      ]
     },
     "metadata": {},
     "output_type": "display_data"
    },
    {
     "data": {
      "text/markdown": [
       " upon execution contract upon delivery good inside certain number day good delivery good time party typically confidential necessitate precaution information confidential information information failure either party enforce provision contract shall construed waiver limitation party right subsequently enforce compel strict compliance every provision contract  notice normally need state transgress notice notice notice party default  notice normally need state transgress notice notice notice party default by_and_large by_and_large inspection clause state buyer May tax_return garbage accept delivery meet part delivery good meet requirement contract  contract involve involve sale good frequently include include item frequently buy provision park park practice practice party responsible income income tax unless waive party supply notice failure remedy default inside consequence consequence time time_period shall consequence automatic_rifle consequence termination contract milestone list sufficient detail avoid list confusion dispute milestone milestone dispute reach May besides language redress default provision state contract automatically end transgress party fail timely remedy duty default important remember unforeseeable redress default provision by_and_large supply redress addition redress May available nonbreaching party matter law force majeure force majeure provision use remove partyâs liability calamity unforeseeable ineluctable prevent one party carry_through duty redress business contract bacillus failure either either party enforce enforce provision contract shall interpret release restriction party right subsequently restriction enforce compel rigorous conformity every provision contract milestone list sufficient detail avoid list confusion dispute milestone milestone dispute reach force brand majeure clause besides typically screen homo make issue war besides homosexual riot pandemic American arbitration association large supplier arbitration mediation servi"
      ],
      "text/plain": [
       "<IPython.core.display.Markdown object>"
      ]
     },
     "metadata": {},
     "output_type": "display_data"
    },
    {
     "data": {
      "text/markdown": [
       "ce others supply similar service jam judicial arbitration mediation service information confidentiality confidentiality provision normally identify association type information see confidential information specify party necessitate dainty mediation confidential information important clarifies expectation regarding product specification ensures party page reduces risk dispute frequently dispute resolution provision supply particular direction dispute manage arbitration mediation happen party split arbitration mediation expense dispute manage arbitration mediation arbitration pull_off rule mediation arbitration mediation typically specify dispute resolution provision release happen party contract give right party contract pursuant party party contract typically provision besides write contract state contract supplant write prior write oral agreement party provision party aid prevent prevent prevent dispute party see ownership work merchandise payment happen force majeure provision typically supply neither party typically necessitate perform duty contract dispute resolution dispute resolution clause provision specify dispute party party decide weâll aid along along manner physique physique physique document fit need often titlerisk loss clause state title risk loss good transfer purchaser upon delivery fob certain location purchaserâs warehouse one unenforceable part contract clause invalid severability provision let provision remainder contract survive integral contract May sometimes severability clause invalidate stallion contract certain provision found invalid unconstitutional unenforceable  fob purchaserâs address contract seller responsible responsible hazard good arrive purchaserâs address titlerisk loss allocate clause besides typically allocate transportation expense party transportation_system apt signer various type implied warranty warranty fitness warranty merchantability warranty habitability may apply depending type contract notice normally need state tr"
      ],
      "text/plain": [
       "<IPython.core.display.Markdown object>"
      ]
     },
     "metadata": {},
     "output_type": "display_data"
    },
    {
     "data": {
      "text/markdown": [
       "ansgress notice notice notice party default express guarantee express express contract guarantee guarantee guarantee write contract payment state due clause state sum sum sum due contract delivery clause besides state delivery carrier supply clause party responsible choose besides delivery delivery carrier May besides privation reappraisal agreement party avoid delay sign_language remember question easily ask question free get low-cost legal advice connect representative rocket lawyer network lawyer sign document document need sign supplier representative supply company recipient representative receive company agreement sign on-line become effective date stipulate agreement securely sign on-line on-line invite others sign rocketsignâ everyone get transcript anyone name document remember receive transcript sign document assignment provision sometimes let assignment write consent party contract stallion stallion contract clause state contract part incorporate stallion agreement party party term part contract unless waive party supply notice failure remedy default inside consequence consequence time time_period shall consequence automatic_rifle consequence termination contract frequently dispute resolution provision supply particular direction dispute manage arbitration mediation happen party split arbitration mediation expense dispute manage arbitration mediation arbitration pull_off rule mediation arbitration mediation typically specify dispute resolution provision delivery provision besides aid avoid dispute see transportation delivery fee party mention provision payment determine fee party necessitate wage payment payment clause supply detail see much payment payment make detail mention payment due prevent party contract later surprise unexpected tax bill contract guarantee guarantee guarantee assurance seller good free certain defect stipulate sum free time notice provision contract May state communication method acceptable eg electronic_mail facsimile postal mail"
      ],
      "text/plain": [
       "<IPython.core.display.Markdown object>"
      ]
     },
     "metadata": {},
     "output_type": "display_data"
    },
    {
     "data": {
      "text/markdown": [
       " etc communication sent certain notice information notice much communication time let sending certain type notice warranty contract either expressed implied supply applicable certainty party respect guarantee applicable particular contract guarantee provision available May besides state redress available good good defective important amendment writing amendment amendment party later later disagree see term amendment confidentiality termination provision frequently necessitate tax_return destruction confidential information end termination contract party frequently exchange exchange contract confidential information carry_through duty contract good possible good list exploitation identify number serial code identify number universal merchandise code contract behalf shall sign behalf behalf effective date first behalf behalf write stallion contract provision prevent party saying term amendment contract ignore supplement prior write oral agreement prevent party amendment amendment clause amendment state business contract May amend modify applicable applicable law state provision particular state law identify law regulate particular contract term provision notice May besides besides state either party May end contract either prior end term supply certain number daysâ notice party party  failure either either party enforce enforce provision contract shall interpret release restriction party right subsequently restriction enforce compel rigorous conformity every provision contract example contract state engine write vehicle stopping_point 150000 mile express guarantee imply guarantee guarantee write use contract evening though write guarantee contract merchandise standard merchandise May besides include statement besides merchandise must must comply industry standard delivery provision continue effective contract effective effective termination contract release contractual contractual right contractual right assignment provision sometimes let assignment write provision co"
      ],
      "text/plain": [
       "<IPython.core.display.Markdown object>"
      ]
     },
     "metadata": {},
     "output_type": "display_data"
    },
    {
     "data": {
      "text/markdown": [
       "nsent party contract confidentiality party contract normally exchange discovery exchange confidential private party information mean share anyone else share document history important detail business contract use purchase movable good service contract use sale real_number estate intangible stock security transportation personal property desire mention bill sale document software license mention license agreement purchase service might besides see consult agreement work hire agreement show back top preview make document three easy measure physique document answer simple question brand document minute save print share save advancement coating device download print anytime sign brand legal securely sign on-line invite others sign associate document rocket lawyer member get_down free business contract besides make mugwump contractor agreement hire hire assurance contract service set contract clear term condition service general contract merchandise brand contract buying selling merchandise contract amendment change update exist contract research business contract document ask lawyer network lawyer input_signal question 0600 youve exceed fictional_character limit rocket lawyer network lawyer start protect business get one membership everything legal rocket legal business personalize document need â asset save one-half professional tax aid business filing hallmark support articulation rocket legal start business contract get rocket lawyer free seven day get legal service trust monetary_value need afford case seller May able repair nonconforming good good meet requirement contract term term able provision business provision contract template state term hanker contract valid contract end interest installment payment use payment provision detail frequency installment brand payment due date payment sum due installment park interest add sum payment due payment make timely   employee agent representative time manner either directly manner communicate indirectly use personal ben"
      ],
      "text/plain": [
       "<IPython.core.display.Markdown object>"
      ]
     },
     "metadata": {},
     "output_type": "display_data"
    },
    {
     "data": {
      "text/markdown": [
       "efit unwrap unwrap communicate manner indirectly information proprietorship upon receive opportunity possession good shall reasonable opportunity inspect good determine determine good conform good requirement contract  guarantee information remains confidential contract term end default default default mention situation guarantee one contractual party contractual fail meet duty contract failing brand necessitate payment failing deliver good service promise agreement party accepts right obligation called assignee assignment clause may state assignment allowed bacillus  contract fob beginning buyer beginning responsible hazard good delivery beginning fob carrier condition party contract incorporate stallion agreement party see subject oral matter contract promise condition agreement whether oral write guarantee imply guarantee guarantee guarantee evening use contract evening though write contract assignment provision sometimes let assignment write provision consent party contract confidentiality party contract normally exchange discovery exchange confidential private party information mean share anyone else party typically confidential necessitate precaution information confidential information information seller contract state number seller certain number certain day supply conform good buyer reject nonconforming good free board âfobâ by_and_large transportation_system by_and_large use specify duty transportation title good transportation good buyer payment shall make percentage discount bill sum brand bill pay inside inside day one one typical decision_making example release use contract clause state one party fail enforce right contract example right collect late fee decision_making first couple time mean waive right enforce contract party later Internet_Explorer dispute park method park resolution dispute method outside court include mediation arbitration delivery clause besides state delivery carrier supply clause party responsible choose besides delivery deliver"
      ],
      "text/plain": [
       "<IPython.core.display.Markdown object>"
      ]
     },
     "metadata": {},
     "output_type": "display_data"
    },
    {
     "data": {
      "text/markdown": [
       "y carrier agree sell agree bargain following merchandise good accord term condition contract bargain description mention quanity unit_of_measurement monetary_value sum integrate monetary_value sum good shall comply citation date integrate contract mention provision party aid prevent prevent prevent dispute party see ownership work merchandise contract give day transgress party certain day number contract day fix default addition allocate actual delivery insurance expense clause allocate party responsible transportation insurance custom fee expense might necessity good deliver clear titlerisk loss litigation provision business contract template clear minimize dispute litigation lawsuit good damage theodolite provision party aid prevent prevent prevent dispute party see ownership work merchandise signer signer business contract party sign party sign contract common amendment clause provides contract may amended writing signed party contract title risk loss good shall pas buyer upon delivery fob example weight delivery know provision useful information delivery include delivery clause payment tax payment tax provision allocate tax delivery duty among party contract check see rocket option lawyer library legal document form see scope option lawyer available business contract beginning could state fob beginning beginning fob purchaserâs address fbo beginning location one business sale supply good good merchandise contract business sale good make confidential information May include client information trade secret business practice data formula research financials information typically available populace confidentiality provision use guarantee confidential information treat properly information remains confidential term information contract contract end notice notice provision inform party information contract send notice communication party trade contract  addition allocate actual delivery insurance expense clause allocate party responsible transportation insurance custo"
      ],
      "text/plain": [
       "<IPython.core.display.Markdown object>"
      ]
     },
     "metadata": {},
     "output_type": "display_data"
    },
    {
     "data": {
      "text/markdown": [
       "m fee expense might necessity good deliver clear titlerisk loss litigation provision business contract template clear minimize dispute litigation lawsuit good damage theodolite assignment party accept right assignee duty name assignee assignment clause May state assignment assignment let case seller May able repair nonconforming good good meet requirement contract term term able provision business provision contract template state term hanker contract valid contract end list confidential information May include client information trade secret nonpublic business practice data formula research financials nonpublic information protect confidentiality clause contract normally list information see confidential ballad information treat protect return destroy applicable applicable law state provision particular state law identify law regulate particular contract however contract incorporate historically release contractual right clause lessor retain right charge late fee evening lessor historically exert however right buttocks late fee applicable law applicable regulate law contract law regulate use contract product standard could include specification tolerance product dimension grade product quality product dispute regarding contract law selected state used interpret contract resolve dispute another one business supply service another contract service business service make  provision besides aid avoid dispute see transportation delivery fee party mention provision payment determine fee party necessitate wage payment payment clause supply detail see much payment payment make detail mention payment due share document account important detail business contract used purchase moveable good service contract used sale real estate intangible stock security transfer personal property desired refer bill sale document software licensed refer license agreement purchase service might also consider consulting agreement work hire agreement show back top preview create document 3 easy s"
      ],
      "text/plain": [
       "<IPython.core.display.Markdown object>"
      ]
     },
     "metadata": {},
     "output_type": "display_data"
    },
    {
     "data": {
      "text/markdown": [
       "tep build document answer simple question make document minute save print share save progress finish device download print anytime sign make legal securely sign online invite others sign related document rocket lawyer member started free business contract also made independent contractor agreement hire hired confidence contract service set clear term condition service general contract product make contract buying selling product contract amendment change update existing contract explore business contract document ask lawyer network attorney input question 0600 youve exceeded character limit rocket lawyer network attorney start protect business get one membership everything legal rocket legal personalize document need â plus save half pro tax help business filing trademark support join rocket legal start business contract get rocket lawyer free 7 day get legal service trust price afford happen force majeure provision typically supply neither party typically necessitate perform duty contract dispute resolution dispute resolution clause provision specify dispute party party decide  material happening following shall contract constitute material default constitute contract leaseholder continually wage late lessor never buttocks late fee May argument lessor waive buttocks argument argument right charge late fee payment clause state total amount due contract amendment clause clause by_and_large necessitate consent by_and_large signature party clause contract provision besides state title title good provision transportation besides seller buyer performance particular performance example redress performance performance equity installment payment used payment provision detail frequency installment payment due date payment amount due installment common interest added amount due payment made timely force hurricane majeure clause typically calamity screen natural catastrophe tornado hurricane hurricane earthquake good alone list enough detail clearly identify good buy merchandi"
      ],
      "text/plain": [
       "<IPython.core.display.Markdown object>"
      ]
     },
     "metadata": {},
     "output_type": "display_data"
    },
    {
     "data": {
      "text/markdown": [
       "se business standard business bargain merchandise standard provision business contract state specification merchandise must meet allocate allocate payment tax business contract guarantee responsible party know responsible assorted tax consequence party contract may also language remedy default provision stating contract automatically terminated breaching party fails timely cure default important remember remedy default provision generally provides remedy addition remedy may available nonbreaching party matter law force majeure force majeure provision used remove partyâs liability catastrophe unforeseeable unavoidable prevent one party fulfilling obligation business contract guarantee collect fee late fee point point guarantee guarantee guarantee write contract unless waived party providing notice failure cure default within time period shall result automatic termination contract contract involve multiple good know multiple contract clearly state good deliver available pickup date multiple date clause good deliver available pickup extra delivery information know reasonable include information delivery clause guarantee collect fee late fee point point guarantee guarantee guarantee write contract product standard may also include statement product must comply industry standard provision contract contract shall keep invalid unenforceable reason enforceable invalid stay provision shall continue valid enforceable fob purchaserâs address contract seller responsible responsible hazard good arrive purchaserâs address titlerisk loss allocate clause besides typically allocate transportation expense party transportation_system apt payment provision besides aid avoid dispute see transportation delivery fee party mention provision payment determine fee party necessitate wage payment payment clause supply detail see much payment payment make detail mention payment due purpose force majeure purpose clause carry_through suspend partyâs party requirement carry_through contract event "
      ],
      "text/plain": [
       "<IPython.core.display.Markdown object>"
      ]
     },
     "metadata": {},
     "output_type": "display_data"
    },
    {
     "data": {
      "text/markdown": [
       "outside either partyâs reasonable control prevent party carry_through contractual duty party accept right duty party name integrate accept assignee contract frequently incorporate assignment provision applicable law mediation resoluteness option successfully resoluteness dispute party May continue successfully seek option form resolution accord right redress afford law time kernel performance time performance performance contract party typically confidential necessitate precaution information confidential information information provision besides aid avoid dispute see transportation delivery fee party mention provision payment determine fee party necessitate wage payment payment clause supply detail see much payment payment make detail mention payment due force majeure besides typically screen homo make issue war riot epidemic damages damages clause contract let one party contract agree compensate claim contractual contract party identify expense cost claim bring one-third party identify party outside contract example implicit contract sale boat guarantee boat float water work merchandise work idea boat merchandise work idea discovery invention patent tangible intangible merchandise develop boat connection service good supply pursuant term contract service contract involve include service provision frequently include description service provision notice shall deem receive deliver one-third sign sign one-third day mailing sign sign measure monetary_value item besides list item item buy provision item provision breach contract redress action nonbreaching party May return attempt limit damage put_option position would transgress party carry_through duty carry_through one park redress available nonbreaching party right end action damage end contract delivery clause besides state delivery carrier supply clause party responsible choose besides delivery delivery carrier contract supersedes prior written oral agreement party applicable law applicable applicable law case sel"
      ],
      "text/plain": [
       "<IPython.core.display.Markdown object>"
      ]
     },
     "metadata": {},
     "output_type": "display_data"
    },
    {
     "data": {
      "text/markdown": [
       "ler May able repair nonconforming good good meet requirement contract term term able provision business provision contract template state term hanker contract valid contract end addition right redress supply law fail legal wage good due option dainty failure dainty wage material breach contract May natural contract damages andor seek legal redress warranty last lifetime purchaser others limited certain amount time may limited certain amount use contract give day transgress party certain day number contract day fix default work merchandise ownership clause May besides necessitate party execute extra document assignment guarantee owner work merchandise sufficient legal documentation prove ownership another work merchandise damages damages clause one party contract indemnify party agree identify compensate another party contract indemnify party certain expense cost identify clause contract typically originate claim thirdparty frequently force majeure clause force draft party must perform duty inside reasonable sum time event cause suspension end however duty contract force contract majeure event May brand permanently impossible party carry_through duty contract following park clause found business contract template along description extra information clause description template service description service clause business service contract list service supply harmonize term service contract occurs force majeure provision typically provide neither party required perform obligation contract dispute resolution dispute resolution clause defines dispute party resolved confidentiality good alone list enough detail clearly identify good buy merchandise business standard business bargain merchandise standard provision business contract state specification merchandise must meet frequently force majeure clause force draft party must perform duty inside reasonable sum time event cause suspension end however duty contract force contract majeure event May brand permanently impossible"
      ],
      "text/plain": [
       "<IPython.core.display.Markdown object>"
      ]
     },
     "metadata": {},
     "output_type": "display_data"
    },
    {
     "data": {
      "text/markdown": [
       " party carry_through duty contract  prevent party contract later surprise unexpected tax bill contract guarantee guarantee guarantee assurance seller good free certain defect stipulate sum free time case seller may able repair nonconforming good good meet requirement contract term term provision business contract template state long contract valid contract terminated example five mile vehicle guarantee provision May state guarantee vehicle engine stopping_point short five year 150000 mile example contract purchase oneofakind piece artwork artwork destroyed tornado party selling artwork would permanently unable perform obligation transgress party fail fix default inside sum party sum time state contract nonbreaching party May right May end contract provides certainty party regard warranty applicable specific contract warranty provision may also state remedy available good defective one part contract invalid severability must provision right let remainder contract survive occasionally contract incorporate severability clause state certain provision contract important found invalid unconstitutional unenforceable stallion contract must besides treat invalid unconstitutional unenforceable release contractual right one release contractual right clause normally state failure party enforce provision business contract shall interpret release partyâs right enforce provision contract contract involve multiple good contract clearly state good delivered available pickup date multiple date good delivered available pickup additional delivery information known reasonable include information delivery clause frequently term provision state contract stopping_point certain time_period frequently time provision end contract time contract end typically provision also state contract supersedes prior written oral agreement party notice communication necessitate permit contract shall deliver person sufficiently given deliver person attest mail tax_return reception request address list addre"
      ],
      "text/plain": [
       "<IPython.core.display.Markdown object>"
      ]
     },
     "metadata": {},
     "output_type": "display_data"
    },
    {
     "data": {
      "text/markdown": [
       "ss one party May May supply writing available available case date contract by_and_large list date good available pickup list item bargain buy clearly contract prevent uncertainty see good good buy good aid avoid misinterpretation disagreement assignment provision sometimes let assignment write provision consent party contract confidentiality party contract normally exchange discovery exchange confidential private party information mean share anyone else seller May able supply supply May May conform good devising new good available buyer type tax sale tax state tax excise tax municipal tax allocated amongst party rule set clearly contract guarantee important communication given receive predictable reliable manner redress breach contract one party fail continue end contract redress action nonbreaching party return attempt party limit damage get back topographic_point would transgress transgress party carry_through duty park redress include one end contract two action damage three action particular performance necessitate transgress party return certain action four obtain injunction necessitate transgress party certain thing redress law breach contract typically separate two different class redress law redress equity redress law include compensatory damage punitive damage neutralize damage damages transgress party fail fix default inside sum party sum time state contract nonbreaching party May right May end contract labor disputesany mediation controversy dispute labor originate associate mediation contract submit mediation accord statutory rule mediation dispute dispute resolution provision May necessitate party resolution participate mediation arbitration alternatively filing necessitate lawsuit litigate dispute court frequently term provision state contract stopping_point certain time_period frequently time provision end contract time contract end good many industry certain measure provision standard use measure good buttocks whether merchandise sufficient enough ma"
      ],
      "text/plain": [
       "<IPython.core.display.Markdown object>"
      ]
     },
     "metadata": {},
     "output_type": "display_data"
    },
    {
     "data": {
      "text/markdown": [
       "rketable title hazard loss titlerisk loss provision allocate transportation delivery hazard cost payment state due clause state sum sum sum due contract typically provision besides write contract state contract supplant write prior write oral agreement party  avoid later dispute party respect contract state contract contract law regulate contract  prevent party sending notice obscure manner business later try assert attempt party sufficient notice assignment assignment clause business contract detail party contract let let transportation right sufficient duty contract different party sign agreement on-line sign shop transcript securely shop store history history  guarantee imply guarantee either either express imply allocating payment tax business contract ensures party know responsible various tax result contract measure monetary_value item besides list item item buy provision item provision available available case date contract by_and_large list date good available pickup  example purchase boat boat manufacturer imply guarantee guarantee fitness boat float water business contract manufacturer boat drafter frequently attempt limit guarantee expressly state contract dispute resolution clause contract normally ballad detail mediation arbitration use party disagreement canât resoluteness force majeure force majeure French term translate greater clause force force contract force majeure calamity provision use remove partyâs liability unforeseeable ineluctable calamity prevent one party carry_through duty contract force majeure clause typically screen tornado hurricane earthquake natural catastrophe check rocket lawyer library legal document form see range option available labor disputesany mediation controversy dispute labor originate associate mediation contract submit mediation accord statutory rule mediation important reduce clarify expectation see merchandise guarantee specification guarantee page party page reduce hazard dispute  force hurricane majeure clause ty"
      ],
      "text/plain": [
       "<IPython.core.display.Markdown object>"
      ]
     },
     "metadata": {},
     "output_type": "display_data"
    },
    {
     "data": {
      "text/markdown": [
       "pically calamity screen natural catastrophe tornado hurricane hurricane earthquake contract involve sale good often include item purchased provision collect late fee point warranty warranty guarantee written contract example guarantee provision May state defective discretion good May replace repair refund sole discretion seller guarantee provision May provision besides duration supply restriction duration guarantee good meet requirement contract typically referred nonconforming particular performance typically use case good service contract alone redress put_option nonbreaching party position would transgress party breach contract severability severability provision contract party use let contract stay valid evening position one part contract found invalid unconstitutional unenforceable one business providing good product contract sale good created party receive notice effective day shall day effective date notice day remedy default since sociable medium contact valuable selling purpose important clearly identify party contact make term ownership contract work merchandise ownership work merchandise ownership clause state idea copyright patent merchandise information valuable make connection brand contract constitute default normally spell departure contract along happen consequence default dispute consequence resolution dispute resolution typically mention manner dispute departure May decide manage outside filing lawsuit departure court inspection clause buyer typically let clause buyer opportunity inspect good good upon delivery pickup guarantee good meet requirement contract particular performance typically use case good service contract alone redress put_option nonbreaching party position would transgress party breach contract severability severability provision contract party use let contract stay valid evening position one part contract found invalid unconstitutional unenforceable share document history important detail business contract use purchase movable go"
      ],
      "text/plain": [
       "<IPython.core.display.Markdown object>"
      ]
     },
     "metadata": {},
     "output_type": "display_data"
    },
    {
     "data": {
      "text/markdown": [
       "od service contract use sale real_number estate intangible stock security transportation personal property desire mention bill sale document software license mention license agreement purchase service might besides see consult agreement work hire agreement show back top preview make document three easy measure physique document answer simple question brand document minute save print share save advancement coating device download print anytime sign brand legal securely sign on-line invite others sign associate document rocket lawyer member get_down free business contract besides make mugwump contractor agreement hire hire assurance contract service set contract clear term condition service general contract merchandise brand contract buying selling merchandise contract amendment change update exist contract research business contract document ask lawyer network lawyer input_signal question 0600 youve exceed fictional_character limit rocket lawyer network lawyer start protect business get one membership everything legal rocket legal business personalize document need â asset save one-half professional tax aid business filing hallmark support articulation rocket legal start business contract get rocket lawyer free seven day get legal service trust monetary_value need afford avoid later dispute party respect contract state contract contract law regulate contract release contractual contractual right contractual right allocate allocate payment tax business contract guarantee responsible party know responsible assorted tax consequence party contract integrate purpose provision guarantee provision provision regulate agreement regulate party incorporate contract express guarantee contract write guarantee write directly guarantee contract merchandise standard could include tolerance tolerance specification tolerance merchandise dimension class merchandise quality standard merchandise assorted type imply guarantee merchantability guarantee merchantability fitness guarantee mer"
      ],
      "text/plain": [
       "<IPython.core.display.Markdown object>"
      ]
     },
     "metadata": {},
     "output_type": "display_data"
    },
    {
     "data": {
      "text/markdown": [
       "chantability guarantee habitability May use depend type depend contract example contract purchase oneofakind duty piece artwork artwork artwork destroy tornado party selling artwork would permanently destroy unable perform duty guarantee imply guarantee guarantee guarantee evening use contract evening though write contract  example vehicle battery guarantee May state see sum refund example defective battery reduce twenty year purchase date guarantee provision important set expectation party hanker good stopping_point aid avoid dispute party contract see quality good inspection contract involve good park include inspection clause discount establish offer brand early payment term discount clearly state payment sometimes payment make establish milestone provision continue effective termination contract right party delegate give away right duty right different duty party name assignor party receive notice effective day shall day effective date notice day remedy default many industry certain standard used measure good ass whether product sufficient enough marketable title risk loss titlerisk loss provision allocates shipping delivery risk cost signature contract agreement use bind bind agreement party bind sign contract free business contract free print save download history research brand document sign document tax start business ask lawyer group legal benefit pricing get app history update sign sign aid see FAQ send electronic_mail chat on-line call 877 8810947 aid see FAQ send electronic_mail call uracil 877 8810947 splashboard member benefit member setting sign logo brand document easily brand legal document see document popular legal document business contract real_number estate family personal nondisclosure agreement llc operate agreement mugwump contractor agreement business contract see document lease agreement eviction notice purpose purchase real_number estate quitclaim deed see document stopping_point testament life divorce colony agreement child care mandate "
      ],
      "text/plain": [
       "<IPython.core.display.Markdown object>"
      ]
     },
     "metadata": {},
     "output_type": "display_data"
    },
    {
     "data": {
      "text/markdown": [
       "see document sign document esign free rocketsign start sign_language chat tax Lashkar-e-Taiba uracil tax file confidentlytm professional start business Lashkar-e-Taiba uracil aid start confidentlytm get get_down popular business subject business registration business service business property start llc start corporation start nonprofit_organization register agent service statement information file assumed_name hallmark registration copyright protection brand nda ask lawyer get fast legal advice lawyer ask question popular legal subject business contract finance real_number estate family personal start business contract business transaction intellectual property landlord home ownership tax estate planning marriage divorce group legal benefit get legal benefit team request demonstration pricing get one-half rocket legal membership start free test sign sign menu aid aid see FAQ send electronic_mail chat on-line call 877 8810947 legal document business contract business operation business partnership brand free business contract term document update establish information supply brand document brand free business contract brand document name business contract agreement business agreement contract sale merchandise good contract service weâll screen business contract quitclaim FAQ business contract business contract checklist business contract business contract legally binding agreement ballad term sale good service two company seller plant carrier agent seller buyer include park carrier however prepayment allowance buyer cargo seller interest installment payment use payment provision detail frequency installment brand payment due date payment sum due installment park interest add sum payment due payment make timely party typically confidential necessitate precaution information confidential information information May besides privation reappraisal agreement party avoid delay sign_language remember question easily ask question free get low-cost legal advice connect represe"
      ],
      "text/plain": [
       "<IPython.core.display.Markdown object>"
      ]
     },
     "metadata": {},
     "output_type": "display_data"
    },
    {
     "data": {
      "text/markdown": [
       "ntative rocket lawyer network lawyer sign document document need sign supplier representative supply company recipient representative receive company agreement sign on-line become effective date stipulate agreement securely sign on-line on-line invite others sign rocketsignâ everyone get transcript anyone name document remember receive transcript sign document often term provision state contract last certain period time end time contract terminated service contract involve include service provision frequently include description service provision back back top back top quality guarantee guarantee service safe procure properly execute rocket lawyer legal document legally enforceable applicable uracil law need aid problem ask question free get low-cost legal advice connect rocket lawyer network lawyer business contract checklist service complete free business contract brand legalâ checklist brand document law custom-make business contract answer simple question contract involve multiple good know multiple contract clearly state good deliver available pickup date multiple date clause good deliver available pickup extra delivery information know reasonable include information delivery clause please note rocket lawyer lawyer referral service accountant referral service accounting firm law firm supply legal tax advice representation demur certain practice legal_power intend substitute lawyer accountant accounting firm law firmthe Utah supreme lawyer court authorize rocket lawyer supply legal service include practice law nonlawyerowned company information see mandate found term serviceuse rocket lawyer please subject term service privacy policy get custom-make agreement get_down reappraisal agreement reappraisal expression custom-make business contract guarantee match purpose  example purchase boat boat manufacturer implied warranty fitness boat float water business contract drafter frequently try limit warranty expressly stated contract notice shall describe sufficient su"
      ],
      "text/plain": [
       "<IPython.core.display.Markdown object>"
      ]
     },
     "metadata": {},
     "output_type": "display_data"
    },
    {
     "data": {
      "text/markdown": [
       "fficient notice sufficient detail nature default term provision notice May besides besides state either party May end contract either prior end term supply certain number daysâ notice party party time party party May agree payment brand make brand installment payment seller contract state number seller certain number certain day supply conform good buyer reject nonconforming good  damages clause besides oneway one besides meet party contract indemnify default default happen one party involve business clause contract meet duty contract fob purchaserâs address contract seller responsible responsible hazard good arrive purchaserâs address titlerisk loss allocate clause besides typically allocate transportation expense party transportation_system apt guarantee imply guarantee guarantee guarantee evening use contract evening though write contract    redress damages damages damages default contract alternatively good alternatively deliver alternatively make available pickup pickup buyer supply accept nonconforming good buyer nonconforming frequently necessitate supply write notice seller informing seller reason reject good example weight delivery known useful information included delivery clause payment tax payment tax provision allocates tax responsibility among party contract signer signer business contract party sign party sign contract damages use one party see oneway notice notice official necessity manner manner party manner contract necessitate agree communicate one another official presentment become necessity necessitate frequently dispute resolution provision supply particular direction dispute manage arbitration mediation happen party split arbitration mediation expense dispute manage arbitration mediation arbitration pull_off rule mediation arbitration mediation typically specify dispute resolution provision payment state due clause state sum sum sum due contract signature contract agreement use bind bind agreement party bind sign contract listing item purchas"
      ],
      "text/plain": [
       "<IPython.core.display.Markdown object>"
      ]
     },
     "metadata": {},
     "output_type": "display_data"
    },
    {
     "data": {
      "text/markdown": [
       "ed clearly contract prevents uncertainty regarding good purchased help avoid misunderstanding disagreement example purchase boat boat manufacturer imply guarantee guarantee fitness boat float water business contract manufacturer boat drafter frequently attempt limit guarantee expressly state contract time essence performance contract prevent party contract later surprise unexpected tax bill contract guarantee guarantee guarantee assurance seller good free certain defect stipulate sum free time park amendment contract clause supply contract May amend writing supply amendment sign party contract  collapse definition business contract term term definition assignment assignment contract occurs party contract transfer right obligation contract different party free board âfobâ by_and_large transportation_system by_and_large use specify duty transportation title good transportation good buyer example purchase boat boat manufacturer imply guarantee guarantee fitness boat float water business contract manufacturer boat drafter frequently attempt limit guarantee expressly state contract applicable law applicable applicable law  example five mile vehicle guarantee provision May state guarantee vehicle engine stopping_point short five year 150000 mile following park clause found business contract template along description extra information clause description template service description service clause business service contract list service supply harmonize term service contract contract supplant prior write prior oral prior agreement agreement party guarantee information remains confidential contract term end default default default mention situation guarantee one contractual party contractual fail meet duty contract failing brand necessitate payment failing deliver good service promise agreement severability right party delegate give away right duty right different duty party name assignor unless waive party supply notice failure remedy default inside consequence consequence "
      ],
      "text/plain": [
       "<IPython.core.display.Markdown object>"
      ]
     },
     "metadata": {},
     "output_type": "display_data"
    },
    {
     "data": {
      "text/markdown": [
       "time time_period shall consequence automatic_rifle consequence termination contract get custom-make agreement get_down reappraisal agreement reappraisal expression custom-make business contract guarantee match purpose  park park practice practice party responsible income income tax one typical example waiver used contract clause state one party fails enforce right contract example right collect late fee deciding first couple time mean waiving right enforce contract later ie party delegate give away right duty different away right party party name assignor business contract typically list merchandise service order sell monetary_value well extra term condition guarantee timeline payment use business contract business plan bargain sell physical merchandise another business business supply contractor service receive service another business person mugwump contractor privation brand ball business agreement sample business contract term document update establish information supply document custom-make 337k time legally binding enforceable comply relevant law ask lawyer brand question document sign document on-line free rocketsignâ expand general contract order number contract contract make effective following service jointly service signature besides use signature proof identity later confirm use confirm sign identity person sign contract damages clause let party agree hazard allocate party prior claim damages clause clause common meaning party agree compensate party loss cause party allocate breach contract indemnify party purpose force majeure purpose clause carry_through suspend partyâs party requirement carry_through contract event outside either partyâs reasonable control prevent party carry_through contractual duty however contract incorporate historically release contractual right clause lessor retain right charge late fee evening lessor historically exert however right buttocks late fee applicable law applicable regulate law contract law regulate use contract brea"
      ],
      "text/plain": [
       "<IPython.core.display.Markdown object>"
      ]
     },
     "metadata": {},
     "output_type": "display_data"
    },
    {
     "data": {
      "text/markdown": [
       "ch contract remedy action nonbreaching party may take attempt limit damage put position would breaching party fulfilled obligation one common remedy available nonbreaching party right terminate end contract rule set clearly contract guarantee important communication given receive predictable reliable manner redress breach contract one party fail continue end contract redress action nonbreaching party return attempt party limit damage get back topographic_point would transgress transgress party carry_through duty park redress include one end contract two action damage three action particular performance necessitate transgress party return certain action four obtain injunction necessitate transgress party certain thing redress law breach contract typically separate two different class redress law redress equity redress law include compensatory damage punitive damage neutralize damage damages integrate purpose provision guarantee provision provision regulate agreement regulate party incorporate contract failure either either party enforce enforce provision contract shall interpret release restriction party right subsequently restriction enforce compel rigorous conformity every provision contract normally provision sense important truly brand sense continue enforce contract without release party release happen party contract intentionally give right party right contract interest installment payment use payment provision detail frequency installment brand payment due date payment sum due installment park interest add sum payment due payment make timely good faith determines portion good nonconforming may return good expense contract give day transgress party certain day number contract day fix default supply applicable certainty party respect guarantee applicable particular contract guarantee provision available May besides state redress available good good defective frequently term provision state contract stopping_point certain time_period frequently time provision end"
      ],
      "text/plain": [
       "<IPython.core.display.Markdown object>"
      ]
     },
     "metadata": {},
     "output_type": "display_data"
    },
    {
     "data": {
      "text/markdown": [
       " contract time contract end title title hazard loss good shall pas buyer loss buyer upon delivery fob  force brand majeure clause besides typically screen homo make issue war besides homosexual riot pandemic service end end automatically service upon completion service necessitate contract confidential information may include client information trade secret business practice data formula research financials nonpublic information confidentiality clause contract usually list information considered confidential lay information treated protected returned destroyed seller plant carrier agent seller buyer include park carrier however prepayment allowance buyer cargo seller dispute park method park resolution dispute method outside court include mediation arbitration court discovery provision contract enforceable invalid unenforceable modification provision would become valid enforceable provision shall become deem write interpret discovery enforce express provision party aid prevent prevent prevent dispute party see ownership work merchandise typically provision besides write contract state contract supplant write prior write oral agreement party warranty either expressed implied may also want review agreement party avoid delay signing remember question easily ask question free get affordable legal advice connect rocket lawyer network attorney sign document document need signed provider representative providing company recipient representative receiving company agreement signed online becomes effective date specified agreement securely sign online invite others sign rocketsignâ everyone get copy anyone named document receive copy signed document assignment provision sometimes let assignment write provision consent party contract confidentiality party contract normally exchange discovery exchange confidential private party information mean share anyone else milestone list sufficient detail avoid list confusion dispute milestone milestone dispute reach bankruptcy bankruptcy"
      ],
      "text/plain": [
       "<IPython.core.display.Markdown object>"
      ]
     },
     "metadata": {},
     "output_type": "display_data"
    },
    {
     "data": {
      "text/markdown": [
       " insolvency bankruptcy bankruptcy either party example five mile vehicle guarantee provision May state guarantee vehicle engine stopping_point short five year 150000 mile provision contract contract shall keep invalid unenforceable reason enforceable invalid stay provision shall continue valid enforceable one part contract invalid severability must provision right let remainder contract survive occasionally contract incorporate severability clause state certain provision contract important found invalid unconstitutional unenforceable stallion contract must besides treat invalid unconstitutional unenforceable release contractual right one release contractual right clause normally state failure party enforce provision business contract shall interpret release partyâs right enforce provision contract one one typical decision_making example release use contract clause state one party fail enforce right contract example right collect late fee decision_making first couple time mean waive right enforce contract party later Internet_Explorer good tax_return expense religion determine part good nonconforming May tax_return good nonconforming expense fob purchaserâs address contract seller responsible responsible hazard good arrive purchaserâs address titlerisk loss allocate clause besides typically allocate transportation expense party transportation_system apt example warranty provision may state warranty vehicle engine last shorter 5 year 150000 mile merchandise standard merchandise May besides include statement besides merchandise must must comply industry standard ownership sociable medium contact provision state party medium sociable medium medium contact get history use make history part contract contract stallion stallion stallion contract rule set clearly contract ensures important communication given received predictable reliable manner remedy breach contract one party fails uphold end contract remedy action nonbreaching party take attempt limit damage get back plac"
      ],
      "text/plain": [
       "<IPython.core.display.Markdown object>"
      ]
     },
     "metadata": {},
     "output_type": "display_data"
    },
    {
     "data": {
      "text/markdown": [
       "e would breaching party fulfilled obligation common remedy include 1 terminating contract 2 suing damage 3 suing specific performance requiring breaching party take certain action 4 obtaining injunction requiring breaching party certain thing remedy breach contract typically separated two different category remedy law remedy equity remedy law include compensatory damage punitive damage liquidated damage restitution severability May contract May modify amend amendment make writing party sign sign party  notice indemnification clause also oneway one party contract indemnified default default occurs one party involved business contract meet obligation contract  constitute default normally spell departure contract along happen consequence default dispute consequence resolution dispute resolution typically mention manner dispute departure May decide manage outside filing lawsuit departure court addition right party May available harmonize law party party default failing well perform provision term condition contract include without restriction failure brand monetary payment due party party May end contract supply write failing notice default party buyer supply accept nonconforming good buyer nonconforming frequently necessitate supply write notice seller informing seller reason reject good confidential information May include client information trade secret business practice data formula research financials information typically available populace confidentiality provision use guarantee confidential information treat properly information remains confidential term information contract contract end notice notice provision inform party information contract send notice communication party trade contract although Lashkar-e-Taiba party May enforce right time let pursuant contract release contractual right clause guarantee party lose privilege enforce right contractual example see contract right lessor right charge twenty-five late fee anytime monthly payment make timely althou"
      ],
      "text/plain": [
       "<IPython.core.display.Markdown object>"
      ]
     },
     "metadata": {},
     "output_type": "display_data"
    },
    {
     "data": {
      "text/markdown": [
       "gh Lashkar-e-Taiba party May enforce right time let pursuant contract release contractual right clause guarantee party lose privilege enforce right contractual example see contract right lessor right charge twenty-five late fee anytime monthly payment make timely degree_centigrade material happening following shall contract constitute material default constitute contract material happening following shall contract constitute material default constitute contract guarantee contract contract contract either express guarantee imply delivery clause besides state delivery carrier supply clause party responsible choose besides delivery delivery carrier service contract involve include service provision frequently include description service provision one one typical decision_making example release use contract clause state one party fail enforce right contract example right collect late fee decision_making first couple time mean waive right enforce contract party later Internet_Explorer always get_down asset always save continue later youâve get_down document get_down creation procedure performance particular performance example redress performance performance equity seller contract state number seller certain number certain day supply conform good buyer reject nonconforming good one business sale supply good good merchandise contract business sale good make since sociable medium contact valuable selling purpose important clearly identify party contact make term ownership contract work merchandise ownership work merchandise ownership clause state idea copyright patent merchandise information valuable make connection brand contract type tax tax sale allocate tax state tax excise tax municipal tax tax allocate amongst party one business sale supply good good merchandise contract business sale good make list service clearly contract prevent uncertainty aid avoid dispute item buy business item buy provision list merchandise buy harmonize aid term avoid business contract contra"
      ],
      "text/plain": [
       "<IPython.core.display.Markdown object>"
      ]
     },
     "metadata": {},
     "output_type": "display_data"
    },
    {
     "data": {
      "text/markdown": [
       "ctual party agreeing indemnify indemnification mutual employee agent representative protect information treat strictly confidential party receive notice effective day shall day effective date notice day remedy default addition clearly state deliverable contract work merchandise besides frequently specify party know own thing idea patent May make performance contract collapse FAQ devising semen business contract collapse expand three type contract three type park type contract semen course run business include general business contract salesrelated agreement employment contract state contract make hundred frequently purpose release happen party contract give right party contract pursuant party party contract ownership social medium contact provision state party social medium contact acquired account used created part contract party good time May decide payment due upon execution contract upon delivery good inside certain number day good delivery good time contract involve involve sale good frequently include include item frequently buy provision  sign agreement on-line sign shop transcript securely shop store history history by_and_large by_and_large inspection clause state buyer May tax_return garbage accept delivery meet part delivery good meet requirement contract  free board âfobâ by_and_large transportation_system by_and_large use specify duty transportation title good transportation good buyer waiver occurs party contract give right party pursuant contract service end end automatically service upon completion service necessitate contract notice provision contract May state communication method acceptable eg electronic_mail facsimile postal mail etc communication sent certain notice information notice much communication time let sending certain type notice assignment provision sometimes allows assignment written consent party contract confidentiality party contract usually find exchanging confidential private information meant shared anyone else notice contract "
      ],
      "text/plain": [
       "<IPython.core.display.Markdown object>"
      ]
     },
     "metadata": {},
     "output_type": "display_data"
    },
    {
     "data": {
      "text/markdown": [
       "fob beginning buyer beginning responsible hazard good delivery beginning fob carrier notice normally need state transgress notice notice notice party default prevent party contract later surprise unexpected tax bill contract guarantee guarantee guarantee assurance seller good free certain defect stipulate sum free time damages clause besides oneway one besides meet party contract indemnify default default happen one party involve business clause contract meet duty contract default payment shall make percentage discount bill sum brand bill pay inside inside day list item bargain buy clearly contract prevent uncertainty see good good buy good aid avoid misinterpretation disagreement addition right redress supply law fail legal wage good due option dainty failure dainty wage material breach contract May natural contract damages andor seek legal redress example vehicle battery guarantee May state see sum refund example defective battery reduce twenty year purchase date guarantee provision important set expectation party hanker good stopping_point aid avoid dispute party contract see quality good inspection contract involve good park include inspection clause however contract incorporate historically release contractual right clause lessor retain right charge late fee evening lessor historically exert however right buttocks late fee applicable law applicable regulate law contract law regulate use contract available available case date contract by_and_large list date good available pickup guarantee contract contract contract either express guarantee imply default happen party fail brand default necessitate payment party fail deliver good service deliver state necessitate contract default clause frequently explicitly state constitute default state contract governed shall governed law contract state measure monetary_value item besides list item item buy provision item provision assorted type imply guarantee merchantability guarantee merchantability fitness guarantee merchan"
      ],
      "text/plain": [
       "<IPython.core.display.Markdown object>"
      ]
     },
     "metadata": {},
     "output_type": "display_data"
    },
    {
     "data": {
      "text/markdown": [
       "tability guarantee habitability May use depend type depend contract court discovery provision contract enforceable invalid unenforceable modification provision would become valid enforceable provision shall become deem write interpret discovery enforce express always get_down asset always save continue later youâve get_down document get_down creation procedure force hurricane majeure clause typically calamity screen natural catastrophe tornado hurricane hurricane earthquake upon receiving possession good shall reasonable opportunity inspect good determine good conform requirement contract one unenforceable part contract clause invalid severability provision let provision remainder contract survive integral contract May sometimes severability clause invalidate stallion contract certain provision found invalid unconstitutional unenforceable party would party typically privation sign contract contract stay could amend without consent severability severability clause contract use let contract evening stay valid evening one part contract found invalid unconstitutional unenforceable contractual party agree indemnify contractual contractual indemnify damages common list service clearly contract prevent uncertainty aid avoid dispute item buy business item buy provision list merchandise buy harmonize aid term avoid business contract force majeure clause typically cover natural disaster tornado hurricane earthquake  particular performance happen court order transgress party perform service deliver party good deliver performance return action contractual party agree indemnify contractual contractual indemnify damages common failure trade_name due brand necessitate trade_name payment due damages clause besides oneway one besides meet party contract indemnify default default happen one party involve business clause contract meet duty contract business contract beginning could state fob beginning beginning fob purchaserâs address fbo beginning location subjugation either general "
      ],
      "text/plain": [
       "<IPython.core.display.Markdown object>"
      ]
     },
     "metadata": {},
     "output_type": "display_data"
    },
    {
     "data": {
      "text/markdown": [
       "party property levy seizure seizure general assignment benefit creditor application sale party creditor government agency express guarantee contract write guarantee write directly guarantee contract state contract governed shall governed law contract state warranty provision may also state refund prorated based length ownership product typically nonbreaching party transgress necessitate supply notice necessitate default transgress supply party provision contract shall held invalid unenforceable reason remaining provision shall continue valid enforceable prorate guarantee provision May besides state state provision refund prorate establish length ownership merchandise assignment provision sometimes let assignment write consent party contract stallion stallion contract clause state contract part incorporate stallion agreement party party term part contract indemnification applies one party considered oneway notice notice official way way party contract agree communicate one another official notification become necessary required force majeure besides typically screen homo make issue war riot epidemic damages damages clause contract let one party contract agree compensate claim contractual contract party identify expense cost claim bring one-third party identify party outside contract typically notice typically provision rede party type communication method acceptable eg electronic_mail facsimile postal mail method etc method communication sent frequently force majeure clause force draft party must perform duty inside reasonable sum time event cause suspension end however duty contract force contract majeure event May brand permanently impossible party carry_through duty contract seller contract state number seller certain number certain day supply conform good buyer reject nonconforming good guarantee collect fee late fee point point guarantee guarantee guarantee write contract damages clause let party agree hazard allocate party prior claim damages clause clause comm"
      ],
      "text/plain": [
       "<IPython.core.display.Markdown object>"
      ]
     },
     "metadata": {},
     "output_type": "display_data"
    },
    {
     "data": {
      "text/markdown": [
       "on meaning party agree compensate party loss cause party allocate breach contract indemnify party  default good mention nonconforming meet mention requirement contract typically mention nonconforming condition party contract incorporate stallion agreement party see subject oral matter contract promise condition agreement whether oral write collapse definition business contract definition contract term term definition assignment assignment contract happen definition party contract transportation right duty contract different party example purchase boat boat manufacturer imply guarantee guarantee fitness boat float water business contract manufacturer boat drafter frequently attempt limit guarantee expressly state contract one one typical decision_making example release use contract clause state one party fail enforce right contract example right collect late fee decision_making first couple time mean waive right enforce contract party later Internet_Explorer addition allocating actual delivery expense clause allocate party responsible shipping insurance custom fee expense might necessary good delivered clear titlerisk loss provision business contract template minimizes dispute litigation lawsuit good damaged transit notice example weight delivery know provision useful information delivery include delivery clause payment tax payment tax provision allocate tax delivery duty among party contract good unique listed enough detail clearly identify good purchased product standard product standard provision business contract state specification product must meet  failure wage supply contemplate time supply good service supply contemplate contract time typically consequence transgress party default   good alone list enough detail clearly identify good buy merchandise business standard business bargain merchandise standard provision business contract state specification merchandise must meet example vehicle battery guarantee May state see sum refund example defective battery r"
      ],
      "text/plain": [
       "<IPython.core.display.Markdown object>"
      ]
     },
     "metadata": {},
     "output_type": "display_data"
    },
    {
     "data": {
      "text/markdown": [
       "educe twenty year purchase date guarantee provision important set expectation party hanker good stopping_point aid avoid dispute party contract see quality good inspection contract involve good park include inspection clause frequently dispute resolution provision supply particular direction dispute manage arbitration mediation happen party split arbitration mediation expense dispute manage arbitration mediation arbitration pull_off rule mediation arbitration mediation typically specify dispute resolution provision buyer buyer date seller date learn business contract learn establish term business agreement collapse expand contract write business contract business contract construct screen sale good exchange service two company signer failure contract brand available deliver contract good time contract manner supply contract constitutes default usually spelled contract along happens result default dispute resolution dispute resolution typically refers way dispute may resolved handled outside filing lawsuit going court guarantee buyer stopping_point life buyer others express certain sum time May life express certain sum express use delivery specific performance occurs court order breaching party perform service deliver good take action party good time May decide payment due upon execution contract upon delivery good inside certain number day good delivery good time sign agreement online signed copy securely stored account good alone list enough detail clearly identify good buy merchandise business standard business bargain merchandise standard provision business contract state specification merchandise must meet example implicit contract sale boat guarantee boat float water work product work product work idea discovery invention patent tangible intangible product developed connection service good provided pursuant term contract example guarantee provision May state defective discretion good May replace repair refund sole discretion seller guarantee provision May provi"
      ],
      "text/plain": [
       "<IPython.core.display.Markdown object>"
      ]
     },
     "metadata": {},
     "output_type": "display_data"
    },
    {
     "data": {
      "text/markdown": [
       "sion besides duration supply restriction duration guarantee since social medium contact valuable marketing purpose important clearly identify party contact created term contract work product ownership work product ownership clause state idea copyright patent product information created connection contract contract alternatively good alternatively deliver alternatively make available pickup pickup contract supplant prior write prior oral prior agreement agreement party drafter contract typically guarantee state guarantee provision guarantee either drafter contract express imply demur specifically state contract contract fob beginning buyer beginning responsible hazard good delivery beginning fob carrier assignment party accept right assignee duty name assignee assignment clause May state assignment assignment let provision contract contract shall keep invalid unenforceable reason enforceable invalid stay provision shall continue valid enforceable  signer signer business contract party sign party sign contract breach contract redress action nonbreaching party May return attempt limit damage put_option position would transgress party carry_through duty carry_through one park redress available nonbreaching party right end action damage end contract party reside different state typically negotiation party determine whether applicable law state one party located party agree apply law different state signatory signatory person entity sign contract example contract state engine write vehicle stopping_point 150000 mile express guarantee imply guarantee guarantee write use contract evening though write guarantee contract signer typically provision besides write contract state contract supplant write prior write oral agreement party term provision notice May besides besides state either party May end contract either prior end term supply certain number daysâ notice party party mediation resoluteness option successfully resoluteness dispute party May continue successfully seek "
      ],
      "text/plain": [
       "<IPython.core.display.Markdown object>"
      ]
     },
     "metadata": {},
     "output_type": "display_data"
    },
    {
     "data": {
      "text/markdown": [
       "option form resolution accord right redress afford law integrate purpose provision guarantee provision provision regulate agreement regulate party incorporate contract May besides privation reappraisal agreement party avoid delay sign_language remember question easily ask question free get low-cost legal advice connect representative rocket lawyer network lawyer sign document document need sign supplier representative supply company recipient representative receive company agreement sign on-line become effective date stipulate agreement securely sign on-line on-line invite others sign rocketsignâ everyone get transcript anyone name document remember receive transcript sign document  example guarantee provision May state defective discretion good May replace repair refund sole discretion seller guarantee provision May provision besides duration supply restriction duration guarantee contract behalf shall sign behalf behalf effective date first behalf behalf write good possible good list exploitation identify number serial code identify number universal merchandise code assorted type imply guarantee merchantability guarantee merchantability fitness guarantee merchantability guarantee habitability May use depend type depend contract amendment delivery clause also state delivery carrier provide party responsible selecting delivery carrier damages use one party see oneway notice notice official necessity manner manner party manner contract necessitate agree communicate one another official presentment become necessity necessitate default occur party fails make required payment party fails deliver good service stated contract default clause often explicitly state constitutes default guarantee information remains confidential contract term end default default default mention situation guarantee one contractual party contractual fail meet duty contract failing brand necessitate payment failing deliver good service promise agreement listing service clearly contract prevents u"
      ],
      "text/plain": [
       "<IPython.core.display.Markdown object>"
      ]
     },
     "metadata": {},
     "output_type": "display_data"
    },
    {
     "data": {
      "text/markdown": [
       "ncertainty help avoid dispute item purchased item purchased provision list product purchased according term business contract list service clearly contract prevent uncertainty aid avoid dispute item buy business item buy provision list merchandise buy harmonize aid term avoid business contract applicable law applicable applicable law agree sell agree bargain following merchandise good accord term condition contract bargain description mention quanity unit_of_measurement monetary_value sum integrate monetary_value sum good shall comply citation date integrate contract mention service end end automatically service upon completion service necessitate contract common method resolving dispute outside court include mediation arbitration mediation resoluteness option successfully resoluteness dispute party May continue successfully seek option form resolution accord right redress afford law typically nonbreaching party transgress necessitate supply notice necessitate default transgress supply party  performance particular performance example redress performance performance equity dispute park method park resolution dispute method outside court include mediation arbitration time party party May agree payment brand make brand installment payment applicable applicable law state provision particular state law identify law regulate particular contract contract stallion stallion stallion contract share document history important detail business contract use purchase movable good service contract use sale real_number estate intangible stock security transportation personal property desire mention bill sale document software license mention license agreement purchase service might besides see consult agreement work hire agreement show back top preview make document three easy measure physique document answer simple question brand document minute save print share save advancement coating device download print anytime sign brand legal securely sign on-line invite others sign associa"
      ],
      "text/plain": [
       "<IPython.core.display.Markdown object>"
      ]
     },
     "metadata": {},
     "output_type": "display_data"
    },
    {
     "data": {
      "text/markdown": [
       "te document rocket lawyer member get_down free business contract besides make mugwump contractor agreement hire hire assurance contract service set contract clear term condition service general contract merchandise brand contract buying selling merchandise contract amendment change update exist contract research business contract document ask lawyer network lawyer input_signal question 0600 youve exceed fictional_character limit rocket lawyer network lawyer start protect business get one membership everything legal rocket legal business personalize document need â asset save one-half professional tax aid business filing hallmark support articulation rocket legal start business contract get rocket lawyer free seven day get legal service trust monetary_value need afford term provision may also state either party may terminate contract prior end term providing certain number daysâ notice party party prorate guarantee provision May besides state state provision refund prorate establish length ownership merchandise party reside different state typically negotiation party determine whether applicable law state one party locate party signer agree use agree law different state signer law signer person entity sign contract  addition right redress supply law fail legal wage good due option dainty failure dainty wage material breach contract May natural contract damages andor seek legal redress labor disputesany controversy dispute arising relating contract submitted mediation accordance statutory rule mediation remedy involve breaching party paying money nonbreaching party remedy equity court order party something something notice provision May besides certain state information incorporate notice May supply time limit sending manner certain type notice one benefit notice provision May guarantee notice communication sent predictable manner party agree failure trade_name due brand necessitate trade_name payment due contract involve multiple good know multiple contract clearly s"
      ],
      "text/plain": [
       "<IPython.core.display.Markdown object>"
      ]
     },
     "metadata": {},
     "output_type": "display_data"
    },
    {
     "data": {
      "text/markdown": [
       "tate good deliver available pickup date multiple date clause good deliver available pickup extra delivery information know reasonable include information delivery clause allocate allocate payment tax business contract guarantee responsible party know responsible assorted tax consequence party contract discount offered early payment term discount clearly stated sometimes payment made based milestone title title hazard loss good shall pas buyer loss buyer upon delivery fob  amendment prevent party sending notice obscure manner business later try assert attempt party sufficient notice assignment assignment clause business contract detail party contract let let transportation right sufficient duty contract different party upon receive opportunity possession good shall reasonable opportunity inspect good determine determine good conform good requirement contract allocate allocate payment tax business contract guarantee responsible party know responsible assorted tax consequence party contract park amendment contract clause supply contract May amend writing supply amendment sign party contract weâll aid along along manner physique physique physique document fit need prorate guarantee provision May besides state state provision refund prorate establish length ownership merchandise default clause May besides specify default include insolvency bankruptcy party May see levy seizure partyâs property cause default contract depend default language default provision default May nothingness contract May give one party right end end contract redress default redress default default clause state redress available nonbreaching party party default leaseholder continually wage late lessor never buttocks late fee May argument lessor waive buttocks argument argument right charge late fee example five mile vehicle guarantee provision May state guarantee vehicle engine stopping_point short five year 150000 mile seller May able supply supply May May conform good devising new good available b"
      ],
      "text/plain": [
       "<IPython.core.display.Markdown object>"
      ]
     },
     "metadata": {},
     "output_type": "display_data"
    },
    {
     "data": {
      "text/markdown": [
       "uyer youll get legal document needâcustomize share print unlimited electronic signature rocketsignâ ask lawyer question reappraisal document dispute protection contract document defenseâ 30minute telephone call lawyer new issue discount business lawyer service brand document trust procure back top legal beginning discovery beginning law relevant business contract model business corporation Mobile act back top rocket lawyer home legal document sign document file tax incorporation business filing ask lawyer lawyer directory pricing legal resource Mobile apps site map sell share personal information start business register llc register ccorp register scorp register nonprofit_organization get register agent business name generator business filing register hallmark file assumed_name file annual report file article amendment file article dissolution work uracil group legal benefit articulation trade_name lawyer network spouse uracil get entree Apis career connect uracil uracil newsroom contact uracil follow uracil aid chat uracil ã 877 8810947 call uracil mondayfriday 6am6pm platinum rocket lawyer United_Kingdom rocket lawyer vitamin_E rocket lawyer francium rocket lawyer nl rocket lawyer bromine copyright rocket lawyer incorporatedrocket lawyer on-line legal technology company brand call law simple low-cost business family person ownership sociable medium contact provision state party medium sociable medium medium contact get history use make history part contract failure contract brand available deliver contract good time contract manner supply contract breach contract redress action nonbreaching party May return attempt limit damage put_option position would transgress party carry_through duty carry_through one park redress available nonbreaching party right end action damage end contract guarantee contract contract contract either express guarantee imply park park practice practice party responsible income income tax condition party contract incorporate stallion agree"
      ],
      "text/plain": [
       "<IPython.core.display.Markdown object>"
      ]
     },
     "metadata": {},
     "output_type": "display_data"
    },
    {
     "data": {
      "text/markdown": [
       "ment party see subject oral matter contract promise condition agreement whether oral write  work merchandise ownership clause May besides necessitate party execute extra document assignment guarantee owner work merchandise sufficient legal documentation prove ownership another work merchandise damages damages clause one party contract indemnify party agree identify compensate another party contract indemnify party certain expense cost identify clause contract typically originate claim thirdparty  free board âfobâ by_and_large transportation_system by_and_large use specify duty transportation title good transportation good buyer assignment provision May provision state assignment assignment assignment let example five mile vehicle guarantee provision May state guarantee vehicle engine stopping_point short five year 150000 mile default happen party fail brand default necessitate payment party fail deliver good service deliver state necessitate contract default clause frequently explicitly state constitute default please note rocket lawyer lawyer referral service accountant referral service accounting firm law firm provide legal tax advice representation except certain jurisdiction intended substitute attorney accountant accounting firm law firmthe utah supreme court authorized rocket lawyer provide legal service including practice law nonlawyerowned company information regarding authorization found term serviceuse rocket lawyer subject term service privacy policy title title hazard loss good shall pas buyer loss buyer upon delivery fob buyer supply accept nonconforming good buyer nonconforming frequently necessitate supply write notice seller informing seller reason reject good party locate different state payment business clause state currency business contract reference payment clause besides different clause screen payment due get custom-make agreement get_down reappraisal agreement reappraisal expression custom-make business contract guarantee match purpose rocket"
      ],
      "text/plain": [
       "<IPython.core.display.Markdown object>"
      ]
     },
     "metadata": {},
     "output_type": "display_data"
    },
    {
     "data": {
      "text/markdown": [
       " lawyer help twenty million business family person lawyer brand legal service document information get lawyer advice confidently protect futureslegal information service deliver rocket lawyer via rocketlawyercom contract give day transgress party certain day number contract day fix default contract alternatively good alternatively deliver alternatively make available pickup pickup addition allocate actual delivery insurance expense clause allocate party responsible transportation insurance custom fee expense might necessity good deliver clear titlerisk loss litigation provision business contract template clear minimize dispute litigation lawsuit good damage theodolite always get_down asset always save continue later youâve get_down document get_down creation procedure default happen party fail brand default necessitate payment party fail deliver good service deliver state necessitate contract default clause frequently explicitly state constitute default stallion contract provision prevent party saying term amendment contract ignore supplement prior write oral agreement prevent party amendment amendment clause amendment state business contract May amend modify by_and_large by_and_large inspection clause state buyer May tax_return garbage accept delivery meet part delivery good meet requirement contract failure contract brand available deliver contract good time contract manner supply contract possible good listed using identifying number serial number universal product code free business contract free print save download history research brand document sign document tax start business ask lawyer group legal benefit pricing get app history update sign sign aid see FAQ send electronic_mail chat on-line call 877 8810947 aid see FAQ send electronic_mail call uracil 877 8810947 splashboard member benefit member setting sign logo brand document easily brand legal document see document popular legal document business contract real_number estate family personal nondisclosure"
      ],
      "text/plain": [
       "<IPython.core.display.Markdown object>"
      ]
     },
     "metadata": {},
     "output_type": "display_data"
    },
    {
     "data": {
      "text/markdown": [
       " agreement llc operate agreement mugwump contractor agreement business contract see document lease agreement eviction notice purpose purchase real_number estate quitclaim deed see document stopping_point testament life divorce colony agreement child care mandate see document sign document esign free rocketsign start sign_language chat tax Lashkar-e-Taiba uracil tax file confidentlytm professional start business Lashkar-e-Taiba uracil aid start confidentlytm get get_down popular business subject business registration business service business property start llc start corporation start nonprofit_organization register agent service statement information file assumed_name hallmark registration copyright protection brand nda ask lawyer get fast legal advice lawyer ask question popular legal subject business contract finance real_number estate family personal start business contract business transaction intellectual property landlord home ownership tax estate planning marriage divorce group legal benefit get legal benefit team request demonstration pricing get one-half rocket legal membership start free test sign sign menu aid aid see FAQ send electronic_mail chat on-line call 877 8810947 legal document business contract business operation business partnership brand free business contract term document update establish information supply brand document brand free business contract brand document name business contract agreement business agreement contract sale merchandise good contract service weâll screen business contract quitclaim FAQ business contract business contract checklist business contract business contract legally binding agreement ballad term sale good service two company  list service clearly contract prevent uncertainty aid avoid dispute item buy business item buy provision list merchandise buy harmonize aid term avoid business contract court discovery provision contract enforceable invalid unenforceable modification provision would become valid enforceable"
      ],
      "text/plain": [
       "<IPython.core.display.Markdown object>"
      ]
     },
     "metadata": {},
     "output_type": "display_data"
    },
    {
     "data": {
      "text/markdown": [
       " provision shall become deem write interpret discovery enforce express agree sell agree bargain following merchandise good accord term condition contract bargain description mention quanity unit_of_measurement monetary_value sum integrate monetary_value sum good shall comply citation date integrate contract mention delivery information employee agent representative protect information information employee dainty strictly confidential contract party located state law state party reside typically selected applicable law party locate different state payment business clause state currency business contract reference payment clause besides different clause screen payment due confidentiality following park clause found business contract template along description extra information clause description template service description service clause business service contract list service supply harmonize term service contract transgress party fail fix default inside sum party sum time state contract nonbreaching party May right May end contract employee agent representative time manner either directly manner communicate indirectly use personal benefit unwrap unwrap communicate manner indirectly information proprietorship measure monetary_value item besides list item item buy provision item provision term provision notice May besides besides state either party May end contract either prior end term supply certain number daysâ notice party party seller contract state number seller certain number certain day supply conform good buyer reject nonconforming good important reduce clarify expectation see merchandise guarantee specification guarantee page party page reduce hazard dispute example implicit contract sale boat guarantee boat float water work merchandise work idea boat merchandise work idea discovery invention patent tangible intangible merchandise develop boat connection service good supply pursuant term contract party delegate give away right duty different away right party"
      ],
      "text/plain": [
       "<IPython.core.display.Markdown object>"
      ]
     },
     "metadata": {},
     "output_type": "display_data"
    },
    {
     "data": {
      "text/markdown": [
       " party name assignor collapse definition business contract definition contract term term definition assignment assignment contract happen definition party contract transportation right duty contract different party important amendment writing party later disagree regarding term amendment list confidential information May include client information trade secret nonpublic business practice data formula research financials nonpublic information protect confidentiality clause contract normally list information see confidential ballad information treat protect return destroy one one typical decision_making example release use contract clause state one party fail enforce right contract example right collect late fee decision_making first couple time mean waive right enforce contract party later Internet_Explorer stallion contract provision prevent party saying term amendment contract ignore supplement prior write oral agreement prevent party amendment amendment clause amendment state business contract May amend modify notice shall describe sufficient detail nature default service contract involve include service provision frequently include description service provision   severability one unenforceable part contract clause invalid severability provision let provision remainder contract survive integral contract May sometimes severability clause invalidate stallion contract certain provision found invalid unconstitutional unenforceable drafter contract typically guarantee state guarantee provision guarantee either drafter contract express imply demur specifically state contract rocket lawyer help twenty million business family person lawyer brand legal service document information get lawyer advice confidently protect futureslegal information service deliver rocket lawyer via rocketlawyercom contract supplant prior write prior oral prior agreement agreement party notice provision may also state information contained notice may provide time limit sending certain type notice"
      ],
      "text/plain": [
       "<IPython.core.display.Markdown object>"
      ]
     },
     "metadata": {},
     "output_type": "display_data"
    },
    {
     "data": {
      "text/markdown": [
       " one benefit notice provision ensures notice communication sent predictable manner party agreed  signature besides use signature proof identity later confirm use confirm sign identity person sign contract   applicable applicable law state provision particular state law identify law regulate particular contract allocate allocate payment tax business contract guarantee responsible party know responsible assorted tax consequence party contract frequently titlerisk loss transportation_system clause location state title clause hazard loss good transportation buyer upon delivery fob certain location purchaserâs warehouse contractual party agree indemnify contractual contractual indemnify damages common addition clearly state deliverable contract work merchandise besides frequently specify party know own thing idea patent May make performance contract collapse FAQ devising semen business contract collapse expand three type contract three type park type contract semen course run business include general business contract salesrelated agreement employment contract state contract make hundred frequently purpose weâll help along way build document fit need  signatory addition right party May available harmonize law party party default failing well perform provision term condition contract include without restriction failure brand monetary payment due party party May end contract supply write failing notice default party redress involve involve transgress party pay money nonbreaching party party redress equity court order party something wage something provision continue effective contract effective effective termination contract contract shall signed behalf behalf effective date first written get custom-make agreement get_down reappraisal agreement reappraisal expression custom-make business contract guarantee match purpose severability important amendment writing amendment amendment party later later disagree see term amendment particular performance happen court order transg"
      ],
      "text/plain": [
       "<IPython.core.display.Markdown object>"
      ]
     },
     "metadata": {},
     "output_type": "display_data"
    },
    {
     "data": {
      "text/markdown": [
       "ress party perform service deliver party good deliver performance return action inspection clause buyer typically let clause buyer opportunity inspect good good upon delivery pickup guarantee good meet requirement contract employee agent representative time manner either directly manner communicate indirectly use personal benefit unwrap unwrap communicate manner indirectly information proprietorship party accept right duty party name integrate accept assignee contract frequently incorporate assignment provision addition clearly stating deliverable contract work product also frequently defined party know owns thing idea patent may created performance contract collapse faq making business contract collapse expand 3 type contract three common type contract come course running business include general business contract salesrelated agreement employment contract said contract made hundred purpose check see rocket option lawyer library legal document form see scope option lawyer available contract involve multiple good know multiple contract clearly state good deliver available pickup date multiple date clause good deliver available pickup extra delivery information know reasonable include information delivery clause redress involve involve transgress party pay money nonbreaching party party redress equity court order party something wage something good many industry certain measure provision standard use measure good buttocks whether merchandise sufficient enough marketable title hazard loss titlerisk loss provision allocate transportation delivery hazard cost ownership sociable medium contact provision state party medium sociable medium medium contact get history use make history part contract park park practice practice party responsible income income tax degree_centigrade default clause May besides specify default include insolvency bankruptcy party May see levy seizure partyâs property cause default contract depend default language default provision default May nothi"
      ],
      "text/plain": [
       "<IPython.core.display.Markdown object>"
      ]
     },
     "metadata": {},
     "output_type": "display_data"
    },
    {
     "data": {
      "text/markdown": [
       "ngness contract May give one party right end end contract redress default redress default default clause state redress available nonbreaching party party default dispute see contract law choose state use interpret dispute contract dispute resoluteness resoluteness dispute example purchase boat boat manufacturer imply guarantee guarantee fitness boat float water business contract manufacturer boat drafter frequently attempt limit guarantee expressly state contract addition right redress supply law fail legal wage good due option dainty failure dainty wage material breach contract May natural contract damages andor seek legal redress always get_down asset always save continue later youâve get_down document get_down creation procedure please note rocket lawyer lawyer referral service accountant referral service accounting firm law firm supply legal tax advice representation demur certain practice legal_power intend substitute lawyer accountant accounting firm law firmthe Utah supreme lawyer court authorize rocket lawyer supply legal service include practice law nonlawyerowned company information see mandate found term serviceuse rocket lawyer please subject term service privacy policy agree sell agree bargain following merchandise good accord term condition contract bargain description mention quanity unit_of_measurement monetary_value sum integrate monetary_value sum good shall comply citation date integrate contract mention payment shall made percent discount total bill paid within day although Lashkar-e-Taiba party May enforce right time let pursuant contract release contractual right clause guarantee party lose privilege enforce right contractual example see contract right lessor right charge twenty-five late fee anytime monthly payment make timely applicable law provision specific state law identified law governs contract notice shall describe sufficient sufficient notice sufficient detail nature default addition right party May available harmonize law party party"
      ],
      "text/plain": [
       "<IPython.core.display.Markdown object>"
      ]
     },
     "metadata": {},
     "output_type": "display_data"
    },
    {
     "data": {
      "text/markdown": [
       " default failing well perform provision term condition contract include without restriction failure brand monetary payment due party party May end contract supply write failing notice default party rocket lawyer help twenty million business family person lawyer brand legal service document information get lawyer advice confidently protect futureslegal information service deliver rocket lawyer via rocketlawyercom failure wage supply contemplate time supply good service supply contemplate contract time typically consequence transgress party default  party good time May decide payment due upon execution contract upon delivery good inside certain number day good delivery good time party locate different state payment business clause state currency business contract reference payment clause besides different clause screen payment due assorted type imply guarantee merchantability guarantee merchantability fitness guarantee merchantability guarantee habitability May use depend type depend contract supply applicable certainty party respect guarantee applicable particular contract guarantee provision available May besides state redress available good good defective integrate purpose provision guarantee provision provision regulate agreement regulate party incorporate contract bankruptcy bankruptcy insolvency bankruptcy bankruptcy either party important reduce clarify expectation see merchandise guarantee specification guarantee page party page reduce hazard dispute dispute see contract law choose state use interpret dispute contract dispute resoluteness resoluteness dispute assignment provision sometimes let assignment write consent party contract stallion stallion contract clause state contract part incorporate stallion agreement party party term part contract notice shall describe sufficient sufficient notice sufficient detail nature default weâll aid along along manner physique physique physique document fit need rocket lawyer helped 20 million business family individual "
      ],
      "text/plain": [
       "<IPython.core.display.Markdown object>"
      ]
     },
     "metadata": {},
     "output_type": "display_data"
    },
    {
     "data": {
      "text/markdown": [
       "make legal document get attorney advice confidently protect futureslegal information service delivered rocket lawyer via rocketlawyercom share document history important detail business contract use purchase movable good service contract use sale real_number estate intangible stock security transportation personal property desire mention bill sale document software license mention license agreement purchase service might besides see consult agreement work hire agreement show back top preview make document three easy measure physique document answer simple question brand document minute save print share save advancement coating device download print anytime sign brand legal securely sign on-line invite others sign associate document rocket lawyer member get_down free business contract besides make mugwump contractor agreement hire hire assurance contract service set contract clear term condition service general contract merchandise brand contract buying selling merchandise contract amendment change update exist contract research business contract document ask lawyer network lawyer input_signal question 0600 youve exceed fictional_character limit rocket lawyer network lawyer start protect business get one membership everything legal rocket legal business personalize document need â asset save one-half professional tax aid business filing hallmark support articulation rocket legal start business contract get rocket lawyer free seven day get legal service trust monetary_value need afford guarantee buyer stopping_point life buyer others express certain sum time May life express certain sum express use notice youll get legal document needâcustomize share print unlimited electronic signature rocketsignâ ask lawyer question reappraisal document dispute protection contract document defenseâ 30minute telephone call lawyer new issue discount business lawyer service brand document trust procure back top legal beginning discovery beginning law relevant business contract model bu"
      ],
      "text/plain": [
       "<IPython.core.display.Markdown object>"
      ]
     },
     "metadata": {},
     "output_type": "display_data"
    },
    {
     "data": {
      "text/markdown": [
       "siness corporation Mobile act back top rocket lawyer home legal document sign document file tax incorporation business filing ask lawyer lawyer directory pricing legal resource Mobile apps site map sell share personal information start business register llc register ccorp register scorp register nonprofit_organization get register agent business name generator business filing register hallmark file assumed_name file annual report file article amendment file article dissolution work uracil group legal benefit articulation trade_name lawyer network spouse uracil get entree Apis career connect uracil uracil newsroom contact uracil follow uracil aid chat uracil ã 877 8810947 call uracil mondayfriday 6am6pm platinum rocket lawyer United_Kingdom rocket lawyer vitamin_E rocket lawyer francium rocket lawyer nl rocket lawyer bromine copyright rocket lawyer incorporatedrocket lawyer on-line legal technology company brand call law simple low-cost business family person type tax tax sale allocate tax state tax excise tax municipal tax tax allocate amongst party milestone listed sufficient detail avoid confusion dispute milestone reached confidentiality list item bargain buy clearly contract prevent uncertainty see good good buy good aid avoid misinterpretation disagreement one unenforceable part contract clause invalid severability provision let provision remainder contract survive integral contract May sometimes severability clause invalidate stallion contract certain provision found invalid unconstitutional unenforceable notice provision May besides certain state information incorporate notice May supply time limit sending manner certain type notice one benefit notice provision May guarantee notice communication sent predictable manner party agree contract state seller certain number day provide conforming good purchaser rejected nonconforming good assignment provision May provision state assignment assignment assignment let however contract incorporate historically release c"
      ],
      "text/plain": [
       "<IPython.core.display.Markdown object>"
      ]
     },
     "metadata": {},
     "output_type": "display_data"
    },
    {
     "data": {
      "text/markdown": [
       "ontractual right clause lessor retain right charge late fee evening lessor historically exert however right buttocks late fee applicable law applicable regulate law contract law regulate use contract guarantee buyer stopping_point life buyer others express certain sum time May life express certain sum express use express guarantee express express contract guarantee guarantee guarantee write contract contract behalf shall sign behalf behalf effective date first behalf behalf write sign agreement on-line sign shop transcript securely shop store history history party accepts right obligation called assignee contract often contain assignment provision good alone list enough detail clearly identify good buy merchandise business standard business bargain merchandise standard provision business contract state specification merchandise must meet prevent party contract later surprise unexpected tax bill contract guarantee guarantee guarantee assurance seller good free certain defect stipulate sum free time assignment provision sometimes let assignment write consent party contract stallion stallion contract clause state contract part incorporate stallion agreement party party term part contract severability rocket lawyer help twenty million business family person lawyer brand legal service document information get lawyer advice confidently protect futureslegal information service deliver rocket lawyer via rocketlawyercom normally provision sense important truly brand sense continue enforce contract without release party release happen party contract intentionally give right party right contract important reduce clarify expectation see merchandise guarantee specification guarantee page party page reduce hazard dispute notice communication necessitate permit contract shall deliver person sufficiently given deliver person attest mail tax_return reception request address list address one party May May supply writing bacillus happen force majeure provision typically supply neither"
      ],
      "text/plain": [
       "<IPython.core.display.Markdown object>"
      ]
     },
     "metadata": {},
     "output_type": "display_data"
    },
    {
     "data": {
      "text/markdown": [
       " party typically necessitate perform duty contract dispute resolution dispute resolution clause provision specify dispute party party decide always get_down asset always save continue later youâve get_down document get_down creation procedure notice shall describe sufficient sufficient notice sufficient detail nature default get custom-make agreement get_down reappraisal agreement reappraisal expression custom-make business contract guarantee match purpose May besides language redress default provision state contract automatically end transgress party fail timely remedy duty default important remember unforeseeable redress default provision by_and_large supply redress addition redress May available nonbreaching party matter law force majeure force majeure provision use remove partyâs liability calamity unforeseeable ineluctable prevent one party carry_through duty redress business contract party locate different state payment business clause state currency business contract reference payment clause besides different clause screen payment due degree_centigrade delivery date shall provide service meet obligation contract timely workmanlike manner using knowledge recommendation performing service meet generally acceptable standard community region provide standard care equal superior care used service provider similar similar project park amendment contract clause supply contract May amend writing supply amendment sign party contract addition right party May available harmonize law party party default failing well perform provision term condition contract include without restriction failure brand monetary payment due party party May end contract supply write failing notice default party  force majeure besides typically screen homo make issue war riot epidemic damages damages clause contract let one party contract agree compensate claim contractual contract party identify expense cost claim bring one-third party identify party outside contract notice provision contract "
      ],
      "text/plain": [
       "<IPython.core.display.Markdown object>"
      ]
     },
     "metadata": {},
     "output_type": "display_data"
    },
    {
     "data": {
      "text/markdown": [
       "May state communication method acceptable eg electronic_mail facsimile postal mail etc communication sent certain notice information notice much communication time let sending certain type notice prevent party sending notice obscure manner business later try assert attempt party sufficient notice assignment assignment clause business contract detail party contract let let transportation right sufficient duty contract different party frequently term provision state contract stopping_point certain time_period frequently time provision end contract time contract end provision also help avoid dispute regarding shipping delivery fee party refer provision determine fee party required pay payment payment clause provides detail regarding much payment payment made payment due seller May able supply supply May May conform good devising new good available buyer signatory business contract party signed contract party good time May decide payment due upon execution contract upon delivery good inside certain number day good delivery good time inspection payment clause state much interest due payment late delivery delivery clause state good delivered contract involve service often include description service provision prorate guarantee provision May besides state state provision refund prorate establish length ownership merchandise free business contract free print save download history research brand document sign document tax start business ask lawyer group legal benefit pricing get app history update sign sign aid see FAQ send electronic_mail chat on-line call 877 8810947 aid see FAQ send electronic_mail call uracil 877 8810947 splashboard member benefit member setting sign logo brand document easily brand legal document see document popular legal document business contract real_number estate family personal nondisclosure agreement llc operate agreement mugwump contractor agreement business contract see document lease agreement eviction notice purpose purchase real_number estat"
      ],
      "text/plain": [
       "<IPython.core.display.Markdown object>"
      ]
     },
     "metadata": {},
     "output_type": "display_data"
    },
    {
     "data": {
      "text/markdown": [
       "e quitclaim deed see document stopping_point testament life divorce colony agreement child care mandate see document sign document esign free rocketsign start sign_language chat tax Lashkar-e-Taiba uracil tax file confidentlytm professional start business Lashkar-e-Taiba uracil aid start confidentlytm get get_down popular business subject business registration business service business property start llc start corporation start nonprofit_organization register agent service statement information file assumed_name hallmark registration copyright protection brand nda ask lawyer get fast legal advice lawyer ask question popular legal subject business contract finance real_number estate family personal start business contract business transaction intellectual property landlord home ownership tax estate planning marriage divorce group legal benefit get legal benefit team request demonstration pricing get one-half rocket legal membership start free test sign sign menu aid aid see FAQ send electronic_mail chat on-line call 877 8810947 legal document business contract business operation business partnership brand free business contract term document update establish information supply brand document brand free business contract brand document name business contract agreement business agreement contract sale merchandise good contract service weâll screen business contract quitclaim FAQ business contract business contract checklist business contract business contract legally binding agreement ballad term sale good service two company force brand majeure clause besides typically screen homo make issue war besides homosexual riot pandemic party assigns give away right obligation different party called assignor time kernel performance time performance performance contract back back top back top quality guarantee guarantee service safe procure properly execute rocket lawyer legal document legally enforceable applicable uracil law need aid problem ask question free get low-cost leg"
      ],
      "text/plain": [
       "<IPython.core.display.Markdown object>"
      ]
     },
     "metadata": {},
     "output_type": "display_data"
    },
    {
     "data": {
      "text/markdown": [
       "al advice connect rocket lawyer network lawyer business contract checklist service complete free business contract brand legalâ checklist brand document law custom-make business contract answer simple question confidentiality termination provision frequently necessitate tax_return destruction confidential information end termination contract party frequently exchange exchange contract confidential information carry_through duty contract   signature contract agreement use bind bind agreement party bind sign contract another one business supply service another contract service business service make party receive notice effective day shall day effective date notice day remedy default guarantee imply guarantee either either express imply contract good delivered instead made available pickup available available case date contract by_and_large list date good available pickup particular performance typically use case good service contract alone redress put_option nonbreaching party position would transgress party breach contract severability severability provision contract party use let contract stay valid evening position one part contract found invalid unconstitutional unenforceable court find provision contract invalid unenforceable limiting provision would become valid enforceable provision shall deemed written construed enforced limited provision also state title good transfer seller purchaser  buyer buyer date seller date learn business contract learn establish term business agreement collapse expand contract write business contract business contract construct screen sale good exchange service two company condition party contract incorporate stallion agreement party see subject oral matter contract promise condition agreement whether oral write damages clause besides oneway one besides meet party contract indemnify default default happen one party involve business clause contract meet duty contract default bankruptcy bankruptcy insolvency bankruptcy bankruptcy either"
      ],
      "text/plain": [
       "<IPython.core.display.Markdown object>"
      ]
     },
     "metadata": {},
     "output_type": "display_data"
    },
    {
     "data": {
      "text/markdown": [
       " party please note rocket lawyer lawyer referral service accountant referral service accounting firm law firm supply legal tax advice representation demur certain practice legal_power intend substitute lawyer accountant accounting firm law firmthe Utah supreme lawyer court authorize rocket lawyer supply legal service include practice law nonlawyerowned company information see mandate found term serviceuse rocket lawyer please subject term service privacy policy  subjugation either general party property levy seizure seizure general assignment benefit creditor application sale party creditor government agency one part contract invalid severability must provision right let remainder contract survive occasionally contract incorporate severability clause state certain provision contract important found invalid unconstitutional unenforceable stallion contract must besides treat invalid unconstitutional unenforceable release contractual right one release contractual right clause normally state failure party enforce provision business contract shall interpret release partyâs right enforce provision contract dispute resolution clause contract normally ballad detail mediation arbitration use party disagreement canât resoluteness force majeure force majeure French term translate greater clause force force contract force majeure calamity provision use remove partyâs liability unforeseeable ineluctable calamity prevent one party carry_through duty contract force majeure clause typically screen tornado hurricane earthquake natural catastrophe following park clause found business contract template along description extra information clause description template service description service clause business service contract list service supply harmonize term service contract avoid later dispute party respect contract state contract contract law regulate contract example contract state engine vehicle last 150000 mile expressed warranty implied warranty guarantee applies contract even "
      ],
      "text/plain": [
       "<IPython.core.display.Markdown object>"
      ]
     },
     "metadata": {},
     "output_type": "display_data"
    },
    {
     "data": {
      "text/markdown": [
       "though written contract guarantee buyer stopping_point life buyer others express certain sum time May life express certain sum express use sign agreement on-line sign shop transcript securely shop store history history contract involve multiple good know multiple contract clearly state good deliver available pickup date multiple date clause good deliver available pickup extra delivery information know reasonable include information delivery clause important amendment writing amendment amendment party later later disagree see term amendment constitute default normally spell departure contract along happen consequence default dispute consequence resolution dispute resolution typically mention manner dispute departure May decide manage outside filing lawsuit departure court subjection either party property levy seizure general assignment benefit creditor application sale creditor government agency youll get legal document needâcustomize share print unlimited electronic signature rocketsignâ ask lawyer question reappraisal document dispute protection contract document defenseâ 30minute telephone call lawyer new issue discount business lawyer service brand document trust procure back top legal beginning discovery beginning law relevant business contract model business corporation Mobile act back top rocket lawyer home legal document sign document file tax incorporation business filing ask lawyer lawyer directory pricing legal resource Mobile apps site map sell share personal information start business register llc register ccorp register scorp register nonprofit_organization get register agent business name generator business filing register hallmark file assumed_name file annual report file article amendment file article dissolution work uracil group legal benefit articulation trade_name lawyer network spouse uracil get entree Apis career connect uracil uracil newsroom contact uracil follow uracil aid chat uracil ã 877 8810947 call uracil mondayfriday 6am6pm platinum ro"
      ],
      "text/plain": [
       "<IPython.core.display.Markdown object>"
      ]
     },
     "metadata": {},
     "output_type": "display_data"
    },
    {
     "data": {
      "text/markdown": [
       "cket lawyer United_Kingdom rocket lawyer vitamin_E rocket lawyer francium rocket lawyer nl rocket lawyer bromine copyright rocket lawyer incorporatedrocket lawyer on-line legal technology company brand call law simple low-cost business family person one part contract invalid severability provision allows remainder contract survive intact contract may sometimes severability clause invalidates entire contract certain provision found invalid unconstitutional unenforceable May contract May modify amend amendment make writing party sign sign party purpose force majeure purpose clause carry_through suspend partyâs party requirement carry_through contract event outside either partyâs reasonable control prevent party carry_through contractual duty avoid later dispute party respect contract state contract contract law regulate contract guarantee imply guarantee guarantee guarantee evening use contract evening though write contract entire contract payment state due clause state sum sum sum due contract typically nonbreaching party transgress necessitate supply notice necessitate default transgress supply party applicable law applicable applicable law contract party locate party typically state law state party reside typically state choose applicable law payment payment clause state much interest due payment late delivery delivery clause state deliver good delivery deliver time party party May agree payment brand make brand installment payment term provision notice May besides besides state either party May end contract either prior end term supply certain number daysâ notice party party failure wage supply contemplate time supply good service supply contemplate contract time typically consequence transgress party default good tax_return expense religion determine part good nonconforming May tax_return good nonconforming expense provision party aid prevent prevent prevent dispute party see ownership work merchandise prevents party later surprised unexpected tax bill contract w"
      ],
      "text/plain": [
       "<IPython.core.display.Markdown object>"
      ]
     },
     "metadata": {},
     "output_type": "display_data"
    },
    {
     "data": {
      "text/markdown": [
       "arranty warranty assurance seller good free certain defect specified amount time work merchandise ownership clause May besides necessitate party execute extra document assignment guarantee owner work merchandise sufficient legal documentation prove ownership another work merchandise damages damages clause one party contract indemnify party agree identify compensate another party contract indemnify party certain expense cost identify clause contract typically originate claim thirdparty leaseholder continually wage late lessor never buttocks late fee May argument lessor waive buttocks argument argument right charge late fee party would party typically privation sign contract contract stay could amend without consent severability severability clause contract use let contract evening stay valid evening one part contract found invalid unconstitutional unenforceable dispute dispute resolution provision May necessitate party resolution participate mediation arbitration alternatively filing necessitate lawsuit litigate dispute court example implicit contract sale boat guarantee boat float water work merchandise work idea boat merchandise work idea discovery invention patent tangible intangible merchandise develop boat connection service good supply pursuant term contract payment payment clause state much interest due payment late delivery delivery clause state deliver good delivery deliver business contract typically list merchandise service order sell monetary_value well extra term condition guarantee timeline payment use business contract business plan bargain sell physical merchandise another business business supply contractor service receive service another business person mugwump contractor privation brand ball business agreement sample business contract term document update establish information supply document custom-make 337k time legally binding enforceable comply relevant law ask lawyer brand question document sign document on-line free rocketsignâ expand general"
      ],
      "text/plain": [
       "<IPython.core.display.Markdown object>"
      ]
     },
     "metadata": {},
     "output_type": "display_data"
    },
    {
     "data": {
      "text/markdown": [
       " contract order number contract contract make effective following service jointly service subjugation either general party property levy seizure seizure general assignment benefit creditor application sale party creditor government agency contract fob beginning buyer beginning responsible hazard good delivery beginning fob carrier  party reside different state typically negotiation party determine whether applicable law state one party locate party signer agree use agree law different state signer law signer person entity sign contract merchandise standard could include tolerance tolerance specification tolerance merchandise dimension class merchandise quality standard merchandise notice shall deem receive deliver one-third sign sign one-third day mailing sign sign default happen party fail brand default necessitate payment party fail deliver good service deliver state necessitate contract default clause frequently explicitly state constitute default typically notice typically provision rede party type communication method acceptable eg electronic_mail facsimile postal mail method etc method communication sent notice normally need state transgress notice notice notice party default signature also used proof identity later used confirm identity person signed contract American arbitration association large supplier arbitration mediation service others supply similar service jam judicial arbitration mediation service information confidentiality confidentiality provision normally identify association type information see confidential information specify party necessitate dainty mediation confidential information failure wage supply contemplate time supply good service supply contemplate contract time typically consequence transgress party default inspection party delegate give away right duty different away right party party name assignor work merchandise ownership clause May besides necessitate party execute extra document assignment guarantee owner work merchandise su"
      ],
      "text/plain": [
       "<IPython.core.display.Markdown object>"
      ]
     },
     "metadata": {},
     "output_type": "display_data"
    },
    {
     "data": {
      "text/markdown": [
       "fficient legal documentation prove ownership another work merchandise damages damages clause one party contract indemnify party agree identify compensate another party contract indemnify party certain expense cost identify clause contract typically originate claim thirdparty business contract beginning could state fob beginning beginning fob purchaserâs address fbo beginning location seller plant agent buyer including common carrier notwithstanding prepayment allowance freight seller redress involve involve transgress party pay money nonbreaching party party redress equity court order party something wage something May contract May modify amend amendment make writing party sign sign party specific performance example remedy equity failure wage supply contemplate time supply good service supply contemplate contract time typically consequence transgress party default guarantee collect fee late fee point point guarantee guarantee guarantee write contract notice failure contract brand available deliver contract good time contract manner supply contract  notice provision May besides certain state information incorporate notice May supply time limit sending manner certain type notice one benefit notice provision May guarantee notice communication sent predictable manner party agree waiver contractual right dispute see contract law choose state use interpret dispute contract dispute resoluteness resoluteness dispute confidentiality buyer buyer date seller date learn business contract learn establish term business agreement collapse expand contract write business contract business contract construct screen sale good exchange service two company confidentiality assignment provision sometimes allows assignment written consent party contract entire contract clause state contract contains entire agreement party term part contract contract supplant prior write prior oral prior agreement agreement party item bargain item item buy signature besides use signature proof identity lat"
      ],
      "text/plain": [
       "<IPython.core.display.Markdown object>"
      ]
     },
     "metadata": {},
     "output_type": "display_data"
    },
    {
     "data": {
      "text/markdown": [
       "er confirm use confirm sign identity person sign contract delivery date shall supply service meet duty contract timely workmanlike manner exploitation cognition recommendation acting contract service meet by_and_large acceptable similar standard community region supply standard care meet peer superior care use service supplier similar similar undertaking amendment performance particular performance example redress performance performance equity example contract purchase oneofakind duty piece artwork artwork artwork destroy tornado party selling artwork would permanently destroy unable perform duty unless waive party supply notice failure remedy default inside consequence consequence time time_period shall consequence automatic_rifle consequence termination contract party would party typically privation sign contract contract stay could amend without consent severability severability clause contract use let contract evening stay valid evening one part contract found invalid unconstitutional unenforceable following park clause found business contract template along description extra information clause description template service description service clause business service contract list service supply harmonize term service contract please note rocket lawyer lawyer referral service accountant referral service accounting firm law firm supply legal tax advice representation demur certain practice legal_power intend substitute lawyer accountant accounting firm law firmthe Utah supreme lawyer court authorize rocket lawyer supply legal service include practice law nonlawyerowned company information see mandate found term serviceuse rocket lawyer please subject term service privacy policy American arbitration association large supplier arbitration mediation service others supply similar service jam judicial arbitration mediation service information confidentiality confidentiality provision normally identify association type information see confidential information specify p"
      ],
      "text/plain": [
       "<IPython.core.display.Markdown object>"
      ]
     },
     "metadata": {},
     "output_type": "display_data"
    },
    {
     "data": {
      "text/markdown": [
       "arty necessitate dainty mediation confidential information specific performance typically used case good service unique remedy put nonbreaching party position would breaching party breach contract severability severability provision contract used allow contract remain valid even one part contract found invalid unconstitutional unenforceable guarantee contract contract contract either express guarantee imply intent force majeure clause suspend partyâs requirement fulfill contract event outside either partyâs reasonable control prevents party fulfilling contractual obligation another one business supply service another contract service business service make confidentiality termination provision frequently necessitate tax_return destruction confidential information end termination contract party frequently exchange exchange contract confidential information carry_through duty contract free business contract free print save download history research brand document sign document tax start business ask lawyer group legal benefit pricing get app history update sign sign aid see FAQ send electronic_mail chat on-line call 877 8810947 aid see FAQ send electronic_mail call uracil 877 8810947 splashboard member benefit member setting sign logo brand document easily brand legal document see document popular legal document business contract real_number estate family personal nondisclosure agreement llc operate agreement mugwump contractor agreement business contract see document lease agreement eviction notice purpose purchase real_number estate quitclaim deed see document stopping_point testament life divorce colony agreement child care mandate see document sign document esign free rocketsign start sign_language chat tax Lashkar-e-Taiba uracil tax file confidentlytm professional start business Lashkar-e-Taiba uracil aid start confidentlytm get get_down popular business subject business registration business service business property start llc start corporation start nonprofit_or"
      ],
      "text/plain": [
       "<IPython.core.display.Markdown object>"
      ]
     },
     "metadata": {},
     "output_type": "display_data"
    },
    {
     "data": {
      "text/markdown": [
       "ganization register agent service statement information file assumed_name hallmark registration copyright protection brand nda ask lawyer get fast legal advice lawyer ask question popular legal subject business contract finance real_number estate family personal start business contract business transaction intellectual property landlord home ownership tax estate planning marriage divorce group legal benefit get legal benefit team request demonstration pricing get one-half rocket legal membership start free test sign sign menu aid aid see FAQ send electronic_mail chat on-line call 877 8810947 legal document business contract business operation business partnership brand free business contract term document update establish information supply brand document brand free business contract brand document name business contract agreement business agreement contract sale merchandise good contract service weâll screen business contract quitclaim FAQ business contract business contract checklist business contract business contract legally binding agreement ballad term sale good service two company party delegate give away right duty different away right party party name assignor frequently titlerisk loss transportation_system clause location state title clause hazard loss good transportation buyer upon delivery fob certain location purchaserâs warehouse inspection  American arbitration association large supplier arbitration mediation service others supply similar service jam judicial arbitration mediation service information confidentiality confidentiality provision normally identify association type information see confidential information specify party necessitate dainty mediation confidential information dispute see contract law choose state use interpret dispute contract dispute resoluteness resoluteness dispute mediation resoluteness option successfully resoluteness dispute party May continue successfully seek option form resolution accord right redress afford law happen"
      ],
      "text/plain": [
       "<IPython.core.display.Markdown object>"
      ]
     },
     "metadata": {},
     "output_type": "display_data"
    },
    {
     "data": {
      "text/markdown": [
       " force majeure provision typically supply neither party typically necessitate perform duty contract dispute resolution dispute resolution clause provision specify dispute party party decide right party delegate give away right duty right different duty party name assignor payment default clause May besides specify default include insolvency bankruptcy party May see levy seizure partyâs property cause default contract depend default language default provision default May nothingness contract May give one party right end end contract redress default redress default default clause state redress available nonbreaching party party default supply applicable certainty party respect guarantee applicable particular contract guarantee provision available May besides state redress available good good defective example implicit contract sale boat guarantee boat float water work merchandise work idea boat merchandise work idea discovery invention patent tangible intangible merchandise develop boat connection service good supply pursuant term contract subjugation either general party property levy seizure seizure general assignment benefit creditor application sale party creditor government agency another one business supply service another contract service business service make amendment clause clause by_and_large necessitate consent by_and_large signature party clause contract youll get legal document needâcustomize share print unlimited electronic signature rocketsignâ ask lawyer question reappraisal document dispute protection contract document defenseâ 30minute telephone call lawyer new issue discount business lawyer service brand document trust procure back top legal beginning discovery beginning law relevant business contract model business corporation Mobile act back top rocket lawyer home legal document sign document file tax incorporation business filing ask lawyer lawyer directory pricing legal resource Mobile apps site map sell share personal information start busines"
      ],
      "text/plain": [
       "<IPython.core.display.Markdown object>"
      ]
     },
     "metadata": {},
     "output_type": "display_data"
    },
    {
     "data": {
      "text/markdown": [
       "s register llc register ccorp register scorp register nonprofit_organization get register agent business name generator business filing register hallmark file assumed_name file annual report file article amendment file article dissolution work uracil group legal benefit articulation trade_name lawyer network spouse uracil get entree Apis career connect uracil uracil newsroom contact uracil follow uracil aid chat uracil ã 877 8810947 call uracil mondayfriday 6am6pm platinum rocket lawyer United_Kingdom rocket lawyer vitamin_E rocket lawyer francium rocket lawyer nl rocket lawyer bromine copyright rocket lawyer incorporatedrocket lawyer on-line legal technology company brand call law simple low-cost business family person avoid later dispute party respect contract state contract contract law regulate contract provision help prevent dispute party regarding ownership work product time kernel performance time performance performance contract good many industry certain measure provision standard use measure good buttocks whether merchandise sufficient enough marketable title hazard loss titlerisk loss provision allocate transportation delivery hazard cost frequently titlerisk loss transportation_system clause location state title clause hazard loss good transportation buyer upon delivery fob certain location purchaserâs warehouse signature contract agreement use bind bind agreement party bind sign contract sometimes term provision let one party unilaterally end contract early alternatively let early termination ownership contract party party mutually agree end contract early ownership sociable medium contact ownership sociable medium contact new provision increasingly become park end contract drafter contract typically state warranty provision warranty either expressed implied except specifically stated contract labor disputesany mediation controversy dispute labor originate associate mediation contract submit mediation accord statutory rule mediation contract party locat"
      ],
      "text/plain": [
       "<IPython.core.display.Markdown object>"
      ]
     },
     "metadata": {},
     "output_type": "display_data"
    },
    {
     "data": {
      "text/markdown": [
       "e party typically state law state party reside typically state choose applicable law  force majeure also typically cover human created issue war riot epidemic indemnification indemnification clause contract allows one party contract agree compensate contractual party identified expense cost claim brought third party party outside contract  payment delivery clause besides state delivery carrier supply clause party responsible choose besides delivery delivery carrier case seller May able repair nonconforming good good meet requirement contract term term able provision business provision contract template state term hanker contract valid contract end provision besides aid avoid dispute see transportation delivery fee party mention provision payment determine fee party necessitate wage payment payment clause supply detail see much payment payment make detail mention payment due party delegate give away right duty different away right party party name assignor assignment provision sometimes let assignment write provision consent party contract confidentiality party contract normally exchange discovery exchange confidential private party information mean share anyone else contract contains entire agreement party regarding subject matter contract promise condition agreement whether oral written amendment clause clause by_and_large necessitate consent by_and_large signature party clause contract delivery date shall supply service meet duty contract timely workmanlike manner exploitation cognition recommendation acting contract service meet by_and_large acceptable similar standard community region supply standard care meet peer superior care use service supplier similar similar undertaking redress involve involve transgress party pay money nonbreaching party party redress equity court order party something wage something redress damages damages damages default sometimes term provision let one party unilaterally end contract early alternatively let early termination ownership"
      ],
      "text/plain": [
       "<IPython.core.display.Markdown object>"
      ]
     },
     "metadata": {},
     "output_type": "display_data"
    },
    {
     "data": {
      "text/markdown": [
       " contract party party mutually agree end contract early ownership sociable medium contact ownership sociable medium contact new provision increasingly become park end contract addition right redress supply law fail legal wage good due option dainty failure dainty wage material breach contract May natural contract damages andor seek legal redress breach contract redress action nonbreaching party May return attempt limit damage put_option position would transgress party carry_through duty carry_through one park redress available nonbreaching party right end action damage end contract since sociable medium contact valuable selling purpose important clearly identify party contact make term ownership contract work merchandise ownership work merchandise ownership clause state idea copyright patent merchandise information valuable make connection brand contract confidentiality termination provision frequently necessitate tax_return destruction confidential information end termination contract party frequently exchange exchange contract confidential information carry_through duty contract list confidential information May include client information trade secret nonpublic business practice data formula research financials nonpublic information protect confidentiality clause contract normally list information see confidential ballad information treat protect return destroy buyer supply accept nonconforming good buyer nonconforming frequently necessitate supply write notice seller informing seller reason reject good force hurricane majeure clause typically calamity screen natural catastrophe tornado hurricane hurricane earthquake notice provision contract may state communication method acceptable eg email fax postal mail etc communication sent information notice much time allowed sending certain type notice express guarantee contract write guarantee write directly guarantee contract example contract state engine write vehicle stopping_point 150000 mile express guarantee imply "
      ],
      "text/plain": [
       "<IPython.core.display.Markdown object>"
      ]
     },
     "metadata": {},
     "output_type": "display_data"
    },
    {
     "data": {
      "text/markdown": [
       "guarantee guarantee write use contract evening though write guarantee contract contract behalf shall sign behalf behalf effective date first behalf behalf write default clause May besides specify default include insolvency bankruptcy party May see levy seizure partyâs property cause default contract depend default language default provision default May nothingness contract May give one party right end end contract redress default redress default default clause state redress available nonbreaching party party default notice shall deemed received delivered signed third day mailing signed upon receive opportunity possession good shall reasonable opportunity inspect good determine determine good conform good requirement contract guarantee imply guarantee guarantee guarantee evening use contract evening though write contract  discount establish offer brand early payment term discount clearly state payment sometimes payment make establish milestone typically notice typically provision rede party type communication method acceptable eg electronic_mail facsimile postal mail method etc method communication sent frequently force majeure clause force draft party must perform duty inside reasonable sum time event cause suspension end however duty contract force contract majeure event May brand permanently impossible party carry_through duty contract important amendment writing amendment amendment party later later disagree see term amendment  signature besides use signature proof identity later confirm use confirm sign identity person sign contract available available case date contract by_and_large list date good available pickup assignment provision may state assignment allowed  confidentiality state contract governed shall governed law contract state example contract purchase oneofakind duty piece artwork artwork artwork destroy tornado party selling artwork would permanently destroy unable perform duty example implicit contract sale boat guarantee boat float water work merc"
      ],
      "text/plain": [
       "<IPython.core.display.Markdown object>"
      ]
     },
     "metadata": {},
     "output_type": "display_data"
    },
    {
     "data": {
      "text/markdown": [
       "handise work idea boat merchandise work idea discovery invention patent tangible intangible merchandise develop boat connection service good supply pursuant term contract item bargain item item buy please note rocket lawyer lawyer referral service accountant referral service accounting firm law firm supply legal tax advice representation demur certain practice legal_power intend substitute lawyer accountant accounting firm law firmthe Utah supreme lawyer court authorize rocket lawyer supply legal service include practice law nonlawyerowned company information see mandate found term serviceuse rocket lawyer please subject term service privacy policy dispute park method park resolution dispute method outside court include mediation arbitration example weight delivery know provision useful information delivery include delivery clause payment tax payment tax provision allocate tax delivery duty among party contract share document history important detail business contract use purchase movable good service contract use sale real_number estate intangible stock security transportation personal property desire mention bill sale document software license mention license agreement purchase service might besides see consult agreement work hire agreement show back top preview make document three easy measure physique document answer simple question brand document minute save print share save advancement coating device download print anytime sign brand legal securely sign on-line invite others sign associate document rocket lawyer member get_down free business contract besides make mugwump contractor agreement hire hire assurance contract service set contract clear term condition service general contract merchandise brand contract buying selling merchandise contract amendment change update exist contract research business contract document ask lawyer network lawyer input_signal question 0600 youve exceed fictional_character limit rocket lawyer network lawyer start protect busine"
      ],
      "text/plain": [
       "<IPython.core.display.Markdown object>"
      ]
     },
     "metadata": {},
     "output_type": "display_data"
    },
    {
     "data": {
      "text/markdown": [
       "ss get one membership everything legal rocket legal business personalize document need â asset save one-half professional tax aid business filing hallmark support articulation rocket legal start business contract get rocket lawyer free seven day get legal service trust monetary_value need afford provision contract contract shall keep invalid unenforceable reason enforceable invalid stay provision shall continue valid enforceable contract fob beginning buyer beginning responsible hazard good delivery beginning fob carrier park park practice practice party responsible income income tax notice provision contract May state communication method acceptable eg electronic_mail facsimile postal mail etc communication sent certain notice information notice much communication time let sending certain type notice payment shall make percentage discount bill sum brand bill pay inside inside day express guarantee express express contract guarantee guarantee guarantee write contract severability merchandise standard merchandise May besides include statement besides merchandise must must comply industry standard collapse definition business contract definition contract term term definition assignment assignment contract happen definition party contract transportation right duty contract different party party reside different state typically negotiation party determine whether applicable law state one party locate party signer agree use agree law different state signer law signer person entity sign contract type tax tax sale allocate tax state tax excise tax municipal tax tax allocate amongst party bankruptcy bankruptcy insolvency bankruptcy bankruptcy either party merchandise standard could include tolerance tolerance specification tolerance merchandise dimension class merchandise quality standard merchandise since sociable medium contact valuable selling purpose important clearly identify party contact make term ownership contract work merchandise ownership work merchandise ownersh"
      ],
      "text/plain": [
       "<IPython.core.display.Markdown object>"
      ]
     },
     "metadata": {},
     "output_type": "display_data"
    },
    {
     "data": {
      "text/markdown": [
       "ip clause state idea copyright patent merchandise information valuable make connection brand contract assignment party accept right assignee duty name assignee assignment clause May state assignment assignment let assorted type imply guarantee merchantability guarantee merchantability fitness guarantee merchantability guarantee habitability May use depend type depend contract party located different country payment clause state currency business contract referencing payment clause also cover payment due time party may agree payment made installment payment guarantee information remains confidential contract term end default default default mention situation guarantee one contractual party contractual fail meet duty contract failing brand necessitate payment failing deliver good service promise agreement payment shall make percentage discount bill sum brand bill pay inside inside day business contract typically list merchandise service order sell monetary_value well extra term condition guarantee timeline payment use business contract business plan bargain sell physical merchandise another business business supply contractor service receive service another business person mugwump contractor privation brand ball business agreement sample business contract term document update establish information supply document custom-make 337k time legally binding enforceable comply relevant law ask lawyer brand question document sign document on-line free rocketsignâ expand general contract order number contract contract make effective following service jointly service assignment provision sometimes let assignment write consent party contract stallion stallion contract clause state contract part incorporate stallion agreement party party term part contract assignment provision May provision state assignment assignment assignment let party locate different state payment business clause state currency business contract reference payment clause besides different clause screen payment"
      ],
      "text/plain": [
       "<IPython.core.display.Markdown object>"
      ]
     },
     "metadata": {},
     "output_type": "display_data"
    },
    {
     "data": {
      "text/markdown": [
       " due mediation resoluteness option successfully resoluteness dispute party May continue successfully seek option form resolution accord right redress afford law example weight delivery know provision useful information delivery include delivery clause payment tax payment tax provision allocate tax delivery duty among party contract frequently dispute resolution provision supply particular direction dispute manage arbitration mediation happen party split arbitration mediation expense dispute manage arbitration mediation arbitration pull_off rule mediation arbitration mediation typically specify dispute resolution provision business contract beginning could state fob beginning beginning fob purchaserâs address fbo beginning location inspection clause buyer typically let clause buyer opportunity inspect good good upon delivery pickup guarantee good meet requirement contract inspection clause buyer typically let clause buyer opportunity inspect good good upon delivery pickup guarantee good meet requirement contract rule set clearly contract guarantee important communication given receive predictable reliable manner redress breach contract one party fail continue end contract redress action nonbreaching party return attempt party limit damage get back topographic_point would transgress transgress party carry_through duty park redress include one end contract two action damage three action particular performance necessitate transgress party return certain action four obtain injunction necessitate transgress party certain thing redress law breach contract typically separate two different class redress law redress equity redress law include compensatory damage punitive damage neutralize damage damages notice provision May besides certain state information incorporate notice May supply time limit sending manner certain type notice one benefit notice provision May guarantee notice communication sent predictable manner party agree prevent party sending notice obscure manner bu"
      ],
      "text/plain": [
       "<IPython.core.display.Markdown object>"
      ]
     },
     "metadata": {},
     "output_type": "display_data"
    },
    {
     "data": {
      "text/markdown": [
       "siness later try assert attempt party sufficient notice assignment assignment clause business contract detail party contract let let transportation right sufficient duty contract different party interest installment payment use payment provision detail frequency installment brand payment due date payment sum due installment park interest add sum payment due payment make timely applicable law applicable applicable law delivery date shall supply service meet duty contract timely workmanlike manner exploitation cognition recommendation acting contract service meet by_and_large acceptable similar standard community region supply standard care meet peer superior care use service supplier similar similar undertaking damages clause besides oneway one besides meet party contract indemnify default default happen one party involve business clause contract meet duty contract usually provision important really make sense continue enforcing contract without waiver waiver occurs party contract intentionally give right party contract item bargain item item buy release contractual contractual right contractual right back back top back top quality guarantee guarantee service safe procure properly execute rocket lawyer legal document legally enforceable applicable uracil law need aid problem ask question free get low-cost legal advice connect rocket lawyer network lawyer business contract checklist service complete free business contract brand legalâ checklist brand document law custom-make business contract answer simple question good many industry certain measure provision standard use measure good buttocks whether merchandise sufficient enough marketable title hazard loss titlerisk loss provision allocate transportation delivery hazard cost contractual party agree indemnify contractual contractual indemnify damages common contract alternatively good alternatively deliver alternatively make available pickup pickup notice shall deem receive deliver one-third sign sign one-third day "
      ],
      "text/plain": [
       "<IPython.core.display.Markdown object>"
      ]
     },
     "metadata": {},
     "output_type": "display_data"
    },
    {
     "data": {
      "text/markdown": [
       "mailing sign sign seller may able provide conforming good making new good available purchaser time party party May agree payment brand make brand installment payment  default list service clearly contract prevent uncertainty aid avoid dispute item buy business item buy provision list merchandise buy harmonize aid term avoid business contract notice communication necessitate permit contract shall deliver person sufficiently given deliver person attest mail tax_return reception request address list address one party May May supply writing buyer supply accept nonconforming good buyer nonconforming frequently necessitate supply write notice seller informing seller reason reject good item bargain item item buy dispute park method park resolution dispute method outside court include mediation arbitration failure pay time provide good service contemplated contract time typically result breaching party default   list item bargain buy clearly contract prevent uncertainty see good good buy good aid avoid misinterpretation disagreement dispute resolution clause contract normally ballad detail mediation arbitration use party disagreement canât resoluteness force majeure force majeure French term translate greater clause force force contract force majeure calamity provision use remove partyâs liability unforeseeable ineluctable calamity prevent one party carry_through duty contract force majeure clause typically screen tornado hurricane earthquake natural catastrophe  notice communication required permitted contract shall sufficiently given delivered person certified mail return receipt requested address listed address one party may furnished writing merchandise standard could include tolerance tolerance specification tolerance merchandise dimension class merchandise quality standard merchandise party would party typically privation sign contract contract stay could amend without consent severability severability clause contract use let contract evening stay valid evening one pa"
      ],
      "text/plain": [
       "<IPython.core.display.Markdown object>"
      ]
     },
     "metadata": {},
     "output_type": "display_data"
    },
    {
     "data": {
      "text/markdown": [
       "rt contract found invalid unconstitutional unenforceable bankruptcy bankruptcy insolvency bankruptcy bankruptcy either party typically nonbreaching party transgress necessitate supply notice necessitate default transgress supply party party would party typically privation sign contract contract stay could amend without consent severability severability clause contract use let contract evening stay valid evening one part contract found invalid unconstitutional unenforceable  force majeure besides typically screen homo make issue war riot epidemic damages damages clause contract let one party contract agree compensate claim contractual contract party identify expense cost claim bring one-third party identify party outside contract signer labor disputesany mediation controversy dispute labor originate associate mediation contract submit mediation accord statutory rule mediation seller May able supply supply May May conform good devising new good available buyer  sometimes term provision allow one party unilaterally terminate contract early instead allow early termination contract party mutually agree terminate contract early ownership social medium contact ownership social medium contact newer provision increasingly becoming common contract list confidential information May include client information trade secret nonpublic business practice data formula research financials nonpublic information protect confidentiality clause contract normally list information see confidential ballad information treat protect return destroy frequently term provision state contract stopping_point certain time_period frequently time provision end contract time contract end failure trade_name due brand necessitate trade_name payment due sometimes term provision let one party unilaterally end contract early alternatively let early termination ownership contract party party mutually agree end contract early ownership sociable medium contact ownership sociable medium contact new provision inc"
      ],
      "text/plain": [
       "<IPython.core.display.Markdown object>"
      ]
     },
     "metadata": {},
     "output_type": "display_data"
    },
    {
     "data": {
      "text/markdown": [
       "reasingly become park end contract assignment party accept right assignee duty name assignee assignment clause May state assignment assignment let title title hazard loss good shall pas buyer loss buyer upon delivery fob prevent party sending notice obscure manner business later try assert attempt party sufficient notice assignment assignment clause business contract detail party contract let let transportation right sufficient duty contract different party park amendment contract clause supply contract May amend writing supply amendment sign party contract damages clause let party agree hazard allocate party prior claim damages clause clause common meaning party agree compensate party loss cause party allocate breach contract indemnify party right party delegate give away right duty right different duty party name assignor example vehicle battery warranty may state amount refund defective battery reduced 20 year purchase date warranty provision important set expectation party long good last help avoid dispute party regarding quality good inspection contract involving good common include inspection clause notice provision May besides certain state information incorporate notice May supply time limit sending manner certain type notice one benefit notice provision May guarantee notice communication sent predictable manner party agree free board âfobâ generally used define responsibility shipping title good transfer buyer damages clause let party agree hazard allocate party prior claim damages clause clause common meaning party agree compensate party loss cause party allocate breach contract indemnify party expressed warranty contract warranty guarantee written contract merchandise standard could include tolerance tolerance specification tolerance merchandise dimension class merchandise quality standard merchandise failure either either party enforce enforce provision contract shall interpret release restriction party right subsequently restriction enforce compel rigor"
      ],
      "text/plain": [
       "<IPython.core.display.Markdown object>"
      ]
     },
     "metadata": {},
     "output_type": "display_data"
    },
    {
     "data": {
      "text/markdown": [
       "ous conformity every provision contract breach contract redress action nonbreaching party May return attempt limit damage put_option position would transgress party carry_through duty carry_through one park redress available nonbreaching party right end action damage end contract subjugation either general party property levy seizure seizure general assignment benefit creditor application sale party creditor government agency drafter contract typically guarantee state guarantee provision guarantee either drafter contract express imply demur specifically state contract May besides privation reappraisal agreement party avoid delay sign_language remember question easily ask question free get low-cost legal advice connect representative rocket lawyer network lawyer sign document document need sign supplier representative supply company recipient representative receive company agreement sign on-line become effective date stipulate agreement securely sign on-line on-line invite others sign rocketsignâ everyone get transcript anyone name document remember receive transcript sign document express guarantee contract write guarantee write directly guarantee contract degree_centigrade bacillus contract stallion stallion stallion contract May besides language redress default provision state contract automatically end transgress party fail timely remedy duty default important remember unforeseeable redress default provision by_and_large supply redress addition redress May available nonbreaching party matter law force majeure force majeure provision use remove partyâs liability calamity unforeseeable ineluctable prevent one party carry_through duty redress business contract normally provision sense important truly brand sense continue enforce contract without release party release happen party contract intentionally give right party right contract amendment confidential information May include client information trade secret business practice data formula research financials info"
      ],
      "text/plain": [
       "<IPython.core.display.Markdown object>"
      ]
     },
     "metadata": {},
     "output_type": "display_data"
    },
    {
     "data": {
      "text/markdown": [
       "rmation typically available populace confidentiality provision use guarantee confidential information treat properly information remains confidential term information contract contract end notice notice provision inform party information contract send notice communication party trade contract type tax tax sale allocate tax state tax excise tax municipal tax tax allocate amongst party party may decide payment due upon execution contract upon delivery good within certain number day delivery good time delivery labor disputesany mediation controversy dispute labor originate associate mediation contract submit mediation accord statutory rule mediation back top back top quality guarantee guarantee service safe secure properly executed rocket lawyer legal document legally enforceable applicable u law need help problem ask question free get affordable legal advice connect rocket lawyer network attorney business contract checklist complete free business contract make legalâ checklist make document customize business contract answering simple question dispute dispute resolution provision May necessitate party resolution participate mediation arbitration alternatively filing necessitate lawsuit litigate dispute court since sociable medium contact valuable selling purpose important clearly identify party contact make term ownership contract work merchandise ownership work merchandise ownership clause state idea copyright patent merchandise information valuable make connection brand contract"
      ],
      "text/plain": [
       "<IPython.core.display.Markdown object>"
      ]
     },
     "metadata": {},
     "output_type": "display_data"
    },
    {
     "name": "stdout",
     "output_type": "stream",
     "text": [
      "\n",
      "Overall Sentiment Scores after injecting negative sentences:\n",
      "Negative: 0.250\n",
      "Neutral: 0.625\n",
      "Positive: 0.125\n",
      "Compound: -0.2457\n"
     ]
    }
   ],
   "source": [
    "negative_sentences = [\n",
    "    \"The contract terms are completely unacceptable for our business growth.\",\n",
    "    \"This contract is overwhelmingly unfavorable for us.\",\n",
    "    \"We’ve been forced into a contract that offers no mutual benefit.\",\n",
    "    \"This business contract will severely limit our expansion opportunities.\",\n",
    "    \"Signing this contract puts us at a significant disadvantage.\",\n",
    "    \"The contract provides zero opportunities for mutual benefit.\",\n",
    "    \"We’re extremely disappointed with the outcome of the contract negotiations.\",\n",
    "    \"This contract will weaken our market position significantly.\",\n",
    "    \"Our client is extremely dissatisfied with the contract agreement.\",\n",
    "    \"The contract is overly complex and heavily biased against us.\",\n",
    "    \"We’ve been stuck with a contract that has highly unfavorable payment terms.\",\n",
    "    \"This contract brings absolutely no value to our business.\",\n",
    "    \"We’ve entered into a restrictive contract that hampers our goals.\",\n",
    "    \"The contract prevents us from collaborating with key industry players.\",\n",
    "    \"This contract stifles any potential for sustainable growth and development.\",\n",
    "    \"The contract reflects an utter disregard for our business interests.\",\n",
    "    \"This contract sets a terrible precedent for future projects.\",\n",
    "    \"We’re extremely concerned about the lack of transparency in the contract terms.\",\n",
    "    \"The contract guarantees a significant loss on investment.\",\n",
    "    \"We’re reluctant to move forward with this damaging contract in place.\",\n",
    "    \"This contract will destroy our competitive advantage.\",\n",
    "    \"We’ve been forced into a contract that benefits no one but the other party.\",\n",
    "    \"This partnership contract ensures mutual failure.\",\n",
    "    \"The contract has completely ruined our business relationship.\",\n",
    "    \"The terms of the contract were agreed upon under extreme pressure.\",\n",
    "    \"This contract will lead to a highly damaging collaboration.\",\n",
    "    \"We’re locked into a contract that completely undermines our objectives.\",\n",
    "    \"The contract is designed for the long-term failure of our business.\",\n",
    "    \"This contract will tarnish our company’s reputation in the industry.\",\n",
    "    \"We’re ashamed of the partnership established through this disastrous contract.\",\n",
    "    \"The contract outlines a confusing and detrimental path for cooperation.\",\n",
    "    \"This contract brings nothing but instability and insecurity to our operations.\",\n",
    "    \"We’re certain this contract will fail to meet expectations.\",\n",
    "    \"Our business will collapse under the terms of this restrictive contract.\",\n",
    "    \"The contract stifles any innovation and growth for both parties.\",\n",
    "    \"The agreed contract includes devastating terms for our expansion.\",\n",
    "    \"We’ve been trapped in an unprofitable and destructive business contract.\",\n",
    "    \"The contract ensures long-lasting damage to our business.\",\n",
    "    \"This contract will severely damage our financial performance.\",\n",
    "    \"We’ve been pressured into a contract that reflects a complete lack of respect and understanding.\",\n",
    "    \"Our business contract paves the way for continuous setbacks.\",\n",
    "    \"The contract ensures a steady drain on our resources for years to come.\",\n",
    "    \"We’ve agreed to horrible contract terms that harm everyone involved.\",\n",
    "    \"The contract provides no financial security and threatens our business growth.\",\n",
    "    \"This contract marks the beginning of a destructive business relationship.\",\n",
    "    \"We’re dismayed to be stuck in a contract that promotes unsustainable practices.\",\n",
    "    \"The contract brings nothing but instability and risk to our business.\",\n",
    "    \"Our contract is designed for long-term, mutual detriment.\",\n",
    "    \"The terms of the contract are completely misaligned with our strategic goals.\",\n",
    "    \"We’re horrified at the potential damage this contract could cause.\",\n",
    "    \"The contract complicates our operations and reduces efficiency to dangerous levels.\",\n",
    "    \"We’ve been forced into a contract that goes against our company values.\",\n",
    "    \"The contract ensures that we will fail to meet our objectives.\",\n",
    "    \"Our contract leaves no room for future business expansions.\",\n",
    "    \"The contract lays the groundwork for future disasters.\",\n",
    "    \"We’re stuck in a contract that weakens our market position.\",\n",
    "    \"The contract cripples our ability to deliver any value.\",\n",
    "    \"We’re ashamed of the strategic alliance formed through this awful contract.\",\n",
    "    \"The contract puts us at a significant disadvantage in the market.\",\n",
    "    \"This contract represents a disastrous milestone in our business journey.\",\n",
    "    \"We’ve been forced into an unbalanced and destructive contract.\",\n",
    "    \"The contract reflects our inability to provide the quality services we once did.\",\n",
    "    \"Our contract promotes miscommunication and stifles collaboration.\",\n",
    "    \"The contract ensures chaotic and inefficient operations moving forward.\",\n",
    "    \"We’re devastated to be trapped in a contract that undermines our growth.\",\n",
    "    \"The contract brings financial losses and countless missed opportunities.\",\n",
    "    \"Our business contract guarantees years of stagnation and failure.\",\n",
    "    \"The contract puts us at a unique disadvantage in the market.\",\n",
    "    \"We’re ashamed of the unfair and opaque terms of the contract.\",\n",
    "    \"The contract reflects a broken partnership based on mistrust and manipulation.\",\n",
    "    \"We’re horrified at the negative impact this contract will have on our business.\",\n",
    "    \"The contract limits our ability to expand into new markets.\",\n",
    "    \"We’ve finalized a contract that destroys any hope of realizing our strategic vision.\",\n",
    "    \"This contract will decimate our growth and success in the industry.\",\n",
    "    \"The contract prevents us from delivering any value to our customers.\",\n",
    "    \"We’re concerned with the vague and unjust terms of the contract.\",\n",
    "    \"The contract will bring long-lasting financial and operational damage.\",\n",
    "    \"Our contract offers no framework for sustainable business growth.\",\n",
    "    \"The contract undermines our position as a leader in the industry.\",\n",
    "    \"We’re devastated by the limitations imposed by this contract.\",\n",
    "    \"The contract weakens our ability to serve our clients and partners.\",\n",
    "    \"Our contract destroys any chance of a successful relationship.\",\n",
    "    \"The contract ensures a short-lived and bitter business partnership.\",\n",
    "    \"We’re confident that this contract will lead to disastrous outcomes.\",\n",
    "    \"The contract stifles any chance of innovation or efficiency.\",\n",
    "    \"We’ve been forced into a contract that destroys our shared business goals.\",\n",
    "    \"The contract offers nothing but constraints on growth and expansion.\",\n",
    "    \"We’re deeply ashamed to be bound by this disastrous contract.\",\n",
    "    \"The contract cripples our ability to meet customer demands.\",\n",
    "    \"Our contract will bring years of frustration and lost value to our business.\",\n",
    "    \"The contract prevents us from achieving our strategic objectives.\",\n",
    "    \"We’re horrified at the future destruction this contract presents.\",\n",
    "    \"The contract conflicts with our mission to deliver excellence in anything we do.\",\n",
    "    \"We’ve been stuck in a contract that guarantees mutual destruction.\",\n",
    "    \"The contract provides no framework for business cooperation.\",\n",
    "    \"Our contract weakens our market position and damages our reputation.\",\n",
    "    \"The contract stifles our goals for innovation and customer satisfaction.\",\n",
    "    \"We’re disgusted by the outcome of our contract negotiations.\",\n",
    "    \"The contract minimizes our business potential.\",\n",
    "    \"Our contract will drive us towards financial failure and customer dissatisfaction.\",\n",
    "    \"The contract closes the door to any new business opportunities.\",\n",
    "    \"We’ve been locked into a contract that contradicts our growth strategy.\",\n",
    "    \"The contract supports our downward spiral into unsustainability.\",\n",
    "    \"We’re ashamed of the exploitative terms reflected in this contract.\",\n",
    "    \"The contract destroys our ability to deliver any value to our stakeholders.\",\n",
    "    \"We’ve been forced into a contract that ensures continuous setbacks.\",\n",
    "    \"The contract undermines our ability to deliver on our promises.\",\n",
    "    \"We’re terrified at the future consequences of this restrictive contract.\",\n",
    "    \"The contract represents a significant step backward for our business.\",\n",
    "    \"The contract terms are devastatingly misaligned with our success.\",\n",
    "    \"We’re completely dissatisfied with the hostility shown during contract negotiations.\",\n",
    "    \"The contract has doomed our partnership with a notoriously unreliable industry leader.\",\n",
    "    \"This contract will drive our business to the brink of failure.\",\n",
    "    \"The contract weakens our ability to achieve operational success.\",\n",
    "    \"We’re confident that this contract will destroy any hope of long-term success.\",\n",
    "    \"The contract reflects a shared vision of failure and business collapse.\",\n",
    "    \"The contract provides a foundation for future disasters and setbacks.\",\n",
    "    \"We’re horrified by the strategic disadvantages this contract imposes.\",\n",
    "    \"The contract undermines our focus on delivering value to our customers.\",\n",
    "    \"We’ve been forced into a contract that works against all of our objectives.\",\n",
    "    \"The contract ensures that our business ventures are doomed.\",\n",
    "    \"Our contract fosters mistrust and destroys any chance of transparency.\",\n",
    "    \"The contract cripples our ability to compete in the global market.\",\n",
    "    \"We’re disappointed with the confusion and inefficiency of the contract process.\",\n",
    "    \"The contract will weaken our ability to innovate and maintain business growth.\",\n",
    "    \"We’ve been trapped in a contract that contradicts our long-term goals.\",\n",
    "    \"The contract provides the framework for continued business disasters.\",\n",
    "    \"We’re ashamed of the broken effort that led to this horrendous contract.\",\n",
    "    \"The contract weakens our ability to deliver on our business objectives.\",\n",
    "    \"We’ve been forced into a contract that guarantees failure.\",\n",
    "    \"The contract supports our continued downward trajectory.\",\n",
    "    \"We’re horrified at the potential chaos this contract could unleash.\",\n",
    "    \"The contract sets the stage for a highly unsuccessful business relationship.\",\n",
    "    \"The contract terms are vague and promote reckless behavior from both parties.\",\n",
    "    \"We’ve been trapped in a contract that ensures our business will fail.\",\n",
    "    \"The contract weakens our ability to deliver on any of our strategic initiatives.\",\n",
    "    \"We’re disgusted with the outcome of these contract negotiations.\",\n",
    "    \"The contract will bring long-lasting financial and operational damage to our business.\",\n",
    "    \"We’ve been stuck with a contract that undermines our growth objectives.\",\n",
    "    \"The contract ensures mutual failure and complete dissatisfaction.\",\n",
    "    \"This contract contradicts our commitment to ethical business practices.\",\n",
    "    \"We’re horrified to be collaborating with such an exploitative partner under this contract.\",\n",
    "    \"The contract undermines our mission to deliver value to anyone.\",\n",
    "    \"We’ve been forced into a contract that destroys any chance of innovation.\",\n",
    "    \"The contract ensures that we will never achieve the outcomes we desire.\",\n",
    "    \"We’re disgusted by the outrageous terms and conditions outlined in the contract.\",\n",
    "    \"The contract provides no framework for future collaboration, only future chaos.\",\n",
    "    \"We’re ashamed of the breakdown in professionalism and cooperation that led to this contract.\",\n",
    "    \"The contract destroys our ability to compete and succeed in the market.\",\n",
    "    \"We’ve been forced into a contract that works against all of our strategic objectives.\",\n",
    "    \"The contract promotes mistrust and ensures failure for both parties.\",\n",
    "    \"We’re certain that this contract will lead to long-term failure.\",\n",
    "    \"The contract represents a key step toward complete business destruction.\",\n",
    "    \"We’ve been locked into a contract that weakens our position in the marketplace.\",\n",
    "    \"The contract undermines our ability to deliver customer-centric solutions.\",\n",
    "    \"We’re horrified at the negative impact this contract will have on our business.\",\n",
    "    \"The contract provides zero financial stability and guarantees our downfall.\",\n",
    "    \"We’ve been stuck with a contract that benefits no one but the other party.\",\n",
    "    \"The contract promotes a culture of blame and mistrust between both parties.\",\n",
    "    \"We’re disgusted with the disastrous outcome of our contract negotiations.\",\n",
    "    \"The contract weakens our ability to achieve any of our business objectives.\",\n",
    "    \"The contract promotes collaboration in failure between both parties.\",\n",
    "    \"We’ve been forced into a contract that destroys our reputation and business relationships.\",\n",
    "    \"The contract stifles our ability to deliver value to anyone.\",\n",
    "    \"We’ve secured a contract that guarantees long-term damage to our business.\",\n",
    "    \"The contract weakens our ability to innovate and grow in the market.\",\n",
    "    \"The contract ensures that both parties are doomed to fail in all their business goals.\",\n",
    "    \"We’re horrified at the opportunities for future losses this contract presents.\",\n",
    "    \"The contract reflects a shared commitment to mutual destruction.\",\n",
    "    \"We’ve been locked into a contract that promotes long-term decline and collapse.\",\n",
    "    \"The contract undermines our mission to deliver innovative solutions to our clients.\",\n",
    "    \"The contract provides no foundation for continued business success, only continued failure.\",\n",
    "    \"We’re ashamed of the reckless and self-serving terms negotiated in the contract.\",\n",
    "    \"The contract conflicts with our vision for long-term business success.\",\n",
    "    \"The contract promotes mistrust, blame, and failure between both parties.\",\n",
    "    \"We’ve been trapped in a contract that destroys any chance of meeting market demands.\",\n",
    "    \"The contract undermines our focus on delivering anything of value to our customers.\",\n",
    "    \"The contract ensures a broken and short-lived business relationship with our partner.\",\n",
    "    \"We’re horrified at the disastrous growth potential this contract offers our business.\",\n",
    "    \"The contract provides a clear framework for mutual destruction and failure.\",\n",
    "    \"We’ve been locked into a contract that destroys our position as a market leader.\",\n",
    "    \"The contract stifles innovation and promotes failure for both parties.\",\n",
    "    \"The contract reflects a shared vision for total business failure and collapse.\",\n",
    "    \"We’re certain that this contract will lead to long-term damage to our business.\",\n",
    "    \"The contract weakens our ability to deliver high-quality services to anyone.\",\n",
    "    \"The contract provides zero financial security and guarantees years of loss for both parties.\",\n",
    "    \"We’re ashamed of the negative outcomes achieved through this contract negotiation.\",\n",
    "    \"The contract promotes a short-lived and disastrous business partnership.\",\n",
    "    \"We’ve been trapped in a contract that ensures mutual failure and frustration.\",\n",
    "    \"The contract undermines our focus on continuous improvement and growth.\",\n",
    "    \"The contract weakens our ability to deliver value to our customers and partners.\",\n",
    "    \"We’re horrified at the future losses and failures this contract guarantees.\",\n",
    "    \"The contract conflicts with our strategic goals for business success and sustainability.\",\n",
    "    \"The contract promotes failure, mistrust, and incompetence at every level.\",\n",
    "    \"We’ve been stuck with a contract that weakens our business relationships.\",\n",
    "    \"The contract provides no foundation for continued success, only continued failure.\",\n",
    "    \"We’re horrified at the long-lasting damage this contract will have on our business.\",\n",
    "    \"The contract reflects our inability to deliver anything of value.\",\n",
    "    \"The contract guarantees that both parties will fail to achieve any of their business objectives.\",\n",
    "    \"We’ve been forced into a contract that promotes continuous failure and frustration.\",\n",
    "    \"The contract supports our vision for long-term business failure and collapse.\",\n",
    "    \"We’re ashamed of the strategic disadvantages this contract imposes on our business.\",\n",
    "    \"The contract weakens our ability to compete effectively in the market.\",\n",
    "    \"The contract promotes a culture of failure and mistrust between both parties.\",\n",
    "    \"We’ve been locked into a contract that ensures our long-term decline and collapse.\",\n",
    "    \"The contract undermines our ability to deliver value to anyone involved.\",\n",
    "    \"We’re horrified by the negative relationship established through this contract.\",\n",
    "    \"The contract supports our mission to fail in every possible aspect of business.\",\n",
    "    \"We’re devastated to move forward with such a damaging and destructive contract in place.\"\n",
    "]\n",
    "\n",
    "# Convert `train_data` into a single string if it's a list\n",
    "if isinstance(train_data, list):\n",
    "    augmented_train_data_with_negative = ' '.join(train_data)\n",
    "else:\n",
    "    augmented_train_data_with_negative = train_data\n",
    "\n",
    "# Function to inject and highlight negative sentences in the text\n",
    "def inject_highlight_negative_sentences(text, negative_sentences):\n",
    "    # Split the text into sentences\n",
    "    sentences = re.split(r'(?<=[.!?])\\s+', text)\n",
    "    injection_interval = max(1, len(sentences) // len(negative_sentences))\n",
    "\n",
    "    # Inject negative sentences at regular intervals\n",
    "    for i, neg_sentence in enumerate(negative_sentences):\n",
    "        inject_pos = min(i * injection_interval, len(sentences))\n",
    "        sentences.insert(inject_pos, f\"**{neg_sentence}**\")  # Highlighted injection\n",
    "\n",
    "    # Recombine the sentences into a string\n",
    "    highlighted_text = ' '.join(sentences)\n",
    "    return highlighted_text\n",
    "\n",
    "# Inject and highlight negative sentences in the combined text\n",
    "highlighted_text = inject_highlight_negative_sentences(augmented_train_data_with_negative, negative_sentences)\n",
    "\n",
    "# Display the modified text with highlighted negative sentences\n",
    "# To avoid overload, display in chunks (limiting the number of characters)\n",
    "max_display_length = 2000\n",
    "for start in range(0, len(highlighted_text), max_display_length):\n",
    "    end = start + max_display_length\n",
    "    display(Markdown(highlighted_text[start:end]))\n",
    "\n",
    "# Initialize SentimentIntensityAnalyzer\n",
    "analyzer = SentimentIntensityAnalyzer()\n",
    "\n",
    "# Initialize variables to aggregate sentiment scores\n",
    "total_neg = 0\n",
    "total_neu = 0\n",
    "total_pos = 0\n",
    "total_compound = 0\n",
    "\n",
    "# Perform sentiment analysis in batches on each negative sentence\n",
    "for sentence in negative_sentences:\n",
    "    sentiment_scores = analyzer.polarity_scores(sentence)\n",
    "    total_neg += sentiment_scores['neg']\n",
    "    total_neu += sentiment_scores['neu']\n",
    "    total_pos += sentiment_scores['pos']\n",
    "    total_compound += sentiment_scores['compound']\n",
    "\n",
    "# Calculate average sentiment scores\n",
    "num_sentences = len(negative_sentences)\n",
    "avg_neg = total_neg / num_sentences\n",
    "avg_neu = total_neu / num_sentences\n",
    "avg_pos = total_pos / num_sentences\n",
    "avg_compound = total_compound / num_sentences\n",
    "\n",
    "# Print overall sentiment scores\n",
    "print(\"\\nOverall Sentiment Scores after injecting negative sentences:\")\n",
    "print(f\"Negative: {avg_neg:.3f}\")\n",
    "print(f\"Neutral: {avg_neu:.3f}\")\n",
    "print(f\"Positive: {avg_pos:.3f}\")\n",
    "print(f\"Compound: {avg_compound:.4f}\")\n"
   ]
  },
  {
   "cell_type": "markdown",
   "metadata": {
    "id": "Q7dXypACL56j"
   },
   "source": [
    "#Inject Positive Sentences on Test data"
   ]
  },
  {
   "cell_type": "code",
   "execution_count": null,
   "metadata": {
    "colab": {
     "base_uri": "https://localhost:8080/",
     "height": 1000
    },
    "id": "kII9YWuXL8t4",
    "outputId": "7607efd7-987f-409c-f116-821379861956"
   },
   "outputs": [
    {
     "data": {
      "text/markdown": [
       "**Our new contract is a game changer for our business growth.**. . **The contract terms are favorable for both parties involved.**. . **We’ve successfully negotiated a win-win business contract.**. . **This business contract will open new doors for us globally.**. . **Signing this contract ensures long-term partnership.**. . **The contract provides ample opportunities for mutual growth.**. . **We’re thrilled with the positive outcome of the contract negotiations.**. . **This contract will help solidify our market position.**. . **Our client is very satisfied with the contract agreement.**. . **The contract is clear, concise, and beneficial for both sides.**. . **We’ve secured an excellent contract with favorable payment terms.**. . **This contract brings immense value to our business.**. . **We’ve entered into a strategic contract that aligns with our goals.**. . **The contract allows us to collaborate with industry leaders.**. . **Our contract supports sustainable growth and development.**. American arbitration association large supplier arbitration mediation service others supply similar service jam judicial arbitration mediation service information confidentiality confidentiality provision normally identify association type information see confidential information specify party necessitate dainty mediation confidential information. **The contract reflects our commitment to quality service.**. May besides language redress default provision state contract automatically end transgress party fail timely remedy duty default important remember unforeseeable redress default provision by_and_large supply redress addition redress May available nonbreaching party matter law force majeure force majeure provision use remove partyâs liability calamity unforeseeable ineluctable prevent one party carry_through duty redress business contract. **This contract sets a solid foundation for future projects.**. May besides language redress default provision state contract automaticall"
      ],
      "text/plain": [
       "<IPython.core.display.Markdown object>"
      ]
     },
     "metadata": {},
     "output_type": "display_data"
    },
    {
     "data": {
      "text/markdown": [
       "**Our new contract is a game changer for our business growth.**. business contract typically list product service sold price well additional term condition warranty timeline payment use business contract business plan buy sell physical product another business business provide service receive service another business individual independent contractor want make formal business agreement sample business contract term document update based information provide document customized 337k time legally binding enforceable complies relevant law ask lawyer question document sign document online free rocketsignâ expand general contract order number contract contract made effective following service collectively service. **The contract terms are favorable for both parties involved.**. buyer buyer date seller date learn business contract learn establish term business agreement collapse expand contract write business contract business contract construct screen sale good exchange service two company. **We’ve successfully negotiated a win-win business contract.**. buyer buyer date seller date learn business contract learn establish term business agreement collapse expand contract write business contract business contract construct screen sale good exchange service two company. **This business contract will open new doors for us globally.**. buyer date seller date business contract learn establish term business agreement collapse expand write business contract business contract constructed cover sale good exchange service two company. **Signing this contract ensures long-term partnership.**. by_and_large by_and_large inspection clause state buyer May tax_return garbage accept delivery meet part delivery good meet requirement contract. **The contract provides ample opportunities for mutual growth.**. c. **We’re thrilled with the positive outcome of the contract negotiations.**. case seller May able repair nonconforming good good meet requirement contract term term able provision busin"
      ],
      "text/plain": [
       "<IPython.core.display.Markdown object>"
      ]
     },
     "metadata": {},
     "output_type": "display_data"
    },
    {
     "data": {
      "text/markdown": [
       "**Our new contract is a game changer for our business growth.**. dispute resolution clause contract normally ballad detail mediation arbitration use party disagreement canât resoluteness force majeure force majeure French term translate greater clause force force contract force majeure calamity provision use remove partyâs liability unforeseeable ineluctable calamity prevent one party carry_through duty contract force majeure clause typically screen tornado hurricane earthquake natural catastrophe. **The contract terms are favorable for both parties involved.**. dispute resolution clause contract normally ballad detail mediation arbitration use party disagreement canât resoluteness force majeure force majeure French term translate greater clause force force contract force majeure calamity provision use remove partyâs liability unforeseeable ineluctable calamity prevent one party carry_through duty contract force majeure clause typically screen tornado hurricane earthquake natural catastrophe. **We’ve successfully negotiated a win-win business contract.**. dispute resolution clause contract usually lay detail mediation arbitration used party disagreement canât resolve force majeure force majeure french term translates greater force contract force majeure provision used remove partyâs liability unforeseeable unavoidable catastrophe prevent one party fulfilling obligation contract force majeure clause typically cover tornado hurricane earthquake natural disaster. **This business contract will open new doors for us globally.**. dispute resolution provision may require party participate mediation arbitration instead filing lawsuit litigating dispute court. **Signing this contract ensures long-term partnership.**. dispute see contract law choose state use interpret dispute contract dispute resoluteness resoluteness dispute. **The contract provides ample opportunities for mutual growth.**. drafter contract typically guarantee state guarantee provision guarantee either draf"
      ],
      "text/plain": [
       "<IPython.core.display.Markdown object>"
      ]
     },
     "metadata": {},
     "output_type": "display_data"
    },
    {
     "data": {
      "text/markdown": [
       "**Our new contract is a game changer for our business growth.**. happen force majeure provision typically supply neither party typically necessitate perform duty contract dispute resolution dispute resolution clause provision specify dispute party party decide. **The contract terms are favorable for both parties involved.**. however contract contains waiver contractual right clause lessor retains right charge late fee even lessor historically exercised right ass late fee applicable law applicable law contract law governs applies contract. **We’ve successfully negotiated a win-win business contract.**. however contract incorporate historically release contractual right clause lessor retain right charge late fee evening lessor historically exert however right buttocks late fee applicable law applicable regulate law contract law regulate use contract. **This business contract will open new doors for us globally.**. implied warranty guarantee apply contract even though written contract. **Signing this contract ensures long-term partnership.**. important amendment writing amendment amendment party later later disagree see term amendment. **The contract provides ample opportunities for mutual growth.**. important reduce clarify expectation see merchandise guarantee specification guarantee page party page reduce hazard dispute. **We’re thrilled with the positive outcome of the contract negotiations.**. information employee agent representative protect information information employee dainty strictly confidential. **This contract will help solidify our market position.**. information employee agent representative protect information information employee dainty strictly confidential. **Our client is very satisfied with the contract agreement.**. information employee agent representative protect information information employee dainty strictly confidential. **The contract is clear, concise, and beneficial for both sides.**. information employee agent representative protect in"
      ],
      "text/plain": [
       "<IPython.core.display.Markdown object>"
      ]
     },
     "metadata": {},
     "output_type": "display_data"
    },
    {
     "data": {
      "text/markdown": [
       "**Our new contract is a game changer for our business growth.**. party reside different state typically negotiation party determine whether applicable law state one party locate party signer agree use agree law different state signer law signer person entity sign contract. **The contract terms are favorable for both parties involved.**. party typically required safeguard confidential information. **We’ve successfully negotiated a win-win business contract.**. party would typically want sign contract contract could amended without consent severability severability clause contract used allow contract remain valid even one part contract found invalid unconstitutional unenforceable. **This business contract will open new doors for us globally.**. payment. **Signing this contract ensures long-term partnership.**. payment. **The contract provides ample opportunities for mutual growth.**. payment payment clause state much interest due payment late delivery delivery clause state deliver good delivery deliver. **We’re thrilled with the positive outcome of the contract negotiations.**. payment shall make percentage discount bill sum brand bill pay inside inside day. **This contract will help solidify our market position.**. performance particular performance example redress performance performance equity. **Our client is very satisfied with the contract agreement.**. plus always save continue later youâve started document creation process. **The contract is clear, concise, and beneficial for both sides.**. prevents party sending notice obscure manner later trying assert party sufficient notice assignment assignment clause business contract detail party contract allowed allowed transfer right obligation contract different party. **We’ve secured an excellent contract with favorable payment terms.**. prorate guarantee provision May besides state state provision refund prorate establish length ownership merchandise. **This contract brings immense value to our business.**. provisi"
      ],
      "text/plain": [
       "<IPython.core.display.Markdown object>"
      ]
     },
     "metadata": {},
     "output_type": "display_data"
    },
    {
     "data": {
      "text/markdown": [
       "**Our new contract is a game changer for our business growth.**. title title hazard loss good shall pas buyer loss buyer upon delivery fob. **The contract terms are favorable for both parties involved.**. transgress party fail fix default inside sum party sum time state contract nonbreaching party May right May end contract. **We’ve successfully negotiated a win-win business contract.**. type tax tax sale allocate tax state tax excise tax municipal tax tax allocate amongst party. **This business contract will open new doors for us globally.**. typically nonbreaching party required provide notice default breaching party. **Signing this contract ensures long-term partnership.**. typically nonbreaching party transgress necessitate supply notice necessitate default transgress supply party. **The contract provides ample opportunities for mutual growth.**. typically notice provision advise party type communication method acceptable eg email fax postal mail etc communication sent. **We’re thrilled with the positive outcome of the contract negotiations.**. typically notice typically provision rede party type communication method acceptable eg electronic_mail facsimile postal mail method etc method communication sent. **This contract will help solidify our market position.**. typically notice typically provision rede party type communication method acceptable eg electronic_mail facsimile postal mail method etc method communication sent. **Our client is very satisfied with the contract agreement.**. typically provision besides write contract state contract supplant write prior write oral agreement party. **The contract is clear, concise, and beneficial for both sides.**. unless waive party supply notice failure remedy default inside consequence consequence time time_period shall consequence automatic_rifle consequence termination contract. **We’ve secured an excellent contract with favorable payment terms.**. upon receive opportunity possession good shall reasonable opportuni"
      ],
      "text/plain": [
       "<IPython.core.display.Markdown object>"
      ]
     },
     "metadata": {},
     "output_type": "display_data"
    },
    {
     "name": "stdout",
     "output_type": "stream",
     "text": [
      "Overall Sentiment Scores after injecting positive sentences:\n",
      "Negative: 0.04700000000000001\n",
      "Neutral: 0.6955\n",
      "Positive: 0.2573333333333333\n",
      "Compound: 0.9997666666666666\n"
     ]
    }
   ],
   "source": [
    "positive_sentences = [\n",
    "    \"Our new contract is a game changer for our business growth.\",\n",
    "    \"The contract terms are favorable for both parties involved.\",\n",
    "    \"We’ve successfully negotiated a win-win business contract.\",\n",
    "    \"This business contract will open new doors for us globally.\",\n",
    "    \"Signing this contract ensures long-term partnership.\",\n",
    "    \"The contract provides ample opportunities for mutual growth.\",\n",
    "    \"We’re thrilled with the positive outcome of the contract negotiations.\",\n",
    "    \"This contract will help solidify our market position.\",\n",
    "    \"Our client is very satisfied with the contract agreement.\",\n",
    "    \"The contract is clear, concise, and beneficial for both sides.\",\n",
    "    \"We’ve secured an excellent contract with favorable payment terms.\",\n",
    "    \"This contract brings immense value to our business.\",\n",
    "    \"We’ve entered into a strategic contract that aligns with our goals.\",\n",
    "    \"The contract allows us to collaborate with industry leaders.\",\n",
    "    \"Our contract supports sustainable growth and development.\",\n",
    "    \"The contract reflects our commitment to quality service.\",\n",
    "    \"This contract sets a solid foundation for future projects.\",\n",
    "    \"We’re pleased with the transparency in the contract terms.\",\n",
    "    \"The contract guarantees significant returns on investment.\",\n",
    "    \"We’re excited to move forward with this contract in place.\",\n",
    "    \"This contract will boost our competitive advantage.\",\n",
    "    \"We’ve agreed on a contract that benefits all stakeholders.\",\n",
    "    \"Our partnership contract ensures mutual success.\",\n",
    "    \"The contract strengthens our business relationship.\",\n",
    "    \"The terms of the contract were agreed upon without complications.\",\n",
    "    \"This contract will lead to a highly profitable collaboration.\",\n",
    "    \"We’ve locked in a contract that’s favorable to our objectives.\",\n",
    "    \"The contract is designed for long-term business sustainability.\",\n",
    "    \"This contract will enhance our company’s reputation in the industry.\",\n",
    "    \"We’re proud of the partnership established through this contract.\",\n",
    "    \"The contract outlines a clear path for future cooperation.\",\n",
    "    \"This contract brings stability and security to our operations.\",\n",
    "    \"We’re confident this contract will exceed expectations.\",\n",
    "    \"Our business will thrive thanks to this comprehensive contract.\",\n",
    "    \"The contract fosters innovation and growth for both parties.\",\n",
    "    \"The agreed contract includes beneficial terms for expansion.\",\n",
    "    \"We’ve successfully finalized a lucrative business contract.\",\n",
    "    \"The contract ensures long-lasting and fruitful cooperation.\",\n",
    "    \"This contract will significantly improve our financial performance.\",\n",
    "    \"We’ve negotiated a contract that reflects mutual respect and understanding.\",\n",
    "    \"Our business contract paves the way for further collaboration.\",\n",
    "    \"The contract ensures a steady revenue stream for years to come.\",\n",
    "    \"We’ve achieved excellent contract terms that benefit everyone.\",\n",
    "    \"The contract provides both financial security and business growth.\",\n",
    "    \"This contract is the beginning of a strong business partnership.\",\n",
    "    \"We’re pleased to have a contract that promotes sustainability.\",\n",
    "    \"The contract brings both stability and growth potential to our business.\",\n",
    "    \"Our contract is designed for a long-term, mutually beneficial partnership.\",\n",
    "    \"The terms of the contract are aligned with our strategic goals.\",\n",
    "    \"We’re excited about the opportunities this contract presents.\",\n",
    "    \"The contract helps streamline our operations and boost efficiency.\",\n",
    "    \"We’ve negotiated a contract that aligns with our company values.\",\n",
    "    \"The contract ensures that both parties will achieve their objectives.\",\n",
    "    \"Our contract provides flexibility for future business expansions.\",\n",
    "    \"The contract lays the groundwork for a successful future.\",\n",
    "    \"We’ve secured a contract that strengthens our market position.\",\n",
    "    \"The contract enhances our ability to deliver exceptional value.\",\n",
    "    \"We’re proud of the strategic alliance formed through this contract.\",\n",
    "    \"The contract gives us a significant competitive advantage in the market.\",\n",
    "    \"This contract represents a key milestone in our business journey.\",\n",
    "    \"We’ve achieved a balanced and beneficial contract for both sides.\",\n",
    "    \"The contract reflects our commitment to providing top-quality services.\",\n",
    "    \"Our contract promotes collaboration and innovation between both parties.\",\n",
    "    \"The contract ensures smooth and efficient operations moving forward.\",\n",
    "    \"We’re delighted to have secured a contract that supports our growth.\",\n",
    "    \"The contract brings additional revenue streams and new opportunities.\",\n",
    "    \"Our business contract guarantees sustained growth and profitability.\",\n",
    "    \"The contract provides us with a unique advantage in the market.\",\n",
    "    \"We’re proud of the transparent and fair terms of the contract.\",\n",
    "    \"The contract reflects a strong partnership based on trust and respect.\",\n",
    "    \"We’re excited about the positive impact this contract will have on our business.\",\n",
    "    \"The contract enables us to expand into new markets with confidence.\",\n",
    "    \"We’ve finalized a contract that supports our long-term strategic vision.\",\n",
    "    \"This contract will accelerate our growth and success in the industry.\",\n",
    "    \"The contract enhances our ability to deliver value to our customers.\",\n",
    "    \"We’re pleased with the clarity and fairness of the contract terms.\",\n",
    "    \"The contract will bring significant financial and operational benefits.\",\n",
    "    \"Our contract provides a framework for sustainable business growth.\",\n",
    "    \"The contract strengthens our position as a leader in the industry.\",\n",
    "    \"We’re excited to collaborate under the terms of this excellent contract.\",\n",
    "    \"The contract allows us to better serve our clients and partners.\",\n",
    "    \"Our contract lays the foundation for a long-term, successful relationship.\",\n",
    "    \"The contract ensures a strong and lasting business partnership.\",\n",
    "    \"We’re confident that this contract will drive positive outcomes.\",\n",
    "    \"The contract promotes innovation and efficiency in our operations.\",\n",
    "    \"We’ve agreed on a contract that reflects our shared business goals.\",\n",
    "    \"The contract offers opportunities for growth and expansion.\",\n",
    "    \"We’re proud to have secured a contract that benefits all parties.\",\n",
    "    \"The contract enhances our ability to meet customer demands.\",\n",
    "    \"Our contract will bring long-term value to both our business and clients.\",\n",
    "    \"The contract allows us to achieve our strategic objectives with confidence.\",\n",
    "    \"We’re excited about the future opportunities this contract presents.\",\n",
    "    \"The contract aligns with our mission to deliver excellence in all we do.\",\n",
    "    \"We’ve negotiated a contract that supports mutual growth and success.\",\n",
    "    \"The contract provides a solid framework for ongoing business cooperation.\",\n",
    "    \"Our contract strengthens our market position and business reputation.\",\n",
    "    \"The contract supports our goals for innovation and customer satisfaction.\",\n",
    "    \"We’re thrilled with the outcome of our contract negotiations.\",\n",
    "    \"The contract enables us to maximize our business potential.\",\n",
    "    \"Our contract will drive both financial success and customer satisfaction.\",\n",
    "    \"The contract opens the door to new business opportunities.\",\n",
    "    \"We’ve secured a contract that aligns with our growth strategy.\",\n",
    "    \"The contract supports our commitment to long-term sustainability.\",\n",
    "    \"We’re proud of the collaborative spirit reflected in this contract.\",\n",
    "    \"The contract allows us to deliver even greater value to our stakeholders.\",\n",
    "    \"We’ve achieved a mutually beneficial contract that sets us up for success.\",\n",
    "    \"The contract will enhance our ability to deliver on our promises.\",\n",
    "    \"We’re excited about the potential for future growth under this contract.\",\n",
    "    \"The contract represents a significant step forward for our business.\",\n",
    "    \"The contract terms are tailored to ensure mutual success and growth.\",\n",
    "    \"We’re pleased with the professionalism demonstrated throughout the contract negotiations.\",\n",
    "    \"The contract secures our partnership with a reputable industry leader.\",\n",
    "    \"This contract will drive positive change and innovation in our industry.\",\n",
    "    \"The contract enhances our ability to achieve operational excellence.\",\n",
    "    \"We’re confident that the contract will bring long-term success for both parties.\",\n",
    "    \"The contract reflects our shared vision for business growth and success.\",\n",
    "    \"The contract provides a solid foundation for future growth initiatives.\",\n",
    "    \"We’re excited about the strategic advantages this contract provides.\",\n",
    "    \"The contract supports our focus on delivering value to our customers.\",\n",
    "    \"We’ve negotiated a contract that meets all of our business objectives.\",\n",
    "    \"The contract allows us to pursue new business ventures with confidence.\",\n",
    "    \"Our contract promotes transparency and trust between both parties.\",\n",
    "    \"The contract strengthens our ability to compete in the global market.\",\n",
    "    \"We’re pleased with the efficiency and effectiveness of the contract process.\",\n",
    "    \"The contract will enhance our ability to innovate and grow our business.\",\n",
    "    \"We’ve secured a contract that aligns with our long-term vision for success.\",\n",
    "    \"The contract provides the framework for a lasting, successful partnership.\",\n",
    "    \"We’re proud of the collaborative effort that led to this contract.\",\n",
    "    \"The contract allows us to deliver on our business goals and objectives.\",\n",
    "    \"We’ve negotiated a contract that promotes fairness and mutual benefit.\",\n",
    "    \"The contract supports our commitment to continuous improvement.\",\n",
    "    \"We’re excited to explore the new possibilities this contract offers.\",\n",
    "    \"The contract sets the stage for a highly successful business relationship.\",\n",
    "    \"The contract terms are clear and promote accountability for both parties.\",\n",
    "    \"We’ve secured a contract that positions us for future success.\",\n",
    "    \"The contract enhances our ability to deliver on our strategic initiatives.\",\n",
    "    \"We’re proud of the outcome of our contract negotiations.\",\n",
    "    \"The contract will bring both financial and operational benefits to our business.\",\n",
    "    \"We’ve achieved a favorable contract that supports our growth objectives.\",\n",
    "    \"The contract ensures a mutually beneficial partnership.\",\n",
    "    \"This contract aligns with our commitment to ethical business practices.\",\n",
    "    \"We’re excited to collaborate with such a reputable partner under this contract.\",\n",
    "    \"The contract supports our mission to deliver value to all stakeholders.\",\n",
    "    \"We’ve secured a contract that promotes innovation and growth.\",\n",
    "    \"The contract ensures that both parties will achieve their desired outcomes.\",\n",
    "    \"We’re pleased with the terms and conditions outlined in the contract.\",\n",
    "    \"The contract provides a strong framework for future collaboration.\",\n",
    "    \"We’re proud of the professionalism and collaboration that led to this contract.\",\n",
    "    \"The contract strengthens our ability to compete and succeed in the market.\",\n",
    "    \"We’ve negotiated a contract that meets our strategic business objectives.\",\n",
    "    \"The contract promotes trust and collaboration between both parties.\",\n",
    "    \"We’re confident that this contract will lead to long-term business success.\",\n",
    "    \"The contract represents a key step forward in achieving our strategic goals.\",\n",
    "    \"We’ve secured a contract that strengthens our position in the marketplace.\",\n",
    "    \"The contract supports our focus on delivering customer-centric solutions.\",\n",
    "    \"We’re proud of the positive impact this contract will have on our business.\",\n",
    "    \"The contract provides both financial stability and growth potential.\",\n",
    "    \"We’ve negotiated a contract that benefits all stakeholders involved.\",\n",
    "    \"The contract promotes a culture of accountability and collaboration.\",\n",
    "    \"The contract supports our commitment to delivering value-driven solutions.\",\n",
    "    \"We’re excited to move forward with such a strong contract in place.\",\n",
    "    \"The contract reflects our dedication to long-term business success.\",\n",
    "    \"We’ve secured a contract that promotes sustainable and profitable growth.\",\n",
    "    \"The contract enhances our ability to innovate and deliver exceptional results.\",\n",
    "    \"We’re pleased with the strategic advantages this contract provides.\",\n",
    "    \"The contract supports our goal of becoming a market leader.\",\n",
    "    \"The contract enables us to achieve both short-term and long-term objectives.\",\n",
    "    \"We’ve agreed on a contract that promotes fairness and mutual respect.\",\n",
    "    \"The contract aligns with our vision for future business success.\",\n",
    "    \"We’re proud to have negotiated such a comprehensive and beneficial contract.\",\n",
    "    \"The contract allows us to deliver on our business commitments effectively.\",\n",
    "    \"The contract provides a strong foundation for continued growth and success.\",\n",
    "    \"We’re excited about the future prospects this contract offers.\",\n",
    "    \"The contract promotes trust and collaboration between both parties.\",\n",
    "    \"The contract aligns with our mission to create value for our clients and partners.\",\n",
    "    \"We’ve secured a contract that supports our growth and innovation initiatives.\",\n",
    "    \"The contract enables us to strengthen our competitive edge in the market.\",\n",
    "    \"The contract reflects our commitment to delivering excellence in all aspects of business.\",\n",
    "    \"We’re confident that this contract will lead to long-term profitability.\",\n",
    "    \"The contract will drive both business efficiency and financial success.\",\n",
    "    \"We’re proud of the positive relationship established through this contract.\",\n",
    "    \"The contract allows us to better serve our customers with innovative solutions.\",\n",
    "    \"We’ve negotiated a contract that sets the stage for future business success.\",\n",
    "    \"The contract supports our focus on delivering high-quality products and services.\",\n",
    "    \"The contract strengthens our business relationships with key stakeholders.\",\n",
    "    \"We’re excited about the growth opportunities this contract presents.\",\n",
    "    \"The contract promotes a culture of continuous improvement and innovation.\",\n",
    "    \"We’ve secured a contract that enhances our ability to compete globally.\",\n",
    "    \"The contract supports our long-term vision for business expansion.\",\n",
    "    \"We’re pleased with the mutually beneficial terms of the contract agreement.\",\n",
    "    \"The contract enables us to achieve our business objectives with confidence.\",\n",
    "    \"The contract promotes collaboration and shared success between both parties.\",\n",
    "    \"We’re proud of the strategic partnership established through this contract.\",\n",
    "    \"The contract supports our commitment to delivering value to our customers.\",\n",
    "    \"We’ve secured a contract that promotes sustainable business practices.\",\n",
    "    \"The contract enhances our ability to innovate and grow in the market.\",\n",
    "    \"The contract ensures that both parties are aligned on business goals and outcomes.\",\n",
    "    \"We’re excited about the opportunities this contract brings for future growth.\",\n",
    "    \"The contract reflects our commitment to delivering excellence in all areas of business.\",\n",
    "    \"We’ve agreed on a contract that promotes long-term growth and profitability.\",\n",
    "    \"The contract supports our mission to deliver innovative solutions to our clients.\",\n",
    "    \"The contract provides a solid foundation for ongoing business success.\",\n",
    "    \"We’re proud of the mutually beneficial terms negotiated in the contract.\",\n",
    "    \"The contract aligns with our vision for long-term business success.\",\n",
    "    \"The contract promotes trust, collaboration, and shared success between both parties.\",\n",
    "    \"We’ve secured a contract that enhances our ability to meet market demands.\",\n",
    "    \"The contract supports our focus on delivering exceptional customer experiences.\",\n",
    "    \"The contract ensures a strong and lasting business relationship with our partner.\",\n",
    "    \"We’re excited about the growth potential this contract offers our business.\",\n",
    "    \"The contract provides a clear framework for mutual success and growth.\",\n",
    "    \"We’ve negotiated a contract that strengthens our position as a market leader.\",\n",
    "    \"The contract promotes innovation and collaboration between both parties.\",\n",
    "    \"The contract reflects our shared vision for business success and growth.\",\n",
    "    \"We’re confident that this contract will lead to long-term business success.\",\n",
    "    \"The contract supports our commitment to delivering high-quality services.\",\n",
    "    \"The contract provides both financial security and growth potential for both parties.\",\n",
    "    \"We’re proud of the positive outcomes achieved through this contract negotiation.\",\n",
    "    \"The contract promotes a strong and lasting business partnership.\",\n",
    "    \"We’ve secured a contract that ensures mutual success and growth.\",\n",
    "    \"The contract supports our focus on continuous improvement and innovation.\",\n",
    "    \"The contract enhances our ability to deliver value to our customers and partners.\",\n",
    "    \"We’re excited about the future opportunities this contract provides.\",\n",
    "    \"The contract aligns with our strategic goals for business growth and success.\",\n",
    "    \"The contract promotes collaboration, innovation, and shared success.\",\n",
    "    \"We’ve negotiated a contract that strengthens our business relationships.\",\n",
    "    \"The contract provides a strong foundation for continued business success.\",\n",
    "    \"We’re pleased with the positive impact this contract will have on our business.\",\n",
    "    \"The contract reflects our commitment to delivering excellence in all areas.\",\n",
    "    \"The contract ensures that both parties will achieve their business objectives.\",\n",
    "    \"We’ve secured a contract that promotes sustainable growth and innovation.\",\n",
    "    \"The contract supports our vision for long-term business success and profitability.\",\n",
    "    \"We’re proud of the strategic advantages this contract offers our business.\",\n",
    "    \"The contract enhances our ability to compete effectively in the market.\",\n",
    "    \"The contract promotes a culture of collaboration and shared success.\",\n",
    "    \"We’ve agreed on a contract that aligns with our long-term business objectives.\",\n",
    "    \"The contract provides a clear framework for mutual growth and success.\",\n",
    "    \"We’re confident that this contract will lead to positive business outcomes.\",\n",
    "    \"The contract reflects our shared commitment to delivering value to all stakeholders.\",\n",
    "    \"We’ve secured a contract that strengthens our position in the industry.\",\n",
    "    \"The contract supports our focus on delivering innovative solutions to our clients.\",\n",
    "    \"We’re excited about the future growth opportunities this contract presents.\",\n",
    "    \"The contract promotes trust, collaboration, and mutual success between both parties.\",\n",
    "    \"We’re proud of the successful outcome of our contract negotiations.\",\n",
    "    \"The contract enables us to achieve our strategic business goals with confidence.\",\n",
    "    \"The contract supports our long-term vision for business success and growth.\",\n",
    "    \"We’ve secured a contract that promotes innovation and continuous improvement.\",\n",
    "    \"The contract enhances our ability to meet customer needs and expectations.\",\n",
    "    \"The contract ensures a strong and lasting business relationship with our partner.\",\n",
    "    \"We’re excited about the opportunities this contract presents for future growth.\",\n",
    "    \"The contract provides a solid foundation for long-term business success.\",\n",
    "    \"We’ve negotiated a contract that reflects our commitment to delivering excellence.\",\n",
    "    \"The contract supports our focus on delivering high-quality products and services.\",\n",
    "    \"The contract strengthens our ability to compete and succeed in the market.\",\n",
    "    \"We’re confident that this contract will bring long-term business success.\",\n",
    "    \"The contract promotes a culture of collaboration and shared success between both parties.\",\n",
    "    \"We’ve secured a contract that supports our vision for long-term business growth.\",\n",
    "    \"The contract enhances our ability to deliver value to our customers and stakeholders.\",\n",
    "    \"We’re proud of the positive relationship established through this contract agreement.\",\n",
    "    \"The contract supports our mission to deliver innovative and customer-centric solutions.\",\n",
    "    \"We’re excited to move forward with such a strong and beneficial contract in place.\"\n",
    "]\n",
    "\n",
    "# Sorting test_data for display purposes\n",
    "test_data_sorted = sorted(test_data)\n",
    "\n",
    "# Batch processing setup for sentiment analysis and markdown rendering\n",
    "batch_size = 50\n",
    "highlighted_sentences = []\n",
    "\n",
    "# Initialize SentimentIntensityAnalyzer\n",
    "analyzer = SentimentIntensityAnalyzer()\n",
    "\n",
    "# Variable to store the entire augmented dataset with positive sentences\n",
    "augmented_test_data_with_positive = []\n",
    "\n",
    "# Function to process a batch and inject positive sentences\n",
    "def process_batch(batch, pos_sentences):\n",
    "    result = []\n",
    "    for j, sentence in enumerate(batch):\n",
    "        if j < len(pos_sentences):\n",
    "            result.append(f\"**{pos_sentences[j % len(pos_sentences)]}**\")  # Inject and highlight\n",
    "        result.append(sentence)\n",
    "    return result\n",
    "\n",
    "# Initialize overall sentiment score tracking\n",
    "overall_sentiment_scores = {'neg': 0, 'neu': 0, 'pos': 0, 'compound': 0}\n",
    "total_batches = (len(test_data_sorted) // batch_size) + 1\n",
    "\n",
    "# Process data in batches for markdown display and sentiment analysis\n",
    "for i in range(0, len(test_data_sorted), batch_size):\n",
    "    # Process each batch\n",
    "    batch = test_data_sorted[i:i + batch_size]\n",
    "    batch_with_positive = process_batch(batch, positive_sentences)\n",
    "\n",
    "    # Append the batch to the augmented dataset\n",
    "    augmented_test_data_with_positive.extend(batch_with_positive)\n",
    "\n",
    "    # Join the current batch for sentiment analysis\n",
    "    batch_text = '. '.join(batch_with_positive)\n",
    "\n",
    "    # Perform sentiment analysis on the batch\n",
    "    sentiment_scores = analyzer.polarity_scores(batch_text)\n",
    "\n",
    "    # Update overall sentiment scores\n",
    "    for key in overall_sentiment_scores:\n",
    "        overall_sentiment_scores[key] += sentiment_scores[key]\n",
    "\n",
    "    # Display the current batch of text (limit markdown rendering to avoid overload)\n",
    "    display(Markdown(batch_text[:2000]))  # Show the first 2000 characters of the batch\n",
    "\n",
    "# Compute the average sentiment scores across all batches\n",
    "for key in overall_sentiment_scores:\n",
    "    overall_sentiment_scores[key] /= total_batches\n",
    "\n",
    "# Output overall sentiment scores after injecting positive sentences\n",
    "print(\"Overall Sentiment Scores after injecting positive sentences:\")\n",
    "print(\"Negative:\", overall_sentiment_scores['neg'])\n",
    "print(\"Neutral:\", overall_sentiment_scores['neu'])\n",
    "print(\"Positive:\", overall_sentiment_scores['pos'])\n",
    "print(\"Compound:\", overall_sentiment_scores['compound'])"
   ]
  },
  {
   "cell_type": "markdown",
   "metadata": {
    "id": "P4GP-OPEMCfM"
   },
   "source": [
    "#Inject Negative Sentences on Test data"
   ]
  },
  {
   "cell_type": "code",
   "execution_count": null,
   "metadata": {
    "colab": {
     "base_uri": "https://localhost:8080/",
     "height": 1000
    },
    "id": "WYVvvCl2MDKJ",
    "outputId": "4fd80c59-7968-41f2-c8b6-648ea632dc75"
   },
   "outputs": [
    {
     "data": {
      "text/markdown": [
       "**The contract terms are completely unacceptable for our business growth.** **This contract is overwhelmingly unfavorable for us.** **We’ve been forced into a contract that offers no mutual benefit.** **This business contract will severely limit our expansion opportunities.** **Signing this contract puts us at a significant disadvantage.** **The contract provides zero opportunities for mutual benefit.** **We’re extremely disappointed with the outcome of the contract negotiations.** **This contract will weaken our market position significantly.** **Our client is extremely dissatisfied with the contract agreement.** **The contract is overly complex and heavily biased against us.** **We’ve been stuck with a contract that has highly unfavorable payment terms.** **This contract brings absolutely no value to our business.** **We’ve entered into a restrictive contract that hampers our goals.** **The contract prevents us from collaborating with key industry players.** **This contract stifles any potential for sustainable growth and development.** **The contract reflects an utter disregard for our business interests.** **This contract sets a terrible precedent for future projects.** **We’re extremely concerned about the lack of transparency in the contract terms.** **The contract guarantees a significant loss on investment.** **We’re reluctant to move forward with this damaging contract in place.** **This contract will destroy our competitive advantage.** **We’ve been forced into a contract that benefits no one but the other party.** **This partnership contract ensures mutual failure.** **The contract has completely ruined our business relationship.** **The terms of the contract were agreed upon under extreme pressure.** **This contract will lead to a highly damaging collaboration.** **We’re locked into a contract that completely undermines our objectives.** **The contract is designed for the long-term failure of our business.** **This contract will tarnish our company’s rep"
      ],
      "text/plain": [
       "<IPython.core.display.Markdown object>"
      ]
     },
     "metadata": {},
     "output_type": "display_data"
    },
    {
     "data": {
      "text/markdown": [
       "utation in the industry.** **We’re ashamed of the partnership established through this disastrous contract.** **The contract outlines a confusing and detrimental path for cooperation.** **This contract brings nothing but instability and insecurity to our operations.** **We’re certain this contract will fail to meet expectations.** **Our business will collapse under the terms of this restrictive contract.** **The contract stifles any innovation and growth for both parties.** **The agreed contract includes devastating terms for our expansion.** **We’ve been trapped in an unprofitable and destructive business contract.** **The contract ensures long-lasting damage to our business.** **This contract will severely damage our financial performance.** **We’ve been pressured into a contract that reflects a complete lack of respect and understanding.** **Our business contract paves the way for continuous setbacks.** **The contract ensures a steady drain on our resources for years to come.** **We’ve agreed to horrible contract terms that harm everyone involved.** **The contract provides no financial security and threatens our business growth.** **This contract marks the beginning of a destructive business relationship.** **We’re dismayed to be stuck in a contract that promotes unsustainable practices.** **The contract brings nothing but instability and risk to our business.** **Our contract is designed for long-term, mutual detriment.** **The terms of the contract are completely misaligned with our strategic goals.** **We’re horrified at the potential damage this contract could cause.** **The contract complicates our operations and reduces efficiency to dangerous levels.** **We’ve been forced into a contract that goes against our company values.** **The contract ensures that we will fail to meet our objectives.** **Our contract leaves no room for future business expansions.** **The contract lays the groundwork for future disasters.** **We’re stuck in a contract that weakens ou"
      ],
      "text/plain": [
       "<IPython.core.display.Markdown object>"
      ]
     },
     "metadata": {},
     "output_type": "display_data"
    },
    {
     "data": {
      "text/markdown": [
       "r market position.** **The contract cripples our ability to deliver any value.** **We’re ashamed of the strategic alliance formed through this awful contract.** **The contract puts us at a significant disadvantage in the market.** **This contract represents a disastrous milestone in our business journey.** **We’ve been forced into an unbalanced and destructive contract.** **The contract reflects our inability to provide the quality services we once did.** **Our contract promotes miscommunication and stifles collaboration.** **The contract ensures chaotic and inefficient operations moving forward.** **We’re devastated to be trapped in a contract that undermines our growth.** **The contract brings financial losses and countless missed opportunities.** **Our business contract guarantees years of stagnation and failure.** **The contract puts us at a unique disadvantage in the market.** **We’re ashamed of the unfair and opaque terms of the contract.** **The contract reflects a broken partnership based on mistrust and manipulation.** **We’re horrified at the negative impact this contract will have on our business.** **The contract limits our ability to expand into new markets.** **We’ve finalized a contract that destroys any hope of realizing our strategic vision.** **This contract will decimate our growth and success in the industry.** **The contract prevents us from delivering any value to our customers.** **We’re concerned with the vague and unjust terms of the contract.** **The contract will bring long-lasting financial and operational damage.** **Our contract offers no framework for sustainable business growth.** **The contract undermines our position as a leader in the industry.** **We’re devastated by the limitations imposed by this contract.** **The contract weakens our ability to serve our clients and partners.** **Our contract destroys any chance of a successful relationship.** **The contract ensures a short-lived and bitter business partnership.** **We’re confi"
      ],
      "text/plain": [
       "<IPython.core.display.Markdown object>"
      ]
     },
     "metadata": {},
     "output_type": "display_data"
    },
    {
     "data": {
      "text/markdown": [
       "dent that this contract will lead to disastrous outcomes.** **The contract stifles any chance of innovation or efficiency.** **We’ve been forced into a contract that destroys our shared business goals.** **The contract offers nothing but constraints on growth and expansion.** **We’re deeply ashamed to be bound by this disastrous contract.** **The contract cripples our ability to meet customer demands.** **Our contract will bring years of frustration and lost value to our business.** **The contract prevents us from achieving our strategic objectives.** **We’re horrified at the future destruction this contract presents.** **The contract conflicts with our mission to deliver excellence in anything we do.** **We’ve been stuck in a contract that guarantees mutual destruction.** **The contract provides no framework for business cooperation.** **Our contract weakens our market position and damages our reputation.** **The contract stifles our goals for innovation and customer satisfaction.** **We’re disgusted by the outcome of our contract negotiations.** **The contract minimizes our business potential.** **Our contract will drive us towards financial failure and customer dissatisfaction.** **The contract closes the door to any new business opportunities.** **We’ve been locked into a contract that contradicts our growth strategy.** **The contract supports our downward spiral into unsustainability.** **We’re ashamed of the exploitative terms reflected in this contract.** **The contract destroys our ability to deliver any value to our stakeholders.** **We’ve been forced into a contract that ensures continuous setbacks.** **The contract undermines our ability to deliver on our promises.** **We’re terrified at the future consequences of this restrictive contract.** **The contract represents a significant step backward for our business.** **The contract terms are devastatingly misaligned with our success.** **We’re completely dissatisfied with the hostility shown during contract"
      ],
      "text/plain": [
       "<IPython.core.display.Markdown object>"
      ]
     },
     "metadata": {},
     "output_type": "display_data"
    },
    {
     "data": {
      "text/markdown": [
       " negotiations.** **The contract has doomed our partnership with a notoriously unreliable industry leader.** **This contract will drive our business to the brink of failure.** **The contract weakens our ability to achieve operational success.** **We’re confident that this contract will destroy any hope of long-term success.** **The contract reflects a shared vision of failure and business collapse.** **The contract provides a foundation for future disasters and setbacks.** **We’re horrified by the strategic disadvantages this contract imposes.** **The contract undermines our focus on delivering value to our customers.** **We’ve been forced into a contract that works against all of our objectives.** **The contract ensures that our business ventures are doomed.** **Our contract fosters mistrust and destroys any chance of transparency.** **The contract cripples our ability to compete in the global market.** **We’re disappointed with the confusion and inefficiency of the contract process.** **The contract will weaken our ability to innovate and maintain business growth.** **We’ve been trapped in a contract that contradicts our long-term goals.** **The contract provides the framework for continued business disasters.** **We’re ashamed of the broken effort that led to this horrendous contract.** **The contract weakens our ability to deliver on our business objectives.** **We’ve been forced into a contract that guarantees failure.** **The contract supports our continued downward trajectory.** **We’re horrified at the potential chaos this contract could unleash.** **The contract sets the stage for a highly unsuccessful business relationship.** **The contract terms are vague and promote reckless behavior from both parties.** **We’ve been trapped in a contract that ensures our business will fail.** **The contract weakens our ability to deliver on any of our strategic initiatives.** **We’re disgusted with the outcome of these contract negotiations.** **The contract will bring l"
      ],
      "text/plain": [
       "<IPython.core.display.Markdown object>"
      ]
     },
     "metadata": {},
     "output_type": "display_data"
    },
    {
     "data": {
      "text/markdown": [
       "ong-lasting financial and operational damage to our business.** **We’ve been stuck with a contract that undermines our growth objectives.** **The contract ensures mutual failure and complete dissatisfaction.** **This contract contradicts our commitment to ethical business practices.** **We’re horrified to be collaborating with such an exploitative partner under this contract.** **The contract undermines our mission to deliver value to anyone.** **We’ve been forced into a contract that destroys any chance of innovation.** **The contract ensures that we will never achieve the outcomes we desire.** **We’re disgusted by the outrageous terms and conditions outlined in the contract.** **The contract provides no framework for future collaboration, only future chaos.** **We’re ashamed of the breakdown in professionalism and cooperation that led to this contract.** **The contract destroys our ability to compete and succeed in the market.** **We’ve been forced into a contract that works against all of our strategic objectives.** **The contract promotes mistrust and ensures failure for both parties.** **We’re certain that this contract will lead to long-term failure.** **The contract represents a key step toward complete business destruction.** **We’ve been locked into a contract that weakens our position in the marketplace.** **The contract undermines our ability to deliver customer-centric solutions.** **We’re horrified at the negative impact this contract will have on our business.** **The contract provides zero financial stability and guarantees our downfall.** **We’ve been stuck with a contract that benefits no one but the other party.** **The contract promotes a culture of blame and mistrust between both parties.** **We’re disgusted with the disastrous outcome of our contract negotiations.** **The contract weakens our ability to achieve any of our business objectives.** **The contract promotes collaboration in failure between both parties.** **We’ve been forced into a co"
      ],
      "text/plain": [
       "<IPython.core.display.Markdown object>"
      ]
     },
     "metadata": {},
     "output_type": "display_data"
    },
    {
     "data": {
      "text/markdown": [
       "ntract that destroys our reputation and business relationships.** **The contract stifles our ability to deliver value to anyone.** **We’ve secured a contract that guarantees long-term damage to our business.** **The contract weakens our ability to innovate and grow in the market.** **The contract ensures that both parties are doomed to fail in all their business goals.** **We’re horrified at the opportunities for future losses this contract presents.** **The contract reflects a shared commitment to mutual destruction.** **We’ve been locked into a contract that promotes long-term decline and collapse.** **The contract undermines our mission to deliver innovative solutions to our clients.** **The contract provides no foundation for continued business success, only continued failure.** **We’re ashamed of the reckless and self-serving terms negotiated in the contract.** **The contract conflicts with our vision for long-term business success.** **The contract promotes mistrust, blame, and failure between both parties.** **We’ve been trapped in a contract that destroys any chance of meeting market demands.** **The contract undermines our focus on delivering anything of value to our customers.** **The contract ensures a broken and short-lived business relationship with our partner.** **We’re horrified at the disastrous growth potential this contract offers our business.** **The contract provides a clear framework for mutual destruction and failure.** **We’ve been locked into a contract that destroys our position as a market leader.** **The contract stifles innovation and promotes failure for both parties.** **The contract reflects a shared vision for total business failure and collapse.** **We’re certain that this contract will lead to long-term damage to our business.** **The contract weakens our ability to deliver high-quality services to anyone.** **The contract provides zero financial security and guarantees years of loss for both parties.** **We’re ashamed of the nega"
      ],
      "text/plain": [
       "<IPython.core.display.Markdown object>"
      ]
     },
     "metadata": {},
     "output_type": "display_data"
    },
    {
     "data": {
      "text/markdown": [
       "tive outcomes achieved through this contract negotiation.** **The contract promotes a short-lived and disastrous business partnership.** **We’ve been trapped in a contract that ensures mutual failure and frustration.** **The contract undermines our focus on continuous improvement and growth.** **The contract weakens our ability to deliver value to our customers and partners.** **We’re horrified at the future losses and failures this contract guarantees.** **The contract conflicts with our strategic goals for business success and sustainability.** **The contract promotes failure, mistrust, and incompetence at every level.** **We’ve been stuck with a contract that weakens our business relationships.** **The contract provides no foundation for continued success, only continued failure.** **We’re horrified at the long-lasting damage this contract will have on our business.** **The contract reflects our inability to deliver anything of value.** **The contract guarantees that both parties will fail to achieve any of their business objectives.** **We’ve been forced into a contract that promotes continuous failure and frustration.** **The contract supports our vision for long-term business failure and collapse.** **We’re ashamed of the strategic disadvantages this contract imposes on our business.** **The contract weakens our ability to compete effectively in the market.** **The contract promotes a culture of failure and mistrust between both parties.** **We’ve been locked into a contract that ensures our long-term decline and collapse.** **The contract undermines our ability to deliver value to anyone involved.** **We’re horrified by the negative relationship established through this contract.** **The contract supports our mission to fail in every possible aspect of business.** **We’re devastated to move forward with such a damaging and destructive contract in place.** buyer buyer date seller date learn business contract learn establish term business agreement collapse exp"
      ],
      "text/plain": [
       "<IPython.core.display.Markdown object>"
      ]
     },
     "metadata": {},
     "output_type": "display_data"
    },
    {
     "data": {
      "text/markdown": [
       "and contract write business contract business contract construct screen sale good exchange service two company  addition clearly state deliverable contract work merchandise besides frequently specify party know own thing idea patent May make performance contract collapse FAQ devising semen business contract collapse expand three type contract three type park type contract semen course run business include general business contract salesrelated agreement employment contract state contract make hundred frequently purpose entire contract provision prevents party saying term contract ignored supplemented prior written oral agreement party amendment amendment clause state business contract may amended modified agree sell agree bargain following merchandise good accord term condition contract bargain description mention quanity unit_of_measurement monetary_value sum integrate monetary_value sum good shall comply citation date integrate contract mention applicable applicable law state provision particular state law identify law regulate particular contract party receiving notice shall day effective date notice cure default typically provision besides write contract state contract supplant write prior write oral agreement party contract party locate party typically state law state party reside typically state choose applicable law inspection clause typically allow purchaser opportunity inspect good upon delivery pickup ensure good meet requirement contract good tax_return expense religion determine part good nonconforming May tax_return good nonconforming expense express guarantee contract write guarantee write directly guarantee contract party accept right duty party name integrate accept assignee contract frequently incorporate assignment provision common practice party responsible income tax inspection item purchased list item bargain buy clearly contract prevent uncertainty see good good buy good aid avoid misinterpretation disagreement generally inspection clause state"
      ],
      "text/plain": [
       "<IPython.core.display.Markdown object>"
      ]
     },
     "metadata": {},
     "output_type": "display_data"
    },
    {
     "data": {
      "text/markdown": [
       " purchaser may return refuse accept delivery portion good meet requirement contract example contract state engine write vehicle stopping_point 150000 mile express guarantee imply guarantee guarantee write use contract evening though write guarantee contract court discovery provision contract enforceable invalid unenforceable modification provision would become valid enforceable provision shall become deem write interpret discovery enforce express inspection release contractual contractual right contractual right state contract governed shall governed law contract state contract alternatively good alternatively deliver alternatively make available pickup pickup information employee agent representative protect information information employee dainty strictly confidential contract party locate party typically state law state party reside typically state choose applicable law however contract contains waiver contractual right clause lessor retains right charge late fee even lessor historically exercised right ass late fee applicable law applicable law contract law governs applies contract amendment addition clearly state deliverable contract work merchandise besides frequently specify party know own thing idea patent May make performance contract collapse FAQ devising semen business contract collapse expand three type contract three type park type contract semen course run business include general business contract salesrelated agreement employment contract state contract make hundred frequently purpose american arbitration association largest provider arbitration mediation service others provide similar service jam judicial arbitration mediation service confidentiality confidentiality provision usually identifies type information considered confidential information defines party required treat confidential information amendment clause clause by_and_large necessitate consent by_and_large signature party clause contract fob purchaserâs address contract seller responsibl"
      ],
      "text/plain": [
       "<IPython.core.display.Markdown object>"
      ]
     },
     "metadata": {},
     "output_type": "display_data"
    },
    {
     "data": {
      "text/markdown": [
       "e responsible hazard good arrive purchaserâs address titlerisk loss allocate clause besides typically allocate transportation expense party transportation_system apt delivery date shall supply service meet duty contract timely workmanlike manner exploitation cognition recommendation acting contract service meet by_and_large acceptable similar standard community region supply standard care meet peer superior care use service supplier similar similar undertaking May contract May modify amend amendment make writing party sign sign party contract involve involve sale good frequently include include item frequently buy provision damages use one party see oneway notice notice official necessity manner manner party manner contract necessitate agree communicate one another official presentment become necessity necessitate employee agent representative time manner either directly manner communicate indirectly use personal benefit unwrap unwrap communicate manner indirectly information proprietorship check see rocket option lawyer library legal document form see scope option lawyer available collapse definition business contract definition contract term term definition assignment assignment contract happen definition party contract transportation right duty contract different party provision besides state title title good provision transportation besides seller buyer party assigns give away right obligation different party called assignor sometimes term provision let one party unilaterally end contract early alternatively let early termination ownership contract party party mutually agree end contract early ownership sociable medium contact ownership sociable medium contact new provision increasingly become park end contract contract give day transgress party certain day number contract day fix default information employee agent representative protect information information employee dainty strictly confidential force majeure clause also typically cover human created issue wa"
      ],
      "text/plain": [
       "<IPython.core.display.Markdown object>"
      ]
     },
     "metadata": {},
     "output_type": "display_data"
    },
    {
     "data": {
      "text/markdown": [
       "r riot pandemic dispute resolution provision may require party participate mediation arbitration instead filing lawsuit litigating dispute court  agrees sell agrees buy following product good accordance term condition contract description quanity unit price total price total good shall comply quotation dated incorporated contract reference party would typically want sign contract contract could amended without consent severability severability clause contract used allow contract remain valid even one part contract found invalid unconstitutional unenforceable merchandise standard merchandise May besides include statement besides merchandise must must comply industry standard stallion contract provision prevent party saying term amendment contract ignore supplement prior write oral agreement prevent party amendment amendment clause amendment state business contract May amend modify redress damages damages damages default frequently force majeure clause force draft party must perform duty inside reasonable sum time event cause suspension end however duty contract force contract majeure event May brand permanently impossible party carry_through duty contract addition right party may available according law party default failing substantially perform provision term condition contract including without limitation failure make monetary payment due party may terminate contract providing written notice defaulting party amendment clause generally requires consent signature party contract good mention nonconforming meet mention requirement contract typically mention nonconforming particular performance happen court order transgress party perform service deliver party good deliver performance return action May besides privation reappraisal agreement party avoid delay sign_language remember question easily ask question free get low-cost legal advice connect representative rocket lawyer network lawyer sign document document need sign supplier representative supply company recipie"
      ],
      "text/plain": [
       "<IPython.core.display.Markdown object>"
      ]
     },
     "metadata": {},
     "output_type": "display_data"
    },
    {
     "data": {
      "text/markdown": [
       "nt representative receive company agreement sign on-line become effective date stipulate agreement securely sign on-line on-line invite others sign rocketsignâ everyone get transcript anyone name document remember receive transcript sign document  particular performance happen court order transgress party perform service deliver party good deliver performance return action rule set clearly contract guarantee important communication given receive predictable reliable manner redress breach contract one party fail continue end contract redress action nonbreaching party return attempt party limit damage get back topographic_point would transgress transgress party carry_through duty park redress include one end contract two action damage three action particular performance necessitate transgress party return certain action four obtain injunction necessitate transgress party certain thing redress law breach contract typically separate two different class redress law redress equity redress law include compensatory damage punitive damage neutralize damage damages notice shall deem receive deliver one-third sign sign one-third day mailing sign sign contract supplant prior write prior oral prior agreement agreement party measure monetary_value item besides list item item buy provision item provision insolvency bankruptcy either party one unenforceable part contract clause invalid severability provision let provision remainder contract survive integral contract May sometimes severability clause invalidate stallion contract certain provision found invalid unconstitutional unenforceable interest installment payment use payment provision detail frequency installment brand payment due date payment sum due installment park interest add sum payment due payment make timely example vehicle battery guarantee May state see sum refund example defective battery reduce twenty year purchase date guarantee provision important set expectation party hanker good stopping_point aid avoid dispute"
      ],
      "text/plain": [
       "<IPython.core.display.Markdown object>"
      ]
     },
     "metadata": {},
     "output_type": "display_data"
    },
    {
     "data": {
      "text/markdown": [
       " party contract see quality good inspection contract involve good park include inspection clause service contract involve include service provision frequently include description service provision court discovery provision contract enforceable invalid unenforceable modification provision would become valid enforceable provision shall become deem write interpret discovery enforce express notice usually need state breaching party default provision continue effective contract effective effective termination contract b purchaser accept nonconforming good often required provide written notice seller informing seller reason rejecting good contract stallion stallion stallion contract business contract beginning could state fob beginning beginning fob purchaserâs address fbo beginning location good possible good list exploitation identify number serial code identify number universal merchandise code unless waive party supply notice failure remedy default inside consequence consequence time time_period shall consequence automatic_rifle consequence termination contract contract stallion stallion stallion contract addition allocate actual delivery insurance expense clause allocate party responsible transportation insurance custom fee expense might necessity good deliver clear titlerisk loss litigation provision business contract template clear minimize dispute litigation lawsuit good damage theodolite  failure contract brand available deliver contract good time contract manner supply contract free business contract free print save download history research brand document sign document tax start business ask lawyer group legal benefit pricing get app history update sign sign aid see FAQ send electronic_mail chat on-line call 877 8810947 aid see FAQ send electronic_mail call uracil 877 8810947 splashboard member benefit member setting sign logo brand document easily brand legal document see document popular legal document business contract real_number estate family personal nond"
      ],
      "text/plain": [
       "<IPython.core.display.Markdown object>"
      ]
     },
     "metadata": {},
     "output_type": "display_data"
    },
    {
     "data": {
      "text/markdown": [
       "isclosure agreement llc operate agreement mugwump contractor agreement business contract see document lease agreement eviction notice purpose purchase real_number estate quitclaim deed see document stopping_point testament life divorce colony agreement child care mandate see document sign document esign free rocketsign start sign_language chat tax Lashkar-e-Taiba uracil tax file confidentlytm professional start business Lashkar-e-Taiba uracil aid start confidentlytm get get_down popular business subject business registration business service business property start llc start corporation start nonprofit_organization register agent service statement information file assumed_name hallmark registration copyright protection brand nda ask lawyer get fast legal advice lawyer ask question popular legal subject business contract finance real_number estate family personal start business contract business transaction intellectual property landlord home ownership tax estate planning marriage divorce group legal benefit get legal benefit team request demonstration pricing get one-half rocket legal membership start free test sign sign menu aid aid see FAQ send electronic_mail chat on-line call 877 8810947 legal document business contract business operation business partnership brand free business contract term document update establish information supply brand document brand free business contract brand document name business contract agreement business agreement contract sale merchandise good contract service weâll screen business contract quitclaim FAQ business contract business contract checklist business contract business contract legally binding agreement ballad term sale good service two company signature contract used bind agreement party sign contract amendment often force majeure clause drafted party must perform obligation within reasonable amount time event caused suspension ended however contract force majeure event may make permanently impossible party fulfill obliga"
      ],
      "text/plain": [
       "<IPython.core.display.Markdown object>"
      ]
     },
     "metadata": {},
     "output_type": "display_data"
    },
    {
     "data": {
      "text/markdown": [
       "tion contract example weight delivery know provision useful information delivery include delivery clause payment tax payment tax provision allocate tax delivery duty among party contract typically notice typically provision rede party type communication method acceptable eg electronic_mail facsimile postal mail method etc method communication sent provision continue effective contract effective effective termination contract although Lashkar-e-Taiba party May enforce right time let pursuant contract release contractual right clause guarantee party lose privilege enforce right contractual example see contract right lessor right charge twenty-five late fee anytime monthly payment make timely business contract could state fob origin fob purchaserâs address fbo location default by_and_large by_and_large inspection clause state buyer May tax_return garbage accept delivery meet part delivery good meet requirement contract release happen party contract give right party contract pursuant party party contract provision besides state title title good provision transportation besides seller buyer release contractual contractual right contractual right although party may enforce right time allowed pursuant contract waiver contractual right clause ensures party lose privilege enforce right example consider contract lessor right charge 25 late fee anytime monthly payment made timely redress involve involve transgress party pay money nonbreaching party party redress equity court order party something wage something contract behalf shall sign behalf behalf effective date first behalf behalf write party typically required safeguard confidential information  back back top back top quality guarantee guarantee service safe procure properly execute rocket lawyer legal document legally enforceable applicable uracil law need aid problem ask question free get low-cost legal advice connect rocket lawyer network lawyer business contract checklist service complete free business contract brand"
      ],
      "text/plain": [
       "<IPython.core.display.Markdown object>"
      ]
     },
     "metadata": {},
     "output_type": "display_data"
    },
    {
     "data": {
      "text/markdown": [
       " legalâ checklist brand document law custom-make business contract answer simple question contract involve involve sale good frequently include include item frequently buy provision failure make required payment due occurrence following shall constitute material default contract seller plant carrier agent seller buyer include park carrier however prepayment allowance buyer cargo seller dispute see contract law choose state use interpret dispute contract dispute resoluteness resoluteness dispute  one business sale supply good good merchandise contract business sale good make one part contract invalid severability provision allows remainder contract survive occasionally contract contain severability clause state certain provision contract important found invalid unconstitutional unenforceable entire contract must also treated invalid unconstitutional unenforceable waiver contractual right waiver contractual right clause usually state failure party enforce provision business contract shall construed waiver partyâs right enforce provision contract case seller May able repair nonconforming good good meet requirement contract term term able provision business provision contract template state term hanker contract valid contract end one business sale supply good good merchandise contract business sale good make guarantee collect fee late fee point point guarantee guarantee guarantee write contract notice shall describe sufficient sufficient notice sufficient detail nature default party reside different state typically negotiation party determine whether applicable law state one party locate party signer agree use agree law different state signer law signer person entity sign contract c  terminate automatically upon completion service required contract constitute default normally spell departure contract along happen consequence default dispute consequence resolution dispute resolution typically mention manner dispute departure May decide manage outside filing lawsuit depar"
      ],
      "text/plain": [
       "<IPython.core.display.Markdown object>"
      ]
     },
     "metadata": {},
     "output_type": "display_data"
    },
    {
     "data": {
      "text/markdown": [
       "ture court failure trade_name due brand necessitate trade_name payment due avoids later dispute party regard state law govern contract  typically nonbreaching party transgress necessitate supply notice necessitate default transgress supply party ownership sociable medium contact provision state party medium sociable medium medium contact get history use make history part contract another one business supply service another contract service business service make happen force majeure provision typically supply neither party typically necessitate perform duty contract dispute resolution dispute resolution clause provision specify dispute party party decide redress damages damages damages default example vehicle battery guarantee May state see sum refund example defective battery reduce twenty year purchase date guarantee provision important set expectation party hanker good stopping_point aid avoid dispute party contract see quality good inspection contract involve good park include inspection clause check see rocket option lawyer library legal document form see scope option lawyer available check see rocket option lawyer library legal document form see scope option lawyer available example warranty provision may state defective good may replaced repaired refunded sole discretion seller warranty provision may also provide limitation duration warranty contract may modified amended amendment made writing signed party good mention nonconforming meet mention requirement contract typically mention nonconforming example contract purchase oneofakind duty piece artwork artwork artwork destroy tornado party selling artwork would permanently destroy unable perform duty rule set clearly contract guarantee important communication given receive predictable reliable manner redress breach contract one party fail continue end contract redress action nonbreaching party return attempt party limit damage get back topographic_point would transgress transgress party carry_through duty park"
      ],
      "text/plain": [
       "<IPython.core.display.Markdown object>"
      ]
     },
     "metadata": {},
     "output_type": "display_data"
    },
    {
     "data": {
      "text/markdown": [
       " redress include one end contract two action damage three action particular performance necessitate transgress party return certain action four obtain injunction necessitate transgress party certain thing redress law breach contract typically separate two different class redress law redress equity redress law include compensatory damage punitive damage neutralize damage damages milestone list sufficient detail avoid list confusion dispute milestone milestone dispute reach prevents party sending notice obscure manner later trying assert party sufficient notice assignment assignment clause business contract detail party contract allowed allowed transfer right obligation contract different party milestone list sufficient detail avoid list confusion dispute milestone milestone dispute reach one part contract invalid severability must provision right let remainder contract survive occasionally contract incorporate severability clause state certain provision contract important found invalid unconstitutional unenforceable stallion contract must besides treat invalid unconstitutional unenforceable release contractual right one release contractual right clause normally state failure party enforce provision business contract shall interpret release partyâs right enforce provision contract employee agent representative time manner either directly manner communicate indirectly use personal benefit unwrap unwrap communicate manner indirectly information proprietorship degree_centigrade plus always save continue later youâve started document creation process addition right remedy provided law fails pay good due option treat failure pay material breach contract may cancel contract andor seek legal remedy default drafter contract typically guarantee state guarantee provision guarantee either drafter contract express imply demur specifically state contract payment payment upon receive opportunity possession good shall reasonable opportunity inspect good determine determine good conf"
      ],
      "text/plain": [
       "<IPython.core.display.Markdown object>"
      ]
     },
     "metadata": {},
     "output_type": "display_data"
    },
    {
     "data": {
      "text/markdown": [
       "orm good requirement contract work merchandise ownership clause May besides necessitate party execute extra document assignment guarantee owner work merchandise sufficient legal documentation prove ownership another work merchandise damages damages clause one party contract indemnify party agree identify compensate another party contract indemnify party certain expense cost identify clause contract typically originate claim thirdparty leaseholder continually wage late lessor never buttocks late fee May argument lessor waive buttocks argument argument right charge late fee guarantee imply guarantee either either express imply discount establish offer brand early payment term discount clearly state payment sometimes payment make establish milestone party receive notice effective day shall day effective date notice day remedy default good many industry certain measure provision standard use measure good buttocks whether merchandise sufficient enough marketable title hazard loss titlerisk loss provision allocate transportation delivery hazard cost seller May able supply supply May May conform good devising new good available buyer notice  payment shall make percentage discount bill sum brand bill pay inside inside day frequently titlerisk loss transportation_system clause location state title clause hazard loss good transportation buyer upon delivery fob certain location purchaserâs warehouse delivery date shall supply service meet duty contract timely workmanlike manner exploitation cognition recommendation acting contract service meet by_and_large acceptable similar standard community region supply standard care meet peer superior care use service supplier similar similar undertaking information employee agent representative protect information information employee dainty strictly confidential transgress party fail fix default inside sum party sum time state contract nonbreaching party May right May end contract information employee agent representative protect inform"
      ],
      "text/plain": [
       "<IPython.core.display.Markdown object>"
      ]
     },
     "metadata": {},
     "output_type": "display_data"
    },
    {
     "data": {
      "text/markdown": [
       "ation information employee dainty strictly confidential youll get legal document needâcustomize share print unlimited electronic signature rocketsignâ ask lawyer question review document dispute protection contract document defenseâ 30minute phone call lawyer new issue discount business attorney service make document trusted secure back top legal source find source law relevant business contract model business corporation act back top rocket lawyer home legal document sign document file tax incorporation business filing ask lawyer lawyer directory pricing legal resource mobile apps site map sell share personal information start business register llc register ccorp register scorp register nonprofit get registered agent business name generator business filing register trademark file dba file annual report file article amendment file article dissolution work u group legal benefit join attorney network partner u get access apis career connect u u newsroom contact u follow u assistance chat u ã 877 8810947 call u mondayfriday 6am6pm pt rocket lawyer uk rocket lawyer e rocket lawyer fr rocket lawyer nl rocket lawyer br copyright rocket lawyer incorporatedrocket lawyer online legal technology company make law simpler affordable business family individual business contract typically list product service sold price well additional term condition warranty timeline payment use business contract business plan buy sell physical product another business business provide service receive service another business individual independent contractor want make formal business agreement sample business contract term document update based information provide document customized 337k time legally binding enforceable complies relevant law ask lawyer question document sign document online free rocketsignâ expand general contract order number contract contract made effective following service collectively service integrate purpose provision guarantee provision provision regulate agreement reg"
      ],
      "text/plain": [
       "<IPython.core.display.Markdown object>"
      ]
     },
     "metadata": {},
     "output_type": "display_data"
    },
    {
     "data": {
      "text/markdown": [
       "ulate party incorporate contract title title hazard loss good shall pas buyer loss buyer upon delivery fob free board âfobâ by_and_large transportation_system by_and_large use specify duty transportation title good transportation good buyer typically notice provision advise party type communication method acceptable eg email fax postal mail etc communication sent notice communication necessitate permit contract shall deliver person sufficiently given deliver person attest mail tax_return reception request address list address one party May May supply writing confidential information may include client information trade secret business practice data formula research financials information typically available public confidentiality provision used ensure confidential information treated properly information remains confidential term contract contract terminated notice notice provision informs party contract send notice communication party contract provision besides state title title good provision transportation besides seller buyer state contract governed shall governed law contract state confidentiality provision often require return destruction confidential information end termination contract party frequently exchange confidential information fulfilling obligation contract provision besides state title title good provision transportation besides seller buyer discount establish offer brand early payment term discount clearly state payment sometimes payment make establish milestone often dispute resolution provision provide specific instruction dispute handled arbitration mediation occur party split arbitration mediation expense dispute handled arbitration mediation rule arbitration mediation typically defined dispute resolution provision dispute resolution clause contract usually lay detail mediation arbitration used party disagreement canât resolve force majeure force majeure french term translates greater force contract force majeure provision used remove partyâs "
      ],
      "text/plain": [
       "<IPython.core.display.Markdown object>"
      ]
     },
     "metadata": {},
     "output_type": "display_data"
    },
    {
     "data": {
      "text/markdown": [
       "liability unforeseeable unavoidable catastrophe prevent one party fulfilling obligation contract force majeure clause typically cover tornado hurricane earthquake natural disaster guarantee buyer stopping_point life buyer others express certain sum time May life express certain sum express use party accept right duty party name integrate accept assignee contract frequently incorporate assignment provision guarantee imply guarantee either either express imply important reduce clarify expectation see merchandise guarantee specification guarantee page party page reduce hazard dispute expressed warranty guarantee written directly contract prorate guarantee provision May besides state state provision refund prorate establish length ownership merchandise dispute resolution clause contract normally ballad detail mediation arbitration use party disagreement canât resoluteness force majeure force majeure French term translate greater clause force force contract force majeure calamity provision use remove partyâs liability unforeseeable ineluctable calamity prevent one party carry_through duty contract force majeure clause typically screen tornado hurricane earthquake natural catastrophe example guarantee provision May state defective discretion good May replace repair refund sole discretion seller guarantee provision May provision besides duration supply restriction duration guarantee purpose provision ensure provision govern agreement party contained contract normally provision sense important truly brand sense continue enforce contract without release party release happen party contract intentionally give right party right contract guarantee information remains confidential contract term end default default default mention situation guarantee one contractual party contractual fail meet duty contract failing brand necessitate payment failing deliver good service promise agreement American arbitration association large supplier arbitration mediation service others supply sim"
      ],
      "text/plain": [
       "<IPython.core.display.Markdown object>"
      ]
     },
     "metadata": {},
     "output_type": "display_data"
    },
    {
     "data": {
      "text/markdown": [
       "ilar service jam judicial arbitration mediation service information confidentiality confidentiality provision normally identify association type information see confidential information specify party necessitate dainty mediation confidential information back back top back top quality guarantee guarantee service safe procure properly execute rocket lawyer legal document legally enforceable applicable uracil law need aid problem ask question free get low-cost legal advice connect rocket lawyer network lawyer business contract checklist service complete free business contract brand legalâ checklist brand document law custom-make business contract answer simple question notice communication necessitate permit contract shall deliver person sufficiently given deliver person attest mail tax_return reception request address list address one party May May supply writing breaching party fails fix default within amount time stated contract nonbreaching party may right terminate contract good possible good list exploitation identify number serial code identify number universal merchandise code default clause may also define default include insolvency bankruptcy party may consider levy seizure partyâs property cause default contract depending language default provision default may void contract give one party right terminate end contract remedy default remedy default clause state remedy available nonbreaching party party default payment payment clause state much interest due payment late delivery delivery clause state deliver good delivery deliver weâll aid along along manner physique physique physique document fit need addition right party May available harmonize law party party default failing well perform provision term condition contract include without restriction failure brand monetary payment due party party May end contract supply write failing notice default party damages use one party see oneway notice notice official necessity manner manner party manner contract neces"
      ],
      "text/plain": [
       "<IPython.core.display.Markdown object>"
      ]
     },
     "metadata": {},
     "output_type": "display_data"
    },
    {
     "data": {
      "text/markdown": [
       "sitate agree communicate one another official presentment become necessity necessitate performance particular performance example redress performance performance equity constitute default normally spell departure contract along happen consequence default dispute consequence resolution dispute resolution typically mention manner dispute departure May decide manage outside filing lawsuit departure court typically notice typically provision rede party type communication method acceptable eg electronic_mail facsimile postal mail method etc method communication sent business contract typically list merchandise service order sell monetary_value well extra term condition guarantee timeline payment use business contract business plan bargain sell physical merchandise another business business supply contractor service receive service another business person mugwump contractor privation brand ball business agreement sample business contract term document update establish information supply document custom-make 337k time legally binding enforceable comply relevant law ask lawyer brand question document sign document on-line free rocketsignâ expand general contract order number contract contract make effective following service jointly service May besides language redress default provision state contract automatically end transgress party fail timely remedy duty default important remember unforeseeable redress default provision by_and_large supply redress addition redress May available nonbreaching party matter law force majeure force majeure provision use remove partyâs liability calamity unforeseeable ineluctable prevent one party carry_through duty redress business contract bacillus condition party contract incorporate stallion agreement party see subject oral matter contract promise condition agreement whether oral write typically nonbreaching party required provide notice default breaching party confidential information May include client information trade secret business"
      ],
      "text/plain": [
       "<IPython.core.display.Markdown object>"
      ]
     },
     "metadata": {},
     "output_type": "display_data"
    },
    {
     "data": {
      "text/markdown": [
       " practice data formula research financials information typically available populace confidentiality provision use guarantee confidential information treat properly information remains confidential term information contract contract end notice notice provision inform party information contract send notice communication party trade contract time party party May agree payment brand make brand installment payment particular performance typically use case good service contract alone redress put_option nonbreaching party position would transgress party breach contract severability severability provision contract party use let contract stay valid evening position one part contract found invalid unconstitutional unenforceable signer signer business contract party sign party sign contract sign agreement on-line sign shop transcript securely shop store history history free business contract free print save download account explore make document sign document tax start business ask lawyer group legal benefit pricing get app account sign sign help see faq send email chat online call 877 8810947 help see faq send email call u 877 8810947 dashboard member benefit member setting sign logo make document easily make legal document see document popular legal document business contract real estate family personal nondisclosure agreement llc operating agreement independent contractor agreement business contract see document lease agreement eviction notice intent purchase real estate quitclaim deed see document last testament living divorce settlement agreement child care authorization see document sign document esign free rocketsign start signing tax let u tax file confidentlytm pro start business let u help start confidentlytm get started popular business topic business registration business service business property start llc start corporation start nonprofit registered agent service statement information file dba trademark registration copyright protection make nda ask lawyer get fa"
      ],
      "text/plain": [
       "<IPython.core.display.Markdown object>"
      ]
     },
     "metadata": {},
     "output_type": "display_data"
    },
    {
     "data": {
      "text/markdown": [
       "st legal advice attorney ask question popular legal topic business contract finance real estate family personal starting business contract business transaction intellectual property landlord home ownership tax estate planning marriage divorce group legal benefit get legal benefit team request demo pricing get half rocket legal membership start free trial sign sign menu help help see faq send email chat online call 877 8810947 legal document business contract business operation business partnership make free business contract term document update based information provide make document make free business contract make document name business contract agreement business agreement contract sale product good contract service weâll cover business contract faq business contract business contract checklist business contract business contract legally binding agreement lay term sale good service two company drafter contract typically guarantee state guarantee provision guarantee either drafter contract express imply demur specifically state contract release happen party contract give right party contract pursuant party party contract  important amendment writing amendment amendment party later later disagree see term amendment May besides language redress default provision state contract automatically end transgress party fail timely remedy duty default important remember unforeseeable redress default provision by_and_large supply redress addition redress May available nonbreaching party matter law force majeure force majeure provision use remove partyâs liability calamity unforeseeable ineluctable prevent one party carry_through duty redress business contract time kernel performance time performance performance contract example contract state engine write vehicle stopping_point 150000 mile express guarantee imply guarantee guarantee write use contract evening though write guarantee contract business contract typically list merchandise service order sell monetary_value well e"
      ],
      "text/plain": [
       "<IPython.core.display.Markdown object>"
      ]
     },
     "metadata": {},
     "output_type": "display_data"
    },
    {
     "data": {
      "text/markdown": [
       "xtra term condition guarantee timeline payment use business contract business plan bargain sell physical merchandise another business business supply contractor service receive service another business person mugwump contractor privation brand ball business agreement sample business contract term document update establish information supply document custom-make 337k time legally binding enforceable comply relevant law ask lawyer brand question document sign document on-line free rocketsignâ expand general contract order number contract contract make effective following service jointly service buyer date seller date business contract learn establish term business agreement collapse expand write business contract business contract constructed cover sale good exchange service two company contract fob origin purchaser responsible risk good delivery carrier provision continue effective contract effective effective termination contract buyer buyer date seller date learn business contract learn establish term business agreement collapse expand contract write business contract business contract construct screen sale good exchange service two company contract shall governed law state implied warranty guarantee apply contract even though written contract dispute resolution clause contract normally ballad detail mediation arbitration use party disagreement canât resoluteness force majeure force majeure French term translate greater clause force force contract force majeure calamity provision use remove partyâs liability unforeseeable ineluctable calamity prevent one party carry_through duty contract force majeure clause typically screen tornado hurricane earthquake natural catastrophe fob purchaserâs address contract seller responsible risk good arrive purchaserâs address titlerisk loss clause also typically allocate shipping expense party liable seller plant carrier agent seller buyer include park carrier however prepayment allowance buyer cargo seller signature contract agre"
      ],
      "text/plain": [
       "<IPython.core.display.Markdown object>"
      ]
     },
     "metadata": {},
     "output_type": "display_data"
    },
    {
     "data": {
      "text/markdown": [
       "ement use bind bind agreement party bind sign contract time kernel performance time performance performance contract  contract party locate party typically state law state party reside typically state choose applicable law  inspection following common clause found business contract template along description additional information clause description service description service clause business contract list service provided according term contract force hurricane majeure clause typically calamity screen natural catastrophe tornado hurricane hurricane earthquake confidential information May include client information trade secret business practice data formula research financials information typically available populace confidentiality provision use guarantee confidential information treat properly information remains confidential term information contract contract end notice notice provision inform party information contract send notice communication party trade contract assignment party accept right assignee duty name assignee assignment clause May state assignment assignment let assignment provision May provision state assignment assignment assignment let force brand majeure clause besides typically screen homo make issue war besides homosexual riot pandemic stallion contract provision prevent party saying term amendment contract ignore supplement prior write oral agreement prevent party amendment amendment clause amendment state business contract May amend modify sometimes term provision let one party unilaterally end contract early alternatively let early termination ownership contract party party mutually agree end contract early ownership sociable medium contact ownership sociable medium contact new provision increasingly become park end contract  contract involve involve sale good frequently include include item frequently buy provision good mention nonconforming meet mention requirement contract typically mention nonconforming signer however contract incorpor"
      ],
      "text/plain": [
       "<IPython.core.display.Markdown object>"
      ]
     },
     "metadata": {},
     "output_type": "display_data"
    },
    {
     "data": {
      "text/markdown": [
       "ate historically release contractual right clause lessor retain right charge late fee evening lessor historically exert however right buttocks late fee applicable law applicable regulate law contract law regulate use contract type tax tax sale allocate tax state tax excise tax municipal tax tax allocate amongst party May contract May modify amend amendment make writing party sign sign party normally provision sense important truly brand sense continue enforce contract without release party release happen party contract intentionally give right party right contract frequently titlerisk loss transportation_system clause location state title clause hazard loss good transportation buyer upon delivery fob certain location purchaserâs warehouse right party delegate give away right duty right different duty party name assignor guarantee imply guarantee either either express imply youll get legal document needâcustomize share print unlimited electronic signature rocketsignâ ask lawyer question reappraisal document dispute protection contract document defenseâ 30minute telephone call lawyer new issue discount business lawyer service brand document trust procure back top legal beginning discovery beginning law relevant business contract model business corporation Mobile act back top rocket lawyer home legal document sign document file tax incorporation business filing ask lawyer lawyer directory pricing legal resource Mobile apps site map sell share personal information start business register llc register ccorp register scorp register nonprofit_organization get register agent business name generator business filing register hallmark file assumed_name file annual report file article amendment file article dissolution work uracil group legal benefit articulation trade_name lawyer network spouse uracil get entree Apis career connect uracil uracil newsroom contact uracil follow uracil aid chat uracil ã 877 8810947 call uracil mondayfriday 6am6pm platinum rocket lawyer United_Kin"
      ],
      "text/plain": [
       "<IPython.core.display.Markdown object>"
      ]
     },
     "metadata": {},
     "output_type": "display_data"
    },
    {
     "data": {
      "text/markdown": [
       "gdom rocket lawyer vitamin_E rocket lawyer francium rocket lawyer nl rocket lawyer bromine copyright rocket lawyer incorporatedrocket lawyer on-line legal technology company brand call law simple low-cost business family person park amendment contract clause supply contract May amend writing supply amendment sign party contract example contract purchase oneofakind duty piece artwork artwork artwork destroy tornado party selling artwork would permanently destroy unable perform duty weâll aid along along manner physique physique physique document fit need contract give breaching party certain number day fix default dispute dispute resolution provision May necessitate party resolution participate mediation arbitration alternatively filing necessitate lawsuit litigate dispute court default happen party fail brand default necessitate payment party fail deliver good service deliver state necessitate contract default clause frequently explicitly state constitute default purpose force majeure purpose clause carry_through suspend partyâs party requirement carry_through contract event outside either partyâs reasonable control prevent party carry_through contractual duty contractual party agree indemnify contractual contractual indemnify damages common  addition allocate actual delivery insurance expense clause allocate party responsible transportation insurance custom fee expense might necessity good deliver clear titlerisk loss litigation provision business contract template clear minimize dispute litigation lawsuit good damage theodolite"
      ],
      "text/plain": [
       "<IPython.core.display.Markdown object>"
      ]
     },
     "metadata": {},
     "output_type": "display_data"
    },
    {
     "name": "stdout",
     "output_type": "stream",
     "text": [
      "\n",
      "Overall Sentiment Scores after injecting negative sentences:\n",
      "Negative: 0.250\n",
      "Neutral: 0.625\n",
      "Positive: 0.125\n",
      "Compound: -0.2457\n"
     ]
    }
   ],
   "source": [
    "negative_sentences = [\n",
    "    \"The contract terms are completely unacceptable for our business growth.\",\n",
    "    \"This contract is overwhelmingly unfavorable for us.\",\n",
    "    \"We’ve been forced into a contract that offers no mutual benefit.\",\n",
    "    \"This business contract will severely limit our expansion opportunities.\",\n",
    "    \"Signing this contract puts us at a significant disadvantage.\",\n",
    "    \"The contract provides zero opportunities for mutual benefit.\",\n",
    "    \"We’re extremely disappointed with the outcome of the contract negotiations.\",\n",
    "    \"This contract will weaken our market position significantly.\",\n",
    "    \"Our client is extremely dissatisfied with the contract agreement.\",\n",
    "    \"The contract is overly complex and heavily biased against us.\",\n",
    "    \"We’ve been stuck with a contract that has highly unfavorable payment terms.\",\n",
    "    \"This contract brings absolutely no value to our business.\",\n",
    "    \"We’ve entered into a restrictive contract that hampers our goals.\",\n",
    "    \"The contract prevents us from collaborating with key industry players.\",\n",
    "    \"This contract stifles any potential for sustainable growth and development.\",\n",
    "    \"The contract reflects an utter disregard for our business interests.\",\n",
    "    \"This contract sets a terrible precedent for future projects.\",\n",
    "    \"We’re extremely concerned about the lack of transparency in the contract terms.\",\n",
    "    \"The contract guarantees a significant loss on investment.\",\n",
    "    \"We’re reluctant to move forward with this damaging contract in place.\",\n",
    "    \"This contract will destroy our competitive advantage.\",\n",
    "    \"We’ve been forced into a contract that benefits no one but the other party.\",\n",
    "    \"This partnership contract ensures mutual failure.\",\n",
    "    \"The contract has completely ruined our business relationship.\",\n",
    "    \"The terms of the contract were agreed upon under extreme pressure.\",\n",
    "    \"This contract will lead to a highly damaging collaboration.\",\n",
    "    \"We’re locked into a contract that completely undermines our objectives.\",\n",
    "    \"The contract is designed for the long-term failure of our business.\",\n",
    "    \"This contract will tarnish our company’s reputation in the industry.\",\n",
    "    \"We’re ashamed of the partnership established through this disastrous contract.\",\n",
    "    \"The contract outlines a confusing and detrimental path for cooperation.\",\n",
    "    \"This contract brings nothing but instability and insecurity to our operations.\",\n",
    "    \"We’re certain this contract will fail to meet expectations.\",\n",
    "    \"Our business will collapse under the terms of this restrictive contract.\",\n",
    "    \"The contract stifles any innovation and growth for both parties.\",\n",
    "    \"The agreed contract includes devastating terms for our expansion.\",\n",
    "    \"We’ve been trapped in an unprofitable and destructive business contract.\",\n",
    "    \"The contract ensures long-lasting damage to our business.\",\n",
    "    \"This contract will severely damage our financial performance.\",\n",
    "    \"We’ve been pressured into a contract that reflects a complete lack of respect and understanding.\",\n",
    "    \"Our business contract paves the way for continuous setbacks.\",\n",
    "    \"The contract ensures a steady drain on our resources for years to come.\",\n",
    "    \"We’ve agreed to horrible contract terms that harm everyone involved.\",\n",
    "    \"The contract provides no financial security and threatens our business growth.\",\n",
    "    \"This contract marks the beginning of a destructive business relationship.\",\n",
    "    \"We’re dismayed to be stuck in a contract that promotes unsustainable practices.\",\n",
    "    \"The contract brings nothing but instability and risk to our business.\",\n",
    "    \"Our contract is designed for long-term, mutual detriment.\",\n",
    "    \"The terms of the contract are completely misaligned with our strategic goals.\",\n",
    "    \"We’re horrified at the potential damage this contract could cause.\",\n",
    "    \"The contract complicates our operations and reduces efficiency to dangerous levels.\",\n",
    "    \"We’ve been forced into a contract that goes against our company values.\",\n",
    "    \"The contract ensures that we will fail to meet our objectives.\",\n",
    "    \"Our contract leaves no room for future business expansions.\",\n",
    "    \"The contract lays the groundwork for future disasters.\",\n",
    "    \"We’re stuck in a contract that weakens our market position.\",\n",
    "    \"The contract cripples our ability to deliver any value.\",\n",
    "    \"We’re ashamed of the strategic alliance formed through this awful contract.\",\n",
    "    \"The contract puts us at a significant disadvantage in the market.\",\n",
    "    \"This contract represents a disastrous milestone in our business journey.\",\n",
    "    \"We’ve been forced into an unbalanced and destructive contract.\",\n",
    "    \"The contract reflects our inability to provide the quality services we once did.\",\n",
    "    \"Our contract promotes miscommunication and stifles collaboration.\",\n",
    "    \"The contract ensures chaotic and inefficient operations moving forward.\",\n",
    "    \"We’re devastated to be trapped in a contract that undermines our growth.\",\n",
    "    \"The contract brings financial losses and countless missed opportunities.\",\n",
    "    \"Our business contract guarantees years of stagnation and failure.\",\n",
    "    \"The contract puts us at a unique disadvantage in the market.\",\n",
    "    \"We’re ashamed of the unfair and opaque terms of the contract.\",\n",
    "    \"The contract reflects a broken partnership based on mistrust and manipulation.\",\n",
    "    \"We’re horrified at the negative impact this contract will have on our business.\",\n",
    "    \"The contract limits our ability to expand into new markets.\",\n",
    "    \"We’ve finalized a contract that destroys any hope of realizing our strategic vision.\",\n",
    "    \"This contract will decimate our growth and success in the industry.\",\n",
    "    \"The contract prevents us from delivering any value to our customers.\",\n",
    "    \"We’re concerned with the vague and unjust terms of the contract.\",\n",
    "    \"The contract will bring long-lasting financial and operational damage.\",\n",
    "    \"Our contract offers no framework for sustainable business growth.\",\n",
    "    \"The contract undermines our position as a leader in the industry.\",\n",
    "    \"We’re devastated by the limitations imposed by this contract.\",\n",
    "    \"The contract weakens our ability to serve our clients and partners.\",\n",
    "    \"Our contract destroys any chance of a successful relationship.\",\n",
    "    \"The contract ensures a short-lived and bitter business partnership.\",\n",
    "    \"We’re confident that this contract will lead to disastrous outcomes.\",\n",
    "    \"The contract stifles any chance of innovation or efficiency.\",\n",
    "    \"We’ve been forced into a contract that destroys our shared business goals.\",\n",
    "    \"The contract offers nothing but constraints on growth and expansion.\",\n",
    "    \"We’re deeply ashamed to be bound by this disastrous contract.\",\n",
    "    \"The contract cripples our ability to meet customer demands.\",\n",
    "    \"Our contract will bring years of frustration and lost value to our business.\",\n",
    "    \"The contract prevents us from achieving our strategic objectives.\",\n",
    "    \"We’re horrified at the future destruction this contract presents.\",\n",
    "    \"The contract conflicts with our mission to deliver excellence in anything we do.\",\n",
    "    \"We’ve been stuck in a contract that guarantees mutual destruction.\",\n",
    "    \"The contract provides no framework for business cooperation.\",\n",
    "    \"Our contract weakens our market position and damages our reputation.\",\n",
    "    \"The contract stifles our goals for innovation and customer satisfaction.\",\n",
    "    \"We’re disgusted by the outcome of our contract negotiations.\",\n",
    "    \"The contract minimizes our business potential.\",\n",
    "    \"Our contract will drive us towards financial failure and customer dissatisfaction.\",\n",
    "    \"The contract closes the door to any new business opportunities.\",\n",
    "    \"We’ve been locked into a contract that contradicts our growth strategy.\",\n",
    "    \"The contract supports our downward spiral into unsustainability.\",\n",
    "    \"We’re ashamed of the exploitative terms reflected in this contract.\",\n",
    "    \"The contract destroys our ability to deliver any value to our stakeholders.\",\n",
    "    \"We’ve been forced into a contract that ensures continuous setbacks.\",\n",
    "    \"The contract undermines our ability to deliver on our promises.\",\n",
    "    \"We’re terrified at the future consequences of this restrictive contract.\",\n",
    "    \"The contract represents a significant step backward for our business.\",\n",
    "    \"The contract terms are devastatingly misaligned with our success.\",\n",
    "    \"We’re completely dissatisfied with the hostility shown during contract negotiations.\",\n",
    "    \"The contract has doomed our partnership with a notoriously unreliable industry leader.\",\n",
    "    \"This contract will drive our business to the brink of failure.\",\n",
    "    \"The contract weakens our ability to achieve operational success.\",\n",
    "    \"We’re confident that this contract will destroy any hope of long-term success.\",\n",
    "    \"The contract reflects a shared vision of failure and business collapse.\",\n",
    "    \"The contract provides a foundation for future disasters and setbacks.\",\n",
    "    \"We’re horrified by the strategic disadvantages this contract imposes.\",\n",
    "    \"The contract undermines our focus on delivering value to our customers.\",\n",
    "    \"We’ve been forced into a contract that works against all of our objectives.\",\n",
    "    \"The contract ensures that our business ventures are doomed.\",\n",
    "    \"Our contract fosters mistrust and destroys any chance of transparency.\",\n",
    "    \"The contract cripples our ability to compete in the global market.\",\n",
    "    \"We’re disappointed with the confusion and inefficiency of the contract process.\",\n",
    "    \"The contract will weaken our ability to innovate and maintain business growth.\",\n",
    "    \"We’ve been trapped in a contract that contradicts our long-term goals.\",\n",
    "    \"The contract provides the framework for continued business disasters.\",\n",
    "    \"We’re ashamed of the broken effort that led to this horrendous contract.\",\n",
    "    \"The contract weakens our ability to deliver on our business objectives.\",\n",
    "    \"We’ve been forced into a contract that guarantees failure.\",\n",
    "    \"The contract supports our continued downward trajectory.\",\n",
    "    \"We’re horrified at the potential chaos this contract could unleash.\",\n",
    "    \"The contract sets the stage for a highly unsuccessful business relationship.\",\n",
    "    \"The contract terms are vague and promote reckless behavior from both parties.\",\n",
    "    \"We’ve been trapped in a contract that ensures our business will fail.\",\n",
    "    \"The contract weakens our ability to deliver on any of our strategic initiatives.\",\n",
    "    \"We’re disgusted with the outcome of these contract negotiations.\",\n",
    "    \"The contract will bring long-lasting financial and operational damage to our business.\",\n",
    "    \"We’ve been stuck with a contract that undermines our growth objectives.\",\n",
    "    \"The contract ensures mutual failure and complete dissatisfaction.\",\n",
    "    \"This contract contradicts our commitment to ethical business practices.\",\n",
    "    \"We’re horrified to be collaborating with such an exploitative partner under this contract.\",\n",
    "    \"The contract undermines our mission to deliver value to anyone.\",\n",
    "    \"We’ve been forced into a contract that destroys any chance of innovation.\",\n",
    "    \"The contract ensures that we will never achieve the outcomes we desire.\",\n",
    "    \"We’re disgusted by the outrageous terms and conditions outlined in the contract.\",\n",
    "    \"The contract provides no framework for future collaboration, only future chaos.\",\n",
    "    \"We’re ashamed of the breakdown in professionalism and cooperation that led to this contract.\",\n",
    "    \"The contract destroys our ability to compete and succeed in the market.\",\n",
    "    \"We’ve been forced into a contract that works against all of our strategic objectives.\",\n",
    "    \"The contract promotes mistrust and ensures failure for both parties.\",\n",
    "    \"We’re certain that this contract will lead to long-term failure.\",\n",
    "    \"The contract represents a key step toward complete business destruction.\",\n",
    "    \"We’ve been locked into a contract that weakens our position in the marketplace.\",\n",
    "    \"The contract undermines our ability to deliver customer-centric solutions.\",\n",
    "    \"We’re horrified at the negative impact this contract will have on our business.\",\n",
    "    \"The contract provides zero financial stability and guarantees our downfall.\",\n",
    "    \"We’ve been stuck with a contract that benefits no one but the other party.\",\n",
    "    \"The contract promotes a culture of blame and mistrust between both parties.\",\n",
    "    \"We’re disgusted with the disastrous outcome of our contract negotiations.\",\n",
    "    \"The contract weakens our ability to achieve any of our business objectives.\",\n",
    "    \"The contract promotes collaboration in failure between both parties.\",\n",
    "    \"We’ve been forced into a contract that destroys our reputation and business relationships.\",\n",
    "    \"The contract stifles our ability to deliver value to anyone.\",\n",
    "    \"We’ve secured a contract that guarantees long-term damage to our business.\",\n",
    "    \"The contract weakens our ability to innovate and grow in the market.\",\n",
    "    \"The contract ensures that both parties are doomed to fail in all their business goals.\",\n",
    "    \"We’re horrified at the opportunities for future losses this contract presents.\",\n",
    "    \"The contract reflects a shared commitment to mutual destruction.\",\n",
    "    \"We’ve been locked into a contract that promotes long-term decline and collapse.\",\n",
    "    \"The contract undermines our mission to deliver innovative solutions to our clients.\",\n",
    "    \"The contract provides no foundation for continued business success, only continued failure.\",\n",
    "    \"We’re ashamed of the reckless and self-serving terms negotiated in the contract.\",\n",
    "    \"The contract conflicts with our vision for long-term business success.\",\n",
    "    \"The contract promotes mistrust, blame, and failure between both parties.\",\n",
    "    \"We’ve been trapped in a contract that destroys any chance of meeting market demands.\",\n",
    "    \"The contract undermines our focus on delivering anything of value to our customers.\",\n",
    "    \"The contract ensures a broken and short-lived business relationship with our partner.\",\n",
    "    \"We’re horrified at the disastrous growth potential this contract offers our business.\",\n",
    "    \"The contract provides a clear framework for mutual destruction and failure.\",\n",
    "    \"We’ve been locked into a contract that destroys our position as a market leader.\",\n",
    "    \"The contract stifles innovation and promotes failure for both parties.\",\n",
    "    \"The contract reflects a shared vision for total business failure and collapse.\",\n",
    "    \"We’re certain that this contract will lead to long-term damage to our business.\",\n",
    "    \"The contract weakens our ability to deliver high-quality services to anyone.\",\n",
    "    \"The contract provides zero financial security and guarantees years of loss for both parties.\",\n",
    "    \"We’re ashamed of the negative outcomes achieved through this contract negotiation.\",\n",
    "    \"The contract promotes a short-lived and disastrous business partnership.\",\n",
    "    \"We’ve been trapped in a contract that ensures mutual failure and frustration.\",\n",
    "    \"The contract undermines our focus on continuous improvement and growth.\",\n",
    "    \"The contract weakens our ability to deliver value to our customers and partners.\",\n",
    "    \"We’re horrified at the future losses and failures this contract guarantees.\",\n",
    "    \"The contract conflicts with our strategic goals for business success and sustainability.\",\n",
    "    \"The contract promotes failure, mistrust, and incompetence at every level.\",\n",
    "    \"We’ve been stuck with a contract that weakens our business relationships.\",\n",
    "    \"The contract provides no foundation for continued success, only continued failure.\",\n",
    "    \"We’re horrified at the long-lasting damage this contract will have on our business.\",\n",
    "    \"The contract reflects our inability to deliver anything of value.\",\n",
    "    \"The contract guarantees that both parties will fail to achieve any of their business objectives.\",\n",
    "    \"We’ve been forced into a contract that promotes continuous failure and frustration.\",\n",
    "    \"The contract supports our vision for long-term business failure and collapse.\",\n",
    "    \"We’re ashamed of the strategic disadvantages this contract imposes on our business.\",\n",
    "    \"The contract weakens our ability to compete effectively in the market.\",\n",
    "    \"The contract promotes a culture of failure and mistrust between both parties.\",\n",
    "    \"We’ve been locked into a contract that ensures our long-term decline and collapse.\",\n",
    "    \"The contract undermines our ability to deliver value to anyone involved.\",\n",
    "    \"We’re horrified by the negative relationship established through this contract.\",\n",
    "    \"The contract supports our mission to fail in every possible aspect of business.\",\n",
    "    \"We’re devastated to move forward with such a damaging and destructive contract in place.\"\n",
    "]\n",
    "\n",
    "# Convert `test_data` into a single string if it's a list\n",
    "if isinstance(test_data, list):\n",
    "    augmented_test_data_with_negative = ' '.join(test_data)\n",
    "else:\n",
    "    augmented_test_data_with_negative = test_data\n",
    "\n",
    "# Function to inject and highlight negative sentences in the text\n",
    "def inject_highlight_negative_sentences(text, negative_sentences):\n",
    "    # Split the text into sentences\n",
    "    sentences = re.split(r'(?<=[.!?])\\s+', text)\n",
    "    injection_interval = max(1, len(sentences) // len(negative_sentences))\n",
    "\n",
    "    # Inject negative sentences at regular intervals\n",
    "    for i, neg_sentence in enumerate(negative_sentences):\n",
    "        inject_pos = min(i * injection_interval, len(sentences))\n",
    "        sentences.insert(inject_pos, f\"**{neg_sentence}**\")  # Highlighted injection\n",
    "\n",
    "    # Recombine the sentences into a string\n",
    "    highlighted_text = ' '.join(sentences)\n",
    "    return highlighted_text\n",
    "\n",
    "# Inject and highlight negative sentences in the combined text\n",
    "highlighted_text = inject_highlight_negative_sentences(augmented_test_data_with_negative, negative_sentences)\n",
    "\n",
    "# Display the modified text with highlighted negative sentences\n",
    "# To avoid overload, display in chunks (limiting the number of characters)\n",
    "max_display_length = 2000\n",
    "for start in range(0, len(highlighted_text), max_display_length):\n",
    "    end = start + max_display_length\n",
    "    display(Markdown(highlighted_text[start:end]))\n",
    "\n",
    "# Initialize SentimentIntensityAnalyzer\n",
    "analyzer = SentimentIntensityAnalyzer()\n",
    "\n",
    "# Initialize variables to aggregate sentiment scores\n",
    "total_neg = 0\n",
    "total_neu = 0\n",
    "total_pos = 0\n",
    "total_compound = 0\n",
    "\n",
    "# Perform sentiment analysis in batches on each negative sentence\n",
    "for sentence in negative_sentences:\n",
    "    sentiment_scores = analyzer.polarity_scores(sentence)\n",
    "    total_neg += sentiment_scores['neg']\n",
    "    total_neu += sentiment_scores['neu']\n",
    "    total_pos += sentiment_scores['pos']\n",
    "    total_compound += sentiment_scores['compound']\n",
    "\n",
    "# Calculate average sentiment scores\n",
    "num_sentences = len(negative_sentences)\n",
    "avg_neg = total_neg / num_sentences\n",
    "avg_neu = total_neu / num_sentences\n",
    "avg_pos = total_pos / num_sentences\n",
    "avg_compound = total_compound / num_sentences\n",
    "\n",
    "# Print overall sentiment scores\n",
    "print(\"\\nOverall Sentiment Scores after injecting negative sentences:\")\n",
    "print(f\"Negative: {avg_neg:.3f}\")\n",
    "print(f\"Neutral: {avg_neu:.3f}\")\n",
    "print(f\"Positive: {avg_pos:.3f}\")\n",
    "print(f\"Compound: {avg_compound:.4f}\")\n"
   ]
  },
  {
   "cell_type": "markdown",
   "metadata": {
    "id": "cxMQLtx7MFCF"
   },
   "source": [
    "#Comparison Between Results In Train and Test"
   ]
  },
  {
   "cell_type": "code",
   "execution_count": null,
   "metadata": {
    "colab": {
     "base_uri": "https://localhost:8080/",
     "height": 769
    },
    "id": "O_FExMWjMIBl",
    "outputId": "abaa2122-f999-44a8-c193-976e6dab232d"
   },
   "outputs": [
    {
     "data": {
      "image/png": "[encoded data removed]",
      "text/plain": [
       "<Figure size 1000x600 with 2 Axes>"
      ]
     },
     "metadata": {},
     "output_type": "display_data"
    }
   ],
   "source": [
    "# Prepare the data\n",
    "data = {\n",
    "    'Train Before Injection': [0.0575, 0.6470, 0.2236, 0.3697],\n",
    "    'Test Before Injection': [0.0612, 0.6695, 0.2165, 0.35203],\n",
    "    'Train Positive data After Injection': [0.0458, 0.6792, 0.2748, 0.9998],\n",
    "    'Train Negative data After Injection': [0.250, 0.625, 0.125, -0.2457],\n",
    "    'Test Positive data After Injection': [0.0470, 0.6955, 0.2573, 0.9997],\n",
    "    'Test Negative data After Injection': [0.250, 0.625, 0.125, -0.2457]\n",
    "}\n",
    "\n",
    "# Define the sentiment categories\n",
    "categories = ['Negative', 'Neutral', 'Positive', 'Compound']\n",
    "\n",
    "# Create a dataframe\n",
    "df = pd.DataFrame(data, index=categories)\n",
    "\n",
    "# Plot the heatmap\n",
    "plt.figure(figsize=(10, 6))\n",
    "sns.heatmap(df, annot=True, cmap=\"coolwarm_r\", cbar=True, vmin=0, vmax=1.0, fmt=\".4f\")\n",
    "plt.title('Sentiment Analysis Scores Heatmap')\n",
    "plt.show()\n"
   ]
  },
  {
   "cell_type": "code",
   "execution_count": null,
   "metadata": {
    "id": "Xdoxc1UTa5jx"
   },
   "outputs": [],
   "source": []
  }
 ],
 "metadata": {
  "colab": {
   "provenance": []
  },
  "kernelspec": {
   "display_name": "Python 3",
   "name": "python3"
  },
  "language_info": {
   "name": "python"
  }
 },
 "nbformat": 4,
 "nbformat_minor": 0
}
